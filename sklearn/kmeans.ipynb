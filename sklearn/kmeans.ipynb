{
 "cells": [
  {
   "cell_type": "markdown",
   "metadata": {},
   "source": [
    "# DAML 08 - kmeans\n",
    "\n",
    "Michal Grochmal <michal.grochmal@city.ac.uk>"
   ]
  },
  {
   "cell_type": "markdown",
   "metadata": {},
   "source": [
    "The **expectation-maximization** (E-M) algorithm comes often in machine learning.\n",
    "It consists of the repetition of E-steps (expectation) and M-steps (maximization) until\n",
    "the algorithm converges to a point where more steps would not change the solution.\n",
    "In other words at each step some **fitness function** comes closer to an optimal value.\n",
    "In general the algorithm can look as follows:\n",
    "\n",
    "1.  Assign data to the expected solution from previous step (E-step)\n",
    "2.  Change the solution so that the current state of data maximizes a fitness function (M-step)\n",
    "3.  Repeat until convergence\n",
    "\n",
    "The `kmeans` algorithm is a clear implementation of expectation-maximization,\n",
    "the algorithm works as follows:\n",
    "\n",
    "1.  Assign random cluster centers\n",
    "2.  (E-step) assign data points, according to some distance measure, to the closest cluster center\n",
    "3.  (M-step) create new cluster centers from the mean of currently assigned data points\n",
    "\n",
    "Note that the above requires some form of **distance measure**, and that the *fitness function*\n",
    "is the minimization of all the distances.  Let's do the initial imports and dive into `kmeans`\n",
    "with an example."
   ]
  },
  {
   "cell_type": "code",
   "execution_count": 1,
   "metadata": {
    "collapsed": true
   },
   "outputs": [],
   "source": [
    "%matplotlib inline\n",
    "import matplotlib.pyplot as plt\n",
    "import seaborn as sns\n",
    "sns.set()\n",
    "import numpy as np\n",
    "from scipy.stats import mode\n",
    "from sklearn.cluster import KMeans\n",
    "from sklearn.datasets import load_digits\n",
    "from sklearn.metrics import accuracy_score, f1_score\n",
    "from sklearn.manifold import TSNE\n",
    "from sklearn.decomposition import PCA\n",
    "from sklearn.metrics import confusion_matrix\n",
    "from sklearn.pipeline import make_pipeline"
   ]
  },
  {
   "cell_type": "markdown",
   "metadata": {},
   "source": [
    "## Limitations\n",
    "\n",
    "One limitation of `kmeans` that's apparent on first sight is that we need to know\n",
    "a-priori the number of clusters we want to assign the data to.  Although **cluster inertia**\n",
    "measures across several amounts of clusters or a handful of statistical techniques \n",
    "(e.g. silhouette analysis) exist to estimate a good number of clusters, these are far from perfect.\n",
    "Previous knowledge, possibly aided by dimensionality reduction is often needed to find a good\n",
    "number of clusters.\n",
    "\n",
    "The expectation-maximization algorithm requires stochastic initialization and, given a\n",
    "bad initial start, may find a local maximum instead of a global maximum.  In other words\n",
    "badly initialized `kmeans` can cluster badly.  In practice E-M algorithms shall run for\n",
    "several random initializations and then be evaluated.  Below the hood this is what the `sklearn`\n",
    "version of `kmeans` does, it runs the model fit several times and selects the best model.\n",
    "(The number of times the `kmeans` algorithm is run by `sklearn` is defined by the `n_init`\n",
    "argument to the class initialization.)\n",
    "\n",
    "`kmeans` is a linear algorithm and will only find clusters defined by linear borders.\n",
    "Graph techniques such as spectral clustering or some versions of hierarchical clustering\n",
    "are capable of dealing directly with non-linear clusters.  Yet another technique is to\n",
    "use preprocessing with some form of manifold techniques and then cluster the linearized\n",
    "data with (possibly a variant of) `kmeans`."
   ]
  },
  {
   "cell_type": "markdown",
   "metadata": {},
   "source": [
    "## Handwritten Digits\n",
    "\n",
    "Without knowing of any labels `kmeans` can deal with quite complex problems.\n",
    "We saw that the digits dataset is not particularly easy since it contains\n",
    "non-linear relationships.  Let's see what `kmeans` can take out of that data."
   ]
  },
  {
   "cell_type": "code",
   "execution_count": 2,
   "metadata": {},
   "outputs": [
    {
     "data": {
      "text/plain": [
       "(1797, 64)"
      ]
     },
     "execution_count": 2,
     "metadata": {},
     "output_type": "execute_result"
    }
   ],
   "source": [
    "digits = load_digits()\n",
    "digits.data.shape"
   ]
  },
  {
   "cell_type": "code",
   "execution_count": 3,
   "metadata": {},
   "outputs": [
    {
     "data": {
      "text/plain": [
       "(10, 64)"
      ]
     },
     "execution_count": 3,
     "metadata": {},
     "output_type": "execute_result"
    }
   ],
   "source": [
    "kmeans = KMeans(n_clusters=10)  # we know the number of clusters\n",
    "clusters = kmeans.fit_predict(digits.data)\n",
    "kmeans.cluster_centers_.shape"
   ]
  },
  {
   "cell_type": "code",
   "execution_count": 4,
   "metadata": {},
   "outputs": [
    {
     "data": {
      "image/png": "[encoded data removed]",
      "text/plain": [
       "<matplotlib.figure.Figure at 0x7fbc34ec8208>"
      ]
     },
     "metadata": {},
     "output_type": "display_data"
    }
   ],
   "source": [
    "fig, axes = plt.subplots(2, 5, figsize=(16, 6), subplot_kw={'xticks':[], 'yticks':[]})\n",
    "centers = kmeans.cluster_centers_.reshape(10, 8, 8)\n",
    "for ax, center in zip(axes.flat, centers):\n",
    "    ax.imshow(center, cmap='binary')"
   ]
  },
  {
   "cell_type": "code",
   "execution_count": 5,
   "metadata": {},
   "outputs": [
    {
     "data": {
      "text/plain": [
       "((1797,), array([0, 1, 2, 3, 4, 5, 6, 7, 8, 9], dtype=int32))"
      ]
     },
     "execution_count": 5,
     "metadata": {},
     "output_type": "execute_result"
    }
   ],
   "source": [
    "clusters.shape, np.unique(clusters)"
   ]
  },
  {
   "cell_type": "code",
   "execution_count": 6,
   "metadata": {},
   "outputs": [
    {
     "data": {
      "text/plain": [
       "{0: array([0]),\n",
       " 1: array([8]),\n",
       " 2: array([6]),\n",
       " 3: array([4]),\n",
       " 4: array([3]),\n",
       " 5: array([9]),\n",
       " 6: array([1]),\n",
       " 7: array([7]),\n",
       " 8: array([2]),\n",
       " 9: array([5])}"
      ]
     },
     "execution_count": 6,
     "metadata": {},
     "output_type": "execute_result"
    }
   ],
   "source": [
    "label_map = {}\n",
    "for i in range(10):\n",
    "    label_map[i] = mode(digits.target[clusters == i])[0]\n",
    "label_map"
   ]
  },
  {
   "cell_type": "code",
   "execution_count": 7,
   "metadata": {},
   "outputs": [
    {
     "data": {
      "text/plain": [
       "(1797,)"
      ]
     },
     "execution_count": 7,
     "metadata": {},
     "output_type": "execute_result"
    }
   ],
   "source": [
    "labels = np.zeros_like(clusters)\n",
    "for k, v in label_map.items():\n",
    "    labels[clusters == k] = v\n",
    "labels.shape"
   ]
  },
  {
   "cell_type": "markdown",
   "metadata": {},
   "source": [
    "Default `kmeans` scoring is by **cluster inertia**, the sum of all distances form points\n",
    "to its cluster centre.  This allows to compare two `kmeans` runs against each other.\n",
    "Notably, `sklearn` performs `kmeans` several times and then compares the inertia.\n",
    "But this is not a good measure to compare `kmeans` between datasets or against\n",
    "other models."
   ]
  },
  {
   "cell_type": "code",
   "execution_count": 8,
   "metadata": {},
   "outputs": [
    {
     "data": {
      "text/plain": [
       "(0.79243183082915969, 0.78875967910787026)"
      ]
     },
     "execution_count": 8,
     "metadata": {},
     "output_type": "execute_result"
    }
   ],
   "source": [
    "accuracy_score(digits.target, labels), f1_score(digits.target, labels, average='weighted')"
   ]
  },
  {
   "cell_type": "markdown",
   "metadata": {},
   "source": [
    "For an algorithm that only knew that there are 10 digits in the data but had\n",
    "no idea how they look like that is a pretty amazing score.  Let's look\n",
    "at what got misclassified the most."
   ]
  },
  {
   "cell_type": "code",
   "execution_count": 9,
   "metadata": {},
   "outputs": [
    {
     "data": {
      "image/png": "[encoded data removed]",
      "text/plain": [
       "<matplotlib.figure.Figure at 0x7fbc34c82c18>"
      ]
     },
     "metadata": {},
     "output_type": "display_data"
    }
   ],
   "source": [
    "mat = confusion_matrix(digits.target, labels)\n",
    "fig = plt.figure(figsize=(10, 10))\n",
    "ax = sns.heatmap(mat.T, square=True, annot=True, fmt='d', cmap='viridis',\n",
    "                 xticklabels=digits.target_names, yticklabels=digits.target_names)\n",
    "ax.set(xlabel='true label', ylabel='predicted label');"
   ]
  },
  {
   "cell_type": "markdown",
   "metadata": {},
   "source": [
    "## Extra: Distance Measures\n",
    "\n",
    "We have only dealt with *euclidean distances* but that is not the only distance measure available.\n",
    "In machine learning algorithm and in literature you will often find mention of *L-norms*.\n",
    "An *L-norm* (also called $L^p$ space) often written as L1, L2, $\\|\\cdot\\|_1$ or $\\|\\cdot\\|_2$\n",
    "is a notation of the use of distance.  The most important one being L2 ($\\|\\cdot\\|_2$), the\n",
    "euclidean distance.  The L-norm is defined, for a vector of $i$ components, as:\n",
    "\n",
    "$$\\|x\\|_k = \\left( \\sum_{i=0}^{N} \\lvert x_i \\rvert ^k \\right)^{\\frac{1}{k}}$$\n",
    "\n",
    "Therefore $\\|x\\|_2$ is our well known\n",
    "\n",
    "$$\\|x\\|_2 = \\sqrt{\\sum_{i=0}^{N} x_i^2}$$\n",
    "\n",
    "The sum of absolutes, or $\\|x\\|_1$ turns to be resistant against outliers,\n",
    "and is sometimes preferred as a distance measure\n",
    "\n",
    "$$\\|x\\|_1 = \\sum_{i=0}^{N} \\lvert x_i \\rvert$$"
   ]
  }
 ],
 "metadata": {
  "anaconda-cloud": {},
  "kernelspec": {
   "display_name": "Python 3",
   "language": "python",
   "name": "python3"
  },
  "language_info": {
   "codemirror_mode": {
    "name": "ipython",
    "version": 3
   },
   "file_extension": ".py",
   "mimetype": "text/x-python",
   "name": "python",
   "nbconvert_exporter": "python",
   "pygments_lexer": "ipython3",
   "version": "3.6.3"
  }
 },
 "nbformat": 4,
 "nbformat_minor": 1
}
