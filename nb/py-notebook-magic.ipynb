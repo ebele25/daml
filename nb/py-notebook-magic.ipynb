{
 "cells": [
  {
   "cell_type": "markdown",
   "metadata": {},
   "source": [
    "# 01.05 Magic\n",
    "\n",
    "IPython, and by induction Jupyter, extends the Python language with a handful\n",
    "of commands to streamline interactive work.\n",
    "These are divided into completions and *magics*."
   ]
  },
  {
   "cell_type": "markdown",
   "metadata": {
    "slideshow": {
     "slide_type": "slide"
    }
   },
   "source": [
    "Completions (`<TAB>` completion) work in IPython and in insert (edit) mode\n",
    "of a notebook in a *code cell*.\n",
    "The completions understand the Python language and also know about the functions\n",
    "and variables currently defined in the kernel.\n",
    "The only way to get used to the completion is trying it out,\n",
    "go on try some completions."
   ]
  },
  {
   "cell_type": "markdown",
   "metadata": {},
   "source": [
    "## Help\n",
    "\n",
    "Python has a built-in `help()` function but typing it is lengthly\n",
    "(6 characters including the brackets).\n",
    "In IPython you can simply use the `?` character.\n",
    "The code cells below output a lot of text,\n",
    "to save space we will let you try them out instead.\n",
    "Where the amount of text is not unreasonable we will still output it directly."
   ]
  },
  {
   "cell_type": "code",
   "execution_count": null,
   "metadata": {},
   "outputs": [],
   "source": [
    "import urllib\n",
    "urllib.request.urlopen?"
   ]
  },
  {
   "cell_type": "markdown",
   "metadata": {},
   "source": [
    "---\n",
    "\n",
    "By using two question marks (`??`) one gets the source code of the object.\n",
    "One could go and look into the source file instead but\n",
    "being able to bring up the code without knowing where the source file is\n",
    "is quite convenient."
   ]
  },
  {
   "cell_type": "code",
   "execution_count": null,
   "metadata": {},
   "outputs": [],
   "source": [
    "import urllib\n",
    "urllib.request.urlopen??"
   ]
  },
  {
   "cell_type": "markdown",
   "metadata": {},
   "source": [
    "---\n",
    "\n",
    "The double question mark brings the source of the object,\n",
    "not the contents of the entire file.\n",
    "This may be nicer (less to read) or worse (cannot search within the file).\n",
    "To bring the full source file on could do `urllib.request??`.\n",
    "\n",
    "But one may not know what to display help for.\n",
    "In that case you can use *wildcards* to get a list of available objects.\n",
    "(This is similar to searching with `filter(..., dir(object))` in plain Python.)"
   ]
  },
  {
   "cell_type": "code",
   "execution_count": 1,
   "metadata": {},
   "outputs": [
    {
     "data": {
      "text/plain": [
       "urllib.request.FancyURLopener\n",
       "urllib.request.URLopener\n",
       "urllib.request.build_opener\n",
       "urllib.request.install_opener\n",
       "urllib.request.urlopen"
      ]
     },
     "metadata": {},
     "output_type": "display_data"
    }
   ],
   "source": [
    "import urllib\n",
    "urllib.request.*open*?"
   ]
  },
  {
   "cell_type": "markdown",
   "metadata": {},
   "source": [
    "![Magic](py-magic.svg)\n",
    "\n",
    "<div align=\"right\"><sub>py-magic.svg</sub></div>"
   ]
  },
  {
   "cell_type": "markdown",
   "metadata": {
    "slideshow": {
     "slide_type": "slide"
    }
   },
   "source": [
    "## Magic\n",
    "\n",
    "Most special functions inside IPython/Jupyter start with a `%` sign,\n",
    "these are the functions that are called *magics*.\n",
    "A magic is *not* a Python function, it is a special function invoked inside the interpreter\n",
    "and never reaches the actual Python (kernel) state.\n",
    "\n",
    "Line magics (that affect a single line) start with a single `%`,\n",
    "cell magics (for the entire cell) start with two signs (`%%`).\n",
    "\n",
    "A *full tutorial* can be viewed by invoking:"
   ]
  },
  {
   "cell_type": "code",
   "execution_count": null,
   "metadata": {},
   "outputs": [],
   "source": [
    "%magic"
   ]
  },
  {
   "cell_type": "markdown",
   "metadata": {},
   "source": [
    "---\n",
    "\n",
    "And a reference by running:"
   ]
  },
  {
   "cell_type": "code",
   "execution_count": null,
   "metadata": {},
   "outputs": [],
   "source": [
    "%quickref"
   ]
  },
  {
   "cell_type": "markdown",
   "metadata": {},
   "source": [
    "---\n",
    "\n",
    "Or even an even shorter printout by using:"
   ]
  },
  {
   "cell_type": "code",
   "execution_count": 2,
   "metadata": {},
   "outputs": [
    {
     "data": {
      "application/json": {
       "cell": {
        "!": "OSMagics",
        "HTML": "Other",
        "SVG": "Other",
        "bash": "Other",
        "capture": "ExecutionMagics",
        "debug": "ExecutionMagics",
        "file": "Other",
        "html": "DisplayMagics",
        "javascript": "DisplayMagics",
        "js": "DisplayMagics",
        "latex": "DisplayMagics",
        "markdown": "DisplayMagics",
        "perl": "Other",
        "prun": "ExecutionMagics",
        "pypy": "Other",
        "python": "Other",
        "python2": "Other",
        "python3": "Other",
        "ruby": "Other",
        "script": "ScriptMagics",
        "sh": "Other",
        "svg": "DisplayMagics",
        "sx": "OSMagics",
        "system": "OSMagics",
        "time": "ExecutionMagics",
        "timeit": "ExecutionMagics",
        "writefile": "OSMagics"
       },
       "line": {
        "alias": "OSMagics",
        "alias_magic": "BasicMagics",
        "autoawait": "AsyncMagics",
        "autocall": "AutoMagics",
        "automagic": "AutoMagics",
        "autosave": "KernelMagics",
        "bookmark": "OSMagics",
        "cat": "Other",
        "cd": "OSMagics",
        "clear": "KernelMagics",
        "colors": "BasicMagics",
        "conda": "PackagingMagics",
        "config": "ConfigMagics",
        "connect_info": "KernelMagics",
        "cp": "Other",
        "debug": "ExecutionMagics",
        "dhist": "OSMagics",
        "dirs": "OSMagics",
        "doctest_mode": "BasicMagics",
        "ed": "Other",
        "edit": "KernelMagics",
        "env": "OSMagics",
        "gui": "BasicMagics",
        "hist": "Other",
        "history": "HistoryMagics",
        "killbgscripts": "ScriptMagics",
        "ldir": "Other",
        "less": "KernelMagics",
        "lf": "Other",
        "lk": "Other",
        "ll": "Other",
        "load": "CodeMagics",
        "load_ext": "ExtensionMagics",
        "loadpy": "CodeMagics",
        "logoff": "LoggingMagics",
        "logon": "LoggingMagics",
        "logstart": "LoggingMagics",
        "logstate": "LoggingMagics",
        "logstop": "LoggingMagics",
        "ls": "Other",
        "lsmagic": "BasicMagics",
        "lx": "Other",
        "macro": "ExecutionMagics",
        "magic": "BasicMagics",
        "man": "KernelMagics",
        "matplotlib": "PylabMagics",
        "mkdir": "Other",
        "more": "KernelMagics",
        "mv": "Other",
        "notebook": "BasicMagics",
        "page": "BasicMagics",
        "pastebin": "CodeMagics",
        "pdb": "ExecutionMagics",
        "pdef": "NamespaceMagics",
        "pdoc": "NamespaceMagics",
        "pfile": "NamespaceMagics",
        "pinfo": "NamespaceMagics",
        "pinfo2": "NamespaceMagics",
        "pip": "PackagingMagics",
        "popd": "OSMagics",
        "pprint": "BasicMagics",
        "precision": "BasicMagics",
        "prun": "ExecutionMagics",
        "psearch": "NamespaceMagics",
        "psource": "NamespaceMagics",
        "pushd": "OSMagics",
        "pwd": "OSMagics",
        "pycat": "OSMagics",
        "pylab": "PylabMagics",
        "qtconsole": "KernelMagics",
        "quickref": "BasicMagics",
        "recall": "HistoryMagics",
        "rehashx": "OSMagics",
        "reload_ext": "ExtensionMagics",
        "rep": "Other",
        "rerun": "HistoryMagics",
        "reset": "NamespaceMagics",
        "reset_selective": "NamespaceMagics",
        "rm": "Other",
        "rmdir": "Other",
        "run": "ExecutionMagics",
        "save": "CodeMagics",
        "sc": "OSMagics",
        "set_env": "OSMagics",
        "store": "StoreMagics",
        "sx": "OSMagics",
        "system": "OSMagics",
        "tb": "ExecutionMagics",
        "time": "ExecutionMagics",
        "timeit": "ExecutionMagics",
        "unalias": "OSMagics",
        "unload_ext": "ExtensionMagics",
        "who": "NamespaceMagics",
        "who_ls": "NamespaceMagics",
        "whos": "NamespaceMagics",
        "xdel": "NamespaceMagics",
        "xmode": "BasicMagics"
       }
      },
      "text/plain": [
       "Available line magics:\n",
       "%alias  %alias_magic  %autoawait  %autocall  %automagic  %autosave  %bookmark  %cat  %cd  %clear  %colors  %conda  %config  %connect_info  %cp  %debug  %dhist  %dirs  %doctest_mode  %ed  %edit  %env  %gui  %hist  %history  %killbgscripts  %ldir  %less  %lf  %lk  %ll  %load  %load_ext  %loadpy  %logoff  %logon  %logstart  %logstate  %logstop  %ls  %lsmagic  %lx  %macro  %magic  %man  %matplotlib  %mkdir  %more  %mv  %notebook  %page  %pastebin  %pdb  %pdef  %pdoc  %pfile  %pinfo  %pinfo2  %pip  %popd  %pprint  %precision  %prun  %psearch  %psource  %pushd  %pwd  %pycat  %pylab  %qtconsole  %quickref  %recall  %rehashx  %reload_ext  %rep  %rerun  %reset  %reset_selective  %rm  %rmdir  %run  %save  %sc  %set_env  %store  %sx  %system  %tb  %time  %timeit  %unalias  %unload_ext  %who  %who_ls  %whos  %xdel  %xmode\n",
       "\n",
       "Available cell magics:\n",
       "%%!  %%HTML  %%SVG  %%bash  %%capture  %%debug  %%file  %%html  %%javascript  %%js  %%latex  %%markdown  %%perl  %%prun  %%pypy  %%python  %%python2  %%python3  %%ruby  %%script  %%sh  %%svg  %%sx  %%system  %%time  %%timeit  %%writefile\n",
       "\n",
       "Automagic is ON, % prefix IS NOT needed for line magics."
      ]
     },
     "execution_count": 2,
     "metadata": {},
     "output_type": "execute_result"
    }
   ],
   "source": [
    "%lsmagic"
   ]
  },
  {
   "cell_type": "markdown",
   "metadata": {
    "slideshow": {
     "slide_type": "slide"
    }
   },
   "source": [
    "---\n",
    "\n",
    "A handful of useful magics when working inside a Jupyter notebook.\n",
    "\n",
    "- `%%writefile` - writes entire cell to a file\n",
    "- `%save` - evaluates current line and writes its output to a file\n",
    "- `%history` - prints command history\n",
    "- `%xmode` - defines how exceptions are displayed (see exercises)\n",
    "- `%timeit` - times a single line (or entire cell) of code\n",
    "- `%debug`/`%pdb` - enables debugger (which will start automatically on exceptions)\n",
    "- `%prun` - profiles a function call in a line\n",
    "\n",
    "The [full list][magics] of magics is quite big.\n",
    "\n",
    "[magics]: http://ipython.readthedocs.io/en/stable/interactive/magics.html"
   ]
  },
  {
   "cell_type": "markdown",
   "metadata": {},
   "source": [
    "### Timing Code\n",
    "\n",
    "Figuring out which algorithm runs faster is a common task in data analysis,\n",
    "therefore we will have a quick look at the `%timeit` magic.\n",
    "This magic can be used both as a line magic - to evaluate how fast a single\n",
    "line of code runs - or as a cell magic - to evaluate the time of the whole cell.\n",
    "If you remember, line magics use a single percentage (`%`) sign:"
   ]
  },
  {
   "cell_type": "code",
   "execution_count": 3,
   "metadata": {},
   "outputs": [
    {
     "name": "stdout",
     "output_type": "stream",
     "text": [
      "34.6 ms ± 754 µs per loop (mean ± std. dev. of 7 runs, 10 loops each)\n"
     ]
    }
   ],
   "source": [
    "%timeit urllib.request.urlopen('https://www.city.ac.uk')"
   ]
  },
  {
   "cell_type": "markdown",
   "metadata": {},
   "source": [
    "---\n",
    "\n",
    "And cell magics use a double percentage sign (`%%`):"
   ]
  },
  {
   "cell_type": "code",
   "execution_count": 4,
   "metadata": {},
   "outputs": [
    {
     "name": "stdout",
     "output_type": "stream",
     "text": [
      "63.1 ms ± 3.38 ms per loop (mean ± std. dev. of 7 runs, 10 loops each)\n"
     ]
    }
   ],
   "source": [
    "%%timeit\n",
    "urllib.request.urlopen('https://www.city.ac.uk')\n",
    "urllib.request.urlopen('https://www.bbc.co.uk')"
   ]
  },
  {
   "cell_type": "markdown",
   "metadata": {},
   "source": [
    "---\n",
    "\n",
    "The `timeit` magic runs the code several times and takes the mean time of all runs.\n",
    "How many runs are performed is heuristically selected.\n",
    "Another magic exists, `time`, in order to evaluate user and system time.\n",
    "The `time` magic is analogous to the shell command of the same name.\n",
    "\n",
    "Note: evaluating the timing of network connections is best made in other ways\n",
    "than plain system timing (e.g. timing at each network hop).\n",
    "Yet, for simplicity we ignore network complexities here."
   ]
  },
  {
   "cell_type": "markdown",
   "metadata": {},
   "source": [
    "### Below the hood\n",
    "\n",
    "Magics can do quite complex things, and they can work in a different fashion than plain Python.\n",
    "Next we see some magics that accept arguments in a similar way to shell commands.\n",
    "The following saves the first 10 lines of history to a file called `hist.py`.\n",
    "Try to figure out how it works."
   ]
  },
  {
   "cell_type": "code",
   "execution_count": 5,
   "metadata": {},
   "outputs": [
    {
     "name": "stdout",
     "output_type": "stream",
     "text": [
      "The following commands were written to file `hist.py`:\n",
      "import urllib\n",
      "get_ipython().run_line_magic('psearch', 'urllib.request.*open*')\n",
      "get_ipython().run_line_magic('lsmagic', '')\n",
      "get_ipython().run_line_magic('timeit', \"urllib.request.urlopen('https://www.city.ac.uk')\")\n",
      "get_ipython().run_cell_magic('timeit', '', \"urllib.request.urlopen('https://www.city.ac.uk')\\nurllib.request.urlopen('https://www.bbc.co.uk')\\n\")\n",
      "get_ipython().run_line_magic('save', 'hist %history -n 1-10')\n"
     ]
    }
   ],
   "source": [
    "%save hist %history -n 1-10"
   ]
  },
  {
   "cell_type": "markdown",
   "metadata": {},
   "source": [
    "---\n",
    "\n",
    "Note that the history shown above gives a hint of what is happening below the hood.\n",
    "A magic is invoked by a method of an IPython object,\n",
    "which exists within the IPython kernel session."
   ]
  },
  {
   "cell_type": "markdown",
   "metadata": {},
   "source": [
    "### Debugging\n",
    "\n",
    "If things go wrong one can enable the debugger, the default built-in python debugger: `pdb`.\n",
    "The debugger will kick in whenever an uncaught exception is raised.\n",
    "\n",
    "Note: describing what a debugger is and how to use one is far beyond our goals,\n",
    "moreover a debugger is not necessary for the majority of data analytics tasks.\n",
    "Therefore, if you have never used a debugger before, feel free to ignore this\n",
    "section and also the exercises that involve debugging."
   ]
  },
  {
   "cell_type": "code",
   "execution_count": null,
   "metadata": {},
   "outputs": [],
   "source": [
    "def answer(x):\n",
    "    return x.question\n",
    "\n",
    "\n",
    "%pdb on\n",
    "answer(42)"
   ]
  },
  {
   "cell_type": "markdown",
   "metadata": {},
   "source": [
    "Another option is the `%debug` magic.\n",
    "`%debug` explicitly invokes the python debugger.\n",
    "In other words, *after* an unexpected exception occurs\n",
    "one can invoke `%debug`, by itself,\n",
    "in a new cell to start the debugger on the current trace.\n",
    "\n",
    "The debugger session generated by above uses the `input` Python function,\n",
    "although the function is revamped into a Jupyter interface.\n",
    "\n",
    "You can use the `input` function directly.\n",
    "Below we create a simple prompt."
   ]
  },
  {
   "cell_type": "code",
   "execution_count": null,
   "metadata": {},
   "outputs": [],
   "source": [
    "food_can = input('Which brand of can food did you buy today? ')\n",
    "print('There is a', food_can, 'can in the fridge today.')"
   ]
  },
  {
   "cell_type": "markdown",
   "metadata": {},
   "source": [
    "---\n",
    "\n",
    "There are many more magics out there.\n",
    "Most magics are meant for interactive sessions inside the IPython command line,\n",
    "therefore the magics are not commonly used in notebooks.\n",
    "That said, a few libraries that we will see will use magics\n",
    "to perform some notebook operations."
   ]
  },
  {
   "cell_type": "markdown",
   "metadata": {},
   "source": [
    "## Extra References\n",
    "\n",
    "* [IPython - Official tutorial][1]\n",
    "* [IPython - Built-in magics][2]\n",
    "\n",
    "[1]: https://ipython.readthedocs.io/en/stable/interactive/tutorial.html\n",
    "[2]: https://ipython.readthedocs.io/en/stable/interactive/magics.html"
   ]
  }
 ],
 "metadata": {
  "kernelspec": {
   "display_name": "Python 3",
   "language": "python",
   "name": "python3"
  },
  "language_info": {
   "codemirror_mode": {
    "name": "ipython",
    "version": 3
   },
   "file_extension": ".py",
   "mimetype": "text/x-python",
   "name": "python",
   "nbconvert_exporter": "python",
   "pygments_lexer": "ipython3",
   "version": "3.7.6"
  }
 },
 "nbformat": 4,
 "nbformat_minor": 4
}
