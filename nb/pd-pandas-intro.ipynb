{
 "cells": [
  {
   "cell_type": "markdown",
   "metadata": {},
   "source": [
    "# 04.00 Pandas Introduction\n",
    "\n",
    "Pandas is a wrapper on top of `NumPy` (and `Matplotlib` to some extent)\n",
    "to make up for the shortcomings of those two libraries when working with real-world data.\n",
    "Instead of working towards efficient\n",
    "numerical computing it attempts to make working with messy data less annoying.\n",
    "The name Pandas comes from the term *Panel data* which is derived from econometrics."
   ]
  },
  {
   "cell_type": "markdown",
   "metadata": {},
   "source": [
    "Let's import it,\n",
    "and also let's import `NumPy` to see how both libraries work with each other.\n",
    "`pandas.options` holds several variables which are used when displaying the data."
   ]
  },
  {
   "cell_type": "code",
   "execution_count": 1,
   "metadata": {},
   "outputs": [],
   "source": [
    "import numpy as np\n",
    "import pandas as pd\n",
    "pd.options.display.max_rows = 12"
   ]
  },
  {
   "cell_type": "markdown",
   "metadata": {},
   "source": [
    "## General ideas behind pandas\n",
    "\n",
    "Originally built as an enhanced version of R's `data.frame`,\n",
    "`pandas` incorporates several known APIs into a single structure.\n",
    "The `DataFrame` includes APIs that make it easy for use from different perspectives.\n",
    "\n",
    "* R `data.frame` like structure, extended by multi-indexes\n",
    "* SQL-like joins, without need for external libraries (e.g. `sqldf` in R)\n",
    "* Looks like a spreadsheet (yes, that is intentional)\n",
    "* One can move between two and multidimensional representations (`stack`, `unstack`)\n",
    "* Aggregation across dimensions with `groupby` (similar to SQL)\n",
    "* Enhanced data types with many operations outside pure computation when compared with `numpy`.\n",
    "\n",
    "You will use `pandas` (rather than `NumPy`) for tasks around messy data.\n",
    "`pandas` is built atop `NumPy`, and uses the continuous memory and broadcast operations\n",
    "of `NumPy` arrays to boost its performance.  `pandas` excels at:\n",
    "\n",
    "* Importing data (very resilient compared to `numpy.loadtxt`)\n",
    "* Clean up messy data (`dropna` or `fillna`)\n",
    "* Gain insight into data (`describe`)\n",
    "\n",
    "Let's use some data about the British isles and the United Kingdom to demonstrate\n",
    "some of the features:"
   ]
  },
  {
   "cell_type": "code",
   "execution_count": 2,
   "metadata": {},
   "outputs": [],
   "source": [
    "country = ['Northern Ireland', 'Scotland', 'Wales', 'England', 'Isle of Man']\n",
    "capital = ['Belfast', 'Edinburgh', 'Cardiff', 'London', 'Douglas']\n",
    "area = np.array([14130, 77933, 20779, 130279, 572])\n",
    "population2017 = np.array([1876695, 5404700, np.nan, 55268100, np.nan])\n",
    "population2011 = np.array([1810863, 5313600, 3063456, 53012456, 83314])"
   ]
  },
  {
   "cell_type": "markdown",
   "metadata": {},
   "source": [
    "![Domesday Book](pd-parchment.svg)\n",
    "\n",
    "<div style=\"text-align:right;\"><sup>pd-parchment.svg</sup></div>"
   ]
  },
  {
   "cell_type": "markdown",
   "metadata": {},
   "source": [
    "# Series\n",
    "\n",
    "The main feature of `pandas` is its `DataFrame` but that is just a collection of `Series` data structures.\n",
    "A `Series` is pretty similar to a `NumPy` array: it is a list of several data of the same data type.\n",
    "The difference is that the `Series` adds labels (an index) to the data."
   ]
  },
  {
   "cell_type": "code",
   "execution_count": 3,
   "metadata": {},
   "outputs": [
    {
     "data": {
      "text/plain": [
       "0     14130\n",
       "1     77933\n",
       "2     20779\n",
       "3    130279\n",
       "4       572\n",
       "dtype: int64"
      ]
     },
     "execution_count": 3,
     "metadata": {},
     "output_type": "execute_result"
    }
   ],
   "source": [
    "series_area = pd.Series(area)\n",
    "series_area"
   ]
  },
  {
   "cell_type": "code",
   "execution_count": 4,
   "metadata": {},
   "outputs": [
    {
     "data": {
      "text/plain": [
       "Northern Ireland     14130\n",
       "Scotland             77933\n",
       "Wales                20779\n",
       "England             130279\n",
       "Isle of Man            572\n",
       "dtype: int64"
      ]
     },
     "execution_count": 4,
     "metadata": {},
     "output_type": "execute_result"
    }
   ],
   "source": [
    "uk_area = pd.Series(area, index=country)\n",
    "uk_area"
   ]
  },
  {
   "cell_type": "markdown",
   "metadata": {},
   "source": [
    "### Selection from the index\n",
    "\n",
    "Selecting from a `Series` works both as a list or as a dictionary.\n",
    "You can say that a `Series.index` maps keys over `Series.values`."
   ]
  },
  {
   "cell_type": "code",
   "execution_count": 5,
   "metadata": {},
   "outputs": [
    {
     "data": {
      "text/plain": [
       "(array([ 14130,  77933,  20779, 130279,    572]),\n",
       " dtype('int64'),\n",
       " Index(['Northern Ireland', 'Scotland', 'Wales', 'England', 'Isle of Man'], dtype='object'))"
      ]
     },
     "execution_count": 5,
     "metadata": {},
     "output_type": "execute_result"
    }
   ],
   "source": [
    "uk_area.values, uk_area.values.dtype, uk_area.index"
   ]
  },
  {
   "cell_type": "markdown",
   "metadata": {},
   "source": [
    "All the following three forms of indexing produce the same record."
   ]
  },
  {
   "cell_type": "code",
   "execution_count": 6,
   "metadata": {},
   "outputs": [
    {
     "data": {
      "text/plain": [
       "(20779, 20779, 20779)"
      ]
     },
     "execution_count": 6,
     "metadata": {},
     "output_type": "execute_result"
    }
   ],
   "source": [
    "uk_area['Wales'], uk_area[2], uk_area.values[2]"
   ]
  },
  {
   "cell_type": "markdown",
   "metadata": {},
   "source": [
    "Slicing works too, so does fancy indexing."
   ]
  },
  {
   "cell_type": "code",
   "execution_count": 7,
   "metadata": {},
   "outputs": [
    {
     "data": {
      "text/plain": [
       "Northern Ireland    14130\n",
       "Scotland            77933\n",
       "Wales               20779\n",
       "dtype: int64"
      ]
     },
     "execution_count": 7,
     "metadata": {},
     "output_type": "execute_result"
    }
   ],
   "source": [
    "uk_area[0:3]"
   ]
  },
  {
   "cell_type": "code",
   "execution_count": 8,
   "metadata": {},
   "outputs": [
    {
     "data": {
      "text/plain": [
       "Wales       20779\n",
       "Scotland    77933\n",
       "dtype: int64"
      ]
     },
     "execution_count": 8,
     "metadata": {},
     "output_type": "execute_result"
    }
   ],
   "source": [
    "uk_area[['Wales', 'Scotland']]"
   ]
  },
  {
   "cell_type": "markdown",
   "metadata": {},
   "source": [
    "### Sorted and unsorted indexes\n",
    "\n",
    "Slicing works on indexes (the labels of the Series)\n",
    "but it is only likely to produce meaningful results if the index is sorted.\n",
    "\n",
    "Note: In older versions of `pandas` slicing over an unsorted index produced an error,\n",
    "this still happens over a multi-index (outlined in a later section).\n",
    "Since we did not care about the order when constructing the data frame our index is unsorted,\n",
    "therefore slicing it will produce strange results."
   ]
  },
  {
   "cell_type": "code",
   "execution_count": 9,
   "metadata": {},
   "outputs": [
    {
     "data": {
      "text/plain": [
       "Series([], dtype: int64)"
      ]
     },
     "execution_count": 9,
     "metadata": {},
     "output_type": "execute_result"
    }
   ],
   "source": [
    "uk_area['England':'Scotland']  # oops!"
   ]
  },
  {
   "cell_type": "markdown",
   "metadata": {},
   "source": [
    "If we sort the index,\n",
    "the alphabetical order (or actually ASCIIbetical order) of the labels can be used for slicing."
   ]
  },
  {
   "cell_type": "code",
   "execution_count": 10,
   "metadata": {},
   "outputs": [
    {
     "data": {
      "text/plain": [
       "England             130279\n",
       "Isle of Man            572\n",
       "Northern Ireland     14130\n",
       "Scotland             77933\n",
       "dtype: int64"
      ]
     },
     "execution_count": 10,
     "metadata": {},
     "output_type": "execute_result"
    }
   ],
   "source": [
    "uk_area.sort_index(inplace=True)\n",
    "uk_area['England':'Scotland']"
   ]
  },
  {
   "cell_type": "markdown",
   "metadata": {},
   "source": [
    "### Implicit indexes\n",
    "\n",
    "If you do not define an index you can still select and slice series items.\n",
    "This is because apart from the normal index an implicit, positional, index is created.\n",
    "In other words, every `pandas` series has two indexes: the implicit and the explicit index."
   ]
  },
  {
   "cell_type": "code",
   "execution_count": 11,
   "metadata": {},
   "outputs": [
    {
     "data": {
      "text/plain": [
       "0    14130\n",
       "1    77933\n",
       "2    20779\n",
       "dtype: int64"
      ]
     },
     "execution_count": 11,
     "metadata": {},
     "output_type": "execute_result"
    }
   ],
   "source": [
    "series_area = pd.Series(area)\n",
    "series_area[0:3]"
   ]
  },
  {
   "cell_type": "markdown",
   "metadata": {},
   "source": [
    "Moreover, when the explicit index is non-numeric,\n",
    "the implicit index is used for access.\n",
    "Here is a series with a sorted index."
   ]
  },
  {
   "cell_type": "code",
   "execution_count": 12,
   "metadata": {},
   "outputs": [
    {
     "data": {
      "text/plain": [
       "England             130279\n",
       "Isle of Man            572\n",
       "Northern Ireland     14130\n",
       "Scotland             77933\n",
       "Wales                20779\n",
       "dtype: int64"
      ]
     },
     "execution_count": 12,
     "metadata": {},
     "output_type": "execute_result"
    }
   ],
   "source": [
    "uk_area = pd.Series(area, index=country).sort_index()\n",
    "uk_area"
   ]
  },
  {
   "cell_type": "markdown",
   "metadata": {},
   "source": [
    "Most of the time both indexes work in the same fashion but slicing\n",
    "is inconsistent between them:\n",
    "The explicit index includes the last slice element (unlike Python list slicing),\n",
    "whilst the implicit index performs slices in the same way as list slicing."
   ]
  },
  {
   "cell_type": "code",
   "execution_count": 13,
   "metadata": {},
   "outputs": [
    {
     "data": {
      "text/plain": [
       "England             130279\n",
       "Isle of Man            572\n",
       "Northern Ireland     14130\n",
       "Scotland             77933\n",
       "dtype: int64"
      ]
     },
     "execution_count": 13,
     "metadata": {},
     "output_type": "execute_result"
    }
   ],
   "source": [
    "uk_area['England':'Scotland']  # Inclusive!"
   ]
  },
  {
   "cell_type": "code",
   "execution_count": 14,
   "metadata": {},
   "outputs": [
    {
     "data": {
      "text/plain": [
       "England             130279\n",
       "Isle of Man            572\n",
       "Northern Ireland     14130\n",
       "dtype: int64"
      ]
     },
     "execution_count": 14,
     "metadata": {},
     "output_type": "execute_result"
    }
   ],
   "source": [
    "uk_area[0:3]  # Exclusive!"
   ]
  },
  {
   "cell_type": "markdown",
   "metadata": {},
   "source": [
    "This can give us a headache with numerical indexes,\n",
    "therefore `pandas` allows us to choose which index to select from:\n",
    "\n",
    "* `loc` always refers to the explicit index\n",
    "* `iloc` always refers to the implicit index\n",
    "* `ix` is what is actually used when we do plain `[]` indexing (and you would normally not need to write it out)"
   ]
  },
  {
   "cell_type": "code",
   "execution_count": 15,
   "metadata": {},
   "outputs": [
    {
     "data": {
      "text/plain": [
       "1     14130\n",
       "2     77933\n",
       "3     20779\n",
       "4    130279\n",
       "5       572\n",
       "dtype: int64"
      ]
     },
     "execution_count": 15,
     "metadata": {},
     "output_type": "execute_result"
    }
   ],
   "source": [
    "series_area = pd.Series(area)\n",
    "series_area.index = [1, 2, 3, 4, 5]\n",
    "series_area"
   ]
  },
  {
   "cell_type": "code",
   "execution_count": 16,
   "metadata": {},
   "outputs": [
    {
     "data": {
      "text/plain": [
       "(14130, 14130, 77933)"
      ]
     },
     "execution_count": 16,
     "metadata": {},
     "output_type": "execute_result"
    }
   ],
   "source": [
    "series_area[1], series_area.loc[1], series_area.iloc[1]"
   ]
  },
  {
   "cell_type": "code",
   "execution_count": 17,
   "metadata": {},
   "outputs": [
    {
     "data": {
      "text/plain": [
       "([77933, 20779], [14130, 77933, 20779], [77933, 20779])"
      ]
     },
     "execution_count": 17,
     "metadata": {},
     "output_type": "execute_result"
    }
   ],
   "source": [
    "list(series_area[1:3]), list(series_area.loc[1:3]), list(series_area.iloc[1:3])"
   ]
  },
  {
   "cell_type": "markdown",
   "metadata": {},
   "source": [
    "Note that, by default, *numeric indexes use the implicit index*.\n",
    "\n",
    "But there's more!\n",
    "If one does not define an index at all `.loc` accesses the implicit index\n",
    "but it uses the explicit index rules of slicing."
   ]
  },
  {
   "cell_type": "code",
   "execution_count": 18,
   "metadata": {},
   "outputs": [
    {
     "data": {
      "text/plain": [
       "0     14130\n",
       "1     77933\n",
       "2     20779\n",
       "3    130279\n",
       "4       572\n",
       "dtype: int64"
      ]
     },
     "execution_count": 18,
     "metadata": {},
     "output_type": "execute_result"
    }
   ],
   "source": [
    "series_area = pd.Series(area)\n",
    "series_area"
   ]
  },
  {
   "cell_type": "code",
   "execution_count": 19,
   "metadata": {},
   "outputs": [
    {
     "data": {
      "text/plain": [
       "(77933, 77933, 77933)"
      ]
     },
     "execution_count": 19,
     "metadata": {},
     "output_type": "execute_result"
    }
   ],
   "source": [
    "series_area[1], series_area.loc[1], series_area.iloc[1]"
   ]
  },
  {
   "cell_type": "code",
   "execution_count": 20,
   "metadata": {},
   "outputs": [
    {
     "data": {
      "text/plain": [
       "([77933, 20779], [77933, 20779, 130279], [77933, 20779])"
      ]
     },
     "execution_count": 20,
     "metadata": {},
     "output_type": "execute_result"
    }
   ],
   "source": [
    "list(series_area[1:3]), list(series_area.loc[1:3]), list(series_area.iloc[1:3])"
   ]
  },
  {
   "cell_type": "markdown",
   "metadata": {},
   "source": [
    "Always cross-check slicing operations and use `.loc` or `.iloc` explicitly.\n",
    "The same rules apply to data frames (seen in a moment)."
   ]
  },
  {
   "cell_type": "markdown",
   "metadata": {},
   "source": [
    "### Like an array\n",
    "\n",
    "The `NumPy` vectorized operations, selection and broadcasting work as if we were working on an array."
   ]
  },
  {
   "cell_type": "code",
   "execution_count": 21,
   "metadata": {},
   "outputs": [
    {
     "data": {
      "text/plain": [
       "England     130279\n",
       "Scotland     77933\n",
       "Wales        20779\n",
       "dtype: int64"
      ]
     },
     "execution_count": 21,
     "metadata": {},
     "output_type": "execute_result"
    }
   ],
   "source": [
    "uk_area[uk_area > 20000]"
   ]
  },
  {
   "cell_type": "markdown",
   "metadata": {},
   "source": [
    "Let's compute the area in square miles instead of square kilometers.\n",
    "\n",
    "$$\n",
    "0.386 \\approx \\frac{1}{1.61^2}\n",
    "$$"
   ]
  },
  {
   "cell_type": "code",
   "execution_count": 22,
   "metadata": {},
   "outputs": [
    {
     "data": {
      "text/plain": [
       "England             50287.694\n",
       "Isle of Man           220.792\n",
       "Northern Ireland     5454.180\n",
       "Scotland            30082.138\n",
       "Wales                8020.694\n",
       "dtype: float64"
      ]
     },
     "execution_count": 22,
     "metadata": {},
     "output_type": "execute_result"
    }
   ],
   "source": [
    "uk_area * 0.386"
   ]
  },
  {
   "cell_type": "markdown",
   "metadata": {},
   "source": [
    "And the total of the UK area in square miles.\n",
    "(The Isle of Man is technically not part of the UK but it is negligible here.)"
   ]
  },
  {
   "cell_type": "code",
   "execution_count": 23,
   "metadata": {},
   "outputs": [
    {
     "data": {
      "text/plain": [
       "94065.498"
      ]
     },
     "execution_count": 23,
     "metadata": {},
     "output_type": "execute_result"
    }
   ],
   "source": [
    "(uk_area * 0.386).sum()"
   ]
  },
  {
   "cell_type": "markdown",
   "metadata": {
    "slideshow": {
     "slide_type": "slide"
    }
   },
   "source": [
    "### More than an array\n",
    "\n",
    "The `Series` aligns the indexes when performing operations.\n",
    "For example what if we would like to know the population growth between 2011 and 2017?\n",
    "\n",
    "Note: Below, `.dropna()` removes rows containing `NULL`s (`NaN`s) fro the series."
   ]
  },
  {
   "cell_type": "code",
   "execution_count": 24,
   "metadata": {},
   "outputs": [],
   "source": [
    "p11 = pd.Series(population2011, index=country)\n",
    "p17 = pd.Series(population2017, index=country).dropna()"
   ]
  },
  {
   "cell_type": "code",
   "execution_count": 25,
   "metadata": {},
   "outputs": [
    {
     "data": {
      "text/plain": [
       "Northern Ireland     1810863\n",
       "Scotland             5313600\n",
       "Wales                3063456\n",
       "England             53012456\n",
       "Isle of Man            83314\n",
       "dtype: int64"
      ]
     },
     "execution_count": 25,
     "metadata": {},
     "output_type": "execute_result"
    }
   ],
   "source": [
    "p11"
   ]
  },
  {
   "cell_type": "code",
   "execution_count": 26,
   "metadata": {},
   "outputs": [
    {
     "data": {
      "text/plain": [
       "Northern Ireland     1876695.0\n",
       "Scotland             5404700.0\n",
       "England             55268100.0\n",
       "dtype: float64"
      ]
     },
     "execution_count": 26,
     "metadata": {},
     "output_type": "execute_result"
    }
   ],
   "source": [
    "p17"
   ]
  },
  {
   "cell_type": "markdown",
   "metadata": {},
   "source": [
    "When we perform the operation the indexes are matched,\n",
    "where a number cannot be found (i.e. the operation contains a `NaN`),\n",
    "pandas automatically inserts a `NaN` (Not a Number) as the result."
   ]
  },
  {
   "cell_type": "code",
   "execution_count": 27,
   "metadata": {},
   "outputs": [
    {
     "data": {
      "text/plain": [
       "England             2255644.0\n",
       "Isle of Man               NaN\n",
       "Northern Ireland      65832.0\n",
       "Scotland              91100.0\n",
       "Wales                     NaN\n",
       "dtype: float64"
      ]
     },
     "execution_count": 27,
     "metadata": {},
     "output_type": "execute_result"
    }
   ],
   "source": [
    "p17 - p11"
   ]
  },
  {
   "cell_type": "markdown",
   "metadata": {},
   "source": [
    "## Data Frames\n",
    "\n",
    "The `DataFrame` is just a collection of `Series` with a common index.\n",
    "It can be understood as a two-dimensional representation of data,\n",
    "similar to a spreadsheet.  One important thing to note is that,\n",
    "contrary to a two dimensional `NumPy` array, **indexing a data frame\n",
    "produces the column** not the row.  Yet, indexing it with two values\n",
    "produces the row and the column just like in a `NumPy` array.\n",
    "\n",
    "Let's build a `NumPy` array and a `DataFrame` that look the same.\n",
    "Then we can have a look at how similar operations work on both.\n",
    "Constructing the data frame can be performed in several ways,\n",
    "below is the most common way of using a dictionary of arrays.\n",
    "Each dictionary key-value pair becomes a column (a `Series`).\n",
    "The `NumPy` array, when constructed from a list of arrays,\n",
    "understand each part of the list as a row,\n",
    "therefore we need to transpose it."
   ]
  },
  {
   "cell_type": "code",
   "execution_count": 28,
   "metadata": {},
   "outputs": [],
   "source": [
    "array = np.array([area, capital, population2011, population2017]).T\n",
    "data = pd.DataFrame({'area': area,\n",
    "                     'capital': capital,\n",
    "                     'population 2011': population2011,\n",
    "                     'population 2017': population2017},\n",
    "                    index=country)"
   ]
  },
  {
   "cell_type": "code",
   "execution_count": 29,
   "metadata": {},
   "outputs": [
    {
     "data": {
      "text/plain": [
       "array([['14130', 'Belfast', '1810863', '1876695.0'],\n",
       "       ['77933', 'Edinburgh', '5313600', '5404700.0'],\n",
       "       ['20779', 'Cardiff', '3063456', 'nan'],\n",
       "       ['130279', 'London', '53012456', '55268100.0'],\n",
       "       ['572', 'Douglas', '83314', 'nan']], dtype='<U32')"
      ]
     },
     "execution_count": 29,
     "metadata": {},
     "output_type": "execute_result"
    }
   ],
   "source": [
    "array"
   ]
  },
  {
   "cell_type": "code",
   "execution_count": 30,
   "metadata": {},
   "outputs": [
    {
     "data": {
      "text/html": [
       "<div>\n",
       "<style scoped>\n",
       "    .dataframe tbody tr th:only-of-type {\n",
       "        vertical-align: middle;\n",
       "    }\n",
       "\n",
       "    .dataframe tbody tr th {\n",
       "        vertical-align: top;\n",
       "    }\n",
       "\n",
       "    .dataframe thead th {\n",
       "        text-align: right;\n",
       "    }\n",
       "</style>\n",
       "<table border=\"1\" class=\"dataframe\">\n",
       "  <thead>\n",
       "    <tr style=\"text-align: right;\">\n",
       "      <th></th>\n",
       "      <th>area</th>\n",
       "      <th>capital</th>\n",
       "      <th>population 2011</th>\n",
       "      <th>population 2017</th>\n",
       "    </tr>\n",
       "  </thead>\n",
       "  <tbody>\n",
       "    <tr>\n",
       "      <th>Northern Ireland</th>\n",
       "      <td>14130</td>\n",
       "      <td>Belfast</td>\n",
       "      <td>1810863</td>\n",
       "      <td>1876695.0</td>\n",
       "    </tr>\n",
       "    <tr>\n",
       "      <th>Scotland</th>\n",
       "      <td>77933</td>\n",
       "      <td>Edinburgh</td>\n",
       "      <td>5313600</td>\n",
       "      <td>5404700.0</td>\n",
       "    </tr>\n",
       "    <tr>\n",
       "      <th>Wales</th>\n",
       "      <td>20779</td>\n",
       "      <td>Cardiff</td>\n",
       "      <td>3063456</td>\n",
       "      <td>NaN</td>\n",
       "    </tr>\n",
       "    <tr>\n",
       "      <th>England</th>\n",
       "      <td>130279</td>\n",
       "      <td>London</td>\n",
       "      <td>53012456</td>\n",
       "      <td>55268100.0</td>\n",
       "    </tr>\n",
       "    <tr>\n",
       "      <th>Isle of Man</th>\n",
       "      <td>572</td>\n",
       "      <td>Douglas</td>\n",
       "      <td>83314</td>\n",
       "      <td>NaN</td>\n",
       "    </tr>\n",
       "  </tbody>\n",
       "</table>\n",
       "</div>"
      ],
      "text/plain": [
       "                    area    capital  population 2011  population 2017\n",
       "Northern Ireland   14130    Belfast          1810863        1876695.0\n",
       "Scotland           77933  Edinburgh          5313600        5404700.0\n",
       "Wales              20779    Cardiff          3063456              NaN\n",
       "England           130279     London         53012456       55268100.0\n",
       "Isle of Man          572    Douglas            83314              NaN"
      ]
     },
     "execution_count": 30,
     "metadata": {},
     "output_type": "execute_result"
    }
   ],
   "source": [
    "data"
   ]
  },
  {
   "cell_type": "markdown",
   "metadata": {},
   "source": [
    "The first thing to note is that the `NumPy` array can only hold one data type.\n",
    "The array casted every data type to a Unicode string.\n",
    "In reality `NumPy` arrays support compound data types\n",
    "but these are considerably more complicated to use the data frames.\n",
    "\n",
    "Data in the data frame got converted too.\n",
    "Each column can have a different data type but somewhat the numbers\n",
    "in \"`population 2011`\" and in \"`population 2017`\" look different.\n",
    "This is because only floating point numbers can represent `NaN`s."
   ]
  },
  {
   "cell_type": "markdown",
   "metadata": {},
   "source": [
    "We have the same data in `NumPy` and `pandas`, and we can index it.\n",
    "In `NumPy` a plain index produces a *row*, in `pandas` it produces a *column*."
   ]
  },
  {
   "cell_type": "code",
   "execution_count": 31,
   "metadata": {},
   "outputs": [
    {
     "data": {
      "text/plain": [
       "array(['14130', 'Belfast', '1810863', '1876695.0'], dtype='<U32')"
      ]
     },
     "execution_count": 31,
     "metadata": {},
     "output_type": "execute_result"
    }
   ],
   "source": [
    "array[0]"
   ]
  },
  {
   "cell_type": "code",
   "execution_count": 32,
   "metadata": {},
   "outputs": [
    {
     "data": {
      "text/plain": [
       "Northern Ireland     14130\n",
       "Scotland             77933\n",
       "Wales                20779\n",
       "England             130279\n",
       "Isle of Man            572\n",
       "Name: area, dtype: int64"
      ]
     },
     "execution_count": 32,
     "metadata": {},
     "output_type": "execute_result"
    }
   ],
   "source": [
    "data['area']"
   ]
  },
  {
   "cell_type": "markdown",
   "metadata": {},
   "source": [
    "Yet, there is a twist.\n",
    "Using the implicit index (`.iloc`) produces the same behavior as `NumPy`."
   ]
  },
  {
   "cell_type": "code",
   "execution_count": 33,
   "metadata": {},
   "outputs": [
    {
     "data": {
      "text/plain": [
       "area                    14130\n",
       "capital               Belfast\n",
       "population 2011       1810863\n",
       "population 2017    1.8767e+06\n",
       "Name: Northern Ireland, dtype: object"
      ]
     },
     "execution_count": 33,
     "metadata": {},
     "output_type": "execute_result"
    }
   ],
   "source": [
    "data.iloc[0]"
   ]
  },
  {
   "cell_type": "markdown",
   "metadata": {},
   "source": [
    "Columns with simple names can be accessed as attributes."
   ]
  },
  {
   "cell_type": "code",
   "execution_count": 34,
   "metadata": {},
   "outputs": [
    {
     "data": {
      "text/plain": [
       "Northern Ireland     14130\n",
       "Scotland             77933\n",
       "Wales                20779\n",
       "England             130279\n",
       "Isle of Man            572\n",
       "Name: area, dtype: int64"
      ]
     },
     "execution_count": 34,
     "metadata": {},
     "output_type": "execute_result"
    }
   ],
   "source": [
    "data.area"
   ]
  },
  {
   "cell_type": "markdown",
   "metadata": {},
   "source": [
    "Finally, multi-indexing works in the same way as `NumPy`:\n",
    "One provides first the *row* and then the *column*.\n",
    "And slicing works too."
   ]
  },
  {
   "cell_type": "code",
   "execution_count": 35,
   "metadata": {},
   "outputs": [
    {
     "data": {
      "text/plain": [
       "area       130279\n",
       "capital    London\n",
       "Name: England, dtype: object"
      ]
     },
     "execution_count": 35,
     "metadata": {},
     "output_type": "execute_result"
    }
   ],
   "source": [
    "data.loc['England', 'area':'capital']"
   ]
  },
  {
   "cell_type": "markdown",
   "metadata": {},
   "source": [
    "### Summarize\n",
    "\n",
    "Data frames have several useful methods to give a feel for the data.\n",
    "With a reasonable amount of data you'd rather not want thousands of rows to\n",
    "be printed.  What you want are methods to give you the data you are after quickly.\n",
    "\n",
    "For example, looking at the beginning or end of sorted values will show outliers."
   ]
  },
  {
   "cell_type": "code",
   "execution_count": 36,
   "metadata": {},
   "outputs": [
    {
     "data": {
      "text/html": [
       "<div>\n",
       "<style scoped>\n",
       "    .dataframe tbody tr th:only-of-type {\n",
       "        vertical-align: middle;\n",
       "    }\n",
       "\n",
       "    .dataframe tbody tr th {\n",
       "        vertical-align: top;\n",
       "    }\n",
       "\n",
       "    .dataframe thead th {\n",
       "        text-align: right;\n",
       "    }\n",
       "</style>\n",
       "<table border=\"1\" class=\"dataframe\">\n",
       "  <thead>\n",
       "    <tr style=\"text-align: right;\">\n",
       "      <th></th>\n",
       "      <th>area</th>\n",
       "      <th>capital</th>\n",
       "      <th>population 2011</th>\n",
       "      <th>population 2017</th>\n",
       "    </tr>\n",
       "  </thead>\n",
       "  <tbody>\n",
       "    <tr>\n",
       "      <th>England</th>\n",
       "      <td>130279</td>\n",
       "      <td>London</td>\n",
       "      <td>53012456</td>\n",
       "      <td>55268100.0</td>\n",
       "    </tr>\n",
       "    <tr>\n",
       "      <th>Isle of Man</th>\n",
       "      <td>572</td>\n",
       "      <td>Douglas</td>\n",
       "      <td>83314</td>\n",
       "      <td>NaN</td>\n",
       "    </tr>\n",
       "    <tr>\n",
       "      <th>Northern Ireland</th>\n",
       "      <td>14130</td>\n",
       "      <td>Belfast</td>\n",
       "      <td>1810863</td>\n",
       "      <td>1876695.0</td>\n",
       "    </tr>\n",
       "    <tr>\n",
       "      <th>Scotland</th>\n",
       "      <td>77933</td>\n",
       "      <td>Edinburgh</td>\n",
       "      <td>5313600</td>\n",
       "      <td>5404700.0</td>\n",
       "    </tr>\n",
       "    <tr>\n",
       "      <th>Wales</th>\n",
       "      <td>20779</td>\n",
       "      <td>Cardiff</td>\n",
       "      <td>3063456</td>\n",
       "      <td>NaN</td>\n",
       "    </tr>\n",
       "  </tbody>\n",
       "</table>\n",
       "</div>"
      ],
      "text/plain": [
       "                    area    capital  population 2011  population 2017\n",
       "England           130279     London         53012456       55268100.0\n",
       "Isle of Man          572    Douglas            83314              NaN\n",
       "Northern Ireland   14130    Belfast          1810863        1876695.0\n",
       "Scotland           77933  Edinburgh          5313600        5404700.0\n",
       "Wales              20779    Cardiff          3063456              NaN"
      ]
     },
     "execution_count": 36,
     "metadata": {},
     "output_type": "execute_result"
    }
   ],
   "source": [
    "data = pd.DataFrame({'area': area,\n",
    "                     'capital': capital,\n",
    "                     'population 2011': population2011,\n",
    "                     'population 2017': population2017},\n",
    "                    index=country).sort_index()\n",
    "data"
   ]
  },
  {
   "cell_type": "markdown",
   "metadata": {},
   "source": [
    "The index is sorted, Therefore we get the countries in alphabetical order."
   ]
  },
  {
   "cell_type": "code",
   "execution_count": 37,
   "metadata": {},
   "outputs": [
    {
     "data": {
      "text/html": [
       "<div>\n",
       "<style scoped>\n",
       "    .dataframe tbody tr th:only-of-type {\n",
       "        vertical-align: middle;\n",
       "    }\n",
       "\n",
       "    .dataframe tbody tr th {\n",
       "        vertical-align: top;\n",
       "    }\n",
       "\n",
       "    .dataframe thead th {\n",
       "        text-align: right;\n",
       "    }\n",
       "</style>\n",
       "<table border=\"1\" class=\"dataframe\">\n",
       "  <thead>\n",
       "    <tr style=\"text-align: right;\">\n",
       "      <th></th>\n",
       "      <th>area</th>\n",
       "      <th>capital</th>\n",
       "      <th>population 2011</th>\n",
       "      <th>population 2017</th>\n",
       "    </tr>\n",
       "  </thead>\n",
       "  <tbody>\n",
       "    <tr>\n",
       "      <th>England</th>\n",
       "      <td>130279</td>\n",
       "      <td>London</td>\n",
       "      <td>53012456</td>\n",
       "      <td>55268100.0</td>\n",
       "    </tr>\n",
       "    <tr>\n",
       "      <th>Isle of Man</th>\n",
       "      <td>572</td>\n",
       "      <td>Douglas</td>\n",
       "      <td>83314</td>\n",
       "      <td>NaN</td>\n",
       "    </tr>\n",
       "    <tr>\n",
       "      <th>Northern Ireland</th>\n",
       "      <td>14130</td>\n",
       "      <td>Belfast</td>\n",
       "      <td>1810863</td>\n",
       "      <td>1876695.0</td>\n",
       "    </tr>\n",
       "  </tbody>\n",
       "</table>\n",
       "</div>"
      ],
      "text/plain": [
       "                    area  capital  population 2011  population 2017\n",
       "England           130279   London         53012456       55268100.0\n",
       "Isle of Man          572  Douglas            83314              NaN\n",
       "Northern Ireland   14130  Belfast          1810863        1876695.0"
      ]
     },
     "execution_count": 37,
     "metadata": {},
     "output_type": "execute_result"
    }
   ],
   "source": [
    "data.head(3)"
   ]
  },
  {
   "cell_type": "markdown",
   "metadata": {},
   "source": [
    "Sorted by area, should give us the biggest countries."
   ]
  },
  {
   "cell_type": "code",
   "execution_count": 38,
   "metadata": {},
   "outputs": [
    {
     "data": {
      "text/html": [
       "<div>\n",
       "<style scoped>\n",
       "    .dataframe tbody tr th:only-of-type {\n",
       "        vertical-align: middle;\n",
       "    }\n",
       "\n",
       "    .dataframe tbody tr th {\n",
       "        vertical-align: top;\n",
       "    }\n",
       "\n",
       "    .dataframe thead th {\n",
       "        text-align: right;\n",
       "    }\n",
       "</style>\n",
       "<table border=\"1\" class=\"dataframe\">\n",
       "  <thead>\n",
       "    <tr style=\"text-align: right;\">\n",
       "      <th></th>\n",
       "      <th>area</th>\n",
       "      <th>capital</th>\n",
       "      <th>population 2011</th>\n",
       "      <th>population 2017</th>\n",
       "    </tr>\n",
       "  </thead>\n",
       "  <tbody>\n",
       "    <tr>\n",
       "      <th>Wales</th>\n",
       "      <td>20779</td>\n",
       "      <td>Cardiff</td>\n",
       "      <td>3063456</td>\n",
       "      <td>NaN</td>\n",
       "    </tr>\n",
       "    <tr>\n",
       "      <th>Scotland</th>\n",
       "      <td>77933</td>\n",
       "      <td>Edinburgh</td>\n",
       "      <td>5313600</td>\n",
       "      <td>5404700.0</td>\n",
       "    </tr>\n",
       "    <tr>\n",
       "      <th>England</th>\n",
       "      <td>130279</td>\n",
       "      <td>London</td>\n",
       "      <td>53012456</td>\n",
       "      <td>55268100.0</td>\n",
       "    </tr>\n",
       "  </tbody>\n",
       "</table>\n",
       "</div>"
      ],
      "text/plain": [
       "            area    capital  population 2011  population 2017\n",
       "Wales      20779    Cardiff          3063456              NaN\n",
       "Scotland   77933  Edinburgh          5313600        5404700.0\n",
       "England   130279     London         53012456       55268100.0"
      ]
     },
     "execution_count": 38,
     "metadata": {},
     "output_type": "execute_result"
    }
   ],
   "source": [
    "data.sort_values('area').tail(3)"
   ]
  },
  {
   "cell_type": "markdown",
   "metadata": {},
   "source": [
    "The length of a data frame is the number of rows it has."
   ]
  },
  {
   "cell_type": "code",
   "execution_count": 39,
   "metadata": {},
   "outputs": [
    {
     "data": {
      "text/plain": [
       "5"
      ]
     },
     "execution_count": 39,
     "metadata": {},
     "output_type": "execute_result"
    }
   ],
   "source": [
    "len(data)"
   ]
  },
  {
   "cell_type": "markdown",
   "metadata": {},
   "source": [
    "The `describe` and `info` methods print two distinct types of statistics about the data frame:\n",
    "one gives the statistical view of each column, the other gives you a memory layout."
   ]
  },
  {
   "cell_type": "code",
   "execution_count": 40,
   "metadata": {},
   "outputs": [
    {
     "data": {
      "text/html": [
       "<div>\n",
       "<style scoped>\n",
       "    .dataframe tbody tr th:only-of-type {\n",
       "        vertical-align: middle;\n",
       "    }\n",
       "\n",
       "    .dataframe tbody tr th {\n",
       "        vertical-align: top;\n",
       "    }\n",
       "\n",
       "    .dataframe thead th {\n",
       "        text-align: right;\n",
       "    }\n",
       "</style>\n",
       "<table border=\"1\" class=\"dataframe\">\n",
       "  <thead>\n",
       "    <tr style=\"text-align: right;\">\n",
       "      <th></th>\n",
       "      <th>area</th>\n",
       "      <th>population 2011</th>\n",
       "      <th>population 2017</th>\n",
       "    </tr>\n",
       "  </thead>\n",
       "  <tbody>\n",
       "    <tr>\n",
       "      <th>count</th>\n",
       "      <td>5.000000</td>\n",
       "      <td>5.000000e+00</td>\n",
       "      <td>3.000000e+00</td>\n",
       "    </tr>\n",
       "    <tr>\n",
       "      <th>mean</th>\n",
       "      <td>48738.600000</td>\n",
       "      <td>1.265674e+07</td>\n",
       "      <td>2.084983e+07</td>\n",
       "    </tr>\n",
       "    <tr>\n",
       "      <th>std</th>\n",
       "      <td>54315.434283</td>\n",
       "      <td>2.263990e+07</td>\n",
       "      <td>2.985925e+07</td>\n",
       "    </tr>\n",
       "    <tr>\n",
       "      <th>min</th>\n",
       "      <td>572.000000</td>\n",
       "      <td>8.331400e+04</td>\n",
       "      <td>1.876695e+06</td>\n",
       "    </tr>\n",
       "    <tr>\n",
       "      <th>25%</th>\n",
       "      <td>14130.000000</td>\n",
       "      <td>1.810863e+06</td>\n",
       "      <td>3.640698e+06</td>\n",
       "    </tr>\n",
       "    <tr>\n",
       "      <th>50%</th>\n",
       "      <td>20779.000000</td>\n",
       "      <td>3.063456e+06</td>\n",
       "      <td>5.404700e+06</td>\n",
       "    </tr>\n",
       "    <tr>\n",
       "      <th>75%</th>\n",
       "      <td>77933.000000</td>\n",
       "      <td>5.313600e+06</td>\n",
       "      <td>3.033640e+07</td>\n",
       "    </tr>\n",
       "    <tr>\n",
       "      <th>max</th>\n",
       "      <td>130279.000000</td>\n",
       "      <td>5.301246e+07</td>\n",
       "      <td>5.526810e+07</td>\n",
       "    </tr>\n",
       "  </tbody>\n",
       "</table>\n",
       "</div>"
      ],
      "text/plain": [
       "                area  population 2011  population 2017\n",
       "count       5.000000     5.000000e+00     3.000000e+00\n",
       "mean    48738.600000     1.265674e+07     2.084983e+07\n",
       "std     54315.434283     2.263990e+07     2.985925e+07\n",
       "min       572.000000     8.331400e+04     1.876695e+06\n",
       "25%     14130.000000     1.810863e+06     3.640698e+06\n",
       "50%     20779.000000     3.063456e+06     5.404700e+06\n",
       "75%     77933.000000     5.313600e+06     3.033640e+07\n",
       "max    130279.000000     5.301246e+07     5.526810e+07"
      ]
     },
     "execution_count": 40,
     "metadata": {},
     "output_type": "execute_result"
    }
   ],
   "source": [
    "data.describe()"
   ]
  },
  {
   "cell_type": "code",
   "execution_count": 41,
   "metadata": {},
   "outputs": [
    {
     "name": "stdout",
     "output_type": "stream",
     "text": [
      "<class 'pandas.core.frame.DataFrame'>\n",
      "Index: 5 entries, England to Wales\n",
      "Data columns (total 4 columns):\n",
      " #   Column           Non-Null Count  Dtype  \n",
      "---  ------           --------------  -----  \n",
      " 0   area             5 non-null      int64  \n",
      " 1   capital          5 non-null      object \n",
      " 2   population 2011  5 non-null      int64  \n",
      " 3   population 2017  3 non-null      float64\n",
      "dtypes: float64(1), int64(2), object(1)\n",
      "memory usage: 200.0+ bytes\n"
     ]
    }
   ],
   "source": [
    "data.info()"
   ]
  },
  {
   "cell_type": "markdown",
   "metadata": {},
   "source": [
    "The data frame can also display plots (using `Matplotlib`) directly.\n",
    "That said, if we want to display the plots within the notebook or style them,\n",
    "we need to perform the `matplotlib` setup ourselves."
   ]
  },
  {
   "cell_type": "code",
   "execution_count": 42,
   "metadata": {},
   "outputs": [],
   "source": [
    "%matplotlib inline\n",
    "import matplotlib.pyplot as plt\n",
    "plt.style.use('seaborn-talk')"
   ]
  },
  {
   "cell_type": "markdown",
   "metadata": {},
   "source": [
    "We can see the population growth in a graph."
   ]
  },
  {
   "cell_type": "code",
   "execution_count": 43,
   "metadata": {},
   "outputs": [
    {
     "data": {
      "image/png": "[encoded data removed]",
      "text/plain": [
       "<Figure size 1152x504 with 1 Axes>"
      ]
     },
     "metadata": {
      "needs_background": "light"
     },
     "output_type": "display_data"
    }
   ],
   "source": [
    "fig, ax = plt.subplots(figsize=(16, 7))\n",
    "plot = data[['population 2011', 'population 2017']].plot(kind='bar', ax=ax)\n",
    "ticks = ['%.0f M' % (x / 1e6) for x in plot.yaxis.get_majorticklocs()]\n",
    "plot.yaxis.set_ticklabels(ticks);  # this is just a hack to get nice ticks"
   ]
  },
  {
   "cell_type": "markdown",
   "metadata": {},
   "source": [
    "And, on a logarithmic scale, we can see the relation between area and population.\n",
    "\n",
    "Here we also use annotations, this is a `matplotlib` feature.\n",
    "It annotates the string (first argument) over a point on the graph\n",
    "(two coordinates - as a tuple, list or series)."
   ]
  },
  {
   "cell_type": "code",
   "execution_count": 44,
   "metadata": {},
   "outputs": [
    {
     "data": {
      "image/png": "[encoded data removed]",
      "text/plain": [
       "<Figure size 1152x504 with 1 Axes>"
      ]
     },
     "metadata": {
      "needs_background": "light"
     },
     "output_type": "display_data"
    }
   ],
   "source": [
    "fig, ax = plt.subplots(figsize=(16, 7))\n",
    "plot = data.plot(kind='scatter', x='population 2011', y='area', loglog=True, ax=ax)\n",
    "for k, v in data[['population 2011', 'area']].iterrows():\n",
    "    plot.axes.annotate(k, xy=v, xytext=(v[0], v[1]*1.07), ha='center', size=12)"
   ]
  },
  {
   "cell_type": "markdown",
   "metadata": {},
   "source": [
    "### String methods\n",
    "\n",
    "Another extra feature that does not exist in `NumPy` arrays are methods that work\n",
    "on string content, just like Python string methods.  The `str` object of a `Series`\n",
    "(of a column of a data frame) is used to call string methods on each element, efficiently.\n",
    "The result is either a boolean `Series` that can then be used to retrieve rows from the data frame,\n",
    "or a new string `Series` modified by the operation."
   ]
  },
  {
   "cell_type": "code",
   "execution_count": 45,
   "metadata": {},
   "outputs": [
    {
     "data": {
      "text/plain": [
       "England             False\n",
       "Isle of Man         False\n",
       "Northern Ireland     True\n",
       "Scotland            False\n",
       "Wales               False\n",
       "Name: capital, dtype: bool"
      ]
     },
     "execution_count": 45,
     "metadata": {},
     "output_type": "execute_result"
    }
   ],
   "source": [
    "data['capital'].str.startswith('Be')"
   ]
  },
  {
   "cell_type": "markdown",
   "metadata": {},
   "source": [
    "Several regular expression methods are supported as well."
   ]
  },
  {
   "cell_type": "code",
   "execution_count": 46,
   "metadata": {},
   "outputs": [
    {
     "data": {
      "text/html": [
       "<div>\n",
       "<style scoped>\n",
       "    .dataframe tbody tr th:only-of-type {\n",
       "        vertical-align: middle;\n",
       "    }\n",
       "\n",
       "    .dataframe tbody tr th {\n",
       "        vertical-align: top;\n",
       "    }\n",
       "\n",
       "    .dataframe thead th {\n",
       "        text-align: right;\n",
       "    }\n",
       "</style>\n",
       "<table border=\"1\" class=\"dataframe\">\n",
       "  <thead>\n",
       "    <tr style=\"text-align: right;\">\n",
       "      <th></th>\n",
       "      <th>area</th>\n",
       "      <th>capital</th>\n",
       "      <th>population 2011</th>\n",
       "      <th>population 2017</th>\n",
       "    </tr>\n",
       "  </thead>\n",
       "  <tbody>\n",
       "    <tr>\n",
       "      <th>England</th>\n",
       "      <td>130279</td>\n",
       "      <td>London</td>\n",
       "      <td>53012456</td>\n",
       "      <td>55268100.0</td>\n",
       "    </tr>\n",
       "    <tr>\n",
       "      <th>Isle of Man</th>\n",
       "      <td>572</td>\n",
       "      <td>Douglas</td>\n",
       "      <td>83314</td>\n",
       "      <td>NaN</td>\n",
       "    </tr>\n",
       "    <tr>\n",
       "      <th>Northern Ireland</th>\n",
       "      <td>14130</td>\n",
       "      <td>Belfast</td>\n",
       "      <td>1810863</td>\n",
       "      <td>1876695.0</td>\n",
       "    </tr>\n",
       "    <tr>\n",
       "      <th>Wales</th>\n",
       "      <td>20779</td>\n",
       "      <td>Cardiff</td>\n",
       "      <td>3063456</td>\n",
       "      <td>NaN</td>\n",
       "    </tr>\n",
       "  </tbody>\n",
       "</table>\n",
       "</div>"
      ],
      "text/plain": [
       "                    area  capital  population 2011  population 2017\n",
       "England           130279   London         53012456       55268100.0\n",
       "Isle of Man          572  Douglas            83314              NaN\n",
       "Northern Ireland   14130  Belfast          1810863        1876695.0\n",
       "Wales              20779  Cardiff          3063456              NaN"
      ]
     },
     "execution_count": 46,
     "metadata": {},
     "output_type": "execute_result"
    }
   ],
   "source": [
    "data[data.capital.str.contains('[oa]')]"
   ]
  },
  {
   "cell_type": "code",
   "execution_count": 47,
   "metadata": {},
   "outputs": [
    {
     "data": {
      "text/html": [
       "<div>\n",
       "<style scoped>\n",
       "    .dataframe tbody tr th:only-of-type {\n",
       "        vertical-align: middle;\n",
       "    }\n",
       "\n",
       "    .dataframe tbody tr th {\n",
       "        vertical-align: top;\n",
       "    }\n",
       "\n",
       "    .dataframe thead th {\n",
       "        text-align: right;\n",
       "    }\n",
       "</style>\n",
       "<table border=\"1\" class=\"dataframe\">\n",
       "  <thead>\n",
       "    <tr style=\"text-align: right;\">\n",
       "      <th></th>\n",
       "      <th>area</th>\n",
       "      <th>capital</th>\n",
       "      <th>population 2011</th>\n",
       "      <th>population 2017</th>\n",
       "    </tr>\n",
       "  </thead>\n",
       "  <tbody>\n",
       "    <tr>\n",
       "      <th>England</th>\n",
       "      <td>130279</td>\n",
       "      <td>London</td>\n",
       "      <td>53012456</td>\n",
       "      <td>55268100.0</td>\n",
       "    </tr>\n",
       "  </tbody>\n",
       "</table>\n",
       "</div>"
      ],
      "text/plain": [
       "           area capital  population 2011  population 2017\n",
       "England  130279  London         53012456       55268100.0"
      ]
     },
     "execution_count": 47,
     "metadata": {},
     "output_type": "execute_result"
    }
   ],
   "source": [
    "data[data.index.str.startswith('Eng')]"
   ]
  },
  {
   "cell_type": "markdown",
   "metadata": {},
   "source": [
    "Most string Python methods are available."
   ]
  },
  {
   "cell_type": "code",
   "execution_count": 48,
   "metadata": {},
   "outputs": [
    {
     "data": {
      "text/plain": [
       "England                LONDON\n",
       "Isle of Man           DOUGLAS\n",
       "Northern Ireland      BELFAST\n",
       "Scotland            EDINBURGH\n",
       "Wales                 CARDIFF\n",
       "Name: capital, dtype: object"
      ]
     },
     "execution_count": 48,
     "metadata": {},
     "output_type": "execute_result"
    }
   ],
   "source": [
    "data['capital'].str.upper()"
   ]
  },
  {
   "cell_type": "markdown",
   "metadata": {},
   "source": [
    "To modify the data frame we can assign to a new column.\n",
    "For example, first letter of the capital."
   ]
  },
  {
   "cell_type": "code",
   "execution_count": 49,
   "metadata": {},
   "outputs": [
    {
     "data": {
      "text/html": [
       "<div>\n",
       "<style scoped>\n",
       "    .dataframe tbody tr th:only-of-type {\n",
       "        vertical-align: middle;\n",
       "    }\n",
       "\n",
       "    .dataframe tbody tr th {\n",
       "        vertical-align: top;\n",
       "    }\n",
       "\n",
       "    .dataframe thead th {\n",
       "        text-align: right;\n",
       "    }\n",
       "</style>\n",
       "<table border=\"1\" class=\"dataframe\">\n",
       "  <thead>\n",
       "    <tr style=\"text-align: right;\">\n",
       "      <th></th>\n",
       "      <th>area</th>\n",
       "      <th>capital</th>\n",
       "      <th>population 2011</th>\n",
       "      <th>population 2017</th>\n",
       "      <th>initial</th>\n",
       "    </tr>\n",
       "  </thead>\n",
       "  <tbody>\n",
       "    <tr>\n",
       "      <th>England</th>\n",
       "      <td>130279</td>\n",
       "      <td>London</td>\n",
       "      <td>53012456</td>\n",
       "      <td>55268100.0</td>\n",
       "      <td>L</td>\n",
       "    </tr>\n",
       "    <tr>\n",
       "      <th>Isle of Man</th>\n",
       "      <td>572</td>\n",
       "      <td>Douglas</td>\n",
       "      <td>83314</td>\n",
       "      <td>NaN</td>\n",
       "      <td>D</td>\n",
       "    </tr>\n",
       "    <tr>\n",
       "      <th>Northern Ireland</th>\n",
       "      <td>14130</td>\n",
       "      <td>Belfast</td>\n",
       "      <td>1810863</td>\n",
       "      <td>1876695.0</td>\n",
       "      <td>B</td>\n",
       "    </tr>\n",
       "    <tr>\n",
       "      <th>Scotland</th>\n",
       "      <td>77933</td>\n",
       "      <td>Edinburgh</td>\n",
       "      <td>5313600</td>\n",
       "      <td>5404700.0</td>\n",
       "      <td>E</td>\n",
       "    </tr>\n",
       "    <tr>\n",
       "      <th>Wales</th>\n",
       "      <td>20779</td>\n",
       "      <td>Cardiff</td>\n",
       "      <td>3063456</td>\n",
       "      <td>NaN</td>\n",
       "      <td>C</td>\n",
       "    </tr>\n",
       "  </tbody>\n",
       "</table>\n",
       "</div>"
      ],
      "text/plain": [
       "                    area    capital  population 2011  population 2017 initial\n",
       "England           130279     London         53012456       55268100.0       L\n",
       "Isle of Man          572    Douglas            83314              NaN       D\n",
       "Northern Ireland   14130    Belfast          1810863        1876695.0       B\n",
       "Scotland           77933  Edinburgh          5313600        5404700.0       E\n",
       "Wales              20779    Cardiff          3063456              NaN       C"
      ]
     },
     "execution_count": 49,
     "metadata": {},
     "output_type": "execute_result"
    }
   ],
   "source": [
    "data['initial'] = data['capital'].str[0].str.upper()\n",
    "data"
   ]
  },
  {
   "cell_type": "markdown",
   "metadata": {},
   "source": [
    "Note above that `.str` has been used two times."
   ]
  },
  {
   "cell_type": "markdown",
   "metadata": {},
   "source": [
    "### Missing data\n",
    "\n",
    "More often than not real world data is incomplete in some way.\n",
    "In `NumPy`, and therefore in `pandas`, missing data is represented using NaNs (not a number).\n",
    "NaNs are actual IEEE 754 float NaNs, therefore the data type of a `Series` (or `NumPy` array)\n",
    "must be either a float or a Python object.  `Series` strings are just Python objects,\n",
    "this is contrary to `NumPy`'s arrays; this means that a `series` or a data frame can hold\n",
    "NULLs (NaNs) for strings.\n",
    "\n",
    "For non-floating point data types NaNs become rather complicated.\n",
    "Several solutions have been attempted over the decades on how to handle NaN\n",
    "values, with varied degree of success.\n",
    "`pandas` attempts to use its own NaN solution, namely the value `pd.NA`.\n",
    "At the time of writing you are likely to encounter pandas\n",
    "versions using that as its default NaN treatment for some data types,\n",
    "whilst using the IEEE 754 standard for other data types.\n",
    "It is too early to argue which types will settle for which values\n",
    "for missing data, be wary.\n",
    "\n",
    "`pandas` data frames have the `dropna` an `fillna` methods that\n",
    "(unsurprisingly) drop or fill in values for NaNs.\n",
    "Dropping can be done by row or column."
   ]
  },
  {
   "cell_type": "code",
   "execution_count": 50,
   "metadata": {},
   "outputs": [
    {
     "data": {
      "text/html": [
       "<div>\n",
       "<style scoped>\n",
       "    .dataframe tbody tr th:only-of-type {\n",
       "        vertical-align: middle;\n",
       "    }\n",
       "\n",
       "    .dataframe tbody tr th {\n",
       "        vertical-align: top;\n",
       "    }\n",
       "\n",
       "    .dataframe thead th {\n",
       "        text-align: right;\n",
       "    }\n",
       "</style>\n",
       "<table border=\"1\" class=\"dataframe\">\n",
       "  <thead>\n",
       "    <tr style=\"text-align: right;\">\n",
       "      <th></th>\n",
       "      <th>area</th>\n",
       "      <th>capital</th>\n",
       "      <th>population 2011</th>\n",
       "      <th>population 2017</th>\n",
       "    </tr>\n",
       "  </thead>\n",
       "  <tbody>\n",
       "    <tr>\n",
       "      <th>England</th>\n",
       "      <td>130279</td>\n",
       "      <td>London</td>\n",
       "      <td>53012456</td>\n",
       "      <td>55268100.0</td>\n",
       "    </tr>\n",
       "    <tr>\n",
       "      <th>Isle of Man</th>\n",
       "      <td>572</td>\n",
       "      <td>Douglas</td>\n",
       "      <td>83314</td>\n",
       "      <td>NaN</td>\n",
       "    </tr>\n",
       "    <tr>\n",
       "      <th>Northern Ireland</th>\n",
       "      <td>14130</td>\n",
       "      <td>Belfast</td>\n",
       "      <td>1810863</td>\n",
       "      <td>1876695.0</td>\n",
       "    </tr>\n",
       "    <tr>\n",
       "      <th>Scotland</th>\n",
       "      <td>77933</td>\n",
       "      <td>Edinburgh</td>\n",
       "      <td>5313600</td>\n",
       "      <td>5404700.0</td>\n",
       "    </tr>\n",
       "    <tr>\n",
       "      <th>Wales</th>\n",
       "      <td>20779</td>\n",
       "      <td>Cardiff</td>\n",
       "      <td>3063456</td>\n",
       "      <td>NaN</td>\n",
       "    </tr>\n",
       "  </tbody>\n",
       "</table>\n",
       "</div>"
      ],
      "text/plain": [
       "                    area    capital  population 2011  population 2017\n",
       "England           130279     London         53012456       55268100.0\n",
       "Isle of Man          572    Douglas            83314              NaN\n",
       "Northern Ireland   14130    Belfast          1810863        1876695.0\n",
       "Scotland           77933  Edinburgh          5313600        5404700.0\n",
       "Wales              20779    Cardiff          3063456              NaN"
      ]
     },
     "execution_count": 50,
     "metadata": {},
     "output_type": "execute_result"
    }
   ],
   "source": [
    "data = pd.DataFrame({'area': area,\n",
    "                     'capital': capital,\n",
    "                     'population 2011': population2011,\n",
    "                     'population 2017': population2017},\n",
    "                    index=country).sort_index()\n",
    "data"
   ]
  },
  {
   "cell_type": "code",
   "execution_count": 51,
   "metadata": {},
   "outputs": [
    {
     "data": {
      "text/html": [
       "<div>\n",
       "<style scoped>\n",
       "    .dataframe tbody tr th:only-of-type {\n",
       "        vertical-align: middle;\n",
       "    }\n",
       "\n",
       "    .dataframe tbody tr th {\n",
       "        vertical-align: top;\n",
       "    }\n",
       "\n",
       "    .dataframe thead th {\n",
       "        text-align: right;\n",
       "    }\n",
       "</style>\n",
       "<table border=\"1\" class=\"dataframe\">\n",
       "  <thead>\n",
       "    <tr style=\"text-align: right;\">\n",
       "      <th></th>\n",
       "      <th>area</th>\n",
       "      <th>capital</th>\n",
       "      <th>population 2011</th>\n",
       "      <th>population 2017</th>\n",
       "    </tr>\n",
       "  </thead>\n",
       "  <tbody>\n",
       "    <tr>\n",
       "      <th>England</th>\n",
       "      <td>130279</td>\n",
       "      <td>London</td>\n",
       "      <td>53012456</td>\n",
       "      <td>55268100.0</td>\n",
       "    </tr>\n",
       "    <tr>\n",
       "      <th>Northern Ireland</th>\n",
       "      <td>14130</td>\n",
       "      <td>Belfast</td>\n",
       "      <td>1810863</td>\n",
       "      <td>1876695.0</td>\n",
       "    </tr>\n",
       "    <tr>\n",
       "      <th>Scotland</th>\n",
       "      <td>77933</td>\n",
       "      <td>Edinburgh</td>\n",
       "      <td>5313600</td>\n",
       "      <td>5404700.0</td>\n",
       "    </tr>\n",
       "  </tbody>\n",
       "</table>\n",
       "</div>"
      ],
      "text/plain": [
       "                    area    capital  population 2011  population 2017\n",
       "England           130279     London         53012456       55268100.0\n",
       "Northern Ireland   14130    Belfast          1810863        1876695.0\n",
       "Scotland           77933  Edinburgh          5313600        5404700.0"
      ]
     },
     "execution_count": 51,
     "metadata": {},
     "output_type": "execute_result"
    }
   ],
   "source": [
    "data.dropna()"
   ]
  },
  {
   "cell_type": "markdown",
   "metadata": {},
   "source": [
    "We lost the data for the Isle of Man, despite the fact that it has data for 2011.\n",
    "Instead we can drop the incomplete columns."
   ]
  },
  {
   "cell_type": "code",
   "execution_count": 52,
   "metadata": {},
   "outputs": [
    {
     "data": {
      "text/html": [
       "<div>\n",
       "<style scoped>\n",
       "    .dataframe tbody tr th:only-of-type {\n",
       "        vertical-align: middle;\n",
       "    }\n",
       "\n",
       "    .dataframe tbody tr th {\n",
       "        vertical-align: top;\n",
       "    }\n",
       "\n",
       "    .dataframe thead th {\n",
       "        text-align: right;\n",
       "    }\n",
       "</style>\n",
       "<table border=\"1\" class=\"dataframe\">\n",
       "  <thead>\n",
       "    <tr style=\"text-align: right;\">\n",
       "      <th></th>\n",
       "      <th>area</th>\n",
       "      <th>capital</th>\n",
       "      <th>population 2011</th>\n",
       "    </tr>\n",
       "  </thead>\n",
       "  <tbody>\n",
       "    <tr>\n",
       "      <th>England</th>\n",
       "      <td>130279</td>\n",
       "      <td>London</td>\n",
       "      <td>53012456</td>\n",
       "    </tr>\n",
       "    <tr>\n",
       "      <th>Isle of Man</th>\n",
       "      <td>572</td>\n",
       "      <td>Douglas</td>\n",
       "      <td>83314</td>\n",
       "    </tr>\n",
       "    <tr>\n",
       "      <th>Northern Ireland</th>\n",
       "      <td>14130</td>\n",
       "      <td>Belfast</td>\n",
       "      <td>1810863</td>\n",
       "    </tr>\n",
       "    <tr>\n",
       "      <th>Scotland</th>\n",
       "      <td>77933</td>\n",
       "      <td>Edinburgh</td>\n",
       "      <td>5313600</td>\n",
       "    </tr>\n",
       "    <tr>\n",
       "      <th>Wales</th>\n",
       "      <td>20779</td>\n",
       "      <td>Cardiff</td>\n",
       "      <td>3063456</td>\n",
       "    </tr>\n",
       "  </tbody>\n",
       "</table>\n",
       "</div>"
      ],
      "text/plain": [
       "                    area    capital  population 2011\n",
       "England           130279     London         53012456\n",
       "Isle of Man          572    Douglas            83314\n",
       "Northern Ireland   14130    Belfast          1810863\n",
       "Scotland           77933  Edinburgh          5313600\n",
       "Wales              20779    Cardiff          3063456"
      ]
     },
     "execution_count": 52,
     "metadata": {},
     "output_type": "execute_result"
    }
   ],
   "source": [
    "data.dropna(axis='columns')"
   ]
  },
  {
   "cell_type": "markdown",
   "metadata": {},
   "source": [
    "That's better.\n",
    "\n",
    "Instead of `NumPy`s `axis=0` and `axis=1`,\n",
    "in `pandas` one can use `axis='index'` and `axis='columns'`.\n",
    "That is, most of the time,\n",
    "some `pandas` functions do accept `axis='row'` and `axis='col'`, beware."
   ]
  },
  {
   "cell_type": "markdown",
   "metadata": {},
   "source": [
    "Filling NaNs can be performed in three different ways:\n",
    "we can provide a value into `fillna` to substitute the NaNs for (e.g. `.fillna(0)`); or we can use\n",
    "the `method=` argument to use a predefined way of filling the NaNs from the data itself.  The `method=`\n",
    "can be either `pad`/`ffill` which will fill each NaN with a previous (non-NaN) value seen; or it can be\n",
    "`backfill`/`bfill` which will fill a NaN from the next value.\n",
    "Filling can be performed column or row wise."
   ]
  },
  {
   "cell_type": "code",
   "execution_count": 53,
   "metadata": {},
   "outputs": [
    {
     "data": {
      "text/html": [
       "<div>\n",
       "<style scoped>\n",
       "    .dataframe tbody tr th:only-of-type {\n",
       "        vertical-align: middle;\n",
       "    }\n",
       "\n",
       "    .dataframe tbody tr th {\n",
       "        vertical-align: top;\n",
       "    }\n",
       "\n",
       "    .dataframe thead th {\n",
       "        text-align: right;\n",
       "    }\n",
       "</style>\n",
       "<table border=\"1\" class=\"dataframe\">\n",
       "  <thead>\n",
       "    <tr style=\"text-align: right;\">\n",
       "      <th></th>\n",
       "      <th>area</th>\n",
       "      <th>capital</th>\n",
       "      <th>population 2011</th>\n",
       "      <th>population 2017</th>\n",
       "    </tr>\n",
       "  </thead>\n",
       "  <tbody>\n",
       "    <tr>\n",
       "      <th>England</th>\n",
       "      <td>130279</td>\n",
       "      <td>London</td>\n",
       "      <td>53012456</td>\n",
       "      <td>5.52681e+07</td>\n",
       "    </tr>\n",
       "    <tr>\n",
       "      <th>Isle of Man</th>\n",
       "      <td>572</td>\n",
       "      <td>Douglas</td>\n",
       "      <td>83314</td>\n",
       "      <td>83314</td>\n",
       "    </tr>\n",
       "    <tr>\n",
       "      <th>Northern Ireland</th>\n",
       "      <td>14130</td>\n",
       "      <td>Belfast</td>\n",
       "      <td>1810863</td>\n",
       "      <td>1.8767e+06</td>\n",
       "    </tr>\n",
       "    <tr>\n",
       "      <th>Scotland</th>\n",
       "      <td>77933</td>\n",
       "      <td>Edinburgh</td>\n",
       "      <td>5313600</td>\n",
       "      <td>5.4047e+06</td>\n",
       "    </tr>\n",
       "    <tr>\n",
       "      <th>Wales</th>\n",
       "      <td>20779</td>\n",
       "      <td>Cardiff</td>\n",
       "      <td>3063456</td>\n",
       "      <td>3063456</td>\n",
       "    </tr>\n",
       "  </tbody>\n",
       "</table>\n",
       "</div>"
      ],
      "text/plain": [
       "                    area    capital population 2011 population 2017\n",
       "England           130279     London        53012456     5.52681e+07\n",
       "Isle of Man          572    Douglas           83314           83314\n",
       "Northern Ireland   14130    Belfast         1810863      1.8767e+06\n",
       "Scotland           77933  Edinburgh         5313600      5.4047e+06\n",
       "Wales              20779    Cardiff         3063456         3063456"
      ]
     },
     "execution_count": 53,
     "metadata": {},
     "output_type": "execute_result"
    }
   ],
   "source": [
    "data_full = data.fillna(method='ffill', axis='columns')\n",
    "data_full"
   ]
  },
  {
   "cell_type": "markdown",
   "metadata": {},
   "source": [
    "That seems to have worked but not quite.\n",
    "The numbers look wrong.  We better check the data types."
   ]
  },
  {
   "cell_type": "code",
   "execution_count": 54,
   "metadata": {},
   "outputs": [
    {
     "data": {
      "text/plain": [
       "area               object\n",
       "capital            object\n",
       "population 2011    object\n",
       "population 2017    object\n",
       "dtype: object"
      ]
     },
     "execution_count": 54,
     "metadata": {},
     "output_type": "execute_result"
    }
   ],
   "source": [
    "data_full.dtypes"
   ]
  },
  {
   "cell_type": "markdown",
   "metadata": {},
   "source": [
    "Everything got converted to Python objects!\n",
    "That is the caveat of filling NaNs between columns, i.e. we lose data types.\n",
    "We can fix this with some pandas munging."
   ]
  },
  {
   "cell_type": "code",
   "execution_count": 55,
   "metadata": {},
   "outputs": [
    {
     "data": {
      "text/plain": [
       "area                 int64\n",
       "capital             object\n",
       "population 2011      int64\n",
       "population 2017    float64\n",
       "dtype: object"
      ]
     },
     "execution_count": 55,
     "metadata": {},
     "output_type": "execute_result"
    }
   ],
   "source": [
    "data_fixed = data_full.infer_objects()\n",
    "data_fixed.dtypes"
   ]
  },
  {
   "cell_type": "markdown",
   "metadata": {},
   "source": [
    "The assumption here is that we have enough memory to hold\n",
    "our entire dataset in memory whilst we convert the objects.\n",
    "It is an operation which may not be possible on big datasets.\n",
    "\n",
    "The `1.0` version of pandas adds another way to convert data types.\n",
    "In the following the conversion is better but at the time of writing\n",
    "several features of the use of `convert_types` may still undergo changes."
   ]
  },
  {
   "cell_type": "code",
   "execution_count": 56,
   "metadata": {},
   "outputs": [
    {
     "data": {
      "text/plain": [
       "area                Int64\n",
       "capital            string\n",
       "population 2011     Int64\n",
       "population 2017     Int64\n",
       "dtype: object"
      ]
     },
     "execution_count": 56,
     "metadata": {},
     "output_type": "execute_result"
    }
   ],
   "source": [
    "data_fixed = data_full.convert_dtypes()\n",
    "data_fixed.dtypes"
   ]
  },
  {
   "cell_type": "markdown",
   "metadata": {},
   "source": [
    "Whichever way we convert that appears to be good enough.\n",
    "\n",
    "But still, let's look whether the data in the joined frame is as correct\n",
    "as the data types suggest."
   ]
  },
  {
   "cell_type": "code",
   "execution_count": 57,
   "metadata": {},
   "outputs": [
    {
     "data": {
      "text/html": [
       "<div>\n",
       "<style scoped>\n",
       "    .dataframe tbody tr th:only-of-type {\n",
       "        vertical-align: middle;\n",
       "    }\n",
       "\n",
       "    .dataframe tbody tr th {\n",
       "        vertical-align: top;\n",
       "    }\n",
       "\n",
       "    .dataframe thead th {\n",
       "        text-align: right;\n",
       "    }\n",
       "</style>\n",
       "<table border=\"1\" class=\"dataframe\">\n",
       "  <thead>\n",
       "    <tr style=\"text-align: right;\">\n",
       "      <th></th>\n",
       "      <th>area</th>\n",
       "      <th>capital</th>\n",
       "      <th>population 2011</th>\n",
       "      <th>population 2017</th>\n",
       "    </tr>\n",
       "  </thead>\n",
       "  <tbody>\n",
       "    <tr>\n",
       "      <th>England</th>\n",
       "      <td>130279</td>\n",
       "      <td>London</td>\n",
       "      <td>53012456</td>\n",
       "      <td>55268100</td>\n",
       "    </tr>\n",
       "    <tr>\n",
       "      <th>Isle of Man</th>\n",
       "      <td>572</td>\n",
       "      <td>Douglas</td>\n",
       "      <td>83314</td>\n",
       "      <td>83314</td>\n",
       "    </tr>\n",
       "    <tr>\n",
       "      <th>Northern Ireland</th>\n",
       "      <td>14130</td>\n",
       "      <td>Belfast</td>\n",
       "      <td>1810863</td>\n",
       "      <td>1876695</td>\n",
       "    </tr>\n",
       "    <tr>\n",
       "      <th>Scotland</th>\n",
       "      <td>77933</td>\n",
       "      <td>Edinburgh</td>\n",
       "      <td>5313600</td>\n",
       "      <td>5404700</td>\n",
       "    </tr>\n",
       "    <tr>\n",
       "      <th>Wales</th>\n",
       "      <td>20779</td>\n",
       "      <td>Cardiff</td>\n",
       "      <td>3063456</td>\n",
       "      <td>3063456</td>\n",
       "    </tr>\n",
       "  </tbody>\n",
       "</table>\n",
       "</div>"
      ],
      "text/plain": [
       "                    area    capital  population 2011  population 2017\n",
       "England           130279     London         53012456         55268100\n",
       "Isle of Man          572    Douglas            83314            83314\n",
       "Northern Ireland   14130    Belfast          1810863          1876695\n",
       "Scotland           77933  Edinburgh          5313600          5404700\n",
       "Wales              20779    Cardiff          3063456          3063456"
      ]
     },
     "execution_count": 57,
     "metadata": {},
     "output_type": "execute_result"
    }
   ],
   "source": [
    "data_fixed"
   ]
  }
 ],
 "metadata": {
  "anaconda-cloud": {},
  "kernelspec": {
   "display_name": "Python 3",
   "language": "python",
   "name": "python3"
  },
  "language_info": {
   "codemirror_mode": {
    "name": "ipython",
    "version": 3
   },
   "file_extension": ".py",
   "mimetype": "text/x-python",
   "name": "python",
   "nbconvert_exporter": "python",
   "pygments_lexer": "ipython3",
   "version": "3.7.6"
  }
 },
 "nbformat": 4,
 "nbformat_minor": 4
}
