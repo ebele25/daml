{
 "cells": [
  {
   "cell_type": "markdown",
   "metadata": {},
   "source": [
    "# 04.01 Data Frames\n",
    "\n",
    "The `DataFrame` is just a collection of `Series` with a common index.\n",
    "It can be understood as a two-dimensional representation of data,\n",
    "similar to a spreadsheet.\n",
    "Contrary to a two dimensional `NumPy` array,\n",
    "**indexing a data frame with a single value produces the column** not the row.\n",
    "Yet, indexing it with two values produces the row and the column\n",
    "just like in a `NumPy` array."
   ]
  },
  {
   "cell_type": "markdown",
   "metadata": {},
   "source": [
    "Let's import the libraries until now."
   ]
  },
  {
   "cell_type": "code",
   "execution_count": 1,
   "metadata": {},
   "outputs": [],
   "source": [
    "import numpy as np\n",
    "import pandas as pd"
   ]
  },
  {
   "cell_type": "markdown",
   "metadata": {},
   "source": [
    "Constructing the data frame can be performed in several ways,\n",
    "below is the most common way of using a dictionary of arrays.\n",
    "Each dictionary key-value pair becomes a column (a `Series`).\n",
    "\n",
    "We add more data to our example on the British Isles.\n",
    "It is common to name a data frame as `df`."
   ]
  },
  {
   "cell_type": "code",
   "execution_count": 2,
   "metadata": {},
   "outputs": [
    {
     "data": {
      "text/html": [
       "<div>\n",
       "<style scoped>\n",
       "    .dataframe tbody tr th:only-of-type {\n",
       "        vertical-align: middle;\n",
       "    }\n",
       "\n",
       "    .dataframe tbody tr th {\n",
       "        vertical-align: top;\n",
       "    }\n",
       "\n",
       "    .dataframe thead th {\n",
       "        text-align: right;\n",
       "    }\n",
       "</style>\n",
       "<table border=\"1\" class=\"dataframe\">\n",
       "  <thead>\n",
       "    <tr style=\"text-align: right;\">\n",
       "      <th></th>\n",
       "      <th>capital</th>\n",
       "      <th>state</th>\n",
       "      <th>monarch</th>\n",
       "      <th>area</th>\n",
       "      <th>population 2001</th>\n",
       "      <th>population 2011</th>\n",
       "    </tr>\n",
       "  </thead>\n",
       "  <tbody>\n",
       "    <tr>\n",
       "      <th>Northern Ireland</th>\n",
       "      <td>Belfast</td>\n",
       "      <td>United Kingdom</td>\n",
       "      <td>Elizabeth II</td>\n",
       "      <td>14130</td>\n",
       "      <td>1686000.0</td>\n",
       "      <td>1811000.0</td>\n",
       "    </tr>\n",
       "    <tr>\n",
       "      <th>Scotland</th>\n",
       "      <td>Edinburgh</td>\n",
       "      <td>United Kingdom</td>\n",
       "      <td>Elizabeth II</td>\n",
       "      <td>77933</td>\n",
       "      <td>5064000.0</td>\n",
       "      <td>5281000.0</td>\n",
       "    </tr>\n",
       "    <tr>\n",
       "      <th>Wales</th>\n",
       "      <td>Cardiff</td>\n",
       "      <td>United Kingdom</td>\n",
       "      <td>Elizabeth II</td>\n",
       "      <td>20779</td>\n",
       "      <td>NaN</td>\n",
       "      <td>3057000.0</td>\n",
       "    </tr>\n",
       "    <tr>\n",
       "      <th>England</th>\n",
       "      <td>London</td>\n",
       "      <td>United Kingdom</td>\n",
       "      <td>Elizabeth II</td>\n",
       "      <td>130279</td>\n",
       "      <td>48650000.0</td>\n",
       "      <td>53010000.0</td>\n",
       "    </tr>\n",
       "    <tr>\n",
       "      <th>Isle of Man</th>\n",
       "      <td>Douglas</td>\n",
       "      <td>Isle of Man</td>\n",
       "      <td>Elizabeth II</td>\n",
       "      <td>572</td>\n",
       "      <td>77703.0</td>\n",
       "      <td>84886.0</td>\n",
       "    </tr>\n",
       "    <tr>\n",
       "      <th>Ireland</th>\n",
       "      <td>Dublin</td>\n",
       "      <td>Republic of Ireland</td>\n",
       "      <td>None</td>\n",
       "      <td>70273</td>\n",
       "      <td>NaN</td>\n",
       "      <td>4571000.0</td>\n",
       "    </tr>\n",
       "  </tbody>\n",
       "</table>\n",
       "</div>"
      ],
      "text/plain": [
       "                    capital                state       monarch    area  \\\n",
       "Northern Ireland    Belfast       United Kingdom  Elizabeth II   14130   \n",
       "Scotland          Edinburgh       United Kingdom  Elizabeth II   77933   \n",
       "Wales               Cardiff       United Kingdom  Elizabeth II   20779   \n",
       "England              London       United Kingdom  Elizabeth II  130279   \n",
       "Isle of Man         Douglas          Isle of Man  Elizabeth II     572   \n",
       "Ireland              Dublin  Republic of Ireland          None   70273   \n",
       "\n",
       "                  population 2001  population 2011  \n",
       "Northern Ireland        1686000.0        1811000.0  \n",
       "Scotland                5064000.0        5281000.0  \n",
       "Wales                         NaN        3057000.0  \n",
       "England                48650000.0       53010000.0  \n",
       "Isle of Man               77703.0          84886.0  \n",
       "Ireland                       NaN        4571000.0  "
      ]
     },
     "execution_count": 2,
     "metadata": {},
     "output_type": "execute_result"
    }
   ],
   "source": [
    "country = ['Northern Ireland', 'Scotland', 'Wales', 'England', 'Isle of Man', 'Ireland']\n",
    "capital = ['Belfast', 'Edinburgh', 'Cardiff', 'London', 'Douglas', 'Dublin']\n",
    "state = ['United Kingdom', 'United Kingdom', 'United Kingdom',\n",
    "         'United Kingdom', 'Isle of Man', 'Republic of Ireland']\n",
    "monarch = ['Elizabeth II', 'Elizabeth II', 'Elizabeth II',\n",
    "           'Elizabeth II', 'Elizabeth II', None]\n",
    "area = np.array([14130, 77933, 20779, 130279, 572, 70273])\n",
    "population2001 = [1.686e6, 5.064e6,  np.nan, 48.65e6, 77.703e3,  np.nan]\n",
    "population2011 = [1.811e6, 5.281e6, 3.057e6, 53.01e6, 84.886e3, 4.571e6]\n",
    "df = pd.DataFrame({'capital': capital,\n",
    "                   'state': state,\n",
    "                   'monarch': monarch,\n",
    "                   'area': area,\n",
    "                   'population 2001': population2001,\n",
    "                   'population 2011': population2011,\n",
    "                  },\n",
    "                  index=country)\n",
    "df"
   ]
  },
  {
   "cell_type": "markdown",
   "metadata": {},
   "source": [
    "The underlying `NumPy` arrays can be concatenated\n",
    "and returned using `.values`.\n",
    "Note however that since we have different data types,\n",
    "the NumPy array will have the `dtype=object`,\n",
    "meaning an array of Python objects.\n",
    "A memory inefficient representation."
   ]
  },
  {
   "cell_type": "code",
   "execution_count": 3,
   "metadata": {},
   "outputs": [
    {
     "data": {
      "text/plain": [
       "array([['Belfast', 'United Kingdom', 'Elizabeth II', 14130, 1686000.0,\n",
       "        1811000.0],\n",
       "       ['Edinburgh', 'United Kingdom', 'Elizabeth II', 77933, 5064000.0,\n",
       "        5281000.0],\n",
       "       ['Cardiff', 'United Kingdom', 'Elizabeth II', 20779, nan,\n",
       "        3057000.0],\n",
       "       ['London', 'United Kingdom', 'Elizabeth II', 130279, 48650000.0,\n",
       "        53010000.0],\n",
       "       ['Douglas', 'Isle of Man', 'Elizabeth II', 572, 77703.0, 84886.0],\n",
       "       ['Dublin', 'Republic of Ireland', None, 70273, nan, 4571000.0]],\n",
       "      dtype=object)"
      ]
     },
     "execution_count": 3,
     "metadata": {},
     "output_type": "execute_result"
    }
   ],
   "source": [
    "array = df.values\n",
    "array"
   ]
  },
  {
   "cell_type": "markdown",
   "metadata": {},
   "source": [
    "Since the `NumPy` array can only hold one data type.\n",
    "The array casted every data type to a Python object.\n",
    "In reality `NumPy` arrays support compound data types\n",
    "but these are considerably more complicated to use the data frames.\n",
    "\n",
    "We have the same data in `NumPy` and `pandas`, and we can index it.\n",
    "In `NumPy` a plain index produces a *row*."
   ]
  },
  {
   "cell_type": "code",
   "execution_count": 4,
   "metadata": {},
   "outputs": [
    {
     "data": {
      "text/plain": [
       "array(['Belfast', 'United Kingdom', 'Elizabeth II', 14130, 1686000.0,\n",
       "       1811000.0], dtype=object)"
      ]
     },
     "execution_count": 4,
     "metadata": {},
     "output_type": "execute_result"
    }
   ],
   "source": [
    "array[0]"
   ]
  },
  {
   "cell_type": "markdown",
   "metadata": {},
   "source": [
    "Where in `pandas` a single index produces a *column*."
   ]
  },
  {
   "cell_type": "code",
   "execution_count": 5,
   "metadata": {},
   "outputs": [
    {
     "data": {
      "text/plain": [
       "Northern Ireland     14130\n",
       "Scotland             77933\n",
       "Wales                20779\n",
       "England             130279\n",
       "Isle of Man            572\n",
       "Ireland              70273\n",
       "Name: area, dtype: int64"
      ]
     },
     "execution_count": 5,
     "metadata": {},
     "output_type": "execute_result"
    }
   ],
   "source": [
    "df['area']"
   ]
  },
  {
   "cell_type": "markdown",
   "metadata": {},
   "source": [
    "Yet, there is a twist.\n",
    "Using the implicit index (`.iloc`) produces the same behavior as `NumPy`."
   ]
  },
  {
   "cell_type": "code",
   "execution_count": 6,
   "metadata": {},
   "outputs": [
    {
     "data": {
      "text/plain": [
       "capital                   Belfast\n",
       "state              United Kingdom\n",
       "monarch              Elizabeth II\n",
       "area                        14130\n",
       "population 2001         1.686e+06\n",
       "population 2011         1.811e+06\n",
       "Name: Northern Ireland, dtype: object"
      ]
     },
     "execution_count": 6,
     "metadata": {},
     "output_type": "execute_result"
    }
   ],
   "source": [
    "df.iloc[0]"
   ]
  },
  {
   "cell_type": "markdown",
   "metadata": {},
   "source": [
    "Columns with simple names can be accessed as attributes."
   ]
  },
  {
   "cell_type": "code",
   "execution_count": 7,
   "metadata": {},
   "outputs": [
    {
     "data": {
      "text/plain": [
       "Northern Ireland     14130\n",
       "Scotland             77933\n",
       "Wales                20779\n",
       "England             130279\n",
       "Isle of Man            572\n",
       "Ireland              70273\n",
       "Name: area, dtype: int64"
      ]
     },
     "execution_count": 7,
     "metadata": {},
     "output_type": "execute_result"
    }
   ],
   "source": [
    "df.area"
   ]
  },
  {
   "cell_type": "markdown",
   "metadata": {},
   "source": [
    "Finally, multi-indexing works in the same way as `NumPy`:\n",
    "One provides first the *row* and then the *column*.\n",
    "And slicing works too."
   ]
  },
  {
   "cell_type": "code",
   "execution_count": 8,
   "metadata": {},
   "outputs": [
    {
     "data": {
      "text/plain": [
       "capital            London\n",
       "state      United Kingdom\n",
       "monarch      Elizabeth II\n",
       "area               130279\n",
       "Name: England, dtype: object"
      ]
     },
     "execution_count": 8,
     "metadata": {},
     "output_type": "execute_result"
    }
   ],
   "source": [
    "df.loc['England', 'capital':'area']"
   ]
  },
  {
   "cell_type": "markdown",
   "metadata": {},
   "source": [
    "Since fancy indexing works, we can select columns and then take\n",
    "the underlying NumPy array with a single data type."
   ]
  },
  {
   "cell_type": "code",
   "execution_count": 9,
   "metadata": {},
   "outputs": [
    {
     "data": {
      "text/plain": [
       "(array([[1.41300e+04, 1.68600e+06, 1.81100e+06],\n",
       "        [7.79330e+04, 5.06400e+06, 5.28100e+06],\n",
       "        [2.07790e+04,         nan, 3.05700e+06],\n",
       "        [1.30279e+05, 4.86500e+07, 5.30100e+07],\n",
       "        [5.72000e+02, 7.77030e+04, 8.48860e+04],\n",
       "        [7.02730e+04,         nan, 4.57100e+06]]),\n",
       " dtype('float64'))"
      ]
     },
     "execution_count": 9,
     "metadata": {},
     "output_type": "execute_result"
    }
   ],
   "source": [
    "array = df[['area', 'population 2001', 'population 2011']].values\n",
    "array, array.dtype"
   ]
  },
  {
   "cell_type": "markdown",
   "metadata": {},
   "source": [
    "### Summarize\n",
    "\n",
    "Data frames have several useful methods to give a feel for the data.\n",
    "With a reasonable amount of data you'd rather not want thousands of rows to\n",
    "be printed.  What you want are methods to give you the data you are after quickly.\n",
    "\n",
    "For example, looking at the beginning or end of sorted values will show outliers.\n",
    "And in order to have sorted value we sort the index.\n",
    "In this case we do not sort it in place,\n",
    "although the final result is the same once we assign the variable back to itself."
   ]
  },
  {
   "cell_type": "code",
   "execution_count": 10,
   "metadata": {},
   "outputs": [
    {
     "data": {
      "text/html": [
       "<div>\n",
       "<style scoped>\n",
       "    .dataframe tbody tr th:only-of-type {\n",
       "        vertical-align: middle;\n",
       "    }\n",
       "\n",
       "    .dataframe tbody tr th {\n",
       "        vertical-align: top;\n",
       "    }\n",
       "\n",
       "    .dataframe thead th {\n",
       "        text-align: right;\n",
       "    }\n",
       "</style>\n",
       "<table border=\"1\" class=\"dataframe\">\n",
       "  <thead>\n",
       "    <tr style=\"text-align: right;\">\n",
       "      <th></th>\n",
       "      <th>capital</th>\n",
       "      <th>state</th>\n",
       "      <th>monarch</th>\n",
       "      <th>area</th>\n",
       "      <th>population 2001</th>\n",
       "      <th>population 2011</th>\n",
       "    </tr>\n",
       "  </thead>\n",
       "  <tbody>\n",
       "    <tr>\n",
       "      <th>England</th>\n",
       "      <td>London</td>\n",
       "      <td>United Kingdom</td>\n",
       "      <td>Elizabeth II</td>\n",
       "      <td>130279</td>\n",
       "      <td>48650000.0</td>\n",
       "      <td>53010000.0</td>\n",
       "    </tr>\n",
       "    <tr>\n",
       "      <th>Ireland</th>\n",
       "      <td>Dublin</td>\n",
       "      <td>Republic of Ireland</td>\n",
       "      <td>None</td>\n",
       "      <td>70273</td>\n",
       "      <td>NaN</td>\n",
       "      <td>4571000.0</td>\n",
       "    </tr>\n",
       "    <tr>\n",
       "      <th>Isle of Man</th>\n",
       "      <td>Douglas</td>\n",
       "      <td>Isle of Man</td>\n",
       "      <td>Elizabeth II</td>\n",
       "      <td>572</td>\n",
       "      <td>77703.0</td>\n",
       "      <td>84886.0</td>\n",
       "    </tr>\n",
       "    <tr>\n",
       "      <th>Northern Ireland</th>\n",
       "      <td>Belfast</td>\n",
       "      <td>United Kingdom</td>\n",
       "      <td>Elizabeth II</td>\n",
       "      <td>14130</td>\n",
       "      <td>1686000.0</td>\n",
       "      <td>1811000.0</td>\n",
       "    </tr>\n",
       "    <tr>\n",
       "      <th>Scotland</th>\n",
       "      <td>Edinburgh</td>\n",
       "      <td>United Kingdom</td>\n",
       "      <td>Elizabeth II</td>\n",
       "      <td>77933</td>\n",
       "      <td>5064000.0</td>\n",
       "      <td>5281000.0</td>\n",
       "    </tr>\n",
       "    <tr>\n",
       "      <th>Wales</th>\n",
       "      <td>Cardiff</td>\n",
       "      <td>United Kingdom</td>\n",
       "      <td>Elizabeth II</td>\n",
       "      <td>20779</td>\n",
       "      <td>NaN</td>\n",
       "      <td>3057000.0</td>\n",
       "    </tr>\n",
       "  </tbody>\n",
       "</table>\n",
       "</div>"
      ],
      "text/plain": [
       "                    capital                state       monarch    area  \\\n",
       "England              London       United Kingdom  Elizabeth II  130279   \n",
       "Ireland              Dublin  Republic of Ireland          None   70273   \n",
       "Isle of Man         Douglas          Isle of Man  Elizabeth II     572   \n",
       "Northern Ireland    Belfast       United Kingdom  Elizabeth II   14130   \n",
       "Scotland          Edinburgh       United Kingdom  Elizabeth II   77933   \n",
       "Wales               Cardiff       United Kingdom  Elizabeth II   20779   \n",
       "\n",
       "                  population 2001  population 2011  \n",
       "England                48650000.0       53010000.0  \n",
       "Ireland                       NaN        4571000.0  \n",
       "Isle of Man               77703.0          84886.0  \n",
       "Northern Ireland        1686000.0        1811000.0  \n",
       "Scotland                5064000.0        5281000.0  \n",
       "Wales                         NaN        3057000.0  "
      ]
     },
     "execution_count": 10,
     "metadata": {},
     "output_type": "execute_result"
    }
   ],
   "source": [
    "df = df.sort_index()\n",
    "df"
   ]
  },
  {
   "cell_type": "markdown",
   "metadata": {},
   "source": [
    "The index is sorted, Therefore we get the countries in alphabetical order."
   ]
  },
  {
   "cell_type": "code",
   "execution_count": 11,
   "metadata": {},
   "outputs": [
    {
     "data": {
      "text/html": [
       "<div>\n",
       "<style scoped>\n",
       "    .dataframe tbody tr th:only-of-type {\n",
       "        vertical-align: middle;\n",
       "    }\n",
       "\n",
       "    .dataframe tbody tr th {\n",
       "        vertical-align: top;\n",
       "    }\n",
       "\n",
       "    .dataframe thead th {\n",
       "        text-align: right;\n",
       "    }\n",
       "</style>\n",
       "<table border=\"1\" class=\"dataframe\">\n",
       "  <thead>\n",
       "    <tr style=\"text-align: right;\">\n",
       "      <th></th>\n",
       "      <th>capital</th>\n",
       "      <th>state</th>\n",
       "      <th>monarch</th>\n",
       "      <th>area</th>\n",
       "      <th>population 2001</th>\n",
       "      <th>population 2011</th>\n",
       "    </tr>\n",
       "  </thead>\n",
       "  <tbody>\n",
       "    <tr>\n",
       "      <th>England</th>\n",
       "      <td>London</td>\n",
       "      <td>United Kingdom</td>\n",
       "      <td>Elizabeth II</td>\n",
       "      <td>130279</td>\n",
       "      <td>48650000.0</td>\n",
       "      <td>53010000.0</td>\n",
       "    </tr>\n",
       "    <tr>\n",
       "      <th>Ireland</th>\n",
       "      <td>Dublin</td>\n",
       "      <td>Republic of Ireland</td>\n",
       "      <td>None</td>\n",
       "      <td>70273</td>\n",
       "      <td>NaN</td>\n",
       "      <td>4571000.0</td>\n",
       "    </tr>\n",
       "    <tr>\n",
       "      <th>Isle of Man</th>\n",
       "      <td>Douglas</td>\n",
       "      <td>Isle of Man</td>\n",
       "      <td>Elizabeth II</td>\n",
       "      <td>572</td>\n",
       "      <td>77703.0</td>\n",
       "      <td>84886.0</td>\n",
       "    </tr>\n",
       "  </tbody>\n",
       "</table>\n",
       "</div>"
      ],
      "text/plain": [
       "             capital                state       monarch    area  \\\n",
       "England       London       United Kingdom  Elizabeth II  130279   \n",
       "Ireland       Dublin  Republic of Ireland          None   70273   \n",
       "Isle of Man  Douglas          Isle of Man  Elizabeth II     572   \n",
       "\n",
       "             population 2001  population 2011  \n",
       "England           48650000.0       53010000.0  \n",
       "Ireland                  NaN        4571000.0  \n",
       "Isle of Man          77703.0          84886.0  "
      ]
     },
     "execution_count": 11,
     "metadata": {},
     "output_type": "execute_result"
    }
   ],
   "source": [
    "df.head(3)"
   ]
  },
  {
   "cell_type": "markdown",
   "metadata": {},
   "source": [
    "Sorted by area, should give us the biggest countries."
   ]
  },
  {
   "cell_type": "code",
   "execution_count": 12,
   "metadata": {},
   "outputs": [
    {
     "data": {
      "text/html": [
       "<div>\n",
       "<style scoped>\n",
       "    .dataframe tbody tr th:only-of-type {\n",
       "        vertical-align: middle;\n",
       "    }\n",
       "\n",
       "    .dataframe tbody tr th {\n",
       "        vertical-align: top;\n",
       "    }\n",
       "\n",
       "    .dataframe thead th {\n",
       "        text-align: right;\n",
       "    }\n",
       "</style>\n",
       "<table border=\"1\" class=\"dataframe\">\n",
       "  <thead>\n",
       "    <tr style=\"text-align: right;\">\n",
       "      <th></th>\n",
       "      <th>capital</th>\n",
       "      <th>state</th>\n",
       "      <th>monarch</th>\n",
       "      <th>area</th>\n",
       "      <th>population 2001</th>\n",
       "      <th>population 2011</th>\n",
       "    </tr>\n",
       "  </thead>\n",
       "  <tbody>\n",
       "    <tr>\n",
       "      <th>Ireland</th>\n",
       "      <td>Dublin</td>\n",
       "      <td>Republic of Ireland</td>\n",
       "      <td>None</td>\n",
       "      <td>70273</td>\n",
       "      <td>NaN</td>\n",
       "      <td>4571000.0</td>\n",
       "    </tr>\n",
       "    <tr>\n",
       "      <th>Scotland</th>\n",
       "      <td>Edinburgh</td>\n",
       "      <td>United Kingdom</td>\n",
       "      <td>Elizabeth II</td>\n",
       "      <td>77933</td>\n",
       "      <td>5064000.0</td>\n",
       "      <td>5281000.0</td>\n",
       "    </tr>\n",
       "    <tr>\n",
       "      <th>England</th>\n",
       "      <td>London</td>\n",
       "      <td>United Kingdom</td>\n",
       "      <td>Elizabeth II</td>\n",
       "      <td>130279</td>\n",
       "      <td>48650000.0</td>\n",
       "      <td>53010000.0</td>\n",
       "    </tr>\n",
       "  </tbody>\n",
       "</table>\n",
       "</div>"
      ],
      "text/plain": [
       "            capital                state       monarch    area  \\\n",
       "Ireland      Dublin  Republic of Ireland          None   70273   \n",
       "Scotland  Edinburgh       United Kingdom  Elizabeth II   77933   \n",
       "England      London       United Kingdom  Elizabeth II  130279   \n",
       "\n",
       "          population 2001  population 2011  \n",
       "Ireland               NaN        4571000.0  \n",
       "Scotland        5064000.0        5281000.0  \n",
       "England        48650000.0       53010000.0  "
      ]
     },
     "execution_count": 12,
     "metadata": {},
     "output_type": "execute_result"
    }
   ],
   "source": [
    "df.sort_values('area').tail(3)"
   ]
  },
  {
   "cell_type": "markdown",
   "metadata": {},
   "source": [
    "The length of a data frame is the number of rows it has."
   ]
  },
  {
   "cell_type": "code",
   "execution_count": 13,
   "metadata": {},
   "outputs": [
    {
     "data": {
      "text/plain": [
       "6"
      ]
     },
     "execution_count": 13,
     "metadata": {},
     "output_type": "execute_result"
    }
   ],
   "source": [
    "len(df)"
   ]
  },
  {
   "cell_type": "markdown",
   "metadata": {},
   "source": [
    "The `describe` and `info` methods print two distinct types of statistics about the data frame.\n",
    "One gives the statistical view of each column."
   ]
  },
  {
   "cell_type": "code",
   "execution_count": 14,
   "metadata": {},
   "outputs": [
    {
     "data": {
      "text/html": [
       "<div>\n",
       "<style scoped>\n",
       "    .dataframe tbody tr th:only-of-type {\n",
       "        vertical-align: middle;\n",
       "    }\n",
       "\n",
       "    .dataframe tbody tr th {\n",
       "        vertical-align: top;\n",
       "    }\n",
       "\n",
       "    .dataframe thead th {\n",
       "        text-align: right;\n",
       "    }\n",
       "</style>\n",
       "<table border=\"1\" class=\"dataframe\">\n",
       "  <thead>\n",
       "    <tr style=\"text-align: right;\">\n",
       "      <th></th>\n",
       "      <th>area</th>\n",
       "      <th>population 2001</th>\n",
       "      <th>population 2011</th>\n",
       "    </tr>\n",
       "  </thead>\n",
       "  <tbody>\n",
       "    <tr>\n",
       "      <th>count</th>\n",
       "      <td>6.000000</td>\n",
       "      <td>4.000000e+00</td>\n",
       "      <td>6.000000e+00</td>\n",
       "    </tr>\n",
       "    <tr>\n",
       "      <th>mean</th>\n",
       "      <td>52327.666667</td>\n",
       "      <td>1.386943e+07</td>\n",
       "      <td>1.130248e+07</td>\n",
       "    </tr>\n",
       "    <tr>\n",
       "      <th>std</th>\n",
       "      <td>49370.249324</td>\n",
       "      <td>2.327997e+07</td>\n",
       "      <td>2.051828e+07</td>\n",
       "    </tr>\n",
       "    <tr>\n",
       "      <th>min</th>\n",
       "      <td>572.000000</td>\n",
       "      <td>7.770300e+04</td>\n",
       "      <td>8.488600e+04</td>\n",
       "    </tr>\n",
       "    <tr>\n",
       "      <th>25%</th>\n",
       "      <td>15792.250000</td>\n",
       "      <td>1.283926e+06</td>\n",
       "      <td>2.122500e+06</td>\n",
       "    </tr>\n",
       "    <tr>\n",
       "      <th>50%</th>\n",
       "      <td>45526.000000</td>\n",
       "      <td>3.375000e+06</td>\n",
       "      <td>3.814000e+06</td>\n",
       "    </tr>\n",
       "    <tr>\n",
       "      <th>75%</th>\n",
       "      <td>76018.000000</td>\n",
       "      <td>1.596050e+07</td>\n",
       "      <td>5.103500e+06</td>\n",
       "    </tr>\n",
       "    <tr>\n",
       "      <th>max</th>\n",
       "      <td>130279.000000</td>\n",
       "      <td>4.865000e+07</td>\n",
       "      <td>5.301000e+07</td>\n",
       "    </tr>\n",
       "  </tbody>\n",
       "</table>\n",
       "</div>"
      ],
      "text/plain": [
       "                area  population 2001  population 2011\n",
       "count       6.000000     4.000000e+00     6.000000e+00\n",
       "mean    52327.666667     1.386943e+07     1.130248e+07\n",
       "std     49370.249324     2.327997e+07     2.051828e+07\n",
       "min       572.000000     7.770300e+04     8.488600e+04\n",
       "25%     15792.250000     1.283926e+06     2.122500e+06\n",
       "50%     45526.000000     3.375000e+06     3.814000e+06\n",
       "75%     76018.000000     1.596050e+07     5.103500e+06\n",
       "max    130279.000000     4.865000e+07     5.301000e+07"
      ]
     },
     "execution_count": 14,
     "metadata": {},
     "output_type": "execute_result"
    }
   ],
   "source": [
    "df.describe()"
   ]
  },
  {
   "cell_type": "markdown",
   "metadata": {},
   "source": [
    "And the other gives you a memory layout."
   ]
  },
  {
   "cell_type": "code",
   "execution_count": 15,
   "metadata": {},
   "outputs": [
    {
     "name": "stdout",
     "output_type": "stream",
     "text": [
      "<class 'pandas.core.frame.DataFrame'>\n",
      "Index: 6 entries, England to Wales\n",
      "Data columns (total 6 columns):\n",
      " #   Column           Non-Null Count  Dtype  \n",
      "---  ------           --------------  -----  \n",
      " 0   capital          6 non-null      object \n",
      " 1   state            6 non-null      object \n",
      " 2   monarch          5 non-null      object \n",
      " 3   area             6 non-null      int64  \n",
      " 4   population 2001  4 non-null      float64\n",
      " 5   population 2011  6 non-null      float64\n",
      "dtypes: float64(2), int64(1), object(3)\n",
      "memory usage: 336.0+ bytes\n"
     ]
    }
   ],
   "source": [
    "df.info()"
   ]
  },
  {
   "cell_type": "markdown",
   "metadata": {},
   "source": [
    "The data frame can also display plots (using `Matplotlib`) directly.\n",
    "That said, if we want to display the plots within the notebook or style them,\n",
    "we need to perform the `matplotlib` setup ourselves."
   ]
  },
  {
   "cell_type": "code",
   "execution_count": 16,
   "metadata": {},
   "outputs": [],
   "source": [
    "%matplotlib inline\n",
    "import matplotlib.pyplot as plt\n",
    "plt.style.use('seaborn-talk')"
   ]
  },
  {
   "cell_type": "markdown",
   "metadata": {},
   "source": [
    "We can see the population growth in a graph.\n",
    "\n",
    "Here `pandas` gives us a handle to the plot,\n",
    "which we then use to get better ticks on the vertical axis\n",
    "with `matplotlib` calls.\n",
    "One can get the tick values from the axis itself\n",
    "and then transform them into the labels of their liking."
   ]
  },
  {
   "cell_type": "code",
   "execution_count": 17,
   "metadata": {},
   "outputs": [
    {
     "data": {
      "image/png": "[encoded data removed]",
      "text/plain": [
       "<Figure size 1152x504 with 1 Axes>"
      ]
     },
     "metadata": {
      "needs_background": "light"
     },
     "output_type": "display_data"
    }
   ],
   "source": [
    "fig, ax = plt.subplots(figsize=(16, 7))\n",
    "plot = df[['population 2001', 'population 2011']].plot(kind='bar', ax=ax)\n",
    "ticks = ['%.0f M' % (x / 1e6) for x in plot.yaxis.get_majorticklocs()]\n",
    "plot.set_yticklabels(ticks);"
   ]
  },
  {
   "cell_type": "markdown",
   "metadata": {},
   "source": [
    "And, on a logarithmic scale, we can see the relation between area and population.\n",
    "\n",
    "Here we also use annotations, this is a `matplotlib` feature.\n",
    "It annotates the string (first argument) over a point on the graph\n",
    "(two coordinates - as a tuple, list or series)."
   ]
  },
  {
   "cell_type": "code",
   "execution_count": 18,
   "metadata": {},
   "outputs": [
    {
     "data": {
      "image/png": "[encoded data removed]",
      "text/plain": [
       "<Figure size 1152x648 with 1 Axes>"
      ]
     },
     "metadata": {
      "needs_background": "light"
     },
     "output_type": "display_data"
    }
   ],
   "source": [
    "fig, ax = plt.subplots(figsize=(16, 9))\n",
    "plot = df.plot(kind='scatter', x='population 2001', y='area', loglog=True, ax=ax)\n",
    "for k, v in df[['population 2001', 'area']].iterrows():\n",
    "    plot.axes.annotate(k, xy=v, xytext=(v[0], v[1]*1.2), ha='center', size=12)"
   ]
  },
  {
   "cell_type": "markdown",
   "metadata": {},
   "source": [
    "Do not be fooled that the population density is the same in all four countries is the same.\n",
    "Population density is population divided by area,\n",
    "and since we have a straight line on the graph we may be inclined to think\n",
    "that the population and are grow in the same fashion.\n",
    "That would be a lie, both graph axes are in logarithmic scales due to `loglog=True`,\n",
    "hence masking the real ratio between population and area.\n",
    "Lying with graphs and statistics is easy, don't fall prey to it.\n",
    "Plots in `pandas` give the convenience of doing the logarithms on the fly,\n",
    "there are also the options for `logx=` and `logy=` for finer control.\n",
    "\n",
    "Plotting with `pandas` is useful when one needs something quick and dirty to see the data.\n",
    "Yet in order to make a presentable graph,\n",
    "more often than not one will need to rely on `matplotlib`.\n",
    "Either by taking the data from the underlying NumPy array"
   ]
  },
  {
   "cell_type": "markdown",
   "metadata": {},
   "source": [
    "### Missing data\n",
    "\n",
    "More often than not real world data is incomplete in some way.\n",
    "Missing data is represented in several ways,\n",
    "numeric values often use NaN (Not a Number)\n",
    "which are actual IEEE 754 float standard NaNs.\n",
    "String values will sometimes use the Python `None` value,\n",
    "or sometime an empty string.\n",
    "One must be careful with empty strings because the `isnull`\n",
    "does not consider empty strings to be nulls.\n",
    "\n",
    "This also means that the data type of the array underlying\n",
    "a `Series` with missing data must be either a float or a Python object.\n",
    "For non-floating point data types NaNs become rather complicated.\n",
    "Several solutions have been attempted over the decades on how to handle NaN\n",
    "values, with varied degree of success.\n",
    "`pandas` attempts to use its own NaN solution, namely the value `pd.NA`.\n",
    "At the time of writing you are likely to encounter pandas\n",
    "versions using that as its default NaN treatment for some data types,\n",
    "whilst using the IEEE 754 standard for other data types.\n",
    "It is too early to argue which types will settle for which values\n",
    "for missing data, be wary.\n",
    "\n",
    "Let's look at a dataset where missing data is a natural occurrence.\n",
    "Different countries in the British Isles have different governing structures,\n",
    "for example counties do not exist in either Scotland or the Republic\n",
    "of Ireland.\n",
    "Moreover, the $2001$ census of the United Kingdom was not performed\n",
    "in the countries outside of the United Kingdom."
   ]
  },
  {
   "cell_type": "code",
   "execution_count": 19,
   "metadata": {},
   "outputs": [
    {
     "data": {
      "text/html": [
       "<div>\n",
       "<style scoped>\n",
       "    .dataframe tbody tr th:only-of-type {\n",
       "        vertical-align: middle;\n",
       "    }\n",
       "\n",
       "    .dataframe tbody tr th {\n",
       "        vertical-align: top;\n",
       "    }\n",
       "\n",
       "    .dataframe thead th {\n",
       "        text-align: right;\n",
       "    }\n",
       "</style>\n",
       "<table border=\"1\" class=\"dataframe\">\n",
       "  <thead>\n",
       "    <tr style=\"text-align: right;\">\n",
       "      <th></th>\n",
       "      <th>county</th>\n",
       "      <th>country</th>\n",
       "      <th>population 2001</th>\n",
       "      <th>population 2011</th>\n",
       "    </tr>\n",
       "  </thead>\n",
       "  <tbody>\n",
       "    <tr>\n",
       "      <th>Liverpool</th>\n",
       "      <td>Merseyside</td>\n",
       "      <td>England</td>\n",
       "      <td>435500.0</td>\n",
       "      <td>466400</td>\n",
       "    </tr>\n",
       "    <tr>\n",
       "      <th>Manchester</th>\n",
       "      <td>Greater Manchester</td>\n",
       "      <td>England</td>\n",
       "      <td>405300.0</td>\n",
       "      <td>503127</td>\n",
       "    </tr>\n",
       "    <tr>\n",
       "      <th>Cardiff</th>\n",
       "      <td>South Glamorgan</td>\n",
       "      <td>Wales</td>\n",
       "      <td>305353.0</td>\n",
       "      <td>335145</td>\n",
       "    </tr>\n",
       "    <tr>\n",
       "      <th>Swansea</th>\n",
       "      <td>West Glamorgan</td>\n",
       "      <td>Wales</td>\n",
       "      <td>270506.0</td>\n",
       "      <td>239023</td>\n",
       "    </tr>\n",
       "    <tr>\n",
       "      <th>Douglas</th>\n",
       "      <td>None</td>\n",
       "      <td>Isle of Man</td>\n",
       "      <td>NaN</td>\n",
       "      <td>27938</td>\n",
       "    </tr>\n",
       "    <tr>\n",
       "      <th>Belfast</th>\n",
       "      <td>County Antrim and County Down</td>\n",
       "      <td>Northern Ireland</td>\n",
       "      <td>276459.0</td>\n",
       "      <td>333871</td>\n",
       "    </tr>\n",
       "    <tr>\n",
       "      <th>Glasgow</th>\n",
       "      <td>None</td>\n",
       "      <td>Scotland</td>\n",
       "      <td>577869.0</td>\n",
       "      <td>593200</td>\n",
       "    </tr>\n",
       "    <tr>\n",
       "      <th>Edinburgh</th>\n",
       "      <td>None</td>\n",
       "      <td>Scotland</td>\n",
       "      <td>448624.0</td>\n",
       "      <td>476600</td>\n",
       "    </tr>\n",
       "    <tr>\n",
       "      <th>Dublin</th>\n",
       "      <td>None</td>\n",
       "      <td>Ireland</td>\n",
       "      <td>NaN</td>\n",
       "      <td>554550</td>\n",
       "    </tr>\n",
       "  </tbody>\n",
       "</table>\n",
       "</div>"
      ],
      "text/plain": [
       "                                   county           country  population 2001  \\\n",
       "Liverpool                      Merseyside           England         435500.0   \n",
       "Manchester             Greater Manchester           England         405300.0   \n",
       "Cardiff                   South Glamorgan             Wales         305353.0   \n",
       "Swansea                    West Glamorgan             Wales         270506.0   \n",
       "Douglas                              None       Isle of Man              NaN   \n",
       "Belfast     County Antrim and County Down  Northern Ireland         276459.0   \n",
       "Glasgow                              None          Scotland         577869.0   \n",
       "Edinburgh                            None          Scotland         448624.0   \n",
       "Dublin                               None           Ireland              NaN   \n",
       "\n",
       "            population 2011  \n",
       "Liverpool            466400  \n",
       "Manchester           503127  \n",
       "Cardiff              335145  \n",
       "Swansea              239023  \n",
       "Douglas               27938  \n",
       "Belfast              333871  \n",
       "Glasgow              593200  \n",
       "Edinburgh            476600  \n",
       "Dublin               554550  "
      ]
     },
     "execution_count": 19,
     "metadata": {},
     "output_type": "execute_result"
    }
   ],
   "source": [
    "city = ['Liverpool', 'Manchester', 'Cardiff',\n",
    "        'Swansea', 'Douglas', 'Belfast',\n",
    "        'Glasgow', 'Edinburgh', 'Dublin']\n",
    "country = ['England', 'England', 'Wales',\n",
    "           'Wales', 'Isle of Man',\n",
    "           'Northern Ireland', 'Scotland',\n",
    "           'Scotland', 'Ireland']\n",
    "county = ['Merseyside', 'Greater Manchester', 'South Glamorgan',\n",
    "          'West Glamorgan', None,  'County Antrim and County Down',\n",
    "          None, None, None]\n",
    "population2001 = [435500, 405300, 305353,\n",
    "                  270506, np.nan, 276459,\n",
    "                  577869, 448624, np.nan]\n",
    "population2011 = [466400, 503127, 335145,\n",
    "                  239023,  27938, 333871,\n",
    "                  593200, 476600, 554550]\n",
    "df = pd.DataFrame({'county': county,\n",
    "                   'country': country,\n",
    "                   'population 2001': population2001,\n",
    "                   'population 2011': population2011,\n",
    "                  },\n",
    "                  index=city)\n",
    "df"
   ]
  },
  {
   "cell_type": "markdown",
   "metadata": {},
   "source": [
    "`pandas` data frames have the `dropna` an `fillna` methods that\n",
    "(unsurprisingly) drop or fill in values for NaNs.\n",
    "Dropping can be done by row or column."
   ]
  },
  {
   "cell_type": "code",
   "execution_count": 20,
   "metadata": {},
   "outputs": [
    {
     "data": {
      "text/html": [
       "<div>\n",
       "<style scoped>\n",
       "    .dataframe tbody tr th:only-of-type {\n",
       "        vertical-align: middle;\n",
       "    }\n",
       "\n",
       "    .dataframe tbody tr th {\n",
       "        vertical-align: top;\n",
       "    }\n",
       "\n",
       "    .dataframe thead th {\n",
       "        text-align: right;\n",
       "    }\n",
       "</style>\n",
       "<table border=\"1\" class=\"dataframe\">\n",
       "  <thead>\n",
       "    <tr style=\"text-align: right;\">\n",
       "      <th></th>\n",
       "      <th>county</th>\n",
       "      <th>country</th>\n",
       "      <th>population 2001</th>\n",
       "      <th>population 2011</th>\n",
       "    </tr>\n",
       "  </thead>\n",
       "  <tbody>\n",
       "    <tr>\n",
       "      <th>Liverpool</th>\n",
       "      <td>Merseyside</td>\n",
       "      <td>England</td>\n",
       "      <td>435500.0</td>\n",
       "      <td>466400</td>\n",
       "    </tr>\n",
       "    <tr>\n",
       "      <th>Manchester</th>\n",
       "      <td>Greater Manchester</td>\n",
       "      <td>England</td>\n",
       "      <td>405300.0</td>\n",
       "      <td>503127</td>\n",
       "    </tr>\n",
       "    <tr>\n",
       "      <th>Cardiff</th>\n",
       "      <td>South Glamorgan</td>\n",
       "      <td>Wales</td>\n",
       "      <td>305353.0</td>\n",
       "      <td>335145</td>\n",
       "    </tr>\n",
       "    <tr>\n",
       "      <th>Swansea</th>\n",
       "      <td>West Glamorgan</td>\n",
       "      <td>Wales</td>\n",
       "      <td>270506.0</td>\n",
       "      <td>239023</td>\n",
       "    </tr>\n",
       "    <tr>\n",
       "      <th>Belfast</th>\n",
       "      <td>County Antrim and County Down</td>\n",
       "      <td>Northern Ireland</td>\n",
       "      <td>276459.0</td>\n",
       "      <td>333871</td>\n",
       "    </tr>\n",
       "  </tbody>\n",
       "</table>\n",
       "</div>"
      ],
      "text/plain": [
       "                                   county           country  population 2001  \\\n",
       "Liverpool                      Merseyside           England         435500.0   \n",
       "Manchester             Greater Manchester           England         405300.0   \n",
       "Cardiff                   South Glamorgan             Wales         305353.0   \n",
       "Swansea                    West Glamorgan             Wales         270506.0   \n",
       "Belfast     County Antrim and County Down  Northern Ireland         276459.0   \n",
       "\n",
       "            population 2011  \n",
       "Liverpool            466400  \n",
       "Manchester           503127  \n",
       "Cardiff              335145  \n",
       "Swansea              239023  \n",
       "Belfast              333871  "
      ]
     },
     "execution_count": 20,
     "metadata": {},
     "output_type": "execute_result"
    }
   ],
   "source": [
    "df.dropna(axis='rows')"
   ]
  },
  {
   "cell_type": "markdown",
   "metadata": {},
   "source": [
    "We lost the data for the Isle of Man, despite the fact that it has data for 2011.\n",
    "Instead we can drop the incomplete columns."
   ]
  },
  {
   "cell_type": "code",
   "execution_count": 21,
   "metadata": {},
   "outputs": [
    {
     "data": {
      "text/html": [
       "<div>\n",
       "<style scoped>\n",
       "    .dataframe tbody tr th:only-of-type {\n",
       "        vertical-align: middle;\n",
       "    }\n",
       "\n",
       "    .dataframe tbody tr th {\n",
       "        vertical-align: top;\n",
       "    }\n",
       "\n",
       "    .dataframe thead th {\n",
       "        text-align: right;\n",
       "    }\n",
       "</style>\n",
       "<table border=\"1\" class=\"dataframe\">\n",
       "  <thead>\n",
       "    <tr style=\"text-align: right;\">\n",
       "      <th></th>\n",
       "      <th>country</th>\n",
       "      <th>population 2011</th>\n",
       "    </tr>\n",
       "  </thead>\n",
       "  <tbody>\n",
       "    <tr>\n",
       "      <th>Liverpool</th>\n",
       "      <td>England</td>\n",
       "      <td>466400</td>\n",
       "    </tr>\n",
       "    <tr>\n",
       "      <th>Manchester</th>\n",
       "      <td>England</td>\n",
       "      <td>503127</td>\n",
       "    </tr>\n",
       "    <tr>\n",
       "      <th>Cardiff</th>\n",
       "      <td>Wales</td>\n",
       "      <td>335145</td>\n",
       "    </tr>\n",
       "    <tr>\n",
       "      <th>Swansea</th>\n",
       "      <td>Wales</td>\n",
       "      <td>239023</td>\n",
       "    </tr>\n",
       "    <tr>\n",
       "      <th>Douglas</th>\n",
       "      <td>Isle of Man</td>\n",
       "      <td>27938</td>\n",
       "    </tr>\n",
       "    <tr>\n",
       "      <th>Belfast</th>\n",
       "      <td>Northern Ireland</td>\n",
       "      <td>333871</td>\n",
       "    </tr>\n",
       "    <tr>\n",
       "      <th>Glasgow</th>\n",
       "      <td>Scotland</td>\n",
       "      <td>593200</td>\n",
       "    </tr>\n",
       "    <tr>\n",
       "      <th>Edinburgh</th>\n",
       "      <td>Scotland</td>\n",
       "      <td>476600</td>\n",
       "    </tr>\n",
       "    <tr>\n",
       "      <th>Dublin</th>\n",
       "      <td>Ireland</td>\n",
       "      <td>554550</td>\n",
       "    </tr>\n",
       "  </tbody>\n",
       "</table>\n",
       "</div>"
      ],
      "text/plain": [
       "                     country  population 2011\n",
       "Liverpool            England           466400\n",
       "Manchester           England           503127\n",
       "Cardiff                Wales           335145\n",
       "Swansea                Wales           239023\n",
       "Douglas          Isle of Man            27938\n",
       "Belfast     Northern Ireland           333871\n",
       "Glasgow             Scotland           593200\n",
       "Edinburgh           Scotland           476600\n",
       "Dublin               Ireland           554550"
      ]
     },
     "execution_count": 21,
     "metadata": {},
     "output_type": "execute_result"
    }
   ],
   "source": [
    "df.dropna(axis='columns')"
   ]
  },
  {
   "cell_type": "markdown",
   "metadata": {},
   "source": [
    "That's better.  But we are still losing a lot of data.\n",
    "\n",
    "Also note that instead of `NumPy`s `axis=0` and `axis=1`,\n",
    "in `pandas` one can use `axis='index'` and `axis='columns'`.\n",
    "That is, most of the time,\n",
    "some `pandas` functions do accept `axis='row'` and `axis='col'`, beware."
   ]
  },
  {
   "cell_type": "markdown",
   "metadata": {},
   "source": [
    "Filling NaNs instead of losing entire rows and columns can be performed in three different ways:\n",
    "we can provide a value into `fillna` to substitute the NaNs for (e.g. `.fillna(0)`); or we can use\n",
    "the `method=` argument to use a predefined way of filling the NaNs from the data itself.\n",
    "The `method=`\n",
    "can be either `pad`/`ffill` which will fill each NaN with a previous (non-NaN) value seen; or it can be\n",
    "`backfill`/`bfill` which will fill a NaN from the next value.\n",
    "Filling can be performed column or row wise.\n",
    "But column wise filling is almost never used since columns can have different data types."
   ]
  },
  {
   "cell_type": "code",
   "execution_count": 22,
   "metadata": {},
   "outputs": [
    {
     "data": {
      "text/html": [
       "<div>\n",
       "<style scoped>\n",
       "    .dataframe tbody tr th:only-of-type {\n",
       "        vertical-align: middle;\n",
       "    }\n",
       "\n",
       "    .dataframe tbody tr th {\n",
       "        vertical-align: top;\n",
       "    }\n",
       "\n",
       "    .dataframe thead th {\n",
       "        text-align: right;\n",
       "    }\n",
       "</style>\n",
       "<table border=\"1\" class=\"dataframe\">\n",
       "  <thead>\n",
       "    <tr style=\"text-align: right;\">\n",
       "      <th></th>\n",
       "      <th>county</th>\n",
       "      <th>country</th>\n",
       "      <th>population 2001</th>\n",
       "      <th>population 2011</th>\n",
       "    </tr>\n",
       "  </thead>\n",
       "  <tbody>\n",
       "    <tr>\n",
       "      <th>Liverpool</th>\n",
       "      <td>Merseyside</td>\n",
       "      <td>England</td>\n",
       "      <td>435500.0</td>\n",
       "      <td>466400</td>\n",
       "    </tr>\n",
       "    <tr>\n",
       "      <th>Manchester</th>\n",
       "      <td>Greater Manchester</td>\n",
       "      <td>England</td>\n",
       "      <td>405300.0</td>\n",
       "      <td>503127</td>\n",
       "    </tr>\n",
       "    <tr>\n",
       "      <th>Cardiff</th>\n",
       "      <td>South Glamorgan</td>\n",
       "      <td>Wales</td>\n",
       "      <td>305353.0</td>\n",
       "      <td>335145</td>\n",
       "    </tr>\n",
       "    <tr>\n",
       "      <th>Swansea</th>\n",
       "      <td>West Glamorgan</td>\n",
       "      <td>Wales</td>\n",
       "      <td>270506.0</td>\n",
       "      <td>239023</td>\n",
       "    </tr>\n",
       "    <tr>\n",
       "      <th>Douglas</th>\n",
       "      <td>West Glamorgan</td>\n",
       "      <td>Isle of Man</td>\n",
       "      <td>270506.0</td>\n",
       "      <td>27938</td>\n",
       "    </tr>\n",
       "    <tr>\n",
       "      <th>Belfast</th>\n",
       "      <td>County Antrim and County Down</td>\n",
       "      <td>Northern Ireland</td>\n",
       "      <td>276459.0</td>\n",
       "      <td>333871</td>\n",
       "    </tr>\n",
       "    <tr>\n",
       "      <th>Glasgow</th>\n",
       "      <td>County Antrim and County Down</td>\n",
       "      <td>Scotland</td>\n",
       "      <td>577869.0</td>\n",
       "      <td>593200</td>\n",
       "    </tr>\n",
       "    <tr>\n",
       "      <th>Edinburgh</th>\n",
       "      <td>County Antrim and County Down</td>\n",
       "      <td>Scotland</td>\n",
       "      <td>448624.0</td>\n",
       "      <td>476600</td>\n",
       "    </tr>\n",
       "    <tr>\n",
       "      <th>Dublin</th>\n",
       "      <td>County Antrim and County Down</td>\n",
       "      <td>Ireland</td>\n",
       "      <td>448624.0</td>\n",
       "      <td>554550</td>\n",
       "    </tr>\n",
       "  </tbody>\n",
       "</table>\n",
       "</div>"
      ],
      "text/plain": [
       "                                   county           country  population 2001  \\\n",
       "Liverpool                      Merseyside           England         435500.0   \n",
       "Manchester             Greater Manchester           England         405300.0   \n",
       "Cardiff                   South Glamorgan             Wales         305353.0   \n",
       "Swansea                    West Glamorgan             Wales         270506.0   \n",
       "Douglas                    West Glamorgan       Isle of Man         270506.0   \n",
       "Belfast     County Antrim and County Down  Northern Ireland         276459.0   \n",
       "Glasgow     County Antrim and County Down          Scotland         577869.0   \n",
       "Edinburgh   County Antrim and County Down          Scotland         448624.0   \n",
       "Dublin      County Antrim and County Down           Ireland         448624.0   \n",
       "\n",
       "            population 2011  \n",
       "Liverpool            466400  \n",
       "Manchester           503127  \n",
       "Cardiff              335145  \n",
       "Swansea              239023  \n",
       "Douglas               27938  \n",
       "Belfast              333871  \n",
       "Glasgow              593200  \n",
       "Edinburgh            476600  \n",
       "Dublin               554550  "
      ]
     },
     "execution_count": 22,
     "metadata": {},
     "output_type": "execute_result"
    }
   ],
   "source": [
    "df_fill = df.fillna(method='ffill', axis='index')\n",
    "df_fill"
   ]
  },
  {
   "cell_type": "markdown",
   "metadata": {},
   "source": [
    "That seems to have worked but not quite.\n",
    "Perhaps we should leave the missing data in the county column.\n",
    "One can assign columns directly by name."
   ]
  },
  {
   "cell_type": "code",
   "execution_count": 23,
   "metadata": {},
   "outputs": [
    {
     "data": {
      "text/html": [
       "<div>\n",
       "<style scoped>\n",
       "    .dataframe tbody tr th:only-of-type {\n",
       "        vertical-align: middle;\n",
       "    }\n",
       "\n",
       "    .dataframe tbody tr th {\n",
       "        vertical-align: top;\n",
       "    }\n",
       "\n",
       "    .dataframe thead th {\n",
       "        text-align: right;\n",
       "    }\n",
       "</style>\n",
       "<table border=\"1\" class=\"dataframe\">\n",
       "  <thead>\n",
       "    <tr style=\"text-align: right;\">\n",
       "      <th></th>\n",
       "      <th>county</th>\n",
       "      <th>country</th>\n",
       "      <th>population 2001</th>\n",
       "      <th>population 2011</th>\n",
       "    </tr>\n",
       "  </thead>\n",
       "  <tbody>\n",
       "    <tr>\n",
       "      <th>Liverpool</th>\n",
       "      <td>Merseyside</td>\n",
       "      <td>England</td>\n",
       "      <td>435500.0</td>\n",
       "      <td>466400</td>\n",
       "    </tr>\n",
       "    <tr>\n",
       "      <th>Manchester</th>\n",
       "      <td>Greater Manchester</td>\n",
       "      <td>England</td>\n",
       "      <td>405300.0</td>\n",
       "      <td>503127</td>\n",
       "    </tr>\n",
       "    <tr>\n",
       "      <th>Cardiff</th>\n",
       "      <td>South Glamorgan</td>\n",
       "      <td>Wales</td>\n",
       "      <td>305353.0</td>\n",
       "      <td>335145</td>\n",
       "    </tr>\n",
       "    <tr>\n",
       "      <th>Swansea</th>\n",
       "      <td>West Glamorgan</td>\n",
       "      <td>Wales</td>\n",
       "      <td>270506.0</td>\n",
       "      <td>239023</td>\n",
       "    </tr>\n",
       "    <tr>\n",
       "      <th>Douglas</th>\n",
       "      <td>None</td>\n",
       "      <td>Isle of Man</td>\n",
       "      <td>270506.0</td>\n",
       "      <td>27938</td>\n",
       "    </tr>\n",
       "    <tr>\n",
       "      <th>Belfast</th>\n",
       "      <td>County Antrim and County Down</td>\n",
       "      <td>Northern Ireland</td>\n",
       "      <td>276459.0</td>\n",
       "      <td>333871</td>\n",
       "    </tr>\n",
       "    <tr>\n",
       "      <th>Glasgow</th>\n",
       "      <td>None</td>\n",
       "      <td>Scotland</td>\n",
       "      <td>577869.0</td>\n",
       "      <td>593200</td>\n",
       "    </tr>\n",
       "    <tr>\n",
       "      <th>Edinburgh</th>\n",
       "      <td>None</td>\n",
       "      <td>Scotland</td>\n",
       "      <td>448624.0</td>\n",
       "      <td>476600</td>\n",
       "    </tr>\n",
       "    <tr>\n",
       "      <th>Dublin</th>\n",
       "      <td>None</td>\n",
       "      <td>Ireland</td>\n",
       "      <td>448624.0</td>\n",
       "      <td>554550</td>\n",
       "    </tr>\n",
       "  </tbody>\n",
       "</table>\n",
       "</div>"
      ],
      "text/plain": [
       "                                   county           country  population 2001  \\\n",
       "Liverpool                      Merseyside           England         435500.0   \n",
       "Manchester             Greater Manchester           England         405300.0   \n",
       "Cardiff                   South Glamorgan             Wales         305353.0   \n",
       "Swansea                    West Glamorgan             Wales         270506.0   \n",
       "Douglas                              None       Isle of Man         270506.0   \n",
       "Belfast     County Antrim and County Down  Northern Ireland         276459.0   \n",
       "Glasgow                              None          Scotland         577869.0   \n",
       "Edinburgh                            None          Scotland         448624.0   \n",
       "Dublin                               None           Ireland         448624.0   \n",
       "\n",
       "            population 2011  \n",
       "Liverpool            466400  \n",
       "Manchester           503127  \n",
       "Cardiff              335145  \n",
       "Swansea              239023  \n",
       "Douglas               27938  \n",
       "Belfast              333871  \n",
       "Glasgow              593200  \n",
       "Edinburgh            476600  \n",
       "Dublin               554550  "
      ]
     },
     "execution_count": 23,
     "metadata": {},
     "output_type": "execute_result"
    }
   ],
   "source": [
    "df_fill['county'] = df['county']\n",
    "df_fill"
   ]
  },
  {
   "cell_type": "markdown",
   "metadata": {},
   "source": [
    "Once again better but a handful of things still look off.\n",
    "The population for 2011 are integers whilst the population for 2001 are floats.\n",
    "This is because the population for 2001 did contain `np.nan` just a moment ago,\n",
    "and that can only be represented as a IEEE 754 float number.\n",
    "\n",
    "We can ask `pandas` to convert all values to a more common representation."
   ]
  },
  {
   "cell_type": "code",
   "execution_count": 24,
   "metadata": {},
   "outputs": [
    {
     "data": {
      "text/html": [
       "<div>\n",
       "<style scoped>\n",
       "    .dataframe tbody tr th:only-of-type {\n",
       "        vertical-align: middle;\n",
       "    }\n",
       "\n",
       "    .dataframe tbody tr th {\n",
       "        vertical-align: top;\n",
       "    }\n",
       "\n",
       "    .dataframe thead th {\n",
       "        text-align: right;\n",
       "    }\n",
       "</style>\n",
       "<table border=\"1\" class=\"dataframe\">\n",
       "  <thead>\n",
       "    <tr style=\"text-align: right;\">\n",
       "      <th></th>\n",
       "      <th>county</th>\n",
       "      <th>country</th>\n",
       "      <th>population 2001</th>\n",
       "      <th>population 2011</th>\n",
       "    </tr>\n",
       "  </thead>\n",
       "  <tbody>\n",
       "    <tr>\n",
       "      <th>Liverpool</th>\n",
       "      <td>Merseyside</td>\n",
       "      <td>England</td>\n",
       "      <td>435500</td>\n",
       "      <td>466400</td>\n",
       "    </tr>\n",
       "    <tr>\n",
       "      <th>Manchester</th>\n",
       "      <td>Greater Manchester</td>\n",
       "      <td>England</td>\n",
       "      <td>405300</td>\n",
       "      <td>503127</td>\n",
       "    </tr>\n",
       "    <tr>\n",
       "      <th>Cardiff</th>\n",
       "      <td>South Glamorgan</td>\n",
       "      <td>Wales</td>\n",
       "      <td>305353</td>\n",
       "      <td>335145</td>\n",
       "    </tr>\n",
       "    <tr>\n",
       "      <th>Swansea</th>\n",
       "      <td>West Glamorgan</td>\n",
       "      <td>Wales</td>\n",
       "      <td>270506</td>\n",
       "      <td>239023</td>\n",
       "    </tr>\n",
       "    <tr>\n",
       "      <th>Douglas</th>\n",
       "      <td>&lt;NA&gt;</td>\n",
       "      <td>Isle of Man</td>\n",
       "      <td>270506</td>\n",
       "      <td>27938</td>\n",
       "    </tr>\n",
       "    <tr>\n",
       "      <th>Belfast</th>\n",
       "      <td>County Antrim and County Down</td>\n",
       "      <td>Northern Ireland</td>\n",
       "      <td>276459</td>\n",
       "      <td>333871</td>\n",
       "    </tr>\n",
       "    <tr>\n",
       "      <th>Glasgow</th>\n",
       "      <td>&lt;NA&gt;</td>\n",
       "      <td>Scotland</td>\n",
       "      <td>577869</td>\n",
       "      <td>593200</td>\n",
       "    </tr>\n",
       "    <tr>\n",
       "      <th>Edinburgh</th>\n",
       "      <td>&lt;NA&gt;</td>\n",
       "      <td>Scotland</td>\n",
       "      <td>448624</td>\n",
       "      <td>476600</td>\n",
       "    </tr>\n",
       "    <tr>\n",
       "      <th>Dublin</th>\n",
       "      <td>&lt;NA&gt;</td>\n",
       "      <td>Ireland</td>\n",
       "      <td>448624</td>\n",
       "      <td>554550</td>\n",
       "    </tr>\n",
       "  </tbody>\n",
       "</table>\n",
       "</div>"
      ],
      "text/plain": [
       "                                   county           country  population 2001  \\\n",
       "Liverpool                      Merseyside           England           435500   \n",
       "Manchester             Greater Manchester           England           405300   \n",
       "Cardiff                   South Glamorgan             Wales           305353   \n",
       "Swansea                    West Glamorgan             Wales           270506   \n",
       "Douglas                              <NA>       Isle of Man           270506   \n",
       "Belfast     County Antrim and County Down  Northern Ireland           276459   \n",
       "Glasgow                              <NA>          Scotland           577869   \n",
       "Edinburgh                            <NA>          Scotland           448624   \n",
       "Dublin                               <NA>           Ireland           448624   \n",
       "\n",
       "            population 2011  \n",
       "Liverpool            466400  \n",
       "Manchester           503127  \n",
       "Cardiff              335145  \n",
       "Swansea              239023  \n",
       "Douglas               27938  \n",
       "Belfast              333871  \n",
       "Glasgow              593200  \n",
       "Edinburgh            476600  \n",
       "Dublin               554550  "
      ]
     },
     "execution_count": 24,
     "metadata": {},
     "output_type": "execute_result"
    }
   ],
   "source": [
    "df_fill = df_fill.convert_dtypes()\n",
    "df_fill"
   ]
  },
  {
   "cell_type": "markdown",
   "metadata": {},
   "source": [
    "The numbers look alright.\n",
    "\n",
    "But now the county column seems off.\n",
    "The representation of `<NA>` is the value `pd.NA`,\n",
    "a common missing value representation inside pandas.\n",
    "\n",
    "We said that we can index a data frame as a two dimensional NumPy array.\n",
    "Knowing that we can ask for the explicit index and verify\n",
    "that the `<NA>` in the county for Dublin is indeed `pd.NA`."
   ]
  },
  {
   "cell_type": "code",
   "execution_count": 25,
   "metadata": {},
   "outputs": [
    {
     "data": {
      "text/plain": [
       "True"
      ]
     },
     "execution_count": 25,
     "metadata": {},
     "output_type": "execute_result"
    }
   ],
   "source": [
    "df_fill.loc['Dublin', 'county'] is pd.NA"
   ]
  },
  {
   "cell_type": "markdown",
   "metadata": {},
   "source": [
    "### String methods\n",
    "\n",
    "Another extra feature that does not exist in `NumPy` arrays are methods that work\n",
    "on string content, just like Python string methods.  The `str` object of a `Series`\n",
    "(of a column of a data frame) is used to call string methods on each element, efficiently.\n",
    "The result is either a boolean `Series` that can then be used to retrieve rows from the data frame,\n",
    "or a new string `Series` modified by the operation."
   ]
  },
  {
   "cell_type": "code",
   "execution_count": 26,
   "metadata": {},
   "outputs": [
    {
     "data": {
      "text/plain": [
       "Liverpool      True\n",
       "Manchester     True\n",
       "Cardiff       False\n",
       "Swansea       False\n",
       "Douglas       False\n",
       "Belfast        True\n",
       "Glasgow        True\n",
       "Edinburgh      True\n",
       "Dublin         True\n",
       "Name: country, dtype: boolean"
      ]
     },
     "execution_count": 26,
     "metadata": {},
     "output_type": "execute_result"
    }
   ],
   "source": [
    "df_fill['country'].str.contains('land')"
   ]
  },
  {
   "cell_type": "markdown",
   "metadata": {},
   "source": [
    "Here we see the cities (the index) of countries which contain the string\n",
    "\"land\" in their names, Scot*land*, Eng*land* and both cases of Ire*land*.\n",
    "\n",
    "Several regular expression methods are supported as well.\n",
    "And just as with NumPy masking we can use the boolean data frames\n",
    "to index the original data frame.\n",
    "When masking a data frame the booleans are considered as rows."
   ]
  },
  {
   "cell_type": "code",
   "execution_count": 27,
   "metadata": {},
   "outputs": [
    {
     "data": {
      "text/html": [
       "<div>\n",
       "<style scoped>\n",
       "    .dataframe tbody tr th:only-of-type {\n",
       "        vertical-align: middle;\n",
       "    }\n",
       "\n",
       "    .dataframe tbody tr th {\n",
       "        vertical-align: top;\n",
       "    }\n",
       "\n",
       "    .dataframe thead th {\n",
       "        text-align: right;\n",
       "    }\n",
       "</style>\n",
       "<table border=\"1\" class=\"dataframe\">\n",
       "  <thead>\n",
       "    <tr style=\"text-align: right;\">\n",
       "      <th></th>\n",
       "      <th>county</th>\n",
       "      <th>country</th>\n",
       "      <th>population 2001</th>\n",
       "      <th>population 2011</th>\n",
       "    </tr>\n",
       "  </thead>\n",
       "  <tbody>\n",
       "    <tr>\n",
       "      <th>Cardiff</th>\n",
       "      <td>South Glamorgan</td>\n",
       "      <td>Wales</td>\n",
       "      <td>305353</td>\n",
       "      <td>335145</td>\n",
       "    </tr>\n",
       "    <tr>\n",
       "      <th>Swansea</th>\n",
       "      <td>West Glamorgan</td>\n",
       "      <td>Wales</td>\n",
       "      <td>270506</td>\n",
       "      <td>239023</td>\n",
       "    </tr>\n",
       "    <tr>\n",
       "      <th>Douglas</th>\n",
       "      <td>&lt;NA&gt;</td>\n",
       "      <td>Isle of Man</td>\n",
       "      <td>270506</td>\n",
       "      <td>27938</td>\n",
       "    </tr>\n",
       "    <tr>\n",
       "      <th>Belfast</th>\n",
       "      <td>County Antrim and County Down</td>\n",
       "      <td>Northern Ireland</td>\n",
       "      <td>276459</td>\n",
       "      <td>333871</td>\n",
       "    </tr>\n",
       "    <tr>\n",
       "      <th>Dublin</th>\n",
       "      <td>&lt;NA&gt;</td>\n",
       "      <td>Ireland</td>\n",
       "      <td>448624</td>\n",
       "      <td>554550</td>\n",
       "    </tr>\n",
       "  </tbody>\n",
       "</table>\n",
       "</div>"
      ],
      "text/plain": [
       "                                county           country  population 2001  \\\n",
       "Cardiff                South Glamorgan             Wales           305353   \n",
       "Swansea                 West Glamorgan             Wales           270506   \n",
       "Douglas                           <NA>       Isle of Man           270506   \n",
       "Belfast  County Antrim and County Down  Northern Ireland           276459   \n",
       "Dublin                            <NA>           Ireland           448624   \n",
       "\n",
       "         population 2011  \n",
       "Cardiff           335145  \n",
       "Swansea           239023  \n",
       "Douglas            27938  \n",
       "Belfast           333871  \n",
       "Dublin            554550  "
      ]
     },
     "execution_count": 27,
     "metadata": {},
     "output_type": "execute_result"
    }
   ],
   "source": [
    "df_fill[df_fill.country.str.contains('[re]')]"
   ]
  },
  {
   "cell_type": "markdown",
   "metadata": {},
   "source": [
    "We got all countries that have the *lowercase* letter \"r\"\n",
    "or the *lowercase* letter \"e\".\n",
    "Notably England is excluded because the search is case sensitive.\n",
    "Moreover, the search is using a regular expression, or regex for short."
   ]
  },
  {
   "cell_type": "markdown",
   "metadata": {},
   "source": [
    "### Regex crash course\n",
    "\n",
    "The purpose of regular expressions is to either match\n",
    "or not match strings or parts of strings.\n",
    "The string is matched character by character\n",
    "with some regex special characters forming expressions\n",
    "to match several possibilities at once.\n",
    "A simple character matches itself,\n",
    "whilst a regex expression can match a plethora of things.\n",
    "Some common regex expressions follow.\n",
    "\n",
    "| expression           | match                           |\n",
    "|:-------------------- |:------------------------------- |\n",
    "| `abc`                | exact match \"abc\"               |\n",
    "| `.`                  | any single character            |\n",
    "| `[abc]`              | one character cited             |\n",
    "| `[^abc]`             | one character NOT cited         |\n",
    "| `a*`                 | zero or more times \"a\"          |\n",
    "| `a+`                 | one or more times \"a\"           |\n",
    "| `a?`                 | zero or one times \"a\"           |\n",
    "| `\\w`                 | any word character              |\n",
    "| `\\W`                 | any not word character          |\n",
    "| `\\s`                 | any space character             |\n",
    "| `\\S`                 | any not space character         |\n",
    "| `(ab)`               | grouping                        |\n",
    "| `(ab)+`              | zero or more times entire match |\n",
    "| `\\1` or `$1`         | repeat grouped match            |\n",
    "\n",
    "Regular expressions can be complex, entire books have been written on them.\n",
    "But just a couple of minutes can get you started.\n",
    "For example:\n",
    "\n",
    "`[yzs][ao].*`\n",
    "\n",
    "Matches \"yay\", \"zoink\" and \"kazoom\" but does not match\n",
    "\"bang\", \"flush\" or \"slap\"."
   ]
  },
  {
   "cell_type": "markdown",
   "metadata": {},
   "source": [
    "![Comic Bat](pd-bat.svg)\n",
    "\n",
    "<div style=\"text-align:right;\"><sup>pd-bat.svg</sup></div>"
   ]
  },
  {
   "cell_type": "markdown",
   "metadata": {},
   "source": [
    "Several non-regex Python string functions are present too.\n",
    "And we can use the index as a search base as well."
   ]
  },
  {
   "cell_type": "code",
   "execution_count": 28,
   "metadata": {},
   "outputs": [
    {
     "data": {
      "text/html": [
       "<div>\n",
       "<style scoped>\n",
       "    .dataframe tbody tr th:only-of-type {\n",
       "        vertical-align: middle;\n",
       "    }\n",
       "\n",
       "    .dataframe tbody tr th {\n",
       "        vertical-align: top;\n",
       "    }\n",
       "\n",
       "    .dataframe thead th {\n",
       "        text-align: right;\n",
       "    }\n",
       "</style>\n",
       "<table border=\"1\" class=\"dataframe\">\n",
       "  <thead>\n",
       "    <tr style=\"text-align: right;\">\n",
       "      <th></th>\n",
       "      <th>county</th>\n",
       "      <th>country</th>\n",
       "      <th>population 2001</th>\n",
       "      <th>population 2011</th>\n",
       "    </tr>\n",
       "  </thead>\n",
       "  <tbody>\n",
       "    <tr>\n",
       "      <th>Liverpool</th>\n",
       "      <td>Merseyside</td>\n",
       "      <td>England</td>\n",
       "      <td>435500.0</td>\n",
       "      <td>466400</td>\n",
       "    </tr>\n",
       "  </tbody>\n",
       "</table>\n",
       "</div>"
      ],
      "text/plain": [
       "               county  country  population 2001  population 2011\n",
       "Liverpool  Merseyside  England         435500.0           466400"
      ]
     },
     "execution_count": 28,
     "metadata": {},
     "output_type": "execute_result"
    }
   ],
   "source": [
    "df[df.index.str.startswith('Liv')]"
   ]
  },
  {
   "cell_type": "markdown",
   "metadata": {},
   "source": [
    "Most string Python methods are available,\n",
    "including procedures that change the string instead\n",
    "of just returning boolean values.\n",
    "A changed `Series` is returned."
   ]
  },
  {
   "cell_type": "code",
   "execution_count": 29,
   "metadata": {},
   "outputs": [
    {
     "data": {
      "text/plain": [
       "Liverpool                        MERSEYSIDE\n",
       "Manchester               GREATER MANCHESTER\n",
       "Cardiff                     SOUTH GLAMORGAN\n",
       "Swansea                      WEST GLAMORGAN\n",
       "Douglas                                None\n",
       "Belfast       COUNTY ANTRIM AND COUNTY DOWN\n",
       "Glasgow                                None\n",
       "Edinburgh                              None\n",
       "Dublin                                 None\n",
       "Name: county, dtype: object"
      ]
     },
     "execution_count": 29,
     "metadata": {},
     "output_type": "execute_result"
    }
   ],
   "source": [
    "df['county'].str.upper()"
   ]
  },
  {
   "cell_type": "markdown",
   "metadata": {},
   "source": [
    "Note that this respects the missing data,\n",
    "although it may require extra work with data types.\n",
    "\n",
    "Often one does not want to modify the data in place,\n",
    "one wants to keep the data in its original form.\n",
    "Since the generated `Series` one can just assign the\n",
    "modified column as a new column\n",
    "For example, the first letter of the country."
   ]
  },
  {
   "cell_type": "code",
   "execution_count": 30,
   "metadata": {},
   "outputs": [
    {
     "data": {
      "text/html": [
       "<div>\n",
       "<style scoped>\n",
       "    .dataframe tbody tr th:only-of-type {\n",
       "        vertical-align: middle;\n",
       "    }\n",
       "\n",
       "    .dataframe tbody tr th {\n",
       "        vertical-align: top;\n",
       "    }\n",
       "\n",
       "    .dataframe thead th {\n",
       "        text-align: right;\n",
       "    }\n",
       "</style>\n",
       "<table border=\"1\" class=\"dataframe\">\n",
       "  <thead>\n",
       "    <tr style=\"text-align: right;\">\n",
       "      <th></th>\n",
       "      <th>county</th>\n",
       "      <th>country</th>\n",
       "      <th>population 2001</th>\n",
       "      <th>population 2011</th>\n",
       "      <th>initial</th>\n",
       "    </tr>\n",
       "  </thead>\n",
       "  <tbody>\n",
       "    <tr>\n",
       "      <th>Liverpool</th>\n",
       "      <td>Merseyside</td>\n",
       "      <td>England</td>\n",
       "      <td>435500.0</td>\n",
       "      <td>466400</td>\n",
       "      <td>E</td>\n",
       "    </tr>\n",
       "    <tr>\n",
       "      <th>Manchester</th>\n",
       "      <td>Greater Manchester</td>\n",
       "      <td>England</td>\n",
       "      <td>405300.0</td>\n",
       "      <td>503127</td>\n",
       "      <td>E</td>\n",
       "    </tr>\n",
       "    <tr>\n",
       "      <th>Cardiff</th>\n",
       "      <td>South Glamorgan</td>\n",
       "      <td>Wales</td>\n",
       "      <td>305353.0</td>\n",
       "      <td>335145</td>\n",
       "      <td>W</td>\n",
       "    </tr>\n",
       "    <tr>\n",
       "      <th>Swansea</th>\n",
       "      <td>West Glamorgan</td>\n",
       "      <td>Wales</td>\n",
       "      <td>270506.0</td>\n",
       "      <td>239023</td>\n",
       "      <td>W</td>\n",
       "    </tr>\n",
       "    <tr>\n",
       "      <th>Douglas</th>\n",
       "      <td>None</td>\n",
       "      <td>Isle of Man</td>\n",
       "      <td>NaN</td>\n",
       "      <td>27938</td>\n",
       "      <td>I</td>\n",
       "    </tr>\n",
       "    <tr>\n",
       "      <th>Belfast</th>\n",
       "      <td>County Antrim and County Down</td>\n",
       "      <td>Northern Ireland</td>\n",
       "      <td>276459.0</td>\n",
       "      <td>333871</td>\n",
       "      <td>N</td>\n",
       "    </tr>\n",
       "    <tr>\n",
       "      <th>Glasgow</th>\n",
       "      <td>None</td>\n",
       "      <td>Scotland</td>\n",
       "      <td>577869.0</td>\n",
       "      <td>593200</td>\n",
       "      <td>S</td>\n",
       "    </tr>\n",
       "    <tr>\n",
       "      <th>Edinburgh</th>\n",
       "      <td>None</td>\n",
       "      <td>Scotland</td>\n",
       "      <td>448624.0</td>\n",
       "      <td>476600</td>\n",
       "      <td>S</td>\n",
       "    </tr>\n",
       "    <tr>\n",
       "      <th>Dublin</th>\n",
       "      <td>None</td>\n",
       "      <td>Ireland</td>\n",
       "      <td>NaN</td>\n",
       "      <td>554550</td>\n",
       "      <td>I</td>\n",
       "    </tr>\n",
       "  </tbody>\n",
       "</table>\n",
       "</div>"
      ],
      "text/plain": [
       "                                   county           country  population 2001  \\\n",
       "Liverpool                      Merseyside           England         435500.0   \n",
       "Manchester             Greater Manchester           England         405300.0   \n",
       "Cardiff                   South Glamorgan             Wales         305353.0   \n",
       "Swansea                    West Glamorgan             Wales         270506.0   \n",
       "Douglas                              None       Isle of Man              NaN   \n",
       "Belfast     County Antrim and County Down  Northern Ireland         276459.0   \n",
       "Glasgow                              None          Scotland         577869.0   \n",
       "Edinburgh                            None          Scotland         448624.0   \n",
       "Dublin                               None           Ireland              NaN   \n",
       "\n",
       "            population 2011 initial  \n",
       "Liverpool            466400       E  \n",
       "Manchester           503127       E  \n",
       "Cardiff              335145       W  \n",
       "Swansea              239023       W  \n",
       "Douglas               27938       I  \n",
       "Belfast              333871       N  \n",
       "Glasgow              593200       S  \n",
       "Edinburgh            476600       S  \n",
       "Dublin               554550       I  "
      ]
     },
     "execution_count": 30,
     "metadata": {},
     "output_type": "execute_result"
    }
   ],
   "source": [
    "df['initial'] = df['country'].str[0].str.upper()\n",
    "df"
   ]
  },
  {
   "cell_type": "markdown",
   "metadata": {},
   "source": [
    "Note above that the `str` attribute has been used two times,\n",
    "the first use generated a `Series` and the second use\n",
    "of `str` has been on this second series.\n",
    "\n",
    "The indexing on the `str` worked the same way as\n",
    "indexing within Python strings."
   ]
  }
 ],
 "metadata": {
  "anaconda-cloud": {},
  "kernelspec": {
   "display_name": "Python 3",
   "language": "python",
   "name": "python3"
  },
  "language_info": {
   "codemirror_mode": {
    "name": "ipython",
    "version": 3
   },
   "file_extension": ".py",
   "mimetype": "text/x-python",
   "name": "python",
   "nbconvert_exporter": "python",
   "pygments_lexer": "ipython3",
   "version": "3.7.6"
  }
 },
 "nbformat": 4,
 "nbformat_minor": 4
}
