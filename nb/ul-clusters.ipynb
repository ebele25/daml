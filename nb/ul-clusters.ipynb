{
 "cells": [
  {
   "cell_type": "markdown",
   "metadata": {},
   "source": [
    "# 08.06 Evaluate Clusters\n",
    "\n",
    "One detail we left until about unsupervised learning is the evaluation\n",
    "of the model performance.\n",
    "In general evaluating unsupervised learning is much harder than\n",
    "supervised learning because we cannot simply take the labels\n",
    "and perform cross validation or use a test set.\n",
    "That being said, most evaluations for unsupervised learning\n",
    "do require labels to be known but cross validation or\n",
    "test sets often do not make sense in these evaluations."
   ]
  },
  {
   "cell_type": "markdown",
   "metadata": {},
   "source": [
    "![Handwritten](ul-write.svg)\n",
    "\n",
    "<div style=\"text-align:right;\"><sup>ul-write.svg</sup></div>"
   ]
  },
  {
   "cell_type": "markdown",
   "metadata": {},
   "source": [
    "We did see that the dataset of handwritten digits has non-linear patterns,\n",
    "hence it is quite a difficult problem for a technique that is linear.\n",
    "On the other hand, the digits dataset has a very known number of clusters:\n",
    "exactly $10$ clusters, the digits from $0$ to $9$.\n",
    "\n",
    "Hence we import the dataset loader and `MiniBatchKMeans`,\n",
    "a k-means implementation that is the de-facto standard for k-means use.\n",
    "Compared to our earlier implementation `MiniBatchKMeans` is optimized\n",
    "to work with enormous amounts of data,\n",
    "even with more data than the computer memory can hold.\n",
    "We also import the `metrics` module which we will use to evaluate\n",
    "the performance of our algorithm."
   ]
  },
  {
   "cell_type": "code",
   "execution_count": 1,
   "metadata": {},
   "outputs": [],
   "source": [
    "import numpy as np\n",
    "import matplotlib.pyplot as plt\n",
    "%matplotlib inline\n",
    "plt.style.use('seaborn-talk')\n",
    "from sklearn.cluster import MiniBatchKMeans\n",
    "from sklearn.datasets import load_digits\n",
    "from sklearn import metrics"
   ]
  },
  {
   "cell_type": "markdown",
   "metadata": {},
   "source": [
    "Without knowing of any labels k-means can deal with quite complex problems.\n",
    "Note that we known the labels for the digits dataset\n",
    "and we will indeed use the labels later for the evaluation.\n",
    "But we will not tell k-means about the labels."
   ]
  },
  {
   "cell_type": "code",
   "execution_count": 2,
   "metadata": {},
   "outputs": [
    {
     "data": {
      "text/plain": [
       "(1797, 64)"
      ]
     },
     "execution_count": 2,
     "metadata": {},
     "output_type": "execute_result"
    }
   ],
   "source": [
    "digits = load_digits()\n",
    "digits.data.shape"
   ]
  },
  {
   "cell_type": "markdown",
   "metadata": {},
   "source": [
    "One of the hyperparameters to `MiniBatchKMeans` is the number of clusters,\n",
    "which for the digits is easy to know.\n",
    "\n",
    "Let's see what k-means can take out of that data."
   ]
  },
  {
   "cell_type": "code",
   "execution_count": 3,
   "metadata": {},
   "outputs": [
    {
     "data": {
      "text/plain": [
       "(10, 64)"
      ]
     },
     "execution_count": 3,
     "metadata": {},
     "output_type": "execute_result"
    }
   ],
   "source": [
    "kmeans = MiniBatchKMeans(n_clusters=10)\n",
    "clusters = kmeans.fit_predict(digits.data)\n",
    "kmeans.cluster_centers_.shape"
   ]
  },
  {
   "cell_type": "markdown",
   "metadata": {},
   "source": [
    "We used `fit_predict`, which is similar to `fit_transform`.\n",
    "We have build the model (the `fit` part) and predicted the classes based\n",
    "on the cluster centers built by this model.\n",
    "Contrary to supervised learning,\n",
    "it is common to predict on the same data in unsupervised learning.\n",
    "This is because this way we can evaluate the model against other measures on the same data.\n",
    "It is worth to repeat this,\n",
    "in supervised learning predicting (and scoring) the same data that was used\n",
    "for training/fitting is *very* bad practice;\n",
    "in unsupervised learning it is *common* and good practice.\n",
    "\n",
    "The cluster centers are shaped just like the images we worked with.\n",
    "Since we are clustering in the same number of dimensions as the images.\n",
    "And we can build images from the cluster centers."
   ]
  },
  {
   "cell_type": "code",
   "execution_count": 4,
   "metadata": {},
   "outputs": [
    {
     "data": {
      "image/png": "[encoded data removed]",
      "text/plain": [
       "<Figure size 1152x432 with 10 Axes>"
      ]
     },
     "metadata": {
      "needs_background": "light"
     },
     "output_type": "display_data"
    }
   ],
   "source": [
    "fig, axes = plt.subplots(2, 5, figsize=(16, 6))\n",
    "centers = kmeans.cluster_centers_.reshape(10, 8, 8)\n",
    "for ax, center in zip(axes.flat, centers):\n",
    "    ax.imshow(center, cmap='binary')\n",
    "    ax.axis('off')"
   ]
  },
  {
   "cell_type": "markdown",
   "metadata": {},
   "source": [
    "These are *not* images of the digits from the dataset, there are cluster centers.\n",
    "Some of them look similar to known digits, others are harder to tell.\n",
    "I will argue that $0$ and $6$ are very visible in this case,\n",
    "we will see whether it translates to the evaluation later.\n",
    "Note that k-means starts from random centers,\n",
    "if you run this code yourself several times you will get different\n",
    "outputs but the cluster centers will look similar enough.\n",
    "\n",
    "Remember that `kmeans` was never told what labels these digits,\n",
    "it can only know that it should look for $10$ different digits in the data.\n",
    "Hence, in order in which we plotted the centers,\n",
    "k-means calls these clusters $0$, $1$, $2$, and so on.\n",
    "Whenever the cluster index align with the actual digit in the cluster is out of pure luck."
   ]
  },
  {
   "cell_type": "code",
   "execution_count": 5,
   "metadata": {},
   "outputs": [
    {
     "data": {
      "text/plain": [
       "((1797,), array([0, 1, 2, 3, 4, 5, 6, 7, 8, 9], dtype=int32))"
      ]
     },
     "execution_count": 5,
     "metadata": {},
     "output_type": "execute_result"
    }
   ],
   "source": [
    "clusters.shape, np.unique(clusters)"
   ]
  },
  {
   "cell_type": "markdown",
   "metadata": {},
   "source": [
    "The default k-means scoring is by **cluster inertia**,\n",
    "the sum of all distances form points to its cluster center.\n",
    "Where the higher the sum is the worse is the clustering.\n",
    "This allows to compare two k-means runs against each other.\n",
    "Notably, `sklearn` initializes k-means several times and then compares the inertia.\n",
    "\n",
    "But cluster inertia is not a good measure to compare\n",
    "k-means between datasets or against other models.\n",
    "Cluster inertia and other similar techniques (e.g. within cluster sum of squares)\n",
    "perform certain assumption about cluster shape\n",
    "and evaluate whether the resulting clusters follow that shape.\n",
    "The strongest assumption is that all clusters are round,\n",
    "i.e. have the same shape in every direction/dimension.\n",
    "In `sklearn` the inertia sum score is negated (made negative)\n",
    "so that the highest value is can achieve is zero,\n",
    "the perfect inertia score.\n",
    "This done by `sklearn` to such measures that are considered\n",
    "to be worse as they increase,\n",
    "it is made for consistency with positive scores.\n",
    "\n",
    "Comparing unsupervised algorithms between themselves is always a tricky area.\n",
    "Here we know the labels, therefore we can use better scoring techniques."
   ]
  },
  {
   "cell_type": "code",
   "execution_count": 6,
   "metadata": {},
   "outputs": [
    {
     "data": {
      "text/plain": [
       "(0.7341730320210946, 0.7314852717465042)"
      ]
     },
     "execution_count": 6,
     "metadata": {},
     "output_type": "execute_result"
    }
   ],
   "source": [
    "(metrics.v_measure_score(digits.target, clusters),\n",
    " metrics.adjusted_mutual_info_score(digits.target, clusters))"
   ]
  },
  {
   "cell_type": "markdown",
   "metadata": {},
   "source": [
    "Both the **v-measure** and **mutual information** are scoring techniques that\n",
    "require the knowledge of the labels.\n",
    "Yet, they work differently from F1 or accuracy scores.\n",
    "For example if we have a $3$ class dataset: ships, cars and planes and:\n",
    "\n",
    "- All cars are clustered together as planes,\n",
    "- all ships are clustered together as cars,\n",
    "- and all planes are clustered together as ships.\n",
    "\n",
    "The we have a perfect ($1.0$) score.\n",
    "In other words the scoring ignores the values of the labels,\n",
    "it only checks whether the labels are together in the same cluster."
   ]
  },
  {
   "cell_type": "markdown",
   "metadata": {},
   "source": [
    "For an algorithm that only knew that there are $10$ digits in the data but had\n",
    "no idea how they look like that is a pretty amazing score.\n",
    "Let's look at what got misclassified the most.\n",
    "\n",
    "A classification report would not give us a good visualization\n",
    "because it assumes that the same labels are classified as themselves.\n",
    "Instead we will build a confusion matrix,\n",
    "which gives us what labels were assigned to each set of other labels.\n",
    "We can then evaluate which classes the model is better at identifying,\n",
    "even without knowing which class should be identified as what.\n",
    "\n",
    "Note that we cannot give accurate ticks (labels) to the predicted values,\n",
    "we can only guess their value from the ticks on the data we know.\n",
    "The `confusion_matrix` procedure produces the matrix with the true labels,\n",
    "first arguments, as rows and the predicted labels, second argument,\n",
    "as the columns of the matrix.\n",
    "This order of arguments and matrix order is important to remember,\n",
    "it is easy to confuse oneself as to which are the true and which\n",
    "the predicted labels and end with a transposed matrix.\n",
    "That said, this order of matrix presentation is specific to `sklearn`,\n",
    "a confusion matrix produced by other libraries may\n",
    "produce a transposed version of the matrix."
   ]
  },
  {
   "cell_type": "code",
   "execution_count": 7,
   "metadata": {},
   "outputs": [
    {
     "data": {
      "text/plain": [
       "array([[  0, 176,   2,   0,   0,   0,   0,   0,   0,   0],\n",
       "       [  1,   0,   0,   0,   0, 126,   0,   0,  28,  27],\n",
       "       [  0,   1,   0,   3,   4,  10, 102,   0,   3,  54],\n",
       "       [  1,   0,   0,   7, 150,   4,   0,   0,  16,   5],\n",
       "       [  2,   0, 169,   5,   0,   5,   0,   0,   0,   0],\n",
       "       [140,   0,   1,   0,   0,   0,   0,   2,  39,   0],\n",
       "       [  0,   1,   0,   0,   0,   4,   0, 176,   0,   0],\n",
       "       [  5,   0,   0, 172,   0,   2,   0,   0,   0,   0],\n",
       "       [ 13,   0,   0,   3,   3,  88,   0,   0,  48,  19],\n",
       "       [  7,   0,   5,   7,   4,   1,   0,   0, 155,   1]])"
      ]
     },
     "execution_count": 7,
     "metadata": {},
     "output_type": "execute_result"
    },
    {
     "data": {
      "image/png": "[encoded data removed]",
      "text/plain": [
       "<Figure size 720x720 with 1 Axes>"
      ]
     },
     "metadata": {
      "needs_background": "light"
     },
     "output_type": "display_data"
    }
   ],
   "source": [
    "from sklearn.metrics import confusion_matrix\n",
    "\n",
    "mat = confusion_matrix(digits.target, clusters)\n",
    "fig, ax = plt.subplots(figsize=(10, 10))\n",
    "cax = ax.matshow(mat, cmap='summer')\n",
    "ticks = np.arange(0,10,1)\n",
    "ax.set_xticks(ticks)\n",
    "ax.set_yticks(ticks)\n",
    "ax.set_xticklabels(ticks)\n",
    "ax.set_yticklabels(ticks)\n",
    "ax.set_ylabel('true label')\n",
    "ax.set_xlabel('predicted label')\n",
    "ax.xaxis.set_ticks_position('bottom')\n",
    "\n",
    "for i in range(mat.shape[0]):\n",
    "    for j in range(mat.shape[1]):\n",
    "        ax.text(j, i, mat[i, j], ha='center', va='center')\n",
    "mat"
   ]
  },
  {
   "cell_type": "markdown",
   "metadata": {},
   "source": [
    "The `matshow` procedure works in the same way as `imshow`,\n",
    "give a matrix it colors the values a pixels (or squares).\n",
    "Note that showing images, or matrices in this case,\n",
    "reverses the vertical axis.\n",
    "The numbers on the vertical increase as they go downwards,\n",
    "this is contrary to normal plots.\n",
    "And thanks to this reversing of the vertical axis\n",
    "we needed to force the tick position (`set_ticks_position`)\n",
    "on the horizontal axis.\n",
    "\n",
    "As we noted before, every k-means run will produce a different\n",
    "matrix but the general patterns will be similar.\n",
    "In the specific case here we can argue that (first row)\n",
    "almost all zeros were assigned to the same cluster - cluster $1$.\n",
    "The ones are rather varied but most of them have been assigned\n",
    "to cluster $5$.\n",
    "And a similar analysis can be made for every row.\n",
    "\n",
    "Earlier we said that we have very good cluster centers for $0$ and $6$.\n",
    "And this is indeed true row $0$ and row $6$ - assigned to clusters\n",
    "$1$ and $7$ are almost all assigned to the same cluster each."
   ]
  },
  {
   "cell_type": "markdown",
   "metadata": {},
   "source": [
    "Often a confusion matrix is seen in the context of supervised learning,\n",
    "and eventually we will see one in this context.\n",
    "In supervised learning one argues that the main diagonal,\n",
    "form the top left to the bottom right should hold the biggest values.\n",
    "Here in unsupervised learning we do not know what the labels\n",
    "on the horizontal axis should be,\n",
    "hence that argument is not appropriate.\n",
    "\n",
    "Since we can assign the cluster centers any names we like\n",
    "we can move the columns of this matrix freely,\n",
    "and doing that we could achieve the majority of the big numbers\n",
    "in the main diagonal.\n",
    "But that is beyond the point of the confusion matrix,\n",
    "we use the matrix to check whether the clusters pick mostly the same digit.\n",
    "In other words, we are checking whether we have one big number\n",
    "per row and then just a few numbers that are not zero.\n",
    "A perfect clustering evaluation would have just a single\n",
    "number per column and per row.\n",
    "Whether such a perfect classification would work on new,\n",
    "previously unseen data, is a hard problem.\n",
    "But one can reasonably say that a good enough clustering\n",
    "would produce good enough generalization results.\n",
    "\n",
    "Now, given new data we can ask our k-means model in which cluster it lives.\n",
    "The model will tell us the label of the cluster,\n",
    "we then can look into the confusion matrix and say what that label\n",
    "maps to according to the true labels.\n",
    "For example, given a new image to which our k-means predicts $9$\n",
    "we can be rather confident that the image is of a $7$.\n",
    "This may be a lot of trouble to go through for a prediction that\n",
    "could be made directly with supervised learning\n",
    "but one must remember that k-means would still work if we had\n",
    "no labels at all or just a small handful of labels in our dataset.\n",
    "Contrary to a supervised learning algorithm."
   ]
  },
  {
   "cell_type": "markdown",
   "metadata": {},
   "source": [
    "# References\n",
    "\n",
    "[SciKit Learn - k-Means on Handwritten Digits][1]\n",
    "\n",
    "[1]: https://scikit-learn.org/stable/auto_examples/cluster/plot_kmeans_digits.html"
   ]
  }
 ],
 "metadata": {
  "anaconda-cloud": {},
  "kernelspec": {
   "display_name": "Python 3",
   "language": "python",
   "name": "python3"
  },
  "language_info": {
   "codemirror_mode": {
    "name": "ipython",
    "version": 3
   },
   "file_extension": ".py",
   "mimetype": "text/x-python",
   "name": "python",
   "nbconvert_exporter": "python",
   "pygments_lexer": "ipython3",
   "version": "3.7.6"
  }
 },
 "nbformat": 4,
 "nbformat_minor": 4
}
