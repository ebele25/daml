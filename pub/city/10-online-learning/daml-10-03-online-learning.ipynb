{
 "cells": [
  {
   "cell_type": "markdown",
   "metadata": {},
   "source": [
    "# 10.02 Online Learning\n",
    "\n",
    "There are different models that support online learning but the technique to change\n",
    "the model parameters during the learning - the optimizer - is almost always\n",
    "some variant on top of Gradient Descent (GD).\n",
    "The GD is a technique which attempts to find\n",
    "a minimal model error by walking through the function of model parameters.\n",
    "\n",
    "Imagine the GD technique as attempting to find the lowest place in a mountain\n",
    "range whilst blindfolded.\n",
    "With your feet you can sense whether the slope is going downwards or upwards,\n",
    "and you can walk downwards towards on the slope going down.\n",
    "You will not want to take too big steps or jump forward,\n",
    "first in order to not fall into a gorge but also in order to not miss\n",
    "a piece of slope going downwards into another direction.\n",
    "In such an endeavor one would perform very small steps,\n",
    "in the GD technique the small steps are the *learning rate*,\n",
    "which is a small number to multiply the steps with."
   ]
  },
  {
   "cell_type": "markdown",
   "metadata": {},
   "source": [
    "![Spruce-Fir Forest Cover](ol-forest-spruce-fir.svg)\n",
    "\n",
    "<div style=\"text-align:right;\"><sup>ol-forest-spruce-fir.svg</sup></div>"
   ]
  },
  {
   "cell_type": "markdown",
   "metadata": {},
   "source": [
    "We are not considering obstacles in the mountains, such as trees or rocks.\n",
    "Hence we will draw those instead of involving them in our GD analogy.\n",
    "Let's import the three dimensional plotting engine so we can visualize an example of GD."
   ]
  },
  {
   "cell_type": "code",
   "execution_count": null,
   "metadata": {},
   "outputs": [],
   "source": [
    "import numpy as np\n",
    "import matplotlib.pyplot as plt\n",
    "%matplotlib inline\n",
    "from mpl_toolkits import mplot3d\n",
    "plt.style.use('seaborn-talk')"
   ]
  },
  {
   "cell_type": "markdown",
   "metadata": {},
   "source": [
    "## Gradient Descent\n",
    "\n",
    "Imagine a model with two parameters (e.g. a regularized linear regression in two dimensions),\n",
    "for each combination of parameters we have some model error\n",
    "(misclassification or distance to regression line).\n",
    "The shape of such an **error function** is determined by the data to which we are fitting the model.\n",
    "To train a model means to find parameters for which the value of the error is low.\n",
    "Until now we just argue that an optimizer performs this task.\n",
    "Behind the scenes we have already used a variant of GD as an optimizer\n",
    "to train several models.\n",
    "\n",
    "In GD we initialize the parameters at random and calculate\n",
    "the gradient over this model error function.\n",
    "We will call this error function $E$ and the gradient for it then is.\n",
    "\n",
    "$$\n",
    "\\nabla E = \\frac{\\partial E}{\\partial w_1}\\hat{\\imath} + \\frac{\\partial E}{\\partial w_2}\\hat{\\jmath} + \\ldots\n",
    "$$\n",
    "\n",
    "i.e. it is the partial derivative against each function parameter, in two dimensions\n",
    "it is against two parameters only ($\\hat{\\imath}$ and $\\hat{\\jmath}$ are *versors*,\n",
    "they just say that the value exist only in a specific dimension -\n",
    "it saves space of writing a vector with zeros everywhere but one dimension).\n",
    "\n",
    "In more advanced variants of GD there are heuristics as to what values\n",
    "to start from but for our purposes.\n",
    "For example random values in the same magnitude of the mean and variance of the data."
   ]
  },
  {
   "cell_type": "markdown",
   "metadata": {},
   "source": [
    "![Lodgepole Pine Forest Cover](ol-forest-lodgepole-pine.svg)\n",
    "\n",
    "<div style=\"text-align:right;\"><sup>ol-forest-lodgepole-pine.svg</sup></div>"
   ]
  },
  {
   "cell_type": "markdown",
   "metadata": {},
   "source": [
    "The gradient tells us how a function varies around the current model parameters,\n",
    "its direction tells us in which direction lie worse (higher model error) parameters.\n",
    "It also means that in the *opposite direction* lie better (lower error) parameters.\n",
    "Yet, he gradient does not tell us *how far away these parameters lie*.\n",
    "The *learning rate* in online learning is the distance that we will move in the direction\n",
    "of lower model error.\n",
    "One can use the learning rate as the distance or as a scale of the distance\n",
    "given by the magnitude (length) of the gradient in a direction.\n",
    "Hence **we move this distance in the direction given by the opposite of the gradient direction**.\n",
    "This is one iteration of the algorithm.\n",
    "And after we move to those parameters we will look at the gradient\n",
    "again and repeat the procedure, until convergence (or maximum iterations) is reached."
   ]
  },
  {
   "cell_type": "markdown",
   "metadata": {},
   "source": [
    "Let's try to visualize such an error function and a GD algorithm.\n",
    "We will take a rather over-complex two dimensional function to be our model\n",
    "but in two dimensions we can at least visualize it.\n",
    "\n",
    "$$\n",
    "f(w_1, w_2) = 10 - 2 \\sin(w_1) - \\cos(w_2) - \\cos\\left( 2 w_2 - \\frac{\\pi}{10} \\right) - \\frac{w_1}{2}\n",
    "$$\n",
    "\n",
    "Here $f$ is the error function of a model with two weights (parameters) $w_1$ and $w_2$.\n",
    "The trigonometric functions ($\\sin$, $\\cos$) we will consider as the algorithm,\n",
    "and the values ($10$, $-2$, $-1$, $-1$, $2$, $\\frac{-\\pi}{10}$, $\\frac{-1}{2}$)\n",
    "we will consider as our data.\n",
    "We are only in two dimensions - corresponding to versors $\\hat{i}$, $\\hat{j}$ - hence\n",
    "we take the gradients as the two partial derivatives, one against each weight.\n",
    "\n",
    "$$\n",
    "\\frac{\\partial f}{\\partial w_1} = - 2 \\cos(x) - \\frac{1}{2} \\\\\n",
    "\\frac{\\partial f}{\\partial w_2} = \\sin(w_2) + 2 \\sin\\left( 2 w_2 - \\frac{pi}{10} \\right)\n",
    "$$\n",
    "\n",
    "Note how the values that we considered to be our data are still present in the partial derivatives.\n",
    "The error function shape is dependent on the data we train the algorithm with,\n",
    "so it should not be a surprise that the direction of the steps we take should,\n",
    "as well, be dependent on the data.\n",
    "\n",
    "We have everything to build an optimizer for this error function and in the\n",
    "process train our fictitious model.\n",
    "We start with random values for the weights: $w_1 = 5.5$ and $w_2 = 5.5$.\n",
    "These values have been chosen because they produce a good visualization,\n",
    "feel free to change them and see that the algorithm works for any values.\n",
    "Also we take a learning rate as $0.1$.\n",
    "The algorithm simply finds the gradient at the current point and steps\n",
    "the length of the gradient in the opposite direction scaled by the learning rate.\n",
    "Then repeat until convergence.\n",
    "\n",
    "Below we repeat the step of the algorithm $10$ times,\n",
    "in *for loop* to prove that there is no magic behind such an optimizer."
   ]
  },
  {
   "cell_type": "code",
   "execution_count": null,
   "metadata": {},
   "outputs": [],
   "source": [
    "w1 = np.linspace(0, 10, 64)\n",
    "w2 = np.linspace(0, 10, 64)\n",
    "w1, w2 = np.meshgrid(w1, w2)\n",
    "f = lambda x, y: 10 - 2*np.sin(x) - np.cos(y) - np.cos(2*y - np.pi/10) - 0.5*x\n",
    "dw1 = lambda x, y: - 2*np.cos(x) - 0.5\n",
    "dw2 = lambda x, y: np.sin(y) + 2*np.sin(2*y - np.pi/10)\n",
    "err = f(w1, w2).reshape(-1)\n",
    "\n",
    "fig = plt.figure(figsize=(16, 10))\n",
    "ax = fig.add_subplot(111, projection='3d')\n",
    "ax.scatter(w1, w2, err, c=err, cmap='plasma', alpha=.5)\n",
    "ax.set_zlim(0, 13)\n",
    "ax.set_zlabel('Model Error', fontsize=20, labelpad=10)\n",
    "ax.set_xlabel('$w_1$', fontsize=20, labelpad=15)\n",
    "ax.set_ylabel('$w_2$', fontsize=20, labelpad=15)\n",
    "\n",
    "lr = 0.1\n",
    "pw1, pw2 = 5.5, 5.5\n",
    "arrow_scale = 3\n",
    "for i in range(10):\n",
    "    perr, pdw1, pdw2 = f(pw1, pw2), pw1 - dw1(pw1, pw2)*lr, pw2 - dw2(pw1, pw2)*lr\n",
    "    pdz = perr - f(pdw1, pdw2)\n",
    "    print('{:.2f} {:.2f} -> {:.2f} {:.2f} E: {:.2f} (reduction {:.2f})'.format(\n",
    "        pw1, pw2, pdw1, pdw2, f(pdw1, pdz), pdz))\n",
    "    ax.scatter(pw1, pw2, perr, color='crimson', s=60)\n",
    "    ax.quiver(pw1, pw2, perr, arrow_scale*(pdw1-pw1), arrow_scale*(pdw2-pw2), 0, color='deeppink')\n",
    "    pw1, pw2 = pdw1, pdw2\n",
    "\n",
    "ax.view_init(elev=30., azim=30);"
   ]
  },
  {
   "cell_type": "markdown",
   "metadata": {},
   "source": [
    "The algorithm will converge towards the valley (a minimum of the error function)\n",
    "towards which the steepest descent was found along the way.\n",
    "Another name for this algorithm is indeed **steepest descent**.\n",
    "And also another name for the error function is the **cost function**.\n",
    "\n",
    "In the example we find a rather good solution in a valley with low minima.\n",
    "The final values for $w_1$ and $w_2$ can be read from the output.\n",
    "Depending on the selection of the initial point a different solution will be found\n",
    "since the algorithm, once it started descending into a valley it never leaves it.\n",
    "A small valley in a high place may leave the algorithm stuck.\n",
    "\n",
    "In this example we would be able to check for a stuck algorithm\n",
    "But in a real problem the surface will be a high dimensional hyperplane,\n",
    "since most machine learning models work in very high dimensions.\n",
    "Many tricks exist to try to prevent the algorithm from getting stuck in such\n",
    "a high valley in high dimensions: keep the value of previous gradients\n",
    "as *momentum* of the movement, adapt the learning rate based on changes\n",
    "in previous gradients magnitude, or sample the data used to construct\n",
    "the function at every iteration, among many, many others.\n",
    "\n",
    "Perhaps the most common technique to prevent getting stuck is to\n",
    "reduce the learning rate at each iteration and combine it with\n",
    "data sampling for the function.\n",
    "In other words instead of using all the data to construct the error function\n",
    "we randomly sample the data and perform an iteration with only a subsample.\n",
    "This produces a slightly different (but still very similar) error function at each iteration.\n",
    "The difference between functions are likely to smooth shallow valleys\n",
    "but leave the deep valleys rather untouched,\n",
    "hence the algorithm is likely to end at the bottom of a deep valley\n",
    "making for a low error in the model.\n",
    "We cal this technique *Stochastic Gradient Descent* (SGD).\n",
    "\n",
    "Whilst SGD only uses a subsample of the data,\n",
    "the decreasing learning rate allows for convergence despite the fact\n",
    "the error function keep changing.\n",
    "In `sklearn`'s implementation of SGD  he default learning rate starts at $1/\\alpha$,\n",
    "where $\\alpha$ is the constant multiplying an `L2` regularization term\n",
    "and defaults to a small value ($0.0001$ at the time of writing)."
   ]
  },
  {
   "cell_type": "markdown",
   "metadata": {},
   "source": [
    "### Do not Confuse the Functions\n",
    "\n",
    "Remember that the error/cost function we try to optimize is a completely\n",
    "different function from the model itself.\n",
    "GD and SGD are optimizers that can be used to optimize any function,\n",
    "in the case here we use them to optimize an error/cost function\n",
    "which is a combination of model function and data - including labels.\n",
    "\n",
    "For example the `Ridge` regression added an extra term to the function we tried to optimize,\n",
    "and that extra term allowed us for a better fit.\n",
    "The gradient descent optimizes the cost function but the model itself\n",
    "predicts values based on the actual fitted function (from the model parameters only).\n",
    "In other words, we have the function (e.g. classification) we are trying to optimize,\n",
    "and to find that we build and optimize a cost function,\n",
    "which is a completely different function."
   ]
  },
  {
   "cell_type": "markdown",
   "metadata": {},
   "source": [
    "## Gradient Vector Directions\n",
    "\n",
    "In summary, each parameter in the model is a dimension of the error/cost function,\n",
    "and the component of the gradient vector in that same dimension is an indicator of how\n",
    "the error changes if we change this specific parameter/weight.\n",
    "In other words the ratio of change (derivative) between error and parameter\n",
    "tells us in which direction a specific parameter should be updated to reach a smaller error.\n",
    "It is often written that instead of the gradient vector,\n",
    "what is used are *directed derivatives* in the direction of every parameter/weight.\n",
    "In reality there's no difference in anything but notation.\n",
    "\n",
    "$$\n",
    "\\nabla E \\times \\vec{u} = \\| \\nabla E \\|_2 \\| u \\|_2 \\cos \\theta\n",
    "$$\n",
    "\n",
    "One detail that was left hanging is that we said that the gradient points towards\n",
    "higher values of the function and accepted that as given truth.\n",
    "We should prove to ourselves that the gradient points towards higher values of a\n",
    "function and hence walking in the opposite direction will get us to lower values."
   ]
  },
  {
   "cell_type": "markdown",
   "metadata": {},
   "source": [
    "![Gradient Direction](ol-gradient-direction.svg)\n",
    "\n",
    "<div style=\"text-align:right;\"><sup>ol-gradient-direction.svg</sup></div>"
   ]
  },
  {
   "cell_type": "markdown",
   "metadata": {},
   "source": [
    "The derivative of sine ($\\sin$) is the cosine ($\\cos$) which we have drawn\n",
    "on a single dimensional input and output on a vertical axis.\n",
    "If we look at the sine function its gradient should always point toward higher values of it.\n",
    "And the cosine *is* its gradient.\n",
    "The direction in which the cosine point, in the same (horizontal) dimensions as the sine follows,\n",
    "is the sign of the cosine value.\n",
    "\n",
    "*Whenever the cosine is positive the gradient of sine points to the right,\n",
    "and whenever the cosine is negative the gradient of the sine points to the left.\n",
    "This is because the cosine is the gradient of the sine.*\n",
    "\n",
    "We can see the sine increases from $0$ to $\\frac{\\pi}{2}$.\n",
    "And cosine is positive in this region meaning that the gradient of sine\n",
    "points to the right towards the highest value of sine at $\\frac{\\pi}{2}$.\n",
    "From $\\frac{\\pi}{2}$ to $\\frac{3\\pi}{2}$ the sine decreases,\n",
    "the cosine is negative, and hence the gradient points left,\n",
    "back towards the value at $\\frac{\\pi}{2}$.\n",
    "After $\\frac{3\\pi}{2}$ the sine increases and the gradient\n",
    "points again towards the right.\n",
    "This continues over and over."
   ]
  }
 ],
 "metadata": {
  "anaconda-cloud": {},
  "kernelspec": {
   "display_name": "Python 3",
   "language": "python",
   "name": "python3"
  },
  "language_info": {
   "codemirror_mode": {
    "name": "ipython",
    "version": 3
   },
   "file_extension": ".py",
   "mimetype": "text/x-python",
   "name": "python",
   "nbconvert_exporter": "python",
   "pygments_lexer": "ipython3",
   "version": "3.7.6"
  }
 },
 "nbformat": 4,
 "nbformat_minor": 4
}
