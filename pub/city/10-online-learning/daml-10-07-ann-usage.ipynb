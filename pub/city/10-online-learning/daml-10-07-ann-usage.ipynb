{
 "cells": [
  {
   "cell_type": "markdown",
   "metadata": {},
   "source": [
    "# 10.06 ANN Usage\n",
    "\n",
    "Previously we saw a more-or-less real problem where we performed face identification with the LFW dataset.\n",
    "This is a quite complex dataset but has a good number of instances.\n",
    "A neural network has a chance of performing a good-enough classification."
   ]
  },
  {
   "cell_type": "markdown",
   "metadata": {},
   "source": [
    "![Masks](ol-masks.svg)\n",
    "\n",
    "<div style=\"text-align:right;\"><sup>ol-masks.svg</sup></div>"
   ]
  },
  {
   "cell_type": "markdown",
   "metadata": {},
   "source": [
    "We get the labeled faces in the wild dataset and many of the model\n",
    "evaluation tools we saw."
   ]
  },
  {
   "cell_type": "code",
   "execution_count": null,
   "metadata": {},
   "outputs": [],
   "source": [
    "import numpy as np\n",
    "import matplotlib.pyplot as plt\n",
    "%matplotlib inline\n",
    "plt.style.use('seaborn-talk')\n",
    "from sklearn.datasets import fetch_lfw_people\n",
    "from sklearn.decomposition import PCA\n",
    "from sklearn.model_selection import GridSearchCV, train_test_split\n",
    "from sklearn.metrics import confusion_matrix, classification_report\n",
    "from sklearn.neural_network import MLPClassifier\n",
    "faces = fetch_lfw_people(min_faces_per_person=50)\n",
    "faces.target_names"
   ]
  },
  {
   "cell_type": "markdown",
   "metadata": {},
   "source": [
    "To save computations - and time - we will perform PCA just once, on the full set.\n",
    "\n",
    "A complete procedure will need to be careful to not taint the PCA with the test set.\n",
    "NNs in `sklearn` are quite slow to train and a grid search will train many of them.\n",
    "We note that in a real world problem we'd need to do the PCA as part of the\n",
    "model selection but perform it on the full dataset to save presentation time."
   ]
  },
  {
   "cell_type": "code",
   "execution_count": null,
   "metadata": {},
   "outputs": [],
   "source": [
    "pca = PCA(n_components=128)\n",
    "faces_pca = pca.fit_transform(faces.data)\n",
    "xtrain, xtest, ytrain, ytest = train_test_split(faces_pca, faces.target, test_size=0.2)"
   ]
  },
  {
   "cell_type": "markdown",
   "metadata": {},
   "source": [
    "The hyperparameters are tuned on the training set only.\n",
    "This is the most important concept in ML, therefore we will keep repeating it.\n",
    "\n",
    "A NN has many hyperparameters to tune.\n",
    "Notably, the hidden layer sizes have an infinity of tunable possibilities\n",
    "as we can add and remove layers at will.\n",
    "We force the learning rate "
   ]
  },
  {
   "cell_type": "code",
   "execution_count": null,
   "metadata": {},
   "outputs": [],
   "source": [
    "net = MLPClassifier(hidden_layer_sizes=(300,), alpha=0.001,\n",
    "                    tol=0.01, max_iter=100, solver='sgd')\n",
    "param_dict = {\n",
    "    'alpha': [0.01, 0.1, 1.0],\n",
    "    'tol': [0.001, 0.01],\n",
    "}\n",
    "grid = GridSearchCV(net, param_dict, cv=5)\n",
    "grid.fit(xtrain, ytrain)\n",
    "grid.best_estimator_, grid.best_score_"
   ]
  },
  {
   "cell_type": "markdown",
   "metadata": {},
   "source": [
    "This is a reasonable network, with 300 neurons in the hidden layer.\n",
    "And the score is reasonable.\n",
    "But the full report is what we should look at."
   ]
  },
  {
   "cell_type": "code",
   "execution_count": null,
   "metadata": {},
   "outputs": [],
   "source": [
    "y_hat = grid.predict(xtest)\n",
    "print(classification_report(ytest, y_hat, target_names=faces.target_names))"
   ]
  },
  {
   "cell_type": "markdown",
   "metadata": {},
   "source": [
    "And the confusion matrix to understand misclassification."
   ]
  },
  {
   "cell_type": "code",
   "execution_count": null,
   "metadata": {},
   "outputs": [],
   "source": [
    "mat = confusion_matrix(ytest, y_hat)\n",
    "fig, ax = plt.subplots(figsize=(12, 12))\n",
    "cax = ax.matshow(mat, cmap='summer')\n",
    "ticks = np.arange(0,len(faces.target_names))\n",
    "ax.set_xticks(ticks)\n",
    "ax.set_yticks(ticks)\n",
    "ax.set_xticklabels(faces.target_names, rotation=45, ha='right')\n",
    "ax.set_yticklabels(faces.target_names, rotation=45, ha='right')\n",
    "ax.set_ylabel('true label')\n",
    "ax.set_xlabel('predicted label')\n",
    "ax.xaxis.set_ticks_position('bottom')\n",
    "\n",
    "for i in range(mat.shape[0]):\n",
    "    for j in range(mat.shape[1]):\n",
    "        ax.text(j, i, mat[i, j], ha='center', va='center')"
   ]
  },
  {
   "cell_type": "markdown",
   "metadata": {},
   "source": [
    "By now we are rather used to check the reportand the confusion matrix,\n",
    "for example, we can see the main diagonal forming in the confusion\n",
    "matrix as a good sign of classification performance.\n",
    "The NN performs reasonably and we did not even attempt to tune half\n",
    "of all its hyperparameters.\n",
    "That said, the number of hyperparameters is at the same time a strength\n",
    "and a weakness of NNs.\n",
    "SGD training uses a lot of randomness, and some hyperparameter tuning\n",
    "may react badly to randomness.\n",
    "\n",
    "Let's try to train networks of different sizes,\n",
    "i.e. using the number of neurons in the hidden layer as a tunable hyperparameter.\n",
    "We will train each size of the network twice,\n",
    "so we can be confident that certain scores are not due to chance.\n",
    "Several of these NNs may not converge within `max_iter=100` and give a warning.\n",
    "That is fine, we want to find out the differences in how these NNs may behave."
   ]
  },
  {
   "cell_type": "code",
   "execution_count": null,
   "metadata": {},
   "outputs": [],
   "source": [
    "sizes = [10, 30, 60, 100, 200, 300, 600, 900]\n",
    "scores1 = []\n",
    "scores2 = []\n",
    "for size in sizes:\n",
    "    for s in [scores1, scores2]:\n",
    "        print('Trianing net of size', size)\n",
    "        net = MLPClassifier(hidden_layer_sizes=(size,),\n",
    "                            alpha=0.001, max_iter=100, solver='sgd')\n",
    "        net.fit(xtrain, ytrain)\n",
    "        score = net.score(xtest, ytest)\n",
    "        s.append(score)"
   ]
  },
  {
   "cell_type": "markdown",
   "metadata": {},
   "source": [
    "And let's have a look how the scores of all these different networks look.\n",
    "This graph is likely to be quite different every time we retrain our\n",
    "set of NNs of different size."
   ]
  },
  {
   "cell_type": "code",
   "execution_count": null,
   "metadata": {},
   "outputs": [],
   "source": [
    "fig, ax = plt.subplots(figsize=(16, 7))\n",
    "ax.plot(sizes, scores1)\n",
    "ax.plot(sizes, scores2);"
   ]
  },
  {
   "cell_type": "markdown",
   "metadata": {},
   "source": [
    "There is a good deal of randomness in NN training but we can say that around 300\n",
    "neurons (perceptrons) in the hidden layer we reached some form of plateau in accuracy score.\n",
    "The number of neurons in a layer can be used as a hyperparameter alright,\n",
    "and should be tuned with a grid search.\n",
    "Different layers in the network may be tuned in size independently,\n",
    "the computational effort to train a network can be very big."
   ]
  }
 ],
 "metadata": {
  "anaconda-cloud": {},
  "kernelspec": {
   "display_name": "Python 3",
   "language": "python",
   "name": "python3"
  },
  "language_info": {
   "codemirror_mode": {
    "name": "ipython",
    "version": 3
   },
   "file_extension": ".py",
   "mimetype": "text/x-python",
   "name": "python",
   "nbconvert_exporter": "python",
   "pygments_lexer": "ipython3",
   "version": "3.7.6"
  }
 },
 "nbformat": 4,
 "nbformat_minor": 4
}
