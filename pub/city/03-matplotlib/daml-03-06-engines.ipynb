{
 "cells": [
  {
   "cell_type": "markdown",
   "metadata": {},
   "source": [
    "# 03.05 Plotting Engines\n",
    "\n",
    "We now know a good deal about making figures with `matpotlib`\n",
    "but there's, of course, much, much more.\n",
    "Two things that we did not yet touch are `matplotlib` interfaces outside of `jupyter`,\n",
    "and its interfaces to other libraries. "
   ]
  },
  {
   "cell_type": "markdown",
   "metadata": {},
   "source": [
    "![Engine](plt-engine.svg)\n",
    "\n",
    "<div style=\"text-align:right;\"><sup>plt-engine.svg</sup></div>"
   ]
  },
  {
   "cell_type": "markdown",
   "metadata": {},
   "source": [
    "Let's import `matplotlib` the normal `jupyter` way for now."
   ]
  },
  {
   "cell_type": "code",
   "execution_count": null,
   "metadata": {},
   "outputs": [],
   "source": [
    "import numpy as np\n",
    "import matplotlib.pyplot as plt\n",
    "%matplotlib inline"
   ]
  },
  {
   "cell_type": "markdown",
   "metadata": {},
   "source": [
    "## Styles\n",
    "\n",
    "One can use style-sheets with `matplotlib`,\n",
    "these style-sheets contain default configuration that alter the look and feel of all plots.\n",
    "Many higher level interfaces use style-sheets to integrate into `matplotlib`,\n",
    "to list the installed style-sheets we can perform the following.\n",
    "\n",
    "The styles with *talk* and *poster* in their names increase the size\n",
    "of all labels.  We will use some of these styles from here on\n",
    "in order to read graphs easier."
   ]
  },
  {
   "cell_type": "code",
   "execution_count": null,
   "metadata": {},
   "outputs": [],
   "source": [
    "plt.style.available"
   ]
  },
  {
   "cell_type": "markdown",
   "metadata": {},
   "source": [
    "And to enable one such style one would."
   ]
  },
  {
   "cell_type": "code",
   "execution_count": null,
   "metadata": {},
   "outputs": [],
   "source": [
    "plt.style.use('ggplot')"
   ]
  },
  {
   "cell_type": "markdown",
   "metadata": {},
   "source": [
    "Unfortunately applying a second style (i.e. changing styles) on the fly does not really work.\n",
    "The style-sheet changes `matplotlib` globals, which another style may not adapt.\n",
    "\n",
    "That said, one can use `plt.style.context` to enable a style for a small part of code.\n",
    "Or create one's own styles with [style sheets][style].\n",
    "\n",
    "[style]: https://matplotlib.org/users/style_sheets.html \"Style Sheets\"\n",
    "\n",
    "For now let's have a look at the style we applied:"
   ]
  },
  {
   "cell_type": "code",
   "execution_count": null,
   "metadata": {},
   "outputs": [],
   "source": [
    "fig, ax = plt.subplots(figsize=(14, 6))\n",
    "x = np.linspace(0, 2, 32)\n",
    "\n",
    "ax.plot(x, np.exp(x + 0.1), color='green')\n",
    "ax.plot(x, np.exp(x + 0.2), color='#fe11aa')\n",
    "ax.plot(x, np.exp(x + 0.3), color='crimson');"
   ]
  },
  {
   "cell_type": "markdown",
   "metadata": {},
   "source": [
    "This is quite different from the graphs we saw until now.\n",
    "One can experiment with styles before attempting to customize\n",
    "a graph to their liking."
   ]
  },
  {
   "cell_type": "markdown",
   "metadata": {},
   "source": [
    "## `show()`?\n",
    "\n",
    "In `matplotlib` code outside of `jupyter` the `show` function is almost always used.\n",
    "The `show` functions tells the `matplotlib` backed to actually draw and display the figure.\n",
    "Inside `jupyter` the `%matplotlib inline` magic does that for us automatically.\n",
    "(In reality `%matplotlib inline` saves the figure to memory, computes the base64\n",
    "representation of it and injects a `data:` URL into the notebook).\n",
    "Within IPython the `%matplotlib` magic functions similarly,\n",
    "it will generate, and update, an image everytime a plotting function is called.\n",
    "\n",
    "Yet, when we are not working interactively (Jupyter, IPython, or even something else)\n",
    "we do not always want to open a window with an image.\n",
    "For example, script that should generate graphs on disk on headless servers\n",
    "probably have no need to display the images (and that would fail anyway).\n",
    "The `show` function in scripts is an explicit way of telling `matplotlib`\n",
    "to actually draw and show the image.\n",
    "\n",
    "Yet note that `show` can only be called once in a script.\n",
    "It sets several global values in the backend display engine,\n",
    "and these values may not be optimal for all plots.\n",
    "(i.e. a second call to `show` may result in an ugly plot,\n",
    "or even a plain error.)"
   ]
  },
  {
   "cell_type": "markdown",
   "metadata": {},
   "source": [
    "For example to make a script showing an image one would do:\n",
    "\n",
    "```python\n",
    "import numpy as np\n",
    "import matplotlib.pyplot as plt\n",
    "\n",
    "x = np.linspace(0, 2, 128)\n",
    "\n",
    "fig, ax = plt.subplots(figsize=(30, 30))\n",
    "ax.plot(x, np.exp(x), '-.g')\n",
    "\n",
    "plt.show()\n",
    "```"
   ]
  },
  {
   "cell_type": "markdown",
   "metadata": {},
   "source": [
    "## Save the Graph\n",
    "\n",
    "If we do not want to `show` a graph we probably want to save it\n",
    "to a file - or send it over the network, or similar.\n",
    "The previous script can save the figure instead of displaying it:\n",
    "\n",
    "```python\n",
    "import numpy as np\n",
    "import matplotlib.pyplot as plt\n",
    "\n",
    "x = np.linspace(0, 2, 128)\n",
    "\n",
    "fig, ax = plt.subplots(figsize=(30, 30))\n",
    "ax.plot(x, np.exp(x), '-.g')\n",
    "\n",
    "fig.savefig('natural_exponent.png', dpi=300)\n",
    "```"
   ]
  },
  {
   "cell_type": "markdown",
   "metadata": {},
   "source": [
    "But we can save graphs from Jupyter too.\n",
    "We simply use `savefig` on the figure object.\n",
    "We saw that the default DPI (dots per inch) in Jupyter is around 72 DPI,\n",
    "that is good enough for display but certainly not good enough for printing.\n",
    "`savefig=` accepts a `dpi=` parameter to change the DPI to a value appropriate\n",
    "for the consuming application of the image.\n",
    "\n",
    "Note that the `%matplotlib inline` magic will still display the image."
   ]
  },
  {
   "cell_type": "code",
   "execution_count": null,
   "metadata": {},
   "outputs": [],
   "source": [
    "fig, ax = plt.subplots(figsize=(30, 30))\n",
    "x = np.linspace(0, 2, 128)\n",
    "ax.plot(x, np.exp(x), '-.g')\n",
    "fig.savefig('natural_exponent.png', dpi=300);"
   ]
  },
  {
   "cell_type": "markdown",
   "metadata": {},
   "source": [
    "PNG (Portable Network Graphics) is the default format in `matplotlib`\n",
    "but, by far, not the only one.\n",
    "Let's get the list of supported formats in our installation."
   ]
  },
  {
   "cell_type": "code",
   "execution_count": null,
   "metadata": {},
   "outputs": [],
   "source": [
    "fig.canvas.get_supported_filetypes()"
   ]
  },
  {
   "cell_type": "markdown",
   "metadata": {},
   "source": [
    "### Extra: current Working Directory in Jupyter\n",
    "\n",
    "OK, we apparently saved an image to disk but where it is?\n",
    "\n",
    "In Python all paths are understood in the UNIX fashion:\n",
    "\n",
    "- Paths starting with `/` are absolute paths\n",
    "- All other paths are relative to the current working directory\n",
    "\n",
    "Jupyter sets the current working directory of its kernel - the engine\n",
    "actually executing the code - to the path of the notebook itself.\n",
    "Therefore our image is in the same directory as the notebook we are running.\n",
    "\n",
    "Note: In Python you can (and should) use `/` as the path separator on\n",
    "both UNIX-like and MS Windows systems."
   ]
  },
  {
   "cell_type": "markdown",
   "metadata": {},
   "source": [
    "## Other engines\n",
    "\n",
    "`matplotlib` is less clunky in recent versions than it was a handful of years ago.\n",
    "But the clunkiness is of the interface into it and its plotting defaults.\n",
    "The plotting engine of `matplotlib` is sturdy and deals well\n",
    "with many visualization problems.\n",
    "Despite that, over the years other plotting interfaces have been developed,\n",
    "some of which extend `matplotlib` with more plot types,\n",
    "some change the appearance of plots.\n",
    "Some very well known extensions include:\n",
    "\n",
    "- [ggplot][] simulates plotting from the R environment.\n",
    "For a long time its graphs had better appearance than\n",
    "`matplotlib` defaults.\n",
    "It also works better with `pandas` than plain `matplotlib` does.\n",
    "That said, behind the scened `ggplot` calls the `matplotlib`\n",
    "engine for the plotting.\n",
    "\n",
    "- [seaborn][] extends `matplotlib` with several\n",
    "statistics oriented graphs.\n",
    "All `seaborn` does is to utilize the `matplotlib`\n",
    "engine to draw more complex graphs.\n",
    "That said, if one needs specific graphs:\n",
    "voilinplots, boxplots, heatmaps, joint distribution\n",
    "plots or cluster maps; one can just use the `seaborn`\n",
    "interfaces instead of writing such a plot from scratch\n",
    "in `matplotlib`.\n",
    "\n",
    "[ggplot]: http://ggplot.yhathq.com/ \"ggplot\"\n",
    "[seaborn]: https://seaborn.pydata.org/ \"seaborn\""
   ]
  },
  {
   "cell_type": "markdown",
   "metadata": {},
   "source": [
    "Once the amount of data surpasses the memory of the machine we are working with,\n",
    "or we need interactive plots, `matplotlib` is placed out of its depth.\n",
    "For such problem completely different plotting engines are needed.\n",
    "Some such engines are called together the *pyViz* group,\n",
    "for Python Visualization.\n",
    "Some libraries there are:\n",
    "\n",
    "- [bokeh][] provides a way of generating, from Python, web pages\n",
    "that will display data and allow for interactive graphs.\n",
    "The data can be provided in chunks, allowing for big amounts\n",
    "of data to be used for the plotting.\n",
    "\n",
    "- [holoviews][] uses *bokeh*, or possibly another renderer,\n",
    "to plot visualizations.\n",
    "Where visualizations are plots or other aspects of the data\n",
    "which can be useful during data analysis.\n",
    "\n",
    "- [dask][] is a cluster engine to distribute the plotting\n",
    "across several machines.\n",
    "When one needs to plot more data that would fit in the memory\n",
    "of any machine, *dask* is the tool in Python for the job.\n",
    "\n",
    "- [d3js][] is a JavaScript library but it is often used in\n",
    "combination with Python webservers to create visualizations.\n",
    "\n",
    "- [pyecharts][] is another library focused on JavaScript\n",
    "animations generated from Python code.\n",
    "It can modify its JavaScript on the fly, and has\n",
    "good understanding of browser behaviour.\n",
    "Hence it can be used as a substitute for\n",
    "`matplotlib` animations, even inside Jupyter.\n",
    "\n",
    "[bokeh]: https://bokeh.org/ \"Bokeh\"\n",
    "[holoviews]: https://holoviews.org/ \"Holo Views\"\n",
    "[dask]: https://dask.org/ \"Dask\"\n",
    "[d3js]: https://d3js.org/ \"D3.js\"\n",
    "[pyecharts]: https://pyecharts.org/#/en-us/ \"pyecharts\"\n",
    "\n",
    "`matplotlib`itself has visualization capabilities under the magic\n",
    "`%matplotlib notebook` (instead of `%matplotlib inline`)\n",
    "but these are quite limited."
   ]
  },
  {
   "cell_type": "markdown",
   "metadata": {},
   "source": [
    "## References\n",
    "\n",
    "- [Style Usage - matplotlib][rcparms]\n",
    "- [Style Reference - matplotlib][styleref]\n",
    "\n",
    "[rcparms]: https://matplotlib.org/tutorials/introductory/customizing.html \"Style Usage\"\n",
    "[styleref]: https://matplotlib.org/gallery/style_sheets/style_sheets_reference.html \"Style Reference\""
   ]
  }
 ],
 "metadata": {
  "anaconda-cloud": {},
  "kernelspec": {
   "display_name": "Python 3",
   "language": "python",
   "name": "python3"
  },
  "language_info": {
   "codemirror_mode": {
    "name": "ipython",
    "version": 3
   },
   "file_extension": ".py",
   "mimetype": "text/x-python",
   "name": "python",
   "nbconvert_exporter": "python",
   "pygments_lexer": "ipython3",
   "version": "3.7.6"
  }
 },
 "nbformat": 4,
 "nbformat_minor": 4
}
