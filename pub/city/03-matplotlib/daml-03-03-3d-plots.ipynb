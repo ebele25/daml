{
 "cells": [
  {
   "cell_type": "markdown",
   "metadata": {},
   "source": [
    "# 03.02 Plots in Three Dimensions\n",
    "\n",
    "Working with three dimensional plotting can be confusing at best.\n",
    "We only have a projection into two dimensions at any single time,\n",
    "and the projection may not be a good representation.\n",
    "That said, three dimensional plots are useful in certain circumstances\n",
    "and we shall have some exposure to them."
   ]
  },
  {
   "cell_type": "markdown",
   "metadata": {},
   "source": [
    "![3D Walk](plt-dots-3d.svg)\n",
    "\n",
    "<div style=\"text-align:right;\"><sup>plt-dots-3d.svg</sup></div>"
   ]
  },
  {
   "cell_type": "markdown",
   "metadata": {},
   "source": [
    "In `matplotlib` the three dimensional plotting was a later addition,\n",
    "hence the imports work in a slightly different manner.\n",
    "The import of the `mplot3d` toolkit for three dimensional plotting\n",
    "alters the structure of `matplotlib` figures and allows for\n",
    "three dimensional axes to be added to the figure."
   ]
  },
  {
   "cell_type": "code",
   "execution_count": null,
   "metadata": {},
   "outputs": [],
   "source": [
    "import numpy as np\n",
    "import matplotlib.pyplot as plt\n",
    "%matplotlib inline\n",
    "from mpl_toolkits import mplot3d"
   ]
  },
  {
   "cell_type": "markdown",
   "metadata": {},
   "source": [
    "Let us get our hands dirty and plot a classic three dimensional function,\n",
    "the *monkey saddle*:\n",
    "\n",
    "$$\n",
    "z = x^3 - 2xy^2\n",
    "$$\n",
    "\n",
    "Note that there exist a value for $z$ for ever *permutation* of values\n",
    "of $x$ and $y$.\n",
    "In other words, $z$ is a surface projected from every point on the $xy$-plane.\n",
    "In order to achieve this we need `np.meshgrid`,\n",
    "which creates a permutation of every point in $x$ and $y$\n",
    "and returns the full set of permutations.\n",
    "The plotting itself happens by using the `matplotlib` figure\n",
    "as with every other plot.\n",
    "The difference is that we explicitly add a set of axes\n",
    "with the `3d` projection.\n",
    "On these extended axes we can then performs three dimensional\n",
    "plotting with specific functions, here a surface plot."
   ]
  },
  {
   "cell_type": "code",
   "execution_count": null,
   "metadata": {},
   "outputs": [],
   "source": [
    "x = np.linspace(-10, 10, 1024)\n",
    "y = np.linspace(-10, 10, 512)\n",
    "gx, gy = np.meshgrid(x, y)\n",
    "\n",
    "z = gx**3 - 2*gx*gy**2\n",
    "\n",
    "fig = plt.figure(figsize=(16, 9))\n",
    "ax = fig.add_subplot(111, projection='3d')\n",
    "ax.plot_surface(gx, gy, z)\n",
    "gx.shape, gy.shape, z.shape"
   ]
  },
  {
   "cell_type": "markdown",
   "metadata": {},
   "source": [
    "The function is called a monkey saddle because it has extra\n",
    "space for the tail of the monkey sitting in it.\n",
    "\n",
    "Okay, we can plot that *mesh grid* but what does `np.meshgrid`\n",
    "actually does?\n",
    "We shall attempt a simpler example,\n",
    "here the surface function is trivial.\n",
    "\n",
    "$$\n",
    "z = 3x + y\n",
    "$$"
   ]
  },
  {
   "cell_type": "code",
   "execution_count": null,
   "metadata": {},
   "outputs": [],
   "source": [
    "x = np.array([1, 2, 3])\n",
    "y = np.array([7, 9])\n",
    "gx, gy = np.meshgrid(x, y)\n",
    "z = 3*gx + gy\n",
    "gx, gy, z"
   ]
  },
  {
   "cell_type": "markdown",
   "metadata": {},
   "source": [
    "One can see that the mesh grid generated all permutations\n",
    "between $1, 2, 3$ and $7, 9$.\n",
    "Then the function is evaluated on the $2 x 3$ matrix.\n",
    "Note that there is no need for the number of values\n",
    "in $x$ and in $y$ to be the same,\n",
    "the permutations will always result in matrices\n",
    "of shape valued as the number of values in $x$\n",
    "and the number of values in $y$.\n",
    "\n",
    "The evaluation of the function itself\n",
    "is easier to see if we reshape the permutations.\n",
    "Here we see columns for $x$, $y$ and the evaluated $z$."
   ]
  },
  {
   "cell_type": "code",
   "execution_count": null,
   "metadata": {},
   "outputs": [],
   "source": [
    "np.c_[gx.reshape(-1), gy.reshape(-1), z.reshape(-1)]"
   ]
  },
  {
   "cell_type": "markdown",
   "metadata": {},
   "source": [
    "The mesh grid in NumPy is not limited to three dimensions.\n",
    "As many things in NumPy, the limit is on human imagination\n",
    "on what higher dimensional mesh grids represent\n",
    "rather than the tool.\n",
    "That said a use for a more than three dimensional\n",
    "mesh grid is a vector field,\n",
    "and we will see one soon."
   ]
  },
  {
   "cell_type": "markdown",
   "metadata": {},
   "source": [
    "First we need to notice that a surface plot is not the only\n",
    "way in which one may plot a three dimensional function\n",
    "such a the monkey saddle.\n",
    "We can attempt a plot of contour curves.\n",
    "\n",
    "Here we use normal `matplotlib` plotting\n",
    "and use the `contour` function to build the contour lines.\n",
    "The `level=` argument gives the number of regions between the lines."
   ]
  },
  {
   "cell_type": "code",
   "execution_count": null,
   "metadata": {},
   "outputs": [],
   "source": [
    "x = np.linspace(-10, 10, 1024)\n",
    "y = np.linspace(-10, 10, 512)\n",
    "gx, gy = np.meshgrid(x, y)\n",
    "\n",
    "z = gx**3 - 2*gx*gy**2\n",
    "\n",
    "label_locations = [\n",
    "    ( 7., -8.),\n",
    "    (-9.,  1.),\n",
    "    ( 7.,  8.),\n",
    "    ( 0., -2.),\n",
    "    (-3.,  4.),\n",
    "    ( 3.,  4.),\n",
    "    (-7., -8.),\n",
    "    ( 9.,  1.),\n",
    "    (-7.,  8.),\n",
    "]\n",
    "fig, ax = plt.subplots(figsize=(16, 9))\n",
    "c = ax.contour(gx, gy, z, levels=3)\n",
    "cl = ax.clabel(c, manual=label_locations)\n",
    "gx.shape, gy.shape, z.shape"
   ]
  },
  {
   "cell_type": "markdown",
   "metadata": {},
   "source": [
    "A recurring pattern in `matplotlib` is the use of the return value\n",
    "from the plotting function to modify its appearance.\n",
    "Here we use `clabel` to label the contours.\n",
    "That said, the clunkiness of `matplotlib` shows here.\n",
    "The `clabel` function has the bad habit of placing labels\n",
    "in overlapping locations or even in location out of the graph.\n",
    "Above we manually force the locations of all labels.\n",
    "\n",
    "The contour graph for the monkey saddle shows the three way\n",
    "saddle: three contour lines at $600$ and three contour\n",
    "lines at $-600$.\n",
    "Yet, the surface plot for this specific function\n",
    "makes for a better visualization.\n",
    "The monkey saddle is the kind of function badly represented\n",
    "by its contour lines."
   ]
  },
  {
   "cell_type": "markdown",
   "metadata": {},
   "source": [
    "Another set of three dimensional plots are images.\n",
    "What? Yes, images, good flat images.\n",
    "In an image we have the two coordinates of each pixel\n",
    "and a third dimension as the value of that pixel.\n",
    "Sometimes, plotting data as an image or\n",
    "using an image as data itself in such a three dimensional\n",
    "view is a viable approach.\n",
    "\n",
    "Let's have a look at a simple array containing some\n",
    "values between $0$ and $1$."
   ]
  },
  {
   "cell_type": "code",
   "execution_count": null,
   "metadata": {},
   "outputs": [],
   "source": [
    "x = np.array([\n",
    "    [0., .5,  1., 1., 0.],\n",
    "    [0., 0.,  .5, 1., .5],\n",
    "    [0., 0.,  .5, 1., .5],\n",
    "    [0., 0.,  .7, .7, .5],\n",
    "    [0., .5,  1., .5, 0.],\n",
    "    [0., .7,  .7, 0., 0.],\n",
    "    [0., 1.,  .5, 0., 0.],\n",
    "    [0., 1.,  1., 1., .5],\n",
    "])\n",
    "fig, ax = plt.subplots(figsize=(14, 6))\n",
    "ax.imshow(x, cmap='binary');"
   ]
  },
  {
   "cell_type": "markdown",
   "metadata": {},
   "source": [
    "And the use of `imshow` gives us a reasonable\n",
    "description of a number $2$ in a $4$ by $8$ pixel display.\n",
    "But wait, that was a matrix of values,\n",
    "and a matrix ought to have two dimensions!\n",
    "To be fair, the dimensionality of tabular data,\n",
    "e.g. a matrix, depends on the interpretation of the data itself.\n",
    "What we care about right now is the number of dimensions presented\n",
    "in the displayed graph, and in the graph of the number $2$ above\n",
    "that number of dimensions is $3$: horizontal position of pixel,\n",
    "vertical position of pixel, and value of pixel.\n",
    "\n",
    "We will eventually build a better description of dimensionality.\n",
    "But for now, we will just argue that NumPy dimensions are\n",
    "the number of values in the *shape* of the array,\n",
    "and that the plot dimensions are the number of distinct\n",
    "values we can read about a single point on the graph itself.\n",
    "And for now we will not link one dimensionality to the other.\n",
    "\n",
    "We will also come back to the `cmap=` argument soon enough.\n",
    "For the time being we will just argue that *binary* here\n",
    "means *black and white*.\n",
    "And we need to use it because the default value for `cmap=`\n",
    "make a colorful image.\n",
    "\n",
    "---"
   ]
  },
  {
   "cell_type": "markdown",
   "metadata": {},
   "source": [
    "To round this dimensionality trip let us look\n",
    "at a six dimensional example:\n",
    "To every point in three dimensions we will assign a\n",
    "three dimensional vector.\n",
    "Wherever you are on the function below,\n",
    "if you follow the vectors you will reach zero\n",
    "but you will not necessarily go through the shortest path.\n",
    "\n",
    "The vector field below tend to move towards the $x$\n",
    "and the $y$ axes,\n",
    "i.e. one moves toward the $x$ or $y$ axis\n",
    "with only negligible change in the $z$ coordinates.\n",
    "Once a point has reached one of the axes\n",
    "($x=0$, $y=0$, or both)\n",
    "further vectors point towards the direction\n",
    "of $z=0$.\n",
    "If represented by surfaces,\n",
    "the function would be an infinite number of\n",
    "concentric curved funnels towards the origin.\n",
    "\n",
    "Below we use the `scatter` to plot the points in three dimensions,\n",
    "here the olive dots.\n",
    "Then we use `quiver` (as in a bag of arrows) to plot all vectors.\n",
    "`quiver` receives six coordinate arguments: three positions for the\n",
    "tail of the vector and then three more values for the value of the\n",
    "vector in each direction.\n",
    "To allow for better visualization we normalize the vector values\n",
    "between $0$ and $1$ with `normalize=True`;\n",
    "and set camera elevation (on the $z$ axis) and azimuth (on the $xy$-plane)\n",
    "with `view_init`."
   ]
  },
  {
   "cell_type": "code",
   "execution_count": null,
   "metadata": {},
   "outputs": [],
   "source": [
    "x, y, z = np.meshgrid(\n",
    "    np.linspace(-5, 5, 20),\n",
    "    np.linspace(-5, 5, 20),\n",
    "    np.array([1., 2., 3.]))\n",
    "u = (10 - 1/x - 1/y)*(-x)\n",
    "v = (10 - 1/x - 1/y)*(-y)\n",
    "w = 2*(1/np.abs(x) + 1/np.abs(y))*(2 - z)\n",
    "\n",
    "fig = plt.figure(figsize=(20, 12))\n",
    "ax = fig.add_subplot(111, projection='3d')\n",
    "ax.scatter(x, y, z, color='olive')\n",
    "ax.quiver(x, y, z, u, v, w, length=0.2, normalize=True, color='seagreen')\n",
    "ax.view_init(elev=20., azim=30)\n",
    "x.shape, y.shape, z.shape, u.shape, v.shape, w.shape"
   ]
  },
  {
   "cell_type": "markdown",
   "metadata": {},
   "source": [
    "We only have three planes because we gave only three values\n",
    "for the last coordinate when building the mesh grid.\n",
    "Despite the small number of planes we see the curved funnel\n",
    "evolution of the vector field:\n",
    "the closer a point is to one of the axes the faster it will go\n",
    "to zero.\n",
    "If a point is away from any of the axes it will first travel\n",
    "on it plane in $z$ towards an axis, and only then\n",
    "travel towards zero in $z$."
   ]
  },
  {
   "cell_type": "markdown",
   "metadata": {},
   "source": [
    "## References\n",
    "\n",
    "[matplotlib - mplot3d tutorial][mplot3d]\n",
    "\n",
    "[mplot3d]: https://matplotlib.org/mpl_toolkits/mplot3d/tutorial.html \"mplot3d tutorial\""
   ]
  }
 ],
 "metadata": {
  "anaconda-cloud": {},
  "kernelspec": {
   "display_name": "Python 3",
   "language": "python",
   "name": "python3"
  },
  "language_info": {
   "codemirror_mode": {
    "name": "ipython",
    "version": 3
   },
   "file_extension": ".py",
   "mimetype": "text/x-python",
   "name": "python",
   "nbconvert_exporter": "python",
   "pygments_lexer": "ipython3",
   "version": "3.7.6"
  }
 },
 "nbformat": 4,
 "nbformat_minor": 4
}
