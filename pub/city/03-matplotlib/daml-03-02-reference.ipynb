{
 "cells": [
  {
   "cell_type": "markdown",
   "metadata": {},
   "source": [
    "# 03.01 Plot Reference\n",
    "\n",
    "The full `matplotlib` engine is big and full of functionality.\n",
    "Yet, we will attempt to cover the most commonly used plotting\n",
    "techniques and several of their options.\n",
    "The following is organized in a reference style.\n",
    "This is because one is not supposed to remember this plethora\n",
    "of commands and options.\n",
    "Instead, one shall come back here or to the official\n",
    "documentation when faced with a specific graphing problem."
   ]
  },
  {
   "cell_type": "markdown",
   "metadata": {},
   "source": [
    "Let's explore that `pyplot` interface with some examples of stylying graphs.\n",
    "First the imports."
   ]
  },
  {
   "cell_type": "code",
   "execution_count": null,
   "metadata": {},
   "outputs": [],
   "source": [
    "import numpy as np\n",
    "import matplotlib.pyplot as plt\n",
    "%matplotlib inline"
   ]
  },
  {
   "cell_type": "markdown",
   "metadata": {},
   "source": [
    "One could use `plt.figure` and then `plt.axes` to get a hold of a single\n",
    "figure with a single axes but using `plt.subplots` is often quicker.\n",
    "By default (i.e. without positional arguments) `plt.subplots` will create\n",
    "a single figure containing one axes."
   ]
  },
  {
   "cell_type": "code",
   "execution_count": null,
   "metadata": {},
   "outputs": [],
   "source": [
    "fig, ax = plt.subplots(figsize=(11, 3))"
   ]
  },
  {
   "cell_type": "markdown",
   "metadata": {},
   "source": [
    "![Inches vs Meters](plt-inches.svg)\n",
    "\n",
    "<div style=\"text-align:right;\"><sup>plt-inches.svg</sup></div>"
   ]
  },
  {
   "cell_type": "markdown",
   "metadata": {},
   "source": [
    "### Figure size\n",
    "\n",
    "In the above we used the `figsize` argument.\n",
    "It defines the size of the resulting figure **in inches**, based on the default DPI of 72.\n",
    "Figure size is completely arbitrary,\n",
    "and is likely that you want different sizes depending on the display size or accuracy of the figure.\n",
    "One way to specify the figure size for all plots in a session is to alter `figure.figsize` as follows:\n",
    "\n",
    "The `matplotlib` default is a `figure.figsize` of `(5, 3)` (width, height) inches.\n",
    "This is often too small for presentations but good enough for a quick insight.\n",
    "\n",
    "We are configuring the size of the entire figure, not of the plot within it.\n",
    "A single figure can hold several plots (axes) at once."
   ]
  },
  {
   "cell_type": "markdown",
   "metadata": {},
   "source": [
    "## Numerical Computing - Again\n",
    "\n",
    "We saw a handful of plots already but we did not talk about how they were made.\n",
    "A plotted function is made numerically,\n",
    "i.e. several points are plotted and straight lines are interleaved between them.\n",
    "In other words, there is nothing particularly clever happening inside the plotting engine,\n",
    "you only apply a function to each point and then plot the (x, y) vectors against each other.\n",
    "For example, if we use a small number of points we can see the straight lines."
   ]
  },
  {
   "cell_type": "code",
   "execution_count": null,
   "metadata": {},
   "outputs": [],
   "source": [
    "fig, axi = plt.subplots(1, 2, figsize=(14, 5))\n",
    "\n",
    "x = np.linspace(0, 10, 128)\n",
    "axi.flat[0].plot(x, np.exp(x))\n",
    "x = np.linspace(0, 10, 5)\n",
    "axi.flat[1].plot(x, np.exp(x));"
   ]
  },
  {
   "cell_type": "markdown",
   "metadata": {},
   "source": [
    "This can be seen better if we mark just the points in the graph,\n",
    "without the lines between the points.\n",
    "We do this by adding styling parameters,\n",
    "here we will use a point to mean dot."
   ]
  },
  {
   "cell_type": "code",
   "execution_count": null,
   "metadata": {},
   "outputs": [],
   "source": [
    "fig, axi = plt.subplots(1, 2, figsize=(14, 5))\n",
    "\n",
    "x = np.linspace(0, 10, 128)\n",
    "axi.flat[0].plot(x, np.exp(x), '.')\n",
    "x = np.linspace(0, 10, 5)\n",
    "axi.flat[1].plot(x, np.exp(x), '.');"
   ]
  },
  {
   "cell_type": "markdown",
   "metadata": {},
   "source": [
    "## Styling the Plot\n",
    "\n",
    "As a visualization library specialized in plotting numerical functions,\n",
    "`matplotlib` has lots of ways to customize a plot.\n",
    "The simplest customizations are the most often used, these include:\n",
    "styles of lines, axes limits and text on the plot.\n",
    "There are many, many, many more customization options,\n",
    "most of which are useful in particular problems and require a look into\n",
    "the documentation even from people with great memory.\n",
    "The secret is not to remember the information,\n",
    "it is to have a good intuition about how to search for it."
   ]
  },
  {
   "cell_type": "markdown",
   "metadata": {},
   "source": [
    "### Colors, Lines and GNUPlot\n",
    "\n",
    "The `color=` argument accepts:\n",
    "\n",
    "- HTML color names\n",
    "- HTML colors in `#RRGGBB` format\n",
    "- An `(R, G, B)` tuple\n",
    "- A single number between 0 and 1 meaning a grayscale\n",
    "- And GNUPlot color names (including abbreviations)\n",
    "\n",
    "The `linestyle=` argument accepts:\n",
    "\n",
    "- Named styles: solid, dotted, dashed, dashdot\n",
    "- Abbreviated styles: `-`, `:`. `--`, `-.` \n",
    "\n",
    "The `marker=` argument accepts several single character abbreviations of markers.\n",
    "\n",
    "All these arguments can be combined as a single argument using the abbreviations.\n",
    "By passing a 3rd argument to `plot` (or similar function) combining the\n",
    "line style, color and marker (in that order) produces a specific plot style.\n",
    "This is legacy from how the GNUPlot used style definitions,\n",
    "yet it is still used in much of today's code."
   ]
  },
  {
   "cell_type": "markdown",
   "metadata": {},
   "source": [
    "Here are the reference tables for abbreviations:\n",
    "\n",
    "| string | line style |\n",
    "|:------ |:---------- |\n",
    "| -      | solid      |\n",
    "| --     | dashed     |\n",
    "| -.     | dash-dot   |\n",
    "| :      | dotted     |\n",
    "\n",
    "| character | color   |\n",
    "|:--------- |:------- |\n",
    "| b         | blue    |\n",
    "| g         | green   |\n",
    "| r         | red     |\n",
    "| c         | cyan    |\n",
    "| m         | magenta |\n",
    "| y         | yellow  |\n",
    "| k         | black   |\n",
    "| w         | white   |\n",
    "\n",
    "| character | marker         |\n",
    "|:--------- |:-------------- |\n",
    "| .         | point          |\n",
    "| ,         | pixel          |\n",
    "| o         | circle         |\n",
    "| v         | triangle down  |\n",
    "| ^         | triangle up    |\n",
    "| <         | triangle left  |\n",
    "| >         | triangle right |\n",
    "| s         | square         |\n",
    "| p         | pentagon       |\n",
    "| \\*        | star           |\n",
    "| h         | hexagon        |\n",
    "| H         | fat hexagon    |\n",
    "| \\+        | plus           |\n",
    "| x         | ex             |\n",
    "| D         | diamond        |\n",
    "| d         | thin diamond   |\n",
    "\n",
    "[The docs][plot] show many more variants.\n",
    "And one can change many, many more parameters of the graph.\n",
    "We will see some of the `matplotlib` interfaces\n",
    "but the complete picture is bigger:\n",
    "there are interfaces from changing the plot title\n",
    "all the way to change the angle of minor and major ticks\n",
    "on the axes.\n",
    "\n",
    "[plot]: https://matplotlib.org/api/_as_gen/matplotlib.pyplot.plot.html \"matplotlib plot\""
   ]
  },
  {
   "cell_type": "markdown",
   "metadata": {},
   "source": [
    "By calling `plot` several times on the same axes one can plot several functions,\n",
    "let's build a handful of line style, color and marker examples on a single image."
   ]
  },
  {
   "cell_type": "code",
   "execution_count": null,
   "metadata": {},
   "outputs": [],
   "source": [
    "fig, ax = plt.subplots(figsize=(14, 6))\n",
    "x = np.linspace(0, 2, 32)\n",
    "\n",
    "ax.plot(x, np.exp(x + 0.1), color='green')\n",
    "ax.plot(x, np.exp(x + 0.2), color='#fe11aa')\n",
    "ax.plot(x, np.exp(x + 0.3), color='crimson')\n",
    "ax.plot(x, np.exp(x + 0.4), color='g', linestyle='dashdot')\n",
    "ax.plot(x, np.exp(x + 0.5), color='k', linestyle='dashdot', marker='p')\n",
    "ax.plot(x, np.exp(x + 0.6), '-.b')\n",
    "ax.plot(x, np.exp(x + 0.7), '-.m^');"
   ]
  },
  {
   "cell_type": "markdown",
   "metadata": {},
   "source": [
    "### Labels\n",
    "\n",
    "A plot isn't complete without text.\n",
    "Typical annotations on a plot are what is on each axis and a title."
   ]
  },
  {
   "cell_type": "code",
   "execution_count": null,
   "metadata": {},
   "outputs": [],
   "source": [
    "fig, ax = plt.subplots(figsize=(14, 6))\n",
    "x = np.linspace(0, 10, 64)\n",
    "\n",
    "ax.plot(x, np.exp(x), '--m')\n",
    "ax.set_title('Natural Exponent')\n",
    "ax.set_xlabel('x')\n",
    "ax.set_ylabel('$e^x$');"
   ]
  },
  {
   "cell_type": "markdown",
   "metadata": {},
   "source": [
    "When several functions are plotted a legend is a way to describe the plot.\n",
    "The legend aggregates all `label=` arguments of plotting functions.\n",
    "The `loc=` argument is used to provide a hint for the best legend location."
   ]
  },
  {
   "cell_type": "code",
   "execution_count": null,
   "metadata": {},
   "outputs": [],
   "source": [
    "fig, ax = plt.subplots(figsize=(14, 6))\n",
    "x = np.linspace(-5, 5, 64)\n",
    "\n",
    "ax.plot(x, np.exp(x), '-m', label='$e^x$')\n",
    "ax.plot(x, 1/np.exp(x), '-b', label='1/e^x')\n",
    "ax.set_title('Natural Exponent')\n",
    "ax.set_xlabel('x')\n",
    "ax.set_ylabel('f(x)')\n",
    "ax.legend(loc='center');"
   ]
  },
  {
   "cell_type": "markdown",
   "metadata": {},
   "source": [
    "### Axis Limits\n",
    "\n",
    "By default the limits of the axes are taken from the minimum and maximum values of the plotted function.\n",
    "Yet, we can customize those."
   ]
  },
  {
   "cell_type": "code",
   "execution_count": null,
   "metadata": {},
   "outputs": [],
   "source": [
    "fig, ax = plt.subplots(figsize=(14, 6))\n",
    "x = np.linspace(0, 10, 64)\n",
    "\n",
    "ax.plot(x, np.exp(x))\n",
    "ax.axis([4, 8, 0, 2000]);"
   ]
  },
  {
   "cell_type": "markdown",
   "metadata": {},
   "source": [
    "Other options are:\n",
    "\n",
    "- `axis('tight')` - binds closer to the function limits (really visible within crowded plots)\n",
    "- `axis('equal')` - same scale on both axes (x and y)\n",
    "- `axis('off')` - remove ticks from the axes, the scale becomes impossible to measure\n",
    "\n",
    "One can set the axes independently with `set_xlim` and `set_ylim`.\n",
    "Moreover, one can combine labeling and tiding the axes with the `set` method of the axes,\n",
    "which can perform several plot functions at once.  For example:"
   ]
  },
  {
   "cell_type": "code",
   "execution_count": null,
   "metadata": {},
   "outputs": [],
   "source": [
    "fig, ax = plt.subplots(figsize=(14, 6))\n",
    "x = np.linspace(0, 10, 64)\n",
    "\n",
    "ax.axis([4, 8, 0, 2000]);\n",
    "ax.plot(x, np.exp(x))\n",
    "ax.set(xlim=(4, 8), ylim=(0, 2000), xlabel='x', ylabel='$e^x$', title='Natural Exponent');"
   ]
  },
  {
   "cell_type": "markdown",
   "metadata": {},
   "source": [
    "### $\\LaTeX$\n",
    "\n",
    "You may have noticed stings written between dollar signs (`$`),\n",
    "which, when plotted, produce some magic characters.\n",
    "Text within dollar signs is interpreted as [$\\LaTeX$][latex] (pronounced lah-tek)\n",
    "and can contain a plethora of mathematical expressions.\n",
    "\n",
    "[latex]: https://www.latex-project.org/ \"LaTeX project\"\n",
    "\n",
    "$\\LaTeX$ is a typesetting engine, originally for mathematical papers,\n",
    "used as a standard for publications in several fields.\n",
    "$\\LaTeX$ is huge, and covering it is a course of its own;\n",
    "moreover since `Jupyter` supports only partial $\\LaTeX$ through the [MathJax][math]\n",
    "JavaScript library, whilst `matplotlib` support is through its selected backend engine.\n",
    "Yet, we will try a quick run through.\n",
    "\n",
    "[math]: https://www.mathjax.org/ \"MathJax\""
   ]
  },
  {
   "cell_type": "markdown",
   "metadata": {},
   "source": [
    "The `{` and `}` characters perform grouping, the `\\` character starts a function.\n",
    "A function performs some form of display action based on the groupings passed to it.\n",
    "(One can think of the groupings as function arguments.)\n",
    "Here are some characters and display functions supported.\n",
    "\n",
    "| symbol               | code                 |\n",
    "|:-------------------- |:-------------------- |\n",
    "| $\\alpha$             | `\\alpha`             |\n",
    "| $\\phi$               | `\\phi`               |\n",
    "| $\\Phi$               | `\\Phi`               |\n",
    "| $\\Pi$                | `\\Pi`                |\n",
    "| $\\pi$                | `\\pi`                |\n",
    "| $\\theta$             | `\\theta`             |\n",
    "| $\\mu$                | `\\mu`                |\n",
    "| $\\nabla$             | `\\nabla`             |\n",
    "| $\\frac{\\mu}{\\theta}$ | `\\frac{\\mu}{\\theta}` |\n",
    "| $x^y$                | `x^y`                |\n",
    "| $x_y$                | `x_y`                |\n",
    "| $\\sum$               | `\\sum`               |\n",
    "| $\\prod$              | `\\prod`              |\n",
    "| $\\in$                | `\\in`                |\n",
    "| $\\notin$             | `\\notin`             |\n",
    "| $\\partial$           | `\\partial`           |\n",
    "| $\\ell$               | `\\ell`               |\n",
    "| $\\neg$               | `\\neg`               |\n",
    "| $\\forall$            | `\\forall`            |\n",
    "| $\\vec{x}$            | `\\vec{x}`            |\n",
    "\n",
    "Symbol support is slightly different between `matplotlib` and `jupyter`\n",
    "but we can use `jupyter` equations show how we can combine $\\LaTeX$ elements.\n",
    "\n",
    "$$\n",
    "\\frac{\\sum^{N}_{i=0} x^i}{i}\n",
    "$$\n",
    "\n",
    "The above equation is generated by `\\frac{\\sum^{N}_{i=0} x^i}{i}`."
   ]
  },
  {
   "cell_type": "markdown",
   "metadata": {},
   "source": [
    "## A complex plot\n",
    "\n",
    "Let's make a slightly more complicated plot step by step.\n",
    "We will use the following data as FTSE100 index over a couple of days.\n",
    "We have a number each hour and it starts at midnight.\n",
    "\n",
    "Note that we only have a single set of data.\n",
    "That is alright, we know that the data increases with the\n",
    "same regularity.\n",
    "If we provided just a single set of data to `plot`,\n",
    "it will assume it to be the vertical axis values\n",
    "and the horizontal axis is filled by the enumeration of the data.\n",
    "This behavior is perfect for us since we have the data in\n",
    "an enumeration of hours already."
   ]
  },
  {
   "cell_type": "code",
   "execution_count": null,
   "metadata": {},
   "outputs": [],
   "source": [
    "ftse100 = np.array([\n",
    "    # October 1st\n",
    "    5.7230, 6.2400, 5.9020, 5.4379, 6.2443, 6.1656,\n",
    "    5.8311, 5.3005, 5.3476, 6.1762, 6.2420, 5.9147,\n",
    "    6.0179, 6.0482, 5.9041, 5.8793, 5.8505, 6.1702,\n",
    "    5.5260, 5.3622, 5.8024, 5.8254, 6.1855, 5.9369,\n",
    "    # October 2nd\n",
    "    6.3399, 5.8782, 6.6448, 6.5915, 6.2415, 6.2262,\n",
    "    6.3773, 6.3778, 6.6136, 6.0734, 6.2800, 6.1595,\n",
    "    6.6792, 5.9988, 6.0099, 6.3740, 6.0178, 5.7674,\n",
    "    6.3594, 5.8545, 6.1530, 5.7003, 6.1374, 6.3195,\n",
    "    # October 3rd\n",
    "    4.9859, 5.3055, 5.6490, 5.2966, 5.0464, 5.4377,\n",
    "    5.1142, 5.5724, 3.8561, 3.3914, 3.1928, 3.7136,\n",
    "    3.2074, 3.8761, 4.6507, 4.2216, 4.1149, 4.9124,\n",
    "    5.4293, 4.8262, 5.0575, 5.1038, 5.3699, 5.5259,\n",
    "    # October 4th\n",
    "    6.0938, 6.2982, 6.3028, 6.2610, 5.8135, 6.4969,\n",
    "    6.3539, 6.4666, 6.5436, 5.9959, 5.9639, 6.5012,\n",
    "    6.1587, 6.6091, 5.8891, 5.7719, 6.4501, 5.7566,\n",
    "    6.3420, 6.6551, 6.4678, 6.6754, 6.5166, 6.4466,\n",
    "    # October 5th\n",
    "    6.5367, 6.4548, 6.6134, 6.9776, 7.0554, 6.3952,\n",
    "    6.2713, 6.9828, 6.1918, 7.0430, 7.0875, 6.4359,\n",
    "    6.5990, 6.8618, 6.5187, 6.3564, 6.3483, 6.3613,\n",
    "    6.1908, 6.2760, 6.1849, 6.9953, 6.6646, 6.5787,\n",
    "])\n",
    "fig, ax = plt.subplots(figsize=(14, 7))\n",
    "ax.plot(ftse100)\n",
    "ax.set_ylim(0., 9.)"
   ]
  },
  {
   "cell_type": "markdown",
   "metadata": {},
   "source": [
    "We can make up something from that plot alright:\n",
    "it looks to be an index with its variability between hours,\n",
    "somewhere in the middle we have a drop,\n",
    "and later this drop recovers.\n",
    "If we carefully count the hours we can make up on which day\n",
    "the drop happened but that is quite a lot of work reading the graph.\n",
    "We ought to make the reading of the graph easier.\n",
    "\n",
    "For a start we should make the ticks as full days,\n",
    "not an arbitrary number of hours.\n",
    "We know that a day has $24$ hours (duh!) hence we can\n",
    "add the ticks on every day.\n",
    "With `set_ticks` we change the ticks themselves,\n",
    "and with `set_ticklabels` we add the displayed label for each tick.\n",
    "The size of the lists provided to both functions must be the same,\n",
    "note that since we have $5$ days of data we will have $6$ ticks.\n",
    "\n",
    "And to make the graph even easier to read we can add vertical lines\n",
    "(`vlines`) at each tick.\n",
    "There are plethora of styles for vertical (or horizontal - `hlines`)\n",
    "which we can use.\n",
    "We will stick to a simple dotted style for simplicity."
   ]
  },
  {
   "cell_type": "code",
   "execution_count": null,
   "metadata": {},
   "outputs": [],
   "source": [
    "fig, ax = plt.subplots(figsize=(14, 7))\n",
    "ax.plot(ftse100, color='crimson')\n",
    "ax.set_ylim(0., 9.)\n",
    "ticks = [0, 24, 48, 72, 96, 120]\n",
    "ax.set_xticks(ticks)\n",
    "ax.set_xticklabels(['Oct 1', 'Oct 2', 'Oct 3', 'Oct 4', 'Oct 5', 'Oct 6'])\n",
    "ax.vlines(ticks, 0., 9., linestyles='dotted')"
   ]
  },
  {
   "cell_type": "markdown",
   "metadata": {},
   "source": [
    "The graph looks considerably better,\n",
    "a good deal of information is now easily available.\n",
    "For example, we know straight away that the problematic day\n",
    "was the 3rd of October.\n",
    "\n",
    "Perhaps we can add more information that a reader may want to know.\n",
    "The actual opening and closing values are good candidates,\n",
    "one would like to see whether and how much the index went\n",
    "up or down during the period.\n",
    "Another thing we can add is an emphasis on what we wish to\n",
    "present in the graph, in this case the fact that the 3rd\n",
    "of October was a particularly bad day.\n",
    "We will annotate the graph with this information.\n",
    "\n",
    "To add text we can use the appropriately named `text` function.\n",
    "It requires two coordinates and the text to be added at these\n",
    "coordinates.\n",
    "The thing to note is that the coordinates are in values\n",
    "of what the graph is representing:\n",
    "the first coordinate is the value in hours where the text should\n",
    "be placed, and the second coordinate is the FTSE100 index value\n",
    "where we will place the text.\n",
    "We use the `text` function to note how badly the index was\n",
    "performing on October the 3rd.\n",
    "\n",
    "In order to give labels to the opening and closing values for\n",
    "the index we could do the same as we do with the rash day\n",
    "performance text.\n",
    "One common labeling form for specific values on a graph\n",
    "is to add an arrow to that specific point and then\n",
    "write the label text at the other end of the arrow.\n",
    "We could use the `text` function and the `arrow` function\n",
    "(which simply receives four coordinates: two for the head\n",
    "of the arrow and two for the tail of the arrow)\n",
    "but we might end with trouble to align them together.\n",
    "Instead `matplotlib` provides us with `annotate`,\n",
    "which is a combination of `text` and `arrow`.\n",
    "`annotate` receives two sets of coordinates:\n",
    "first set to where the head of the arrow should point\n",
    "and the second set to where the label text should\n",
    "be located.\n",
    "`annotate` accounts for margins on both the arrow\n",
    "head and label text."
   ]
  },
  {
   "cell_type": "code",
   "execution_count": null,
   "metadata": {},
   "outputs": [],
   "source": [
    "fig, ax = plt.subplots(figsize=(14, 7))\n",
    "ax.plot(ftse100, color='crimson')\n",
    "ax.set_ylim(0., 9.)\n",
    "ticks = [0, 24, 48, 72, 96, 120]\n",
    "ax.set_xticks(ticks)\n",
    "ax.set_xticklabels(['Oct 1', 'Oct 2', 'Oct 3', 'Oct 4', 'Oct 5', 'Oct 6'])\n",
    "ax.vlines(ticks, 0., 9., linestyles='dotted')\n",
    "ax.text(50., 3., 'Crash Day', fontsize=14, horizontalalignment='center')\n",
    "ax.annotate('Open %s' % ftse100[0],\n",
    "            (0., ftse100[0]), (2., ftse100[0] - 2),\n",
    "            fontsize=14,\n",
    "            arrowprops={'arrowstyle': '->'})\n",
    "ax.annotate('Close %s' % ftse100[-1],\n",
    "            (120., ftse100[-1]), (110., ftse100[-1] - 2),\n",
    "            fontsize=14,\n",
    "            arrowprops={'arrowstyle': '->'})"
   ]
  },
  {
   "cell_type": "markdown",
   "metadata": {},
   "source": [
    "We placed the text at hour $50$ (since October 3rd is $48$\n",
    "hours from the start of the data) and index value $3$.\n",
    "The `fontsize=`, in points, allows us control in order\n",
    "to make the text visible.\n",
    "The text alignment should be self explanatory.\n",
    "In the coordinates for `annotate` we use the first\n",
    "and last data points directly.\n",
    "This is the advantage of using the graph coordinates\n",
    "to place labels: when labeling a specific point of the data\n",
    "one can directly use the value from the data.\n",
    "\n",
    "The graph looks very good right now.\n",
    "The text could be worked a tad more,\n",
    "when the labels cross the vertical lines it is difficult to read it.\n",
    "We will use `matplotlib`'s path effects to add a pinkish glow\n",
    "behind the text and make it readable.\n",
    "When we add the text and annotations the return values\n",
    "from the functions give us handles that allows us to edit\n",
    "the elements further - this is a common pattern in `matplotlib`.\n",
    "We take these handles and add a stroke effect in pink,\n",
    "after that we add the normal path to place the actual text\n",
    "on top of the pink stroke."
   ]
  },
  {
   "cell_type": "code",
   "execution_count": null,
   "metadata": {},
   "outputs": [],
   "source": [
    "import matplotlib.patheffects as path_effects\n",
    "\n",
    "fig, ax = plt.subplots(figsize=(14, 7))\n",
    "ax.plot(ftse100, color='crimson')\n",
    "ax.set_ylim(0., 9.)\n",
    "ticks = [0, 24, 48, 72, 96, 120]\n",
    "ax.set_xticks(ticks)\n",
    "ax.set_xticklabels(['Oct 1', 'Oct 2', 'Oct 3', 'Oct 4', 'Oct 5', 'Oct 6'])\n",
    "ax.vlines(ticks, 0., 9., linestyles='dotted')\n",
    "t1 = ax.text(48., 3., 'Crash Day', fontsize=14, horizontalalignment='center')\n",
    "t2 = ax.annotate('Open %s' % ftse100[0],\n",
    "                (0., ftse100[0]), (2., ftse100[0] - 2),\n",
    "                fontsize=14,\n",
    "                arrowprops={'arrowstyle': '->'})\n",
    "t3 = ax.annotate('Close %s' % ftse100[-1],\n",
    "                (120., ftse100[-1]), (110., ftse100[-1] - 2),\n",
    "                fontsize=14,\n",
    "                arrowprops={'arrowstyle': '->'})\n",
    "for t in [t1, t2, t3]:\n",
    "    t.set_path_effects(\n",
    "        [path_effects.Stroke(linewidth=3, foreground='lightpink'), path_effects.Normal()])"
   ]
  },
  {
   "cell_type": "markdown",
   "metadata": {},
   "source": [
    "And we could keep going.\n",
    "This graph now needs a title, labels for the axes.\n",
    "Perhaps a legend explaining a bit about FTSE.\n",
    "But we already saw those, and we will leave those extensions to you.\n",
    "\n",
    "`matplotlib` is very extensive on interfaces to customize a graph,\n",
    "one often finds more than one way to add more information a reader\n",
    "may find useful."
   ]
  },
  {
   "cell_type": "markdown",
   "metadata": {},
   "source": [
    "## References\n",
    "\n",
    "[matplotlib - Path Effects Guide][patheff]\n",
    "\n",
    "[patheff]: https://matplotlib.org/tutorials/advanced/patheffects_guide.html \"Path Effects\""
   ]
  }
 ],
 "metadata": {
  "anaconda-cloud": {},
  "kernelspec": {
   "display_name": "Python 3",
   "language": "python",
   "name": "python3"
  },
  "language_info": {
   "codemirror_mode": {
    "name": "ipython",
    "version": 3
   },
   "file_extension": ".py",
   "mimetype": "text/x-python",
   "name": "python",
   "nbconvert_exporter": "python",
   "pygments_lexer": "ipython3",
   "version": "3.7.6"
  }
 },
 "nbformat": 4,
 "nbformat_minor": 4
}
