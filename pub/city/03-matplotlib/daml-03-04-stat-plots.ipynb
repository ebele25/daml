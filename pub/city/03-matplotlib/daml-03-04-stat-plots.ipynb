{
 "cells": [
  {
   "cell_type": "markdown",
   "metadata": {},
   "source": [
    "# 03.03 Statistics and Plots\n",
    "\n",
    "Plotting functions is all fun\n",
    "but what about the times when we do not actually know the function to plot?\n",
    "When faced with new data it is rare that we actually face a situation with\n",
    "one labeled *independent* and one labeled *dependent* variable."
   ]
  },
  {
   "cell_type": "markdown",
   "metadata": {},
   "source": [
    "This is where statistics come in,\n",
    "when presented with several dimensions of data we want to be capable of plotting two things:\n",
    "\n",
    "- several dimensions against each other\n",
    "- distribution estimates of the dimensions\n",
    "\n",
    "We have accumulated some boilerplate code to add to the beginning of the notebook,\n",
    "this will keep growing as we start using more tools."
   ]
  },
  {
   "cell_type": "code",
   "execution_count": null,
   "metadata": {},
   "outputs": [],
   "source": [
    "import numpy as np\n",
    "import matplotlib.pyplot as plt\n",
    "%matplotlib inline"
   ]
  },
  {
   "cell_type": "markdown",
   "metadata": {},
   "source": [
    "## The Scatter Plot\n",
    "\n",
    "Since we know that `matplotlib` simply draws straight lines between the points given to it,\n",
    "if we do not draw the lines and just the markers we get a scatter plot."
   ]
  },
  {
   "cell_type": "code",
   "execution_count": null,
   "metadata": {},
   "outputs": [],
   "source": [
    "fig, ax = plt.subplots(figsize=(13, 5))\n",
    "x = np.linspace(0, 4, 32)\n",
    "y = np.exp(x)\n",
    "\n",
    "ax.plot(x, y, '.');"
   ]
  },
  {
   "cell_type": "markdown",
   "metadata": {},
   "source": [
    "That is a plot alright, and it does allow us to plot one dimension against another.\n",
    "In other words, this is a two dimensional plot.\n",
    "But that's about it, we cannot add more dimensions.\n",
    "That seems a fair statement.\n",
    "We are working in two dimensions,\n",
    "therefore *we can only compare two dimensions at a time*.\n",
    "\n",
    "Yet, **that's an incorrect assumption**.  We can do more.\n",
    "Apart from the scales on each side of the plot (each axis),\n",
    "one can perceive other attributes inside the plot.\n",
    "Two of those are: the color of a point and the size of each point."
   ]
  },
  {
   "cell_type": "markdown",
   "metadata": {},
   "source": [
    "`scatter` allows us to change the size and color of each point.\n",
    "Let's have a quick look at a *four dimensional* plot."
   ]
  },
  {
   "cell_type": "code",
   "execution_count": null,
   "metadata": {},
   "outputs": [],
   "source": [
    "x = np.array([1., 5., 7., 9., -3.,  6.])\n",
    "y = np.array([3., 7., 4., 1.,  5., -1.])\n",
    "c = np.array([.2, .1, .9, 1.,  .2,  .3])\n",
    "s = 1024 * c\n",
    "\n",
    "fig, ax = plt.subplots(figsize=(12, 6))\n",
    "paths = ax.scatter(x, y, c=c, s=s, alpha=0.5, cmap='viridis')\n",
    "fig.colorbar(paths);"
   ]
  },
  {
   "cell_type": "markdown",
   "metadata": {},
   "source": [
    "More than two dimensions can be used,\n",
    "`plt.scatter` allows to define the transparency (alpha), and marker of each point.\n",
    "That said, plots with more than four dimension properties start to become difficult to distinguish,\n",
    "(is that point smaller or is it just a smaller marker type?) and are rarely used."
   ]
  },
  {
   "cell_type": "markdown",
   "metadata": {},
   "source": [
    "### Note on Colormaps\n",
    "\n",
    "Above we used a color map called `viridis` (the default in `matplotlib`),\n",
    "it is a color map which preserves luminosity across its entire color range.\n",
    "The human eye is very good at spotting patters that are not actually there,\n",
    "and more luminous colors may appear bigger which is not desirable most of the time.\n",
    "\n",
    "On the other hand, if we have a known continuous distribution color maps\n",
    "ranging between two colors only are a better representation.\n",
    "Choosing a good color map for a graph is a difficult task and a big discussion\n",
    "in the visualization field.\n",
    "`matplotlib` documentation provide some discussion together with its\n",
    "[reference for colormaps][colormaps].\n",
    "\n",
    "[colormaps]: https://matplotlib.org/users/colormaps.html \"Choosing a Color Map\""
   ]
  },
  {
   "cell_type": "markdown",
   "metadata": {},
   "source": [
    "![Iris Flowers](plt-iris.svg)\n",
    "\n",
    "<div style=\"text-align:right;\"><sup>plt-iris.svg</sup></div>"
   ]
  },
  {
   "cell_type": "markdown",
   "metadata": {},
   "source": [
    "## Iris Data\n",
    "\n",
    "A graph without showing actual, meaningful, data does not provide much information.\n",
    "Let's jump a little ahead and download the Iris dataset from `Scikit-Learn`.\n",
    "This dataset is a collection of four features of Iris flowers,\n",
    "and is often used as an example of classifying Iris species from these features.\n",
    "The dataset itself has a thorough description."
   ]
  },
  {
   "cell_type": "code",
   "execution_count": null,
   "metadata": {},
   "outputs": [],
   "source": [
    "from sklearn.datasets import load_iris\n",
    "iris = load_iris()\n",
    "print(iris['DESCR'])"
   ]
  },
  {
   "cell_type": "markdown",
   "metadata": {},
   "source": [
    "---\n",
    "\n",
    "We will plot three of these features of the Iris flowers against the actual species.\n",
    "As for the color map we will use `plasma`, a different luminosity preserving map."
   ]
  },
  {
   "cell_type": "code",
   "execution_count": null,
   "metadata": {},
   "outputs": [],
   "source": [
    "fig, ax = plt.subplots(figsize=(16, 9))\n",
    "ax.scatter(iris.data[:, 0], iris.data[:, 1],\n",
    "           alpha=0.5, s=256*iris.data[:, 3],\n",
    "           c=iris.target, cmap='plasma',\n",
    "           label='Size depicts {0}'.format(iris.feature_names[3]))\n",
    "ax.legend(frameon=True, borderpad=0.9)\n",
    "ax.set_xlabel(iris.feature_names[0])\n",
    "ax.set_ylabel(iris.feature_names[1]);"
   ]
  },
  {
   "cell_type": "markdown",
   "metadata": {},
   "source": [
    "We just plotted four different dimensions of the data in a two dimensional plot.\n",
    "The location on the plot of each point corresponds to the sepal length and width,\n",
    "the size of the point is related to the petal width,\n",
    "and the color is related to the particular species of flower."
   ]
  },
  {
   "cell_type": "markdown",
   "metadata": {},
   "source": [
    "## The Histogram\n",
    "\n",
    "Nothing better to get a *feel* for the data than figuring out its distribution.\n",
    "And the quick-and-dirty tool for estimating the distribution is a histogram.\n",
    "`hist` has lots of customization options, let's see some."
   ]
  },
  {
   "cell_type": "code",
   "execution_count": null,
   "metadata": {},
   "outputs": [],
   "source": [
    "fig, ax = plt.subplots(figsize=(12, 6))\n",
    "x = np.random.randn(1024)\n",
    "ax.hist(x, bins=64, alpha=0.5, color='crimson', edgecolor='navy');"
   ]
  },
  {
   "cell_type": "markdown",
   "metadata": {},
   "source": [
    "Note that if you are after a histogram without actually plotting it,\n",
    "`NumPy` has its own histogram function."
   ]
  },
  {
   "cell_type": "code",
   "execution_count": null,
   "metadata": {},
   "outputs": [],
   "source": [
    "x = np.random.randn(1024)\n",
    "hist, bin_edges = np.histogram(x, bins=16)\n",
    "hist, bin_edges"
   ]
  },
  {
   "cell_type": "markdown",
   "metadata": {},
   "source": [
    "### Compare Distributions\n",
    "\n",
    "If we want to compare the distributions against each other,\n",
    "we can normalize the histograms (make the area below the histogram equal a unit)\n",
    "with `density=True`, and use `histtype='stepfilled'` to remove the vertical bars.\n",
    "Then we add some transparency to the histograms (`alpha=`)\n",
    "and we can plot several histograms together."
   ]
  },
  {
   "cell_type": "code",
   "execution_count": null,
   "metadata": {},
   "outputs": [],
   "source": [
    "tall = np.random.normal(0, 0.5, 1024)\n",
    "neg = np.random.normal(-3, 1, 2048)\n",
    "fat = np.random.normal(-1, 2, 1024)\n",
    "kwargs = dict(histtype='stepfilled', alpha=0.5, density=True, bins=64)\n",
    "\n",
    "fig, ax = plt.subplots(figsize=(13, 6))\n",
    "ax.hist(tall, **kwargs)\n",
    "ax.hist(neg, **kwargs)\n",
    "ax.hist(fat, **kwargs);"
   ]
  },
  {
   "cell_type": "markdown",
   "metadata": {},
   "source": [
    "## Filling areas\n",
    "\n",
    "Where we will use `matplotlib` most will be when figuring out whether\n",
    "a model we have built works or does not work.\n",
    "Let's again jump ahead and walk through an `sklearn` example that\n",
    "requires the use of `plt.fill_between`.\n",
    "\n",
    "We will look at a Gaussian Process Regressor model,\n",
    "which is a non-parametric model that can provide us with an\n",
    "estimate of how well it fits the data at each point.\n",
    "In other words, we can know the likeness where unseen data points may be.\n",
    "The Gaussian Process bears similarity to the Random Walk,\n",
    "where we build several paths walking through the space.\n",
    "The difference is that in a random walk all paths start from zero\n",
    "in a gaussian process the starting point of the path is also random.\n",
    "The algorithm then takes in the data provided.\n",
    "All paths that do not pass close enough to the data are then thrown away,\n",
    "in most cases the vast majority of the generated paths is thrown away\n",
    "at this stage.\n",
    "The solution to the regression is the mean of all paths that remain.\n",
    "\n",
    "We are using code from `sklearn`,\n",
    "do not worry about this code yet.\n",
    "The common pattern for `sklearn`\n",
    "models is to import a class which receives parameters\n",
    "when instantiated, which builds the model object.\n",
    "The model object then is trained with the `fit` method,\n",
    "and performs predictions with the `predict` method.\n",
    "Later we will go in much more depth about\n",
    "`sklearn`'s models.\n",
    "\n",
    "Our final objective here is to fill some areas.\n",
    "We will fill in a $95\\%$ confidence interval\n",
    "based on the error between the real and the regressed function.\n",
    "For now we assume a gaussian distribution of error\n",
    "and in such a distribution $2\\sigma$,\n",
    "i.e. two times the standard deviation, is about a $95\\%$ confidence region.\n",
    "Eventually we will look at why this confidence interval is $2\\sigma$."
   ]
  },
  {
   "cell_type": "code",
   "execution_count": null,
   "metadata": {},
   "outputs": [],
   "source": [
    "from sklearn.gaussian_process import GaussianProcessRegressor\n",
    "\n",
    "model = lambda x: x * np.sin(x)\n",
    "X = np.array([1, 3, 5, 6, 8])\n",
    "y = model(X)\n",
    "xfit = np.linspace(0, 10, 1024)\n",
    "\n",
    "gpr = GaussianProcessRegressor(alpha=1e-3)\n",
    "gpr.fit(X[:, np.newaxis], y)\n",
    "yfit = gpr.predict(xfit[:, np.newaxis])\n",
    "se = ((model(xfit) - yfit)**2)\n",
    "dyfit = 2 * np.sqrt(se)\n",
    "me = se.mean()\n",
    "\n",
    "fig, ax = plt.subplots(figsize=(13, 9))\n",
    "ax.plot(X, y, 'or', label='observations')\n",
    "ax.plot(xfit, yfit, '-', color='steelblue', label='prediction')\n",
    "ax.plot(xfit, model(xfit), '-', color='red', alpha=0.5, label='$f(x) = x \\cdot sin(x)$')\n",
    "ax.fill_between(xfit, yfit - dyfit, yfit + dyfit, color='gray', alpha=0.2, label='95% confidence')\n",
    "ax.legend(loc='upper left')\n",
    "\n",
    "me"
   ]
  },
  {
   "cell_type": "markdown",
   "metadata": {},
   "source": [
    "`plt.fill_between` receives two mandatory and at least one optional argument.\n",
    "The first arguments produce the function to fill the area to,\n",
    "if a third argument is not given everything from $y=0$ will be filled.\n",
    "The third argument, if given, is the function (the y values) to which we fill to\n",
    "(instead of zero).\n",
    "\n",
    "The remaining arguments are to style the lines produced,\n",
    "this is another common pattern in `matplotlib`."
   ]
  },
  {
   "cell_type": "markdown",
   "metadata": {},
   "source": [
    "## References\n",
    "\n",
    "[Scikit-Learn - Gaussian Processes Regression - Introductory Example][gauss]\n",
    "\n",
    "[gauss]: http://scikit-learn.org/stable/auto_examples/gaussian_process/plot_gpr_noisy_targets.html \"Gaussian Process Example\""
   ]
  }
 ],
 "metadata": {
  "kernelspec": {
   "display_name": "Python 3",
   "language": "python",
   "name": "python3"
  },
  "language_info": {
   "codemirror_mode": {
    "name": "ipython",
    "version": 3
   },
   "file_extension": ".py",
   "mimetype": "text/x-python",
   "name": "python",
   "nbconvert_exporter": "python",
   "pygments_lexer": "ipython3",
   "version": "3.7.6"
  }
 },
 "nbformat": 4,
 "nbformat_minor": 4
}
