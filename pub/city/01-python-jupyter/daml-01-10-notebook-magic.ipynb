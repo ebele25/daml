{
 "cells": [
  {
   "cell_type": "markdown",
   "metadata": {},
   "source": [
    "# DAML 01 - Magic\n",
    "\n",
    "Michal Grochmal <michal.grochmal@city.ac.uk>"
   ]
  },
  {
   "cell_type": "markdown",
   "metadata": {
    "slideshow": {
     "slide_type": "slide"
    }
   },
   "source": [
    "IPython, and by induction Jupyter, extend the Python language with a handful\n",
    "of commands to streamline interactive work with it.\n",
    "These are mostly completions and *magics*.\n",
    "\n",
    "Completions (`<TAB>` completion) is a feature of IPython which we will not cover.\n",
    "Have a look at the first chapter of VanderPlas' book, which describes it."
   ]
  },
  {
   "cell_type": "markdown",
   "metadata": {},
   "source": [
    "## Help\n",
    "\n",
    "Python has a built-in `help()` function but typing it is lengthly.\n",
    "In IPython you can simply use the `?` character.\n",
    "The following examples open a *pager* to display help:"
   ]
  },
  {
   "cell_type": "code",
   "execution_count": null,
   "metadata": {},
   "outputs": [],
   "source": [
    "import urllib\n",
    "urllib.request.urlopen?"
   ]
  },
  {
   "cell_type": "markdown",
   "metadata": {},
   "source": [
    "Or the source code of the object:"
   ]
  },
  {
   "cell_type": "code",
   "execution_count": null,
   "metadata": {},
   "outputs": [],
   "source": [
    "urllib.request.urlopen??"
   ]
  },
  {
   "cell_type": "markdown",
   "metadata": {},
   "source": [
    "But one may not know what to display help for.\n",
    "In that case you can use *wildcards* to get a list of available objects.\n",
    "(This is equivalent to `filter(dir())` in plain Python.)"
   ]
  },
  {
   "cell_type": "code",
   "execution_count": null,
   "metadata": {},
   "outputs": [],
   "source": [
    "urllib.request.*open*?"
   ]
  },
  {
   "cell_type": "markdown",
   "metadata": {
    "slideshow": {
     "slide_type": "slide"
    }
   },
   "source": [
    "## Magic\n",
    "\n",
    "Most special functions inside IPython/Jupyter start with a `%` sign, these are called *magics*.\n",
    "A magic is *not* a Python function, it is a special function invoked inside the interpreter\n",
    "and never reaches the actual Python state.\n",
    "\n",
    "Line magics (that affect a single line) start with a single `%`,\n",
    "cell magics (for the entire cell) start with two signs (`%%`).\n",
    "\n",
    "A tutorial can be viewed by invoking:"
   ]
  },
  {
   "cell_type": "code",
   "execution_count": null,
   "metadata": {},
   "outputs": [],
   "source": [
    "%magic"
   ]
  },
  {
   "cell_type": "markdown",
   "metadata": {},
   "source": [
    "Or a reference:"
   ]
  },
  {
   "cell_type": "code",
   "execution_count": null,
   "metadata": {},
   "outputs": [],
   "source": [
    "%quickref"
   ]
  },
  {
   "cell_type": "markdown",
   "metadata": {},
   "source": [
    "Or even shorter:"
   ]
  },
  {
   "cell_type": "code",
   "execution_count": null,
   "metadata": {},
   "outputs": [],
   "source": [
    "%lsmagic"
   ]
  },
  {
   "cell_type": "markdown",
   "metadata": {
    "slideshow": {
     "slide_type": "slide"
    }
   },
   "source": [
    "A handful of useful magics when working inside a Jupyter notebook.\n",
    "\n",
    "- `%%writefile` - writes entire cell to a file\n",
    "- `%save` - evaluates current line and writes its output to a file\n",
    "- `%history` - prints command history\n",
    "- `%xmode` - defines how exceptions are displayed (see exercises)\n",
    "- `%timeit` - times a single line (or entire cell) of code\n",
    "- `%debug`/`%pdb` - enables debugger (which will start automatically on exceptions)\n",
    "- `%prun` - profiles a function call in a line\n",
    "\n",
    "The [full list][magics] of magics is quite big.\n",
    "\n",
    "[magics]: http://ipython.readthedocs.io/en/stable/interactive/magics.html"
   ]
  },
  {
   "cell_type": "code",
   "execution_count": null,
   "metadata": {},
   "outputs": [],
   "source": [
    "%timeit urllib.request.urlopen('https://www.city.ac.uk')"
   ]
  },
  {
   "cell_type": "code",
   "execution_count": null,
   "metadata": {},
   "outputs": [],
   "source": [
    "%%timeit\n",
    "urllib.request.urlopen('https://www.city.ac.uk')\n",
    "urllib.request.urlopen('https://www.bbc.co.uk')"
   ]
  },
  {
   "cell_type": "markdown",
   "metadata": {},
   "source": [
    "(There is something not quite right with the above, can you tell what it is?)\n",
    "\n",
    "Magics can do quite complex things, and they can work in a different fashion than plain Python.\n",
    "The following saves the first 10 lines of history to a file called `hist.py`.\n",
    "Try to figure out how it works."
   ]
  },
  {
   "cell_type": "code",
   "execution_count": null,
   "metadata": {},
   "outputs": [],
   "source": [
    "%save hist %history -n 1-10"
   ]
  },
  {
   "cell_type": "markdown",
   "metadata": {},
   "source": [
    "If things go wrong one can enable the debugger."
   ]
  },
  {
   "cell_type": "code",
   "execution_count": null,
   "metadata": {},
   "outputs": [],
   "source": [
    "def answer(x):\n",
    "    return x.question\n",
    "\n",
    "\n",
    "%pdb\n",
    "answer(42)"
   ]
  },
  {
   "cell_type": "markdown",
   "metadata": {
    "collapsed": true
   },
   "source": [
    "The debugger session above uses the `input` Python function,\n",
    "just revamped into a Jupyter interface.\n",
    "You can use the `input` directly."
   ]
  },
  {
   "cell_type": "code",
   "execution_count": null,
   "metadata": {},
   "outputs": [],
   "source": [
    "food_can = input('Which brand of can food did you buy today?')\n",
    "print('There is a', food_can, 'can in the fridge today.')"
   ]
  }
 ],
 "metadata": {
  "kernelspec": {
   "display_name": "Python 3",
   "language": "python",
   "name": "python3"
  },
  "language_info": {
   "codemirror_mode": {
    "name": "ipython",
    "version": 3
   },
   "file_extension": ".py",
   "mimetype": "text/x-python",
   "name": "python",
   "nbconvert_exporter": "python",
   "pygments_lexer": "ipython3",
   "version": "3.6.3"
  }
 },
 "nbformat": 4,
 "nbformat_minor": 1
}
