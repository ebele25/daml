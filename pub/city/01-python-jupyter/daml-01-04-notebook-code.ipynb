{
 "cells": [
  {
   "cell_type": "markdown",
   "metadata": {},
   "source": [
    "# DAML 01 - Code\n",
    "\n",
    "Michal Grochmal <michal.grochmal@city.ac.uk>"
   ]
  },
  {
   "cell_type": "markdown",
   "metadata": {},
   "source": [
    "Let's try running some code in the notebook.\n",
    "And learn about some IPython extras that are not available in normal Python."
   ]
  },
  {
   "cell_type": "markdown",
   "metadata": {},
   "source": [
    "## Cell state is for the entire notebook.\n",
    "\n",
    "The kernel state changes by running cells,\n",
    "and one can reference variables defined in other cells.\n",
    "Note that this can catch you unaware if you redefine a variable."
   ]
  },
  {
   "cell_type": "code",
   "execution_count": null,
   "metadata": {},
   "outputs": [],
   "source": [
    "x = 42"
   ]
  },
  {
   "cell_type": "code",
   "execution_count": null,
   "metadata": {},
   "outputs": [],
   "source": [
    "print(x)"
   ]
  },
  {
   "cell_type": "markdown",
   "metadata": {},
   "source": [
    "Keyboard shortcuts for running cells make one's life much easier:\n",
    "\n",
    "- `Enter` runs the current code cell and goes to the next cell.\n",
    "- `Shift-Enter` runs any (not only code) cell and goes to the next cell.\n",
    "- `Alt-Enter` runs the current cell and inserts a new one below.\n",
    "- `Ctrl-Enter` run the current cell and stays on the same cell."
   ]
  },
  {
   "cell_type": "markdown",
   "metadata": {},
   "source": [
    "## Output \n",
    "\n",
    "What is printed (to standard output) in the cell is displayed as its output.\n",
    "And what is printed to the standard error stream is displayed in red."
   ]
  },
  {
   "cell_type": "code",
   "execution_count": null,
   "metadata": {},
   "outputs": [],
   "source": [
    "print('cookies!')"
   ]
  },
  {
   "cell_type": "code",
   "execution_count": null,
   "metadata": {},
   "outputs": [],
   "source": [
    "import sys\n",
    "print('cookie jar is empty', file=sys.stderr)"
   ]
  },
  {
   "cell_type": "markdown",
   "metadata": {},
   "source": [
    "## Communication with the Kernel\n",
    "\n",
    "The code in the cells is executed by the kernel synchronously\n",
    "but the communication with the kernel is asynchronous.\n",
    "The interface is therefore responsive but one needs to wait for the previous\n",
    "operation to finish before new output can be generated.\n",
    "\n",
    "Execute the next two cells in quick succession."
   ]
  },
  {
   "cell_type": "code",
   "execution_count": null,
   "metadata": {},
   "outputs": [],
   "source": [
    "import time\n",
    "time.sleep(7)"
   ]
  },
  {
   "cell_type": "code",
   "execution_count": null,
   "metadata": {},
   "outputs": [],
   "source": [
    "print('finished')"
   ]
  },
  {
   "cell_type": "markdown",
   "metadata": {},
   "source": [
    "## Restarting\n",
    "\n",
    "The kernel may start an operation that takes too long, or, sometimes, just crash.\n",
    "In such a case one needs to restart the kernel:\n",
    "there is a button to perform this at the top of the interface\n",
    "but it can be also performed by hitting `00` (double zero) in command mode.\n",
    "\n",
    "*After restarting all state of the kernel (including variables) is lost.*\n",
    "Also, when you start a notebook anew or continue a previously shutdown notebook,\n",
    "a new kernel with clean state is attached to it.\n",
    "In other words, saving the notebook does not save kernel state."
   ]
  },
  {
   "cell_type": "markdown",
   "metadata": {},
   "source": [
    "## Asynchronous Output\n",
    "\n",
    "Let's see the asynchronous communication in action.\n",
    "By running the following code the Jupyter interface will slowly build the output."
   ]
  },
  {
   "cell_type": "code",
   "execution_count": null,
   "metadata": {},
   "outputs": [],
   "source": [
    "for i in range(10):\n",
    "    print(i)\n",
    "    time.sleep(0.5)"
   ]
  },
  {
   "cell_type": "markdown",
   "metadata": {},
   "source": [
    "Also, very large outputs will be added a scrollbar."
   ]
  },
  {
   "cell_type": "code",
   "execution_count": null,
   "metadata": {},
   "outputs": [],
   "source": [
    "for i in range(256):\n",
    "    print(i**2)"
   ]
  }
 ],
 "metadata": {
  "anaconda-cloud": {},
  "kernelspec": {
   "display_name": "Python 3",
   "language": "python",
   "name": "python3"
  },
  "language_info": {
   "codemirror_mode": {
    "name": "ipython",
    "version": 3
   },
   "file_extension": ".py",
   "mimetype": "text/x-python",
   "name": "python",
   "nbconvert_exporter": "python",
   "pygments_lexer": "ipython3",
   "version": "3.6.3"
  }
 },
 "nbformat": 4,
 "nbformat_minor": 1
}
