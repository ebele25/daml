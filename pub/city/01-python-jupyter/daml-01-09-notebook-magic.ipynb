{
 "cells": [
  {
   "cell_type": "markdown",
   "metadata": {},
   "source": [
    "# 01.05 Magic\n",
    "\n",
    "IPython, and by ordination Jupyter, extends the Python language with a handful\n",
    "of commands to streamline interactive work.\n",
    "These command are divided into completions and *magics*."
   ]
  },
  {
   "cell_type": "markdown",
   "metadata": {
    "slideshow": {
     "slide_type": "slide"
    }
   },
   "source": [
    "Completions (`<Tab>` completion) work in IPython and in insert (edit) mode\n",
    "of a jupyter notebook *code cell*.\n",
    "The completions understand the Python language and also know about the functions\n",
    "and variables currently defined in the kernel.\n",
    "The only way to get used to the completion is to try it out.\n",
    "Go on, open a code cell and try some completions."
   ]
  },
  {
   "cell_type": "markdown",
   "metadata": {},
   "source": [
    "## Help\n",
    "\n",
    "Python has a built-in `help()` function but typing it is lengthly\n",
    "(6 characters including the brackets).\n",
    "In IPython you can simply use the `?` character to access the help.\n",
    "The code cells below output a lot of text,\n",
    "to save space we will let you try this code on your own instead.\n",
    "Where the amount of text is not unreasonable we will still output it directly."
   ]
  },
  {
   "cell_type": "code",
   "execution_count": null,
   "metadata": {},
   "outputs": [],
   "source": [
    "import urllib\n",
    "urllib.request.urlopen?"
   ]
  },
  {
   "cell_type": "markdown",
   "metadata": {},
   "source": [
    "---\n",
    "\n",
    "By using two question marks (`??`) one gets the source code of the object.\n",
    "One could go and look into the source file instead but\n",
    "to be able to bring up the code without knowing where the source file is,\n",
    "is quite convenient."
   ]
  },
  {
   "cell_type": "code",
   "execution_count": null,
   "metadata": {},
   "outputs": [],
   "source": [
    "import urllib\n",
    "urllib.request.urlopen??"
   ]
  },
  {
   "cell_type": "markdown",
   "metadata": {},
   "source": [
    "---\n",
    "\n",
    "The double question mark brings the source of the object,\n",
    "not the contents of the entire file containing the code for the object.\n",
    "Depending on what one is searching for this may be nicer (less to read)\n",
    "or worse (cannot search within the file)\n",
    "than searching for the source file itself and browsing it.\n",
    "In Python, modules on the import line are files,\n",
    "hence one can bring the entire file by asking for the code\n",
    "of the object representing the module file.\n",
    "In the case above, to bring the full source file one could do `urllib.request??`.\n",
    "\n",
    "But one may not know what to display help for.\n",
    "In that case you can use *wildcards* to get a list of available objects.\n",
    "(This is similar to searching with `filter(..., dir(object))` in plain Python.)"
   ]
  },
  {
   "cell_type": "code",
   "execution_count": null,
   "metadata": {},
   "outputs": [],
   "source": [
    "import urllib\n",
    "urllib.request.*open*?"
   ]
  },
  {
   "cell_type": "markdown",
   "metadata": {},
   "source": [
    "![Magic](py-magic.svg)\n",
    "\n",
    "<div style=\"text-align:right;\"><sup>py-magic.svg</sup></div>"
   ]
  },
  {
   "cell_type": "markdown",
   "metadata": {
    "slideshow": {
     "slide_type": "slide"
    }
   },
   "source": [
    "## Magic\n",
    "\n",
    "The special commands that only exist inside IPython/Jupyter start with a `%` sign,\n",
    "these are objects within IPython and are called *magics*.\n",
    "A magic is *not* a Python function, it is a special callable object invoked\n",
    "inside the interpreter and never reaches the actual Python (kernel) state.\n",
    "\n",
    "Line magics (that affect a single line of code) start with a single `%`,\n",
    "cell magics (for the entire cell) start with two signs (`%%`).\n",
    "\n",
    "A *full tutorial about magics* can be viewed by invoking:"
   ]
  },
  {
   "cell_type": "code",
   "execution_count": null,
   "metadata": {},
   "outputs": [],
   "source": [
    "%magic"
   ]
  },
  {
   "cell_type": "markdown",
   "metadata": {},
   "source": [
    "---\n",
    "\n",
    "And a reference by running:"
   ]
  },
  {
   "cell_type": "code",
   "execution_count": null,
   "metadata": {},
   "outputs": [],
   "source": [
    "%quickref"
   ]
  },
  {
   "cell_type": "markdown",
   "metadata": {},
   "source": [
    "---\n",
    "\n",
    "Or even an even shorter printout listing the available magics by using:"
   ]
  },
  {
   "cell_type": "code",
   "execution_count": null,
   "metadata": {},
   "outputs": [],
   "source": [
    "%lsmagic"
   ]
  },
  {
   "cell_type": "markdown",
   "metadata": {},
   "source": [
    "---\n",
    "\n",
    "A handful of useful magics when working inside a jupyter notebook are:\n",
    "\n",
    "- `%%writefile` - writes the entire cell to a file\n",
    "- `%save` - evaluates current line and writes its output to a file\n",
    "- `%history` - prints the IPython command history (including magics)\n",
    "- `%xmode` - defines how exceptions are displayed (see exercises that follow)\n",
    "- `%timeit` - times a single line (or entire cell with `%%timeit`) of code\n",
    "- `%pdb` - the Python DeBugger (when enabled, will start automatically on exceptions)\n",
    "- `%prun` - profiles a function call in a line\n",
    "\n",
    "The [full list][magics] of magics in IPython is quite long,\n",
    "although most magics are not overly useful when working within\n",
    "a jupyter notebook.\n",
    "\n",
    "[magics]: http://ipython.readthedocs.io/en/stable/interactive/magics.html"
   ]
  },
  {
   "cell_type": "markdown",
   "metadata": {},
   "source": [
    "### Timing Code\n",
    "\n",
    "Figuring out which algorithm runs faster is a common task in data science,\n",
    "therefore we will have a quick look at the `%timeit` magic.\n",
    "This magic can be used both as a line magic - to evaluate how fast a single\n",
    "line of code runs - or as a cell magic - to evaluate the time of the whole cell.\n",
    "If you remember, line magics use a single percentage (`%`) sign:"
   ]
  },
  {
   "cell_type": "code",
   "execution_count": null,
   "metadata": {},
   "outputs": [],
   "source": [
    "%timeit urllib.request.urlopen('https://www.city.ac.uk')"
   ]
  },
  {
   "cell_type": "markdown",
   "metadata": {},
   "source": [
    "---\n",
    "\n",
    "And cell magics use a double percentage sign (`%%`):"
   ]
  },
  {
   "cell_type": "code",
   "execution_count": null,
   "metadata": {},
   "outputs": [],
   "source": [
    "%%timeit\n",
    "urllib.request.urlopen('https://www.city.ac.uk')\n",
    "urllib.request.urlopen('https://www.bbc.co.uk')"
   ]
  },
  {
   "cell_type": "markdown",
   "metadata": {},
   "source": [
    "---\n",
    "\n",
    "The `timeit` magic runs the code several times and takes the mean time of all runs.\n",
    "How many runs are performed is heuristically selected.\n",
    "It will be the most common timing procedure,\n",
    "since running the code several times takes away possible issues\n",
    "with the machine running a different program at the exact same time."
   ]
  },
  {
   "cell_type": "markdown",
   "metadata": {},
   "source": [
    "Another timing magic is `time`, which runs the code only once.\n",
    "One needs to run in several time in order to have a good estimate.\n",
    "The `time` magic is analogous to the \\*nix shell command of the same name,\n",
    "it provides the running time subdivided into system and user time.\n",
    "Unless specific needs exist to check between system calls,\n",
    "CPU running time and IO waits;\n",
    "`timeit` is an easier to use option.\n",
    "\n",
    "Note: evaluating the timing of network connections,\n",
    "as we have done in the examples, is best made in other ways\n",
    "than plain system timing (e.g. timing at each network hop).\n",
    "Yet, for simplicity we ignore network complexities here."
   ]
  },
  {
   "cell_type": "markdown",
   "metadata": {},
   "source": [
    "### Below the hood\n",
    "\n",
    "Magics can do quite complex things, and they can work in a different fashion than plain Python.\n",
    "Next we see some magics that accept arguments in a similar way to shell commands.\n",
    "The following saves the first 10 lines of history to a file called `hist.py`.\n",
    "Try to figure out how it works."
   ]
  },
  {
   "cell_type": "code",
   "execution_count": null,
   "metadata": {},
   "outputs": [],
   "source": [
    "%save hist %history -n 1-10"
   ]
  },
  {
   "cell_type": "markdown",
   "metadata": {},
   "source": [
    "---\n",
    "\n",
    "The history shown above gives a hint of what is happening below the hood.\n",
    "A magic is invoked by a method of an IPython object,\n",
    "which exists within the IPython kernel session."
   ]
  },
  {
   "cell_type": "markdown",
   "metadata": {},
   "source": [
    "### Debugging\n",
    "\n",
    "If things go wrong one can enable the debugger, and Python has a default built-in debugger: `pdb`.\n",
    "The debugger will kick in whenever an uncaught exception is raised.\n",
    "\n",
    "Describing what a debugger is and how to use one is far beyond our goals,\n",
    "moreover a debugger is not necessary for the majority of data analytics tasks.\n",
    "Therefore, if you have never used a debugger before, feel free to ignore this\n",
    "section and also the exercises that involve debugging."
   ]
  },
  {
   "cell_type": "code",
   "execution_count": null,
   "metadata": {},
   "outputs": [],
   "source": [
    "def answer(x):\n",
    "    return x.question\n",
    "\n",
    "\n",
    "%pdb on\n",
    "answer(42)"
   ]
  },
  {
   "cell_type": "markdown",
   "metadata": {},
   "source": [
    "When a code cell fails one can then re-run the cell after adding\n",
    "`%pdb on` to the cell.\n",
    "Re-running a cell in this fashion allows to find the offending code\n",
    "and even change the values of variables and continue execution.\n",
    "\n",
    "But what if a cell is very expensive to run?\n",
    "One which may take several hours before the exception happens.\n",
    "Another magic is the `%debug`, designed for exceptions\n",
    "in expensive - long running - cells.\n",
    "`%debug` explicitly invokes the debugger.\n",
    "In other words, *after* an unexpected exception occurs\n",
    "one can invoke `%debug`, by itself\n",
    "in a new cell, to start the debugger on the current trace.\n",
    "Debugging a stack trace that has already executed\n",
    "will not allow one to continue the code after correcting the\n",
    "failure but may allow to find the problem and correct it\n",
    "in the cell before re-running it."
   ]
  },
  {
   "cell_type": "markdown",
   "metadata": {},
   "source": [
    "The debugger session in the notebook uses the `input` Python function,\n",
    "although the function is revamped into a Jupyter interface.\n",
    "\n",
    "You can use the `input` function directly.\n",
    "Below we create a simple prompt."
   ]
  },
  {
   "cell_type": "code",
   "execution_count": null,
   "metadata": {},
   "outputs": [],
   "source": [
    "food_can = input('Which brand of cat food did you buy today? ')\n",
    "print('There is a', food_can, 'can in the fridge today.')"
   ]
  },
  {
   "cell_type": "markdown",
   "metadata": {},
   "source": [
    "---\n",
    "\n",
    "There are many more magics out there.\n",
    "Most magics are meant for interactive sessions inside the IPython command line,\n",
    "therefore such magics are not commonly used in notebooks.\n",
    "That said, a few libraries that we will see do use magics\n",
    "to perform some notebook operations."
   ]
  },
  {
   "cell_type": "markdown",
   "metadata": {},
   "source": [
    "## Extra References\n",
    "\n",
    "* [IPython - Official tutorial][1]\n",
    "* [IPython - Built-in magics][2]\n",
    "\n",
    "[1]: https://ipython.readthedocs.io/en/stable/interactive/tutorial.html\n",
    "[2]: https://ipython.readthedocs.io/en/stable/interactive/magics.html"
   ]
  }
 ],
 "metadata": {
  "kernelspec": {
   "display_name": "Python 3",
   "language": "python",
   "name": "python3"
  },
  "language_info": {
   "codemirror_mode": {
    "name": "ipython",
    "version": 3
   },
   "file_extension": ".py",
   "mimetype": "text/x-python",
   "name": "python",
   "nbconvert_exporter": "python",
   "pygments_lexer": "ipython3",
   "version": "3.7.6"
  }
 },
 "nbformat": 4,
 "nbformat_minor": 4
}
