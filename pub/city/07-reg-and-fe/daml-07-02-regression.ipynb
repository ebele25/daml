{
 "cells": [
  {
   "cell_type": "markdown",
   "metadata": {},
   "source": [
    "# 07.01 Regression\n",
    "\n",
    "Regression is different from classification in that it tries to predict continuous values.\n",
    "In other words, we are predicting a value instead of classes or labels.\n",
    "Regression is somewhat older than classification, and stems from experimental science,\n",
    "which collected data in the attempt to find mathematical representations\n",
    "(functions) of natural phenomena.\n",
    "During that period regression was (and often still is) called *function approximation*.\n",
    "The simplest form of regression is the *least squares* technique."
   ]
  },
  {
   "cell_type": "markdown",
   "metadata": {},
   "source": [
    "![Car Driving](fe-driver.svg)\n",
    "\n",
    "<div style=\"text-align:right;\"><sup>fe-driver.svg</sup></div>"
   ]
  },
  {
   "cell_type": "markdown",
   "metadata": {},
   "source": [
    "Let's say that we performed an collected experimental data.\n",
    "This data is likely to be an insight into a process about which we want to learn.\n",
    "Yet, the data is incomplete and ridden with experimental error,\n",
    "making it hard to recreate the process that was measured.\n",
    "In the simplest case we'd like to find a line $y = w_1x + w_0$ which\n",
    "*we assume* would be a good approximation of the process.\n",
    "\n",
    "Note: There are several notations used for linear regression or function approximation.\n",
    "Some literature will draw the line equation as $f(x) = ax + b$, others as $y = a_0 + a_1x$,\n",
    "or a combination of these notations.\n",
    "In Machine Learning most people prefer to use $w$ to denote the parameters,\n",
    "a mnemonic to *weight*.  In this notation we write the line equation as $y = w_1x + w_0$.\n",
    "\n",
    "`sklearn`'s `LinearRegression`, by default, performs a least squares approximation."
   ]
  },
  {
   "cell_type": "code",
   "execution_count": null,
   "metadata": {},
   "outputs": [],
   "source": [
    "import numpy as np\n",
    "import matplotlib.pyplot as plt\n",
    "%matplotlib inline\n",
    "plt.style.use('seaborn-talk')\n",
    "from sklearn.linear_model import LinearRegression"
   ]
  },
  {
   "cell_type": "markdown",
   "metadata": {},
   "source": [
    "## Road Trip\n",
    "\n",
    "As a simple example we can **estimate the mean speed** on a road curve by **measuring\n",
    "the position** of every car starting from the entry into the curve $(t = 0)$.\n",
    "Let's say we got the following measures."
   ]
  },
  {
   "cell_type": "code",
   "execution_count": null,
   "metadata": {},
   "outputs": [],
   "source": [
    "t = 10*np.random.rand(128)\n",
    "pos = 7 + t*3 + 2*np.random.randn(*t.shape)\n",
    "fig, ax = plt.subplots(figsize=(14, 6))\n",
    "ax.plot(t, pos, 'o', color='crimson', alpha=0.7)\n",
    "ax.set_xlabel('time (s)')\n",
    "ax.set_ylabel('position (m)');"
   ]
  },
  {
   "cell_type": "markdown",
   "metadata": {},
   "source": [
    "Note that by out variable naming `t` $= x$ and `pos` $= y$.\n",
    "\n",
    "Least squares attempts to minimize the error (residual) across all points:\n",
    "\n",
    "$$r = \\sum_{i=1}^{N} (f(x_i) - y_i)^2 = \\sum (f(\\vec{X}) - \\vec{y})^2$$\n",
    "\n",
    "We can say that we are minimizing the error of the point to a function of the form:\n",
    "\n",
    "$$y = w_1x + w_0$$\n",
    "\n",
    "The notation using $w$s is typical for machine learning - standing for weights,\n",
    "statistics would often use $\\beta$s and physicists would use several letters\n",
    "such as $a$, $b$, $c$ and so on.\n",
    "One will need to get used to such changes in notation,\n",
    "until the point where - having seen enough different texts - one does\n",
    "not even consider a change in letters a change in notation."
   ]
  },
  {
   "cell_type": "markdown",
   "metadata": {},
   "source": [
    "The minimization, in two dimensions, can be understood as (here $X$, $w$ and $y$ are vectors):\n",
    "\n",
    "$$\\min_{w} \\|Xw - y\\|$$\n",
    "\n",
    "For the case of a line $y = w_1x + w_0$ we search for the parameters $w_0$ and $w_1$,\n",
    "and these can be found analytically.\n",
    "There are several ways of getting to these equations,\n",
    "one of them is to walk the function formed by the residuals for all values of $w_0$ and $w_1$.\n",
    "The surface of the parameters $w_0$ and $w_1$ is concave,\n",
    "therefore exist a single point where the gradient is exactly zero.\n",
    "Form this point we get.\n",
    "\n",
    "$$\n",
    "w_0 = \\frac{\\overline{y} \\sum_{i=0}^{n} x_i^2 - \\overline{x} \\sum_{i=0}^{n} x_iy_i}\n",
    "{\\sum_{i=0}^{n} x_i^2 - n \\overline{x}^2}\\\\\n",
    "w_1 = \\frac{\\sum_{i=0}^{n} x_iy_i - n \\overline{x} \\overline{y}}\n",
    "{\\sum_{i=0}^{n} x_i^2 - n \\overline{x}^2}\n",
    "$$\n",
    "\n",
    "In our case $w_1$ is the *mean speed* we are after.  `sklearn` will do the calculation for us.\n",
    "The linear regression in `sklearn` produces the resulting parameters as `intercept_` containing $w_0$\n",
    "and `coef_` containing $w_1, w_2, ...$ (for example, in the case where we have more dimensions).\n",
    "Compare these to the values we used to generate the data."
   ]
  },
  {
   "cell_type": "code",
   "execution_count": null,
   "metadata": {},
   "outputs": [],
   "source": [
    "model = LinearRegression()\n",
    "model.fit(t[:, np.newaxis], pos)\n",
    "xfit = np.linspace(0, 10, 1000)\n",
    "yfit = model.predict(xfit[:, np.newaxis])\n",
    "\n",
    "fig, ax = plt.subplots(figsize=(14, 6))\n",
    "ax.scatter(t, pos, color='crimson', alpha=0.7)\n",
    "ax.plot(xfit, yfit, color='navy')\n",
    "ax.set_xlabel('time (s)')\n",
    "ax.set_ylabel('position (m)')\n",
    "model.intercept_, model.coef_"
   ]
  },
  {
   "cell_type": "markdown",
   "metadata": {},
   "source": [
    "Now we know how to **measure the mean speed** (assuming that we can compare positions very quickly).\n",
    "But what if we want the **typical speed at each point** across more than just a single curve?\n",
    "Let's generate some data that is akin of:\n",
    "\n",
    "1. Slowing down before turn.\n",
    "2. Gaining speed slowly in the turn.\n",
    "3. Gaining speed faster after exiting the curve.\n",
    "\n",
    "Note that the axis labels have changed.\n",
    "Now we know how to measure the mean speed,\n",
    "we are advancing towards a curve in which the speed changes."
   ]
  },
  {
   "cell_type": "code",
   "execution_count": null,
   "metadata": {},
   "outputs": [],
   "source": [
    "t = 20*np.random.rand(256)\n",
    "spd = 7 + 0.2*(t-7.5)**2 + 2*np.random.randn(*t.shape)\n",
    "fig, ax = plt.subplots(figsize=(14, 9))\n",
    "ax.plot(t, spd, 'o', color='crimson')\n",
    "ax.set_xlabel('time (s)')\n",
    "ax.set_ylabel('speed (km/h)');"
   ]
  },
  {
   "cell_type": "markdown",
   "metadata": {},
   "source": [
    "That kind of looks like a function akin of:\n",
    "\n",
    "$$y = w_2x^2 + w_1x + w_0$$\n",
    "\n",
    "The traditional (read: non-computational) method to solve this problem is to get rid of $x^2$\n",
    "by applying a logarithmic transformation to the axes, and then apply the linear\n",
    "regression as normal since the graph would be a line.  For example:"
   ]
  },
  {
   "cell_type": "code",
   "execution_count": null,
   "metadata": {},
   "outputs": [],
   "source": [
    "fig, ax = plt.subplots(figsize=(14, 9))\n",
    "ax.plot(t, np.log(spd), 'o', color='crimson')\n",
    "ax.set_xlabel('time (s)')\n",
    "ax.set_ylabel('ln(speed) (km/h)');"
   ]
  },
  {
   "cell_type": "markdown",
   "metadata": {},
   "source": [
    "We can now divide our data at, say, $t = 7.5$ and generate two linear regressions,\n",
    "one for each side.  But there are better ways!\n",
    "\n",
    "Since we can easily operate in more than two dimensions (time and speed in our case)\n",
    "let's build this same model in three dimensions: time, speed *and speed squared*.\n",
    "`sklearn` provides us with `PolynomialFeatures` preprocessor for such cases.\n",
    "\n",
    "In more dimensions we will search for more coefficients.\n",
    "The general least squares equation can compe with as many dimensions as we need:\n",
    "\n",
    "$$\\min_{w_1, \\dots, w_{d - 1}} \\|Xw_j - y\\|$$\n",
    "\n",
    "Which is analogous to:\n",
    "\n",
    "$$f(x_0, x_1, \\dots, x_i) = w_0 + w_1x_0 + w_2x_1\\dots + w_ix_{i-1} + w_{i+1}x_i$$\n",
    "\n",
    "Where a single coefficient is multiplies by each dimension (each axis).\n",
    "But nothing prevents us from doing the following,\n",
    "i.e. use the same dimension twice, with a tweak:\n",
    "\n",
    "$$f(x) = w_0 + w_1x + w_2x^2$$\n",
    "\n",
    "This is still a linear model since neither $w$ parameter multiplies each other.\n",
    "`sklearn`'s `PolynomialFeatures` can transform the data for us\n",
    "(instead of us doing it by hand)."
   ]
  },
  {
   "cell_type": "code",
   "execution_count": null,
   "metadata": {},
   "outputs": [],
   "source": [
    "from sklearn.preprocessing import PolynomialFeatures\n",
    "\n",
    "pol = PolynomialFeatures(degree=2)\n",
    "pol.fit_transform(t[:, np.newaxis])[:10, :]"
   ]
  },
  {
   "cell_type": "markdown",
   "metadata": {},
   "source": [
    "That looks good, we have a matrix of parameters for $t^0, t^1 t^2$,\n",
    "now we can fit a line to that and then multiply by these parameters\n",
    "again when we `perdict` the result.\n",
    "Remembering to multiply things back when predicting is something that `sklearn` can do for us.\n",
    "We use a **pipeline** which joins one - or more - preprocessors with an estimator,\n",
    "in this case we join the polynomial features with the linear regression.\n",
    "The `make_pipeline` procedure takes several `sklearn` objects,\n",
    "that contain `fit`, `transform` and `predict` methods,\n",
    "and joins them together.\n",
    "This is what a Polynomial Regression is below the hood.\n",
    "\n",
    "In a pipeline `P` of say three objects `A`, `B` and `C` when one calls\n",
    "`P.fit(X, y)` it is equivalent to call\n",
    "`C.fit(*B.fit_transform(*A.fit_transform(X, y)))`.\n",
    "And a call such as `P.predict(X)` is equivalent as one would do\n",
    "`C.predict(B.transform(A.transform(X)))`.\n",
    "The pipeline just reduces the amount of typing one needs to do.\n",
    "`sklearn` also knows how to access individual parts of the pipeline,\n",
    "and will have shortcuts for us whenever we will need to\n",
    "access parts of the pipeline.\n",
    "\n",
    "We now have one *hyperparameter* in our model, the degree of the polynomial.\n",
    "That said, we are rather confident that we are after a 2nd degree polynomial,\n",
    "therefore we probably know the best value for that hyperparameter."
   ]
  },
  {
   "cell_type": "code",
   "execution_count": null,
   "metadata": {},
   "outputs": [],
   "source": [
    "from sklearn.pipeline import make_pipeline\n",
    "\n",
    "model = make_pipeline(PolynomialFeatures(degree=2), LinearRegression())\n",
    "model.fit(t[:, np.newaxis], spd[:, np.newaxis])\n",
    "xfit = np.linspace(0, 20, 2000)\n",
    "yfit = model.predict(xfit[:, np.newaxis])\n",
    "fig, ax = plt.subplots(figsize=(14, 9))\n",
    "ax.scatter(t, spd, color='crimson', alpha=0.7)\n",
    "ax.plot(xfit, yfit, color='navy')\n",
    "ax.set_xlabel('time (s)')\n",
    "ax.set_ylabel('speed (km/h)')\n",
    "model"
   ]
  },
  {
   "cell_type": "markdown",
   "metadata": {},
   "source": [
    "And to get the values for $w_0$, $w_1$ and $w_2$ as in the function we defined.\n",
    "\n",
    "$$f(x) = w_0 + w_1x + w_2x^2$$\n",
    "\n",
    "We just check for the parameters in the model.\n",
    "These can be again compared to the values we used to generate the data,\n",
    "although this time it may be a little harder since we used some brackets\n",
    "to group the equation.\n",
    "Since we used polynomial features there is a zero in the `coef_` array,\n",
    "this is a placeholder for the intercept value which is held in `intercept_`."
   ]
  },
  {
   "cell_type": "code",
   "execution_count": null,
   "metadata": {},
   "outputs": [],
   "source": [
    "model.named_steps.linearregression.intercept_, model.named_steps.linearregression.coef_"
   ]
  },
  {
   "cell_type": "markdown",
   "metadata": {},
   "source": [
    "We are confident, by-eye, that our estimation is good.\n",
    "Still, let's be careful and evaluate how our model performs on unknown data.\n",
    "\n",
    "Each model type in `sklearn` contains a `score` method,\n",
    "which contains a scoring method appropriate for a common model of that type.\n",
    "On classification models it will contain the mean accuracy or F1 score.\n",
    "For the linear regression the scoring is the [Coefficient of Determination (R2)][r2score]:\n",
    "the residual error after regression divided by the total regression error\n",
    "\n",
    "[r2score]: https://en.wikipedia.org/wiki/Coefficient_of_determination\n",
    "\n",
    "In statistics it is often argued that $R2$ ranges from $0$ to $1$.\n",
    "But that is under the assumption that no model will ever perform worse\n",
    "than always outputting the mean of the data.\n",
    "In machine learning one can build a model that performs worse than\n",
    "such a mean outputting model,\n",
    "hence negative values of $R2$ happen."
   ]
  },
  {
   "cell_type": "code",
   "execution_count": null,
   "metadata": {},
   "outputs": [],
   "source": [
    "from sklearn.model_selection import train_test_split\n",
    "\n",
    "t1, t2, s1, s2 = train_test_split(t, spd, train_size=0.7, test_size=0.3)\n",
    "model = make_pipeline(PolynomialFeatures(degree=2), LinearRegression())\n",
    "model.fit(t1[:, np.newaxis], s1[:, np.newaxis])\n",
    "model.score(t2[:, np.newaxis], s2[:, np.newaxis])"
   ]
  },
  {
   "cell_type": "markdown",
   "metadata": {},
   "source": [
    "## Cross Validation\n",
    "\n",
    "The score varies depending on how the training and test sets are selected.\n",
    "Therefore, in order to get a good sense on how the model performs,\n",
    "we should repeat the train-test split and perform the scoring at each split.\n",
    "\n",
    "Yet, `sklearn` has automated that for us  with `cross_val_score`, a way of splitting data\n",
    "into training and test sets in several part and then scoring each pair.\n",
    "This concept is called **cross-validation** and is prominent in all of machine learning.\n",
    "In cross validation we split the data into equally sized folds,\n",
    "then train the model on all folds but one and then evaluate (score) the model\n",
    "on the remaining fold.\n",
    "We then repeat the procedure with every fold being left out as the testing set once.\n",
    "\n",
    "By default `cross_val_score` will simply split the data into adjacent folds,\n",
    "one can pass, say, `cv=7` as an argument to split into $7$ adjacent folds.\n",
    "Splitting into adjacent folds does not involve randomness,\n",
    "as it has been the case when we used `train_test_split`.\n",
    "This is a good procedure when the data one is dealing with is presented\n",
    "to the model in a random order,\n",
    "i.e. if the dataset has no particular order of values or labels.\n",
    "In most cases datasets have order, e.g. one label is at the top of\n",
    "the dataset and another at the bottom.\n",
    "In order to remove the impact of data ordering we can define how folds\n",
    "of the data are created.\n",
    "We pass as the argument to `cv=` a `KFold` object which defines how the folds\n",
    "are to be created.\n",
    "In the case below we ask for $5$ folds, and also ask for the data to be shuffled\n",
    "(at random) before the fold creation,\n",
    "preventing the impact of any order of samples within the dataset."
   ]
  },
  {
   "cell_type": "code",
   "execution_count": null,
   "metadata": {},
   "outputs": [],
   "source": [
    "from sklearn.model_selection import cross_val_score, KFold\n",
    "\n",
    "model = make_pipeline(PolynomialFeatures(degree=2), LinearRegression())\n",
    "cross_val_score(model, t[:, np.newaxis], spd[:, np.newaxis], cv=KFold(n_splits=5, shuffle=True))"
   ]
  },
  {
   "cell_type": "markdown",
   "metadata": {},
   "source": [
    "Depending on our needs we can take the mean or the lowest value\n",
    "to estimate the performance of our model.\n",
    "If we have lots of data, taking the minimum value is a good measure\n",
    "since it may account for entire groups of data that are badly learned.\n",
    "But if we have very few data points a mean is more meaningful,\n",
    "as a single low value may be a case of few outliers - possibly\n",
    "mistakes in the dataset itself.\n",
    "\n",
    "Now we can reasonably say that we are confident in our model.\n",
    "In other words, thanks to the cross-validation scores,\n",
    "we are confident that our model can reasonably predict values for new input data.\n",
    "In machine learning we often say that our model can **generalize** well\n",
    "to previously unknown data."
   ]
  }
 ],
 "metadata": {
  "anaconda-cloud": {},
  "kernelspec": {
   "display_name": "Python 3",
   "language": "python",
   "name": "python3"
  },
  "language_info": {
   "codemirror_mode": {
    "name": "ipython",
    "version": 3
   },
   "file_extension": ".py",
   "mimetype": "text/x-python",
   "name": "python",
   "nbconvert_exporter": "python",
   "pygments_lexer": "ipython3",
   "version": "3.7.6"
  }
 },
 "nbformat": 4,
 "nbformat_minor": 4
}
