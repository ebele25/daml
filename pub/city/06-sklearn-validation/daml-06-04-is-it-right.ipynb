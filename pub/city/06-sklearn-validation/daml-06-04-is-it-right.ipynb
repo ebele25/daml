{
 "cells": [
  {
   "cell_type": "markdown",
   "metadata": {},
   "source": [
    "# 06.03 - Is it right?\n",
    "\n",
    "Writing a Machine Learning algorithm is only half the work.\n",
    "To use such an algorithm to produce a meaningful model\n",
    "and to be able to say that the predictions made by this model\n",
    "are likely correct is often an even harder job.\n",
    "Let us import a handful of useful things,\n",
    "we will go through the use of these procedures when we need them."
   ]
  },
  {
   "cell_type": "markdown",
   "metadata": {},
   "source": [
    "![Neighbours](skl-neighbours.svg)\n",
    "\n",
    "<div style=\"text-align:right;\"><sup>skl-neighbours.svg</sup></div>"
   ]
  },
  {
   "cell_type": "code",
   "execution_count": null,
   "metadata": {},
   "outputs": [],
   "source": [
    "import numpy as np\n",
    "import matplotlib.pyplot as plt\n",
    "%matplotlib inline\n",
    "plt.style.use('seaborn-talk')\n",
    "from sklearn.datasets import make_blobs\n",
    "from sklearn.model_selection import train_test_split\n",
    "from sklearn.metrics import accuracy_score, f1_score"
   ]
  },
  {
   "cell_type": "markdown",
   "metadata": {},
   "source": [
    "We will also reconstruct our $k$ nearest neighbors algorithm.\n",
    "We know how the algorithm works hence we should take it for a ride."
   ]
  },
  {
   "cell_type": "code",
   "execution_count": null,
   "metadata": {},
   "outputs": [],
   "source": [
    "class MyKNN(object):\n",
    "    def __init__(self, k=1):\n",
    "        self.k_ = k\n",
    "\n",
    "    def fit(self, X, y):\n",
    "        self.X_ = X\n",
    "        self.y_ = y\n",
    "\n",
    "    def predict(self, new_X):\n",
    "        sq_dist_dim = (self.X_[:, np.newaxis, :] - new_X[np.newaxis, :, :])**2\n",
    "        sq_dist = sq_dist_dim.sum(axis=-1)\n",
    "        self.nearest_ = np.argpartition(sq_dist, self.k_, axis=0)\n",
    "        new_y = self.y_[self.nearest_[:self.k_, :]]\n",
    "        new_y = np.apply_along_axis(lambda x: np.bincount(x, minlength=2), axis=0, arr=new_y)\n",
    "        return new_y.argmax(axis=0)"
   ]
  },
  {
   "cell_type": "markdown",
   "metadata": {},
   "source": [
    "The `make_blobs` procedure build a random dataset,\n",
    "a dataset that is within the limitations of our $k$ nearest neighbor implementation.\n",
    "We ask for $30$ points in $2$ dimensions, these will have $2$ centers:\n",
    "class $0$ which we will call *blue*, and class $1$ which we will call *yellow*.\n",
    "The randomness and spread of the blobs is fixed to generate one very specific dataset.\n",
    "\n",
    "After that we generate $6$ more points, these we will call *green*.\n",
    "These new green points are data we have no knowledge whether they\n",
    "belong to the blue or yellow group.\n",
    "We will use our $k$ nearest neighbor algorithm to build a model\n",
    "that will predict the belonging of the green points.\n",
    "\n",
    "Since $k$ is a hyperparameter - a free value - we can choose any value for it.\n",
    "We will choose $1$ and $5$ for $k$ and see how the results of classifying\n",
    "with these two models compare."
   ]
  },
  {
   "cell_type": "code",
   "execution_count": null,
   "metadata": {},
   "outputs": [],
   "source": [
    "random_state = 27\n",
    "rng = np.random.RandomState(random_state)\n",
    "X, y = make_blobs(30, 2, centers=2, cluster_std=0.2, center_box=(0, 1), random_state=random_state)\n",
    "new_X = rng.rand(6, 2)\n",
    "\n",
    "knn_left = MyKNN(k=1)\n",
    "knn_left.fit(X, y)\n",
    "new_yl = knn_left.predict(new_X)\n",
    "\n",
    "knn_right = MyKNN(k=5)\n",
    "knn_right.fit(X, y)\n",
    "new_yr = knn_right.predict(new_X)\n",
    "\n",
    "fig, ax = plt.subplots(2, 2, figsize=(16, 10))\n",
    "fig.subplots_adjust(hspace=0, wspace=0)\n",
    "ax[0, 0].set_title('k =  1')\n",
    "ax[0, 0].scatter(X[:, 0], X[:, 1], s=50, c=y, cmap='plasma')\n",
    "ax[0, 0].scatter(new_X[:, 0], new_X[:, 1], s=200, color='limegreen')\n",
    "ax[1, 0].scatter(X[:, 0], X[:, 1], s=50, c=y, cmap='plasma')\n",
    "ax[1, 0].scatter(new_X[:, 0], new_X[:, 1], s=200, c=new_yl, cmap='plasma')\n",
    "ax[0, 1].set_title('k =  5')\n",
    "ax[0, 1].scatter(X[:, 0], X[:, 1], s=50, c=y, cmap='plasma')\n",
    "ax[0, 1].scatter(new_X[:, 0], new_X[:, 1], s=200, color='limegreen')\n",
    "ax[1, 1].scatter(X[:, 0], X[:, 1], s=50, c=y, cmap='plasma')\n",
    "ax[1, 1].scatter(new_X[:, 0], new_X[:, 1], s=200, c=new_yr, cmap='plasma')\n",
    "for axi in ax.flat:\n",
    "    axi.axis('equal')\n",
    "    axi.set_xticks([], [])\n",
    "    axi.set_yticks([], [])\n",
    "new_yl, new_yr"
   ]
  },
  {
   "cell_type": "markdown",
   "metadata": {},
   "source": [
    "On the left, where we used $k$ as $1$, we see northern green points\n",
    "classified as yellow and the southern green points as blue.\n",
    "On the right, where we used $k$ as $5$, we see the north-eastern green points\n",
    "classified as yellow and the south-western green points classified as blue.\n",
    "We also output the final classification made by our models for the green points,\n",
    "$0$ means a blue prediction and $1$ a yellow one.\n",
    "\n",
    "The algorithm works but the difference in the classification when we change $k$ is considerable.\n",
    "Which of the models is right?  Is any of them right?\n",
    "Is there a way for us to know which value of $k$\n",
    "is more likely to produce good classification for the green points?"
   ]
  },
  {
   "cell_type": "markdown",
   "metadata": {},
   "source": [
    "We cannot use the green points to check whether we are classifying\n",
    "them correctly because we do not know what they should be\n",
    "classified as in the first place.\n",
    "The only points we know the labels for are the points\n",
    "generated when building the blob.\n",
    "We must use the points for which we know the labels\n",
    "to validate out classifier (model).\n",
    "There are several ways to do it, let's start experimenting."
   ]
  },
  {
   "cell_type": "markdown",
   "metadata": {},
   "source": [
    "How **NOT** to do it:"
   ]
  },
  {
   "cell_type": "code",
   "execution_count": null,
   "metadata": {},
   "outputs": [],
   "source": [
    "knn = MyKNN(k=1)\n",
    "knn.fit(X, y)\n",
    "new_y = knn.predict(X)\n",
    "error = (y - new_y)**2\n",
    "error.mean()"
   ]
  },
  {
   "cell_type": "markdown",
   "metadata": {},
   "source": [
    "Here we train (fit) our model with $k$ as $1$.\n",
    "Then we predict the labels for each point.\n",
    "Finally we take the difference between what we predicted and what are the true labels.\n",
    "We square the differences so they are all positive and stake the mean.\n",
    "If there are no differences whatsoever the final result shall be zero.\n",
    "This is a simple form of an evaluation technique called appropriately:\n",
    "*mean square error*.\n",
    "\n",
    "And the result for $k$ as $1$ is indeed zero.\n",
    "There have been no error in the predictions performed by our model.\n",
    "A perfect model!\n",
    "Which means $k$ as $5$ must perform worse, right?"
   ]
  },
  {
   "cell_type": "code",
   "execution_count": null,
   "metadata": {},
   "outputs": [],
   "source": [
    "knn = MyKNN(k=5)\n",
    "knn.fit(X, y)\n",
    "new_y = knn.predict(X)\n",
    "error = (y - new_y)**2\n",
    "error.mean()"
   ]
  },
  {
   "cell_type": "markdown",
   "metadata": {},
   "source": [
    "And yes, $k$ as $5$ performs with considerable error.\n",
    "There is something fishy about this.\n",
    "Can you tell?"
   ]
  },
  {
   "cell_type": "markdown",
   "metadata": {},
   "source": [
    "When we used $k$ as $1$ each point we predicted has a closest\n",
    "point to itself in the training set at exactly $0$ distance - itself!\n",
    "One word used to describe such behavior is *overfitting*,\n",
    "and in this case it is maximum overfitting.\n",
    "We will come back to that concept eventually for now it is\n",
    "sufficient to say that: knowing that each point is closest\n",
    "to itself does not tell us anything about how that classification\n",
    "may help with figuring out the correct grouping for the green points.\n",
    "\n",
    "To ask about the green points is to ask about data that our model\n",
    "has not been trained with, data that the model has not seen before.\n",
    "But we cannot use the greens since we do not have labels for them.\n",
    "Thankfully we could do a trick.\n",
    "We can train our model with a subset of the data from the set\n",
    "we know the labels for.\n",
    "After that, we will check the model prediction errors using the\n",
    "remaining data points for which we know the label for.\n",
    "\n",
    "`sklearn` has an automated procedure for this.\n",
    "`train_test_split` divides a set of data, both features and labels,\n",
    "into a training and testing sets.\n",
    "The division happens at random, according to the ratio given in `test_size`.\n",
    "We will fix the random number generator for the time being.\n",
    "\n",
    "To evaluate the performance of our models we will use the\n",
    "`accuracy_score` and `f1_score` procedures.\n",
    "These take the known labels and the predictions and output\n",
    "a value between $0$ and $1$,\n",
    "where (contrary to our manual attempts above) $1$ is the perfect score\n",
    "and $0$ the worse possible score.\n",
    "And since we have all this automation we will run the evaluation\n",
    "in a loop and attempt several more values for $k$."
   ]
  },
  {
   "cell_type": "code",
   "execution_count": null,
   "metadata": {},
   "outputs": [],
   "source": [
    "train_X, test_X, train_y, test_y = train_test_split(X, y, random_state=5, test_size=0.3)\n",
    "accuracy = []\n",
    "f1_scores = []\n",
    "k_vals = list(range(1, 16))\n",
    "for k in k_vals:\n",
    "    knn = MyKNN(k=k)\n",
    "    knn.fit(train_X, train_y)\n",
    "    new_y = knn.predict(test_X)\n",
    "    accuracy.append(accuracy_score(test_y, new_y))\n",
    "    f1_scores.append(f1_score(test_y, new_y))\n",
    "\n",
    "fig, ax = plt.subplots(figsize=(14, 6))\n",
    "ax.plot(k_vals, accuracy, color='crimson')\n",
    "ax.plot(k_vals, f1_scores, color='steelblue');"
   ]
  },
  {
   "cell_type": "markdown",
   "metadata": {},
   "source": [
    "On this graph of $k$ values we can argue that a value of $5$ is indeed a good one.\n",
    "The smaller the value of $k$ the faster the model runs,\n",
    "hence our decision should be for the smallest value\n",
    "which still gives a good score.\n",
    "That said, the purpose here is illustrative.\n",
    "In our set of $30$ points here are more differences as to what $k$ we would\n",
    "choose based on how the data is split into training and testing set.\n",
    "In this case if we change the value to which we fix the random number\n",
    "generator we will have a rather different graph.\n",
    "This is caused because we have rather few data points to choose from,\n",
    "a dataset of $30$ points is just too small.\n",
    "\n",
    "Let's hence see how this all works on a bigger set.\n",
    "And we should try it a couple of times to see if we see any patterns.\n",
    "We will now make the blobs with $512$ points instead of $30$.\n",
    "We will try out values for $k$ from $1$ up to $255$.\n",
    "And we will repeat the procedure $3$ times,\n",
    "each time we generate a different blob but with similar characteristics."
   ]
  },
  {
   "cell_type": "code",
   "execution_count": null,
   "metadata": {},
   "outputs": [],
   "source": [
    "def select_k(ax):\n",
    "    X, y = make_blobs(512, 2, centers=2, cluster_std=0.2, center_box=(0, 1))\n",
    "    train_X, test_X, train_y, test_y = train_test_split(X, y, test_size=0.3)\n",
    "    accuracy = []\n",
    "    f1_scores = []\n",
    "    k_vals = list(range(1, 256))\n",
    "    for k in k_vals:\n",
    "        knn = MyKNN(k=k)\n",
    "        knn.fit(train_X, train_y)\n",
    "        new_y = knn.predict(test_X)\n",
    "        accuracy.append(accuracy_score(test_y, new_y))\n",
    "        f1_scores.append(f1_score(test_y, new_y))\n",
    "    ax.plot(k_vals, accuracy, color='crimson')\n",
    "    ax.plot(k_vals, f1_scores, color='steelblue')\n",
    "    ax.set(xlabel='$k$', ylabel='score')\n",
    "\n",
    "\n",
    "fig, ax = plt.subplots(3, 1, figsize=(16, 14), sharex=True)\n",
    "fig.subplots_adjust(hspace=0)\n",
    "for axi in ax.flat:\n",
    "    select_k(axi)"
   ]
  },
  {
   "cell_type": "markdown",
   "metadata": {},
   "source": [
    "The graphs do look different from each other indeed.\n",
    "Although we can see a pattern for a good value for $k$ emerging.\n",
    "Certainly for any set of blobs with around this number\n",
    "of points and this standard deviation a good value of\n",
    "$k$ would be below $50$.\n",
    "\n",
    "A take away message from this dataset splitting is that we can,\n",
    "and should, use the data we have labels for to validate\n",
    "how our model will perform on data it has not seen before.\n",
    "Whichever hyperparameters we pick changes how well our model performs,\n",
    "some values of hyperparameters may make our model perform very well\n",
    "on the data it has been trained on but poorly on new data.\n",
    "We use a subset of the data we have as a test set.\n",
    "This set is not used for model training but only for the\n",
    "purpose of validating the performance of the model on new data.\n",
    "Once we evaluate our model - using some form of a scoring procedure\n",
    "that measures the performance error - for several values of hyperparameters;\n",
    "we can establish a good value to use for the hyperparameters\n",
    "when using this specific algorithm to train a model on this specific data.\n",
    "And the resulting model's predictions will be likely correct for new data."
   ]
  }
 ],
 "metadata": {
  "anaconda-cloud": {},
  "kernelspec": {
   "display_name": "Python 3",
   "language": "python",
   "name": "python3"
  },
  "language_info": {
   "codemirror_mode": {
    "name": "ipython",
    "version": 3
   },
   "file_extension": ".py",
   "mimetype": "text/x-python",
   "name": "python",
   "nbconvert_exporter": "python",
   "pygments_lexer": "ipython3",
   "version": "3.7.6"
  }
 },
 "nbformat": 4,
 "nbformat_minor": 4
}
