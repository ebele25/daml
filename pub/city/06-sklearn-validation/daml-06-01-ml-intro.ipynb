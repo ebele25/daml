{
 "cells": [
  {
   "cell_type": "markdown",
   "metadata": {},
   "source": [
    "# 06.00 Machine Learning\n",
    "\n",
    "Until now we have seen a lot of ways to describe data (including plotting) which allows\n",
    "us to get some insight into the processes that caused the creation of that data.\n",
    "We can also argue that we can get insight into the process of measuring this data.\n",
    "The analysis and interpretation of data are a branch of statistics therefore we can\n",
    "classify what we have been doing until now as an exercise in statistics."
   ]
  },
  {
   "cell_type": "markdown",
   "metadata": {},
   "source": [
    "![Machine](skl-terminator.svg)\n",
    "\n",
    "<div style=\"text-align:right;\"><sup>skl-terminator.svg</sup></div>"
   ]
  },
  {
   "cell_type": "markdown",
   "metadata": {},
   "source": [
    "Machine learning can be understood as a branch of statistics and is classified\n",
    "as such by some.  On the other hand, several people argue that machine learning\n",
    "is a different area that overlap with statistics.  Without caring about the schematics\n",
    "we will say that machine learning is a collection of techniques that extract and\n",
    "use information contained in the data to **predict the behavior** of similar data.\n",
    "Note that this is different from the general goal of statistics.\n",
    "\n",
    "-   Statistics' goal is to interpret the resulting model of the data\n",
    "    and from there understand the inherent process that creates the data.\n",
    "    Whether we can construct a similar process and create new data\n",
    "    in similar fashion is not a requirement.\n",
    "\n",
    "-   Machine learning's goal is to construct a model that will predict the\n",
    "    behavior of new inputs just as if the inherent process would perform,\n",
    "    this without necessarily performing or understanding the inherent process\n",
    "    creating the data.\n",
    "\n",
    "It is viable to, and we often do, perform statistics on the products of machine learning.\n",
    "For example, after running thousands of models we perform statistics to try to understand\n",
    "non-linear relations in the *hyperparameters* of an ML model."
   ]
  },
  {
   "cell_type": "markdown",
   "metadata": {},
   "source": [
    "## Forms of Machine Learning\n",
    "\n",
    "Although vastly outdated the common classification of machine learning techniques\n",
    "into groups follows.\n",
    "\n",
    "In **Supervised Learning** one has some answers to the problem\n",
    "and plans to automate the solution to this problem.\n",
    "The algorithms will attempt to find how data inputs map to the solutions.\n",
    "After which the resulting models will be able to give a solution\n",
    "to data never seen before.\n",
    "We often subdivide supervised learning further into.\n",
    "\n",
    "- *Classification*, where one predicts crisps classes.\n",
    "  In other words one identifies, for example,\n",
    "  ships from among cars.\n",
    "  But there is no middle ground, an amphibious vehicle\n",
    "  will be identified as a car or as a ship.\n",
    "  Classification is the most common problem in the world around us,\n",
    "  e.g. is the figure I'm walking towards a person or a lamp post?\n",
    "  are they moving away or towards me?\n",
    "  Hence classification is also the most common ML implementation\n",
    "  out there.\n",
    "\n",
    "- *Regression*, where the answers are ordered numbers.\n",
    "  The difference against classification is that the answer\n",
    "  from a regression algorithm is a value anywhere within\n",
    "  a reasonable range.\n",
    "  We can have $27$ as the answer to a problem, so we can have $42$;\n",
    "  and also any value in between, such as $32.64$.\n",
    "  Regression is mos often used for ranking lists of items.\n",
    "  Yes, your web search and your recommendation lists are\n",
    "  ordered according to regressions.\n",
    "  Another common use for regression algorithms is in the area\n",
    "  of physical control of matter.\n",
    "  Since matter has continuous nature in the world we see,\n",
    "  managing water levels, wind speeds, temperature, or tremor intensity;\n",
    "  is often done against regression predictions."
   ]
  },
  {
   "cell_type": "markdown",
   "metadata": {},
   "source": [
    "In **Unsupervised Learning** we do not have answers to the problem\n",
    "we are attempting to solve.\n",
    "But we are going to try to solve it anyway.\n",
    "Moreover, if we identify patterns that may turn to be useful,\n",
    "then we can use these patterns to find identifiers for new data.\n",
    "Even if we do not know what these identifiers are\n",
    "or what they may mean in the real world.\n",
    "We subdivide this search for patterns into.\n",
    "\n",
    "- *Dimensionality Reduction*, which isn't a technique for\n",
    "  pattern search itself but one closely related to it anyway.\n",
    "  Most patterns we search using ML are not easy to see,\n",
    "  otherwise we would have seen them already.\n",
    "  Patterns in highly dimensional spaces are particularly difficult\n",
    "  for us humans to visualize.\n",
    "  Dimensionality reduction techniques attempt to reduce the dataset\n",
    "  one may have into a manageable chunk of dimensions without losing\n",
    "  the patterns within.\n",
    "  This may be achieved by projecting dimensions,\n",
    "  from where the group of techniques gets its name.\n",
    "  But many other techniques exist that:\n",
    "  keep inter-distance between data points,\n",
    "  or define close and far away points and then probabilistically\n",
    "  place points in a new projection according to how\n",
    "  far or close they are from each other.\n",
    "\n",
    "- *Clustering* is the ML group of techniques to find patterns in data\n",
    "  about which we can tell little about.\n",
    "  We can find groupings within the data that are similar to each other.\n",
    "  Despite the fact that we may not know the real reasons why these\n",
    "  groupings are close or far apart.\n",
    "  We can then use the groupings we know to determine in which of\n",
    "  the groupings new data points belong.\n",
    "  The classic example of clustering are social networks.\n",
    "  We can collect big numbers of features (dimensions)\n",
    "  about individuals (data points), and then cluster them together.\n",
    "  The result will be circles of friends among these individuals,\n",
    "  yet we have little understanding on why exactly these specific\n",
    "  groups of friends form as opposite to others.\n",
    "  Based on a clustering feature count,\n",
    "  arguing that it is more likely that playing golf wins you friends,\n",
    "  rather than playing squash is *not* knowledge.\n",
    "  It is just a statistical artifact that some scientists\n",
    "  publish as click bait and then consider it \"science\".\n",
    "\n",
    "A single technique does not necessarily fit one specific bullet point,\n",
    "e.g. SVMs can be used for classification or regression,\n",
    "and Neural Networks can be used for any of the points above.\n",
    "We will use this grouping of ML techniques as we explore some algorithms.\n",
    "Later we will come back and add several new groupings,\n",
    "needed due to the fact that some ML techniques do not fit\n",
    "into any of the above."
   ]
  },
  {
   "cell_type": "markdown",
   "metadata": {},
   "source": [
    "## Validation\n",
    "\n",
    "Since we do not have mathematical rigor on the selection of hyperparameters,\n",
    "we need some form of checking whether our model is (more-or-less) right.\n",
    "Let's see how to build a model in Python, then how those so-called hyperparameters\n",
    "work and then we see if we can think of a way of evaluating our models."
   ]
  }
 ],
 "metadata": {
  "anaconda-cloud": {},
  "kernelspec": {
   "display_name": "Python 3",
   "language": "python",
   "name": "python3"
  },
  "language_info": {
   "codemirror_mode": {
    "name": "ipython",
    "version": 3
   },
   "file_extension": ".py",
   "mimetype": "text/x-python",
   "name": "python",
   "nbconvert_exporter": "python",
   "pygments_lexer": "ipython3",
   "version": "3.7.6"
  }
 },
 "nbformat": 4,
 "nbformat_minor": 4
}
