{
 "cells": [
  {
   "cell_type": "markdown",
   "metadata": {},
   "source": [
    "# 09.07 Model Persistence\n",
    "\n",
    "It takes a moment to train a model,\n",
    "moreover since that normally mean training several models and preforming model selection.\n",
    "The reason to train a model is for it to be useful against real problems.\n",
    "Often we want to use the model against data that we do not have whilst we are training it.\n",
    "Therefore we want to save the trained model for later reuse."
   ]
  },
  {
   "cell_type": "markdown",
   "metadata": {},
   "source": [
    "![Bow Tie](sl-bow-tie.svg)\n",
    "\n",
    "<div style=\"text-align:right;\"><sup>sl-bow-tie.svg</sup></div>"
   ]
  },
  {
   "cell_type": "markdown",
   "metadata": {},
   "source": [
    "In Python we can simply use `pickle` to dump a model to a file.\n",
    "Yet, `pickle` is particularly ineffective and slow at serializing NumPy arrays.\n",
    "A better option is `joblib` which uses NumPy's internal memory mappings\n",
    "(memory mapped files on systems that support it) or stream compression\n",
    "to reduce the size of the file,\n",
    "the time to load it from disk and even the size of the model in memory.\n",
    "`joblib` has a `pickle` interface and we can use the below to deal with\n",
    "systems that may or may not have `joblib` installed."
   ]
  },
  {
   "cell_type": "code",
   "execution_count": null,
   "metadata": {},
   "outputs": [],
   "source": [
    "import numpy as np\n",
    "import matplotlib.pyplot as plt\n",
    "%matplotlib inline\n",
    "plt.style.use('seaborn-talk')\n",
    "try:\n",
    "    from joblib import dump, load\n",
    "except ImportError:\n",
    "    from pickle import dump, load"
   ]
  },
  {
   "cell_type": "markdown",
   "metadata": {},
   "source": [
    "Let's create some regression data and make a Random Forest Regression on top of it.\n",
    "We build a *bow tie toy dataset*.\n",
    "\n",
    "In two dimensions we order random points in order to make their\n",
    "coordinates to be close to the main diagonal of the plane.\n",
    "Then we create a function in the third dimension which will increase\n",
    "into both the negative and positive sides as it walks away from the origin.\n",
    "Since we only feed points close to the plane's diagonal we end\n",
    "with a bow tie structure."
   ]
  },
  {
   "cell_type": "code",
   "execution_count": null,
   "metadata": {},
   "outputs": [],
   "source": [
    "n_points = 1024\n",
    "X = np.sort(200 * np.random.rand(n_points, 2) - 100, axis=0)\n",
    "y = np.array(np.pi*X[:, 0] * np.sin(X[:, 1])) + 0.5 - np.random.rand(n_points)\n",
    "X.shape, y.shape"
   ]
  },
  {
   "cell_type": "markdown",
   "metadata": {},
   "source": [
    "We can plot the dataset in three dimensions to check it."
   ]
  },
  {
   "cell_type": "code",
   "execution_count": null,
   "metadata": {},
   "outputs": [],
   "source": [
    "from mpl_toolkits import mplot3d\n",
    "\n",
    "fig = plt.figure(figsize=(16, 12))\n",
    "ax = fig.add_subplot(111, projection='3d')\n",
    "ax.scatter(X[:, 0], X[:, 1], y, color='indigo')\n",
    "ax.view_init(elev=20., azim=15);"
   ]
  },
  {
   "cell_type": "markdown",
   "metadata": {},
   "source": [
    "The random forest has a hyperparameter that we will tune using a grid search,\n",
    "the number of trees used for the regression.\n",
    "We will use cross validation to determine this hyperparameter.\n",
    "We are quite familiar with the ideas by this point.\n",
    "\n",
    "Before performing the grid search and the cross validation we will split\n",
    "the data into training and test sets.\n",
    "Then we run cross validation on the training set only."
   ]
  },
  {
   "cell_type": "code",
   "execution_count": null,
   "metadata": {},
   "outputs": [],
   "source": [
    "from sklearn.ensemble import RandomForestRegressor\n",
    "from sklearn.model_selection import GridSearchCV, train_test_split, KFold\n",
    "\n",
    "X_train, X_test, y_train, y_test = train_test_split(X, y, test_size=0.3)\n",
    "grid = GridSearchCV(RandomForestRegressor(),\n",
    "                    {'n_estimators': [10, 20, 50, 100, 200]},\n",
    "                    cv=KFold(n_splits=5, shuffle=True))\n",
    "grid.fit(X_train, y_train)\n",
    "grid.best_score_, grid.best_estimator_"
   ]
  },
  {
   "cell_type": "markdown",
   "metadata": {},
   "source": [
    "That's a reasonable score.\n",
    "\n",
    "And let's see if we are not overestimating the generalization of this model.\n",
    "We can do this since we did keep a test set on the side until now."
   ]
  },
  {
   "cell_type": "code",
   "execution_count": null,
   "metadata": {},
   "outputs": [],
   "source": [
    "model = grid.best_estimator_\n",
    "model.score(X_test, y_test)"
   ]
  },
  {
   "cell_type": "markdown",
   "metadata": {},
   "source": [
    "The real generalization estimate is somewhere in between,\n",
    "closer to the lowest value.\n",
    "\n",
    "Let's have a quick visual check as well, since this model does not have too many dimensions."
   ]
  },
  {
   "cell_type": "code",
   "execution_count": null,
   "metadata": {},
   "outputs": [],
   "source": [
    "fig = plt.figure(figsize=(16, 12))\n",
    "ax = fig.add_subplot(111, projection='3d')\n",
    "ax.scatter(X_train[:, 0], X_train[:, 1], y_train, color='steelblue')\n",
    "ax.scatter(X_test[:, 0], X_test[:, 1], y_test, color='seagreen')\n",
    "\n",
    "n_points = 256\n",
    "pred_pi = np.linspace(-100, 100, n_points)\n",
    "pred_sin = np.linspace(-100, 100, n_points)\n",
    "gpi, gsin = np.meshgrid(pred_pi, pred_sin)\n",
    "X_pred = np.c_[gpi.ravel(), gsin.ravel()]\n",
    "y_pred = model.predict(X_pred)\n",
    "ax.plot_surface(gpi, gsin, y_pred.reshape(n_points, n_points), alpha=0.3, color='crimson')\n",
    "ax.view_init(elev=30., azim=30);"
   ]
  },
  {
   "cell_type": "markdown",
   "metadata": {},
   "source": [
    "The Random Forest makes a model for the whole space\n",
    "but what we really care about is that it makes the correct model\n",
    "for the space close to the dataset itself.\n",
    "\n",
    "This model is good for our purposes because we know\n",
    "that we are expecting a bow tie.\n",
    "We expect small values in the middle and bigger values away from the origin.\n",
    "And, since we are confident about this model, we should save it."
   ]
  },
  {
   "cell_type": "code",
   "execution_count": null,
   "metadata": {},
   "outputs": [],
   "source": [
    "with open('rfr.pickle', 'wb') as f:\n",
    "    dump(model, f)"
   ]
  },
  {
   "cell_type": "markdown",
   "metadata": {},
   "source": [
    "This just created a file called `rfr.pickle` in the current directory.\n",
    "The file is a binary (pickled) representation of the model (object) we juts used.\n",
    "We can read it back now into a different variable."
   ]
  },
  {
   "cell_type": "code",
   "execution_count": null,
   "metadata": {},
   "outputs": [],
   "source": [
    "with open('rfr.pickle', 'rb') as f:\n",
    "    rfr = load(f)"
   ]
  },
  {
   "cell_type": "markdown",
   "metadata": {},
   "source": [
    "And we can check if the model loaded back from this file is the same one."
   ]
  },
  {
   "cell_type": "code",
   "execution_count": null,
   "metadata": {},
   "outputs": [],
   "source": [
    "rfr.score(X_test, y_test)"
   ]
  },
  {
   "cell_type": "markdown",
   "metadata": {},
   "source": [
    "This is exactly the same test score ($R2$) as before,\n",
    "we can be quite confident that we got the same model back."
   ]
  },
  {
   "cell_type": "markdown",
   "metadata": {},
   "source": [
    "## Caveats\n",
    "\n",
    "The interoperability between different versions of Python's `pickle` module is poor.\n",
    "In other words, exchanging models between Python 2 and Python 3 projects\n",
    "through `pickle` is a very bad idea.\n",
    "Python 2 reached its end of life but many places still use it.\n",
    "\n",
    "More advanced uses of `joblib`, e.g. gzipped files, do not keep full compatibility to `pickle`.\n",
    "It isn't anything that cannot be worked around by uncompressing a file before *unpickling*\n",
    "but one needs to be consistent on how to treat persisted models.\n",
    "Pickled files contain very little metadata on how to load them back."
   ]
  },
  {
   "cell_type": "markdown",
   "metadata": {},
   "source": [
    "## `joblib`\n",
    "\n",
    "Is much more extensive than just persisting models.\n",
    "The main aim of the library is to automate several processes in a machine learning\n",
    "pipeline by memoizing intermediate results to disk, as extended pickle.\n",
    "Two things that the library specializes are:\n",
    "\n",
    "- Memoize results of huge computations on disk,\n",
    "  so one does not necessarily need to re-run the entire processing if something goes wrong.\n",
    "\n",
    "- Memory map NumPy arrays during parallel processing,\n",
    "  allowing separate processes to share memory and preventing copying huge arrays between processes.\n",
    "\n",
    "For training big models on a single machine, `joblib` helps a good deal.\n",
    "A process of memoization is a technique of saving intermediate results\n",
    "of processing in order to not need to perform the computation again.\n",
    "Algorithms often perform the same computation over and over,\n",
    "in which case memoization can have a considerable impact on performance."
   ]
  },
  {
   "cell_type": "markdown",
   "metadata": {},
   "source": [
    "## Should I always persist my model?\n",
    "\n",
    "Not necessarily.\n",
    "An ML model will wander off course over time,\n",
    "i.e. the real world will change in a way that the model do not reflect it anymore.\n",
    "Often one needs to retrain a model periodically for it to be useful.\n",
    "One would collect the data that is thrown at the model and construct a new training\n",
    "set by mixing the new data with the old training set.\n",
    "\n",
    "A case where retraining a model often makes sense are web services.\n",
    "A web service will run several models of the same kind, and will predict values for user requests.\n",
    "The service runs several models for load balancing,\n",
    "i.e. even when one of the machines goes down the service can still respond to users.\n",
    "These machines run non-stop but sometimes need to be taken down for maintenance:\n",
    "a machine is taken down, updated, restarted, tested and only then placed back into the load balancing.\n",
    "Since the machine restart may take a while,\n",
    "re-training the model that is part of the service during this restart is a good idea.\n",
    "Such re-trained model knows about new training data and will be (hopefully) better."
   ]
  }
 ],
 "metadata": {
  "kernelspec": {
   "display_name": "Python 3",
   "language": "python",
   "name": "python3"
  },
  "language_info": {
   "codemirror_mode": {
    "name": "ipython",
    "version": 3
   },
   "file_extension": ".py",
   "mimetype": "text/x-python",
   "name": "python",
   "nbconvert_exporter": "python",
   "pygments_lexer": "ipython3",
   "version": "3.7.6"
  }
 },
 "nbformat": 4,
 "nbformat_minor": 4
}
