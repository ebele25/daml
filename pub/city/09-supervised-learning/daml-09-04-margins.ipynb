{
 "cells": [
  {
   "cell_type": "markdown",
   "metadata": {},
   "source": [
    "# 09.03 Margins\n",
    "\n",
    "The support vector machine (SVM) was, for a long time, one of the most advanced ML techniques.\n",
    "It fits a surface between the classes (or through a regressed function)\n",
    "in a way to contain as big margins towards the data points as possible.\n",
    "For classification the SVM attempts to have as big margins\n",
    "(distances from the fitted surface) as possible form the classes;\n",
    "for regression the SVM attempt to fit as many data points within the margins."
   ]
  },
  {
   "cell_type": "markdown",
   "metadata": {},
   "source": [
    "![Borders](sl-europe.svg)\n",
    "\n",
    "<div style=\"text-align:right;\"><sup>sl-europe.svg</sup></div>\n",
    "\n",
    "<div style=\"border: 0.3em double teal; border-radius: 0.5em; padding: 0.5em;\">\n",
    "    The satirical war map of 1877 was the first widely available color print.\n",
    "    Its popularity is due to the quality of the work and of the improvements\n",
    "    in color printing technology, which made the print affordable to many.\n",
    "    The map of Europe presented does not only show the country borders\n",
    "    within Europe at the time but also the anxieties of the people\n",
    "    within these countries at the time.\n",
    "    The use of an octopus to draw a country which is spreading its\n",
    "    influences started with the war map of 1877 and has been reused\n",
    "    and remixed ever since.\n",
    "</div>"
   ]
  },
  {
   "cell_type": "markdown",
   "metadata": {},
   "source": [
    "SVMs are therefore often called *max-margin* classifiers (or regressors).\n",
    "The technique works very well in high dimensions but becomes considerably\n",
    "slow when faced with too many (millions) samples.\n",
    "In other words, the SVMs were replaced by newer techniques in big data processing.\n",
    "That said, SVMs are some of the best binary classifiers when not faces with millions of samples.\n",
    "\n",
    "We import the common suspects, some more advanced plotting,\n",
    "and `make_blobs` dataset generator.\n",
    "The `make_circles` dataset generator is a different dataset builder\n",
    "for a non-linear problem, it build two concentric circles.\n",
    "Finally `SVC` stands for the Support Vector Classifier model."
   ]
  },
  {
   "cell_type": "code",
   "execution_count": null,
   "metadata": {},
   "outputs": [],
   "source": [
    "import numpy as np\n",
    "import matplotlib.pyplot as plt\n",
    "%matplotlib inline\n",
    "plt.style.use('seaborn-talk')\n",
    "from sklearn.datasets import make_blobs, make_circles\n",
    "from mpl_toolkits import mplot3d\n",
    "from sklearn.svm import SVC"
   ]
  },
  {
   "cell_type": "markdown",
   "metadata": {},
   "source": [
    "Before attempting an SVM let's try to find good ways of classifying two classes\n",
    "by placing a surface between them.\n",
    "In high dimensions the surface is a hyperplane but in two dimensions it\n",
    "reduces to a straight line.\n",
    "\n",
    "To classify two classes we want something the line to separate them.\n",
    "The simple (perhaps naive) approach is to:\n",
    "\n",
    "1. find the center of each class\n",
    "2. draw a line between the two centers\n",
    "3. find the middle point between the centers\n",
    "4. find the perpendicular line that passes through the middle point\n",
    "5. use this last line as the decision function between the two classes\n",
    "\n",
    "This, let's call it *mean distance separator*, works.\n",
    "In practice it performs a very simple algorithm of finding the closest class center.\n",
    "In other words, when we predict using this decision function\n",
    "we just search for the closest class center as the value for the prediction.\n",
    "\n",
    "This is very fast and very easy to code.\n",
    "We could even say that it is a linear form of Naive Bayes.\n",
    "Yet, this is not very accurate when classes are close or even interleaved with each other.\n",
    "Let's do some algebra and try this algorithm out.\n",
    "The mathematics here are just the algorithm described above.\n",
    "The plotting may be complex here but it isn't anything we did not see before."
   ]
  },
  {
   "cell_type": "code",
   "execution_count": null,
   "metadata": {},
   "outputs": [],
   "source": [
    "blob_range = (-15, 15)\n",
    "blobs = []\n",
    "n_blob = 3\n",
    "for i in range(n_blob):\n",
    "    blobs.append(make_blobs(64, centers=2, cluster_std=2.2))\n",
    "\n",
    "def naive_separation(blobs, blob_num, ax):\n",
    "    X, y = blobs[blob_num]\n",
    "    center0 = X[y == 0, :].mean(axis=0)\n",
    "    center1 = X[y == 1, :].mean(axis=0)\n",
    "    incline = (center1[1] - center0[1]) / (center1[0] - center0[0])\n",
    "    intercept = center0[1] - incline*center0[0]\n",
    "    middle = (center1 + center0)/2\n",
    "    invinc = -1/incline\n",
    "    invinter = middle[1] - invinc*middle[0]\n",
    "\n",
    "    x_fun = np.linspace(*blob_range, 10)\n",
    "    ax.scatter(X[:, 0], X[:, 1], c=y, cmap='prism')\n",
    "    ax.scatter(center0[0], center0[1], c='navy')\n",
    "    ax.scatter(center1[0], center1[1], c='navy')\n",
    "    ax.scatter(middle[0], middle[1], c='navy')\n",
    "    ax.plot(x_fun, incline*x_fun + intercept, color='navy', linestyle=':')\n",
    "    ax.plot(x_fun, invinc*x_fun + invinter, color='navy', linestyle='-')\n",
    "    ax.axis('equal')\n",
    "    ax.set(xlim=blob_range, ylim=blob_range)\n",
    "\n",
    "fig, axi = plt.subplots(1, n_blob, figsize=(20, 7))\n",
    "for i in range(n_blob):\n",
    "    naive_separation(blobs, i, axi.flat[i])"
   ]
  },
  {
   "cell_type": "markdown",
   "metadata": {},
   "source": [
    "Sometimes it gets it right, sometimes not quite.\n",
    "And in higher dimensional space this becomes worse,\n",
    "because the algorithm does not have a way to tune the slope in specific dimensions.\n",
    "Note also that every time we run the code we get different blobs\n",
    "but our algorithm works nevertheless."
   ]
  },
  {
   "cell_type": "markdown",
   "metadata": {},
   "source": [
    "Instead let's try an SVM.\n",
    "This attempt to build a margin between the decision (hyper)plane and the closest samples of each class.\n",
    "We want a big margin therefore we attempt to fit a (hyper)plane through the current dimensions.\n",
    "The slope of this (hyper)plane is $w$, which is a vector since we have a slope in each dimension.\n",
    "This algorithms attempts to minimize the following.\n",
    "\n",
    "$$\n",
    "\\min_{w, b} \\frac{1}{2} w^T \\cdot w \\\\\n",
    "\\texttt{subject to } y_i (w^T \\cdot x_i + b) \\ge 1, \\texttt{ for i as every data point}\n",
    "$$\n",
    "\n",
    "This is a form of *quadratic programming* (QP),\n",
    "which attempts to solve a convex problem with *constraints*.\n",
    "Several QP procedures exist in `scipy` but `SVC` (Support Vector Classifier) already does this for us.\n",
    "We will try to fit such a (hyper)plane - here a line - on the blobs above.\n",
    "The hyperparameter `C=200` is just a big value in order for the SVMs\n",
    "to optimize the equation above.\n",
    "In reality the SVM optimizes a slightly more complex function but\n",
    "with a large value for `C` it converges onto the function above.\n",
    "This kind of SVM (with a very big value for `C`) is called a hard margin SVM.\n",
    "A *hard margin SVM* must have all points from one class on one side of the margin\n",
    "and all points from the other class on the other side.\n",
    "If the classes are close together that may result in a bad solution.\n",
    "\n",
    "The trained model contains the inclines (the spatial parameters) in `coef_`\n",
    "and the constant parameters (the intercept in case of the line) in `intercept_`.\n",
    "There are also `dual_coef_` parameters containing the actual optimized\n",
    "parameters in the QP programming dual problem optimization,\n",
    "these can be quite difficult to interpret.\n",
    "In the plot `facecolor='none'` combined with `edgecolor='navy'`\n",
    "makes circles around the support vectors.\n",
    "In other words, the support vectors are the points in the dataset\n",
    "the SVM uses to build its margins."
   ]
  },
  {
   "cell_type": "code",
   "execution_count": null,
   "metadata": {},
   "outputs": [],
   "source": [
    "def svc_separation(blobs, blob_num, ax, svm_C=200):\n",
    "    X, y = blobs[blob_num]\n",
    "    model = SVC(C=svm_C, kernel='linear')\n",
    "    model.fit(X, y)\n",
    "\n",
    "    incline = - model.coef_[0][0] / model.coef_[0][1]\n",
    "    x_decision = np.linspace(*blob_range, 128)\n",
    "    y_decision = incline*x_decision - model.intercept_[0] / model.coef_[0][1]\n",
    "\n",
    "    margin = 1 / np.sqrt(np.sum(model.coef_[0] ** 2))\n",
    "    y_up = y_decision + np.sqrt(1 + incline ** 2) * margin\n",
    "    y_down = y_decision - np.sqrt(1 + incline ** 2) * margin\n",
    "\n",
    "    ax.fill_between(x_decision, -20, y_decision, facecolor='steelblue', alpha=0.5)\n",
    "    ax.fill_between(x_decision, 20, y_decision, facecolor='wheat', alpha=0.5)\n",
    "    ax.plot(x_decision, y_decision, color='navy')\n",
    "    ax.plot(x_decision, y_up, color='navy', linestyle='-.')\n",
    "    ax.plot(x_decision, y_down, color='navy', linestyle='-.')\n",
    "    ax.scatter(X[:, 0], X[:, 1], c=y, cmap='prism')\n",
    "    ax.scatter(model.support_vectors_[:, 0], model.support_vectors_[:, 1],\n",
    "               facecolor='none', edgecolors='navy', linewidths=2)\n",
    "    ax.axis('equal')\n",
    "    ax.set(xlim=blob_range, ylim=blob_range)\n",
    "\n",
    "\n",
    "fig, axi = plt.subplots(1, n_blob, figsize=(20, 7))\n",
    "for i in range(n_blob):\n",
    "    svc_separation(blobs, i, axi.flat[i])"
   ]
  },
  {
   "cell_type": "markdown",
   "metadata": {},
   "source": [
    "That's better, with the margins we often get a decision function that generalizes well.\n",
    "Yet, if the margin is small, we often see that we could find a better function.\n",
    "Enter *soft margin SVMs*.\n",
    "If we could allow some points to be inside the margin,\n",
    "we would make for bigger margins.\n",
    "We add an extra parameter to the minimization problem.\n",
    "\n",
    "$$\n",
    "\\min_{w, b, \\zeta} \\frac{1}{2} w^T \\cdot w + C \\sum \\zeta_i\\\\\n",
    "\\texttt{subject to } y_i (w^T \\cdot x_i + b) \\ge 1 - \\zeta_i, \\texttt{ for i as every data point}\n",
    "$$\n",
    "\n",
    "This translates into a model hyperparameter the `C` in SVMs.\n",
    "The smaller the parameter the more points we can allow within the margin.\n",
    "The `C` hyperparameter is again an *inverse regularization*,\n",
    "it works in a similar way to model regularization\n",
    "but the smaller its value the more regularized the model is.\n",
    "\n",
    "In the equation the $w$ are the model parameters,\n",
    "a vector with one coordinate per dimension in which the model fits the (hyper)plane.\n",
    "The $x_i$ is a single data sample in the same number of dimensions.\n",
    "$b$ is the intercept parameter.\n",
    "And $y_i$ is the class, either $1$ or $-1$ in the SVM formulation.\n",
    "Without considering the $\\zeta$ the entire \"subject to\" line\n",
    "is just a way of writing that every point should be on the correct side\n",
    "of the margin.\n",
    "\n",
    "The $\\zeta_i$ exist for points on the wrong side of the margin,\n",
    "i.e. if all points are on the right side of the margin\n",
    "all $\\zeta_i$ are $0$ and the value of `C` does not matter.\n",
    "But whenever some points are on the wrong side of the margin\n",
    "then the corresponding $\\zeta_i$ is $1$ and the \"subject to\"\n",
    "line becomes non-binding for that point.\n",
    "Instead for the point on the wrong side of the margin it\n",
    "is the value of the `C` hyperparameter that weights\n",
    "directly into the minimization.\n",
    "\n",
    "In practice all SVMs in `sklearn` are soft margin SVMs.\n",
    "Since even for very big values of `C` there may still be points\n",
    "o the wrong side of the margin if the classes are joined together.\n",
    "But a high value of `C` reduces the size of the margins.\n",
    "Note that a tiny value of `C` would consider all points and would\n",
    "hence reduce to our earlier algorithm of distance to the class center.\n",
    "\n",
    "Let's use a small `C` on the same problem to see the margins."
   ]
  },
  {
   "cell_type": "code",
   "execution_count": null,
   "metadata": {},
   "outputs": [],
   "source": [
    "fig, axi = plt.subplots(1, n_blob, figsize=(20, 7))\n",
    "for i in range(n_blob):\n",
    "    svc_separation(blobs, i, axi.flat[i], svm_C=0.01)"
   ]
  },
  {
   "cell_type": "markdown",
   "metadata": {},
   "source": [
    "We got better margins alright.\n",
    "We have been marking the *support vectors* in the graphs above.\n",
    "The support vectors are the points within or on the border of the margins.\n",
    "A trained SVM keeps track of the support vectors only and classifies based on that alone.\n",
    "Once trained the SVM only remembers the position of the support vectors,\n",
    "and forgets all other data points.\n",
    "This also means that the smaller `C` is the model is likely better but also uses more memory\n",
    "to keep the support vectors positions."
   ]
  },
  {
   "cell_type": "markdown",
   "metadata": {},
   "source": [
    "## Kernels\n",
    "\n",
    "But what if a line clearly won't do?\n",
    "The real power of SVMs is the fact that they work well in very high dimensions,\n",
    "therefore we can throw our data into a very high dimensional space and fit the hyperplane there.\n",
    "Here is a blob that cannot be easily classified using a line between the classes."
   ]
  },
  {
   "cell_type": "code",
   "execution_count": null,
   "metadata": {},
   "outputs": [],
   "source": [
    "X = np.array([[1, 1], [1, 2], [2, 1], [3, 1], [3, 2], [4, 1], [5, 1], [5, 2], [6, 2]])\n",
    "y = np.array([0, 1, 0, 0, 0, 0, 1, 1, 1])\n",
    "fig, ax = plt.subplots(figsize=(14, 7))\n",
    "ax.scatter(X[:, 0], X[:, 1], c=y, cmap='prism');"
   ]
  },
  {
   "cell_type": "markdown",
   "metadata": {},
   "source": [
    "We could add polynomial features to it and then fit the SVM, and that will work.\n",
    "Yet the SVM itself can do it for us.\n",
    "It has a `kernel=` parameter which we will set to `poly` (polynomial)."
   ]
  },
  {
   "cell_type": "code",
   "execution_count": null,
   "metadata": {},
   "outputs": [],
   "source": [
    "model = SVC(kernel='poly', C=100)\n",
    "model.fit(X, y)\n",
    "xg, yg = np.meshgrid(np.linspace(-10, 10, 64), np.linspace(-10, 10, 64))\n",
    "zg = model.decision_function(np.c_[xg.reshape(-1), yg.reshape(-1)])\n",
    "\n",
    "fig, ax = plt.subplots(figsize=(14, 7))\n",
    "ax.scatter(X[:, 0], X[:, 1], c=y, cmap='prism');\n",
    "ax.contour(xg, yg, zg.reshape(xg.shape),\n",
    "           colors='navy', linestyles=['-.', '-', '-.'], levels=[-.5, 0, .5])\n",
    "ax.set(xlim=(-10, 10), ylim=(-10, 10));"
   ]
  },
  {
   "cell_type": "markdown",
   "metadata": {},
   "source": [
    "If you try a pipeline with polynomial features and then compare against a polynomial SVM,\n",
    "you will find that the SVM is much faster.  Why is that?\n",
    "\n",
    "Making extra features from polynomials adds dimensions to our dataset.\n",
    "During the solution to the SVM QP problem a *kernel trick* is possible.\n",
    "The kernel trick is a simplification that uses a kernel identity\n",
    "that simplifies the higher dimensional space.\n",
    "In other words, instead of actually projecting the data into higher dimension space,\n",
    "we keep that data in the same dimensions but substitute a kernel expression once\n",
    "the data in high dimensional space is needed.\n",
    "\n",
    "All this only works because of a specific way of solving QP problems,\n",
    "and the fact that a kernel must abide by several properties.\n",
    "The identity is that we can define a kernel $\\kappa$ so that the following holds true.\n",
    "\n",
    "$$\n",
    "\\kappa(x) \\cdot \\kappa(y) = \\kappa(x, y)\n",
    "$$\n",
    "\n",
    "This prevents us from calculating a, possibly huge, dot product.\n",
    "The typical SVM kernels are as follows.\n",
    "\n",
    "- Linear Kernel (`linear`)\n",
    "  $\\kappa(x) = x \\leftrightarrow \\kappa(x, y) = x^T \\cdot y$\n",
    "- Polynomial Kernel (`poly`)\n",
    "  $\\kappa(x) = x^d \\leftrightarrow \\kappa(x, y) = (\\eta x \\cdot y + \\rho)^d$\n",
    "- Radial Basis Function Kernel (`rbf`)\n",
    "  $\\kappa(x) = e^{-x^2} \\leftrightarrow \\kappa(x, y) = e^{-\\eta (x - y)^2}$\n",
    "\n",
    "The mathematics behind SVMs can be daunting.\n",
    "We only touch a few pieces from the surface here.\n",
    "Yet, we can have a look at why a kernel works for problems where a line\n",
    "would certainly not."
   ]
  },
  {
   "cell_type": "code",
   "execution_count": null,
   "metadata": {},
   "outputs": [],
   "source": [
    "X, y = make_circles(64, factor=0.2, noise=0.1)\n",
    "fig, ax = plt.subplots(figsize=(14, 7))\n",
    "ax.scatter(X[:, 0], X[:, 1], c=y, cmap='prism');"
   ]
  },
  {
   "cell_type": "markdown",
   "metadata": {},
   "source": [
    "Neither a line or a polynomial will do here.\n",
    "But we have that Radial Basis Function Kernel, and the equation for a simple\n",
    "*Gaussian Radial Basis Function* is:\n",
    "\n",
    "$$\n",
    "\\phi(x) = e^{-x^2}\n",
    "$$\n",
    "\n",
    "Let's apply that as a way of throwing the data into higher dimensional space.\n",
    "Note that the code is simply the application of the function above to the data."
   ]
  },
  {
   "cell_type": "code",
   "execution_count": null,
   "metadata": {},
   "outputs": [],
   "source": [
    "grbf = np.exp(-(X ** 2).sum(axis=1))\n",
    "fig = plt.figure(figsize=(16, 12))\n",
    "ax = fig.add_subplot(111, projection='3d')\n",
    "ax.scatter(X[:, 0], X[:, 1], grbf, c=y, s=100, cmap='prism');"
   ]
  },
  {
   "cell_type": "markdown",
   "metadata": {},
   "source": [
    "And it is quite easy to fit a (hyper)plane through the middle of the classes now."
   ]
  },
  {
   "cell_type": "code",
   "execution_count": null,
   "metadata": {},
   "outputs": [],
   "source": [
    "fig = plt.figure(figsize=(16, 12))\n",
    "ax = fig.add_subplot(111, projection='3d')\n",
    "ax.scatter(X[:, 0], X[:, 1], grbf, c=y, s=100, cmap='prism');\n",
    "gx, gy = np.meshgrid([-1, 1, -1, 1], [-1, -1, 1, 1])\n",
    "z = np.zeros(gx.shape) + 0.6\n",
    "ax.plot_surface(gx, gy, z, alpha=0.3, color='navy');"
   ]
  },
  {
   "cell_type": "markdown",
   "metadata": {},
   "source": [
    "If we build an SVM with an `rbf` kernel for this is more-or-less the solution we would find.\n",
    "This specific problem was easy because the circles we concentric on the origin.\n",
    "The radial basis function depends on which point to center the origin at.\n",
    "\n",
    "The SVM kernel trick with the `rbf` kernel projects the data into an infinite number of dimensions,\n",
    "one dimension for every possible move of the data so the origin is at a different point.\n",
    "Of course, storing data in an infinite number of dimensions is impossible,\n",
    "the projection never actually happens due to the kernel trick.\n",
    "The mathematics here can again be daunting but the take away message is that\n",
    "the `rbf` kernel is not limited to radial blobs concentric on the origin.\n",
    "It can move the origin around and find the correct placement\n",
    "for the radial basis function so that the classes can be separated."
   ]
  },
  {
   "cell_type": "markdown",
   "metadata": {},
   "source": [
    "## References\n",
    "\n",
    "- [SciKit Learn - SVM margins][1]\n",
    "- [SciKit Learn - SVM kernels][2]\n",
    "\n",
    "[1]: http://scikit-learn.org/stable/auto_examples/svm/plot_svm_margin.html\n",
    "[2]: http://scikit-learn.org/stable/auto_examples/svm/plot_svm_kernels.html"
   ]
  }
 ],
 "metadata": {
  "anaconda-cloud": {},
  "kernelspec": {
   "display_name": "Python 3",
   "language": "python",
   "name": "python3"
  },
  "language_info": {
   "codemirror_mode": {
    "name": "ipython",
    "version": 3
   },
   "file_extension": ".py",
   "mimetype": "text/x-python",
   "name": "python",
   "nbconvert_exporter": "python",
   "pygments_lexer": "ipython3",
   "version": "3.7.6"
  }
 },
 "nbformat": 4,
 "nbformat_minor": 4
}
