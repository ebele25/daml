{
 "cells": [
  {
   "cell_type": "markdown",
   "metadata": {},
   "source": [
    "# 09.06 Data Scaling\n",
    "\n",
    "Data does not always come in a way our machine learning algorithms expects it.\n",
    "We saw that concept a handful of times already:\n",
    "we extracted extra features (e.g. polynomial features),\n",
    "we did dimensionality reduction,\n",
    "we used manifold techniques.\n",
    "Yet, all these things may still fail against certain data."
   ]
  },
  {
   "cell_type": "markdown",
   "metadata": {},
   "source": [
    "![Wine](sl-wine.svg)\n",
    "\n",
    "<div style=\"text-align:right;\"><sup>sl-wine.svg</sup></div>"
   ]
  },
  {
   "cell_type": "markdown",
   "metadata": {},
   "source": [
    "And we look at yet another dataset.\n",
    "We import the usual stuff and the *wine dataset*,\n",
    "which is an example of data that would fail a simple dimensionality reduction.\n",
    "\n",
    "The set is made of chemical measurement over three different vineyards in Italy.\n",
    "One can take it as a classification problem of attempting to identify the\n",
    "vineyard from the chemical composition.\n",
    "We will use is for dimensionality reduction."
   ]
  },
  {
   "cell_type": "code",
   "execution_count": null,
   "metadata": {},
   "outputs": [],
   "source": [
    "import numpy as np\n",
    "import pandas as pd\n",
    "import matplotlib.pyplot as plt\n",
    "%matplotlib inline\n",
    "plt.style.use('seaborn-talk')\n",
    "from sklearn.datasets import load_wine\n",
    "wine = load_wine()\n",
    "print(wine['DESCR'])"
   ]
  },
  {
   "cell_type": "markdown",
   "metadata": {},
   "source": [
    "---\n",
    "\n",
    "One should explore the data first.\n",
    "We will simply plot as many dimensions as we can at once."
   ]
  },
  {
   "cell_type": "code",
   "execution_count": null,
   "metadata": {},
   "outputs": [],
   "source": [
    "fig, ax = plt.subplots(figsize=(14, 6))\n",
    "ax.scatter(wine.data[:, 0], wine.data[:, 1], s=30*wine.data[:, 2], c=wine.target, cmap='plasma');"
   ]
  },
  {
   "cell_type": "markdown",
   "metadata": {},
   "source": [
    "The classes seem to be difficult to separate.\n",
    "Yet, we have just a few dimensions and a handful of samples,\n",
    "therefore we can perform a full PCA and see whether we can project this data into a different space."
   ]
  },
  {
   "cell_type": "code",
   "execution_count": null,
   "metadata": {},
   "outputs": [],
   "source": [
    "from sklearn.decomposition import PCA\n",
    "\n",
    "pca = PCA()\n",
    "pca.fit(wine.data)\n",
    "fig, ax = plt.subplots(figsize=(14, 10))\n",
    "ax.plot(np.cumsum(pca.explained_variance_ratio_))\n",
    "ax.set(xlabel='components', ylabel='explained variance');"
   ]
  },
  {
   "cell_type": "markdown",
   "metadata": {},
   "source": [
    "Oh wow, two dimensional space seem to explain the data variance well enough.\n",
    "And, since we can visualize a two dimensional space easily, we should do it."
   ]
  },
  {
   "cell_type": "code",
   "execution_count": null,
   "metadata": {},
   "outputs": [],
   "source": [
    "pca = PCA(n_components=2)\n",
    "wine_pca = pca.fit_transform(wine.data)\n",
    "fig, ax = plt.subplots(figsize=(14, 6))\n",
    "ax.scatter(wine_pca[:, 0], wine_pca[:, 1], s=60, c=wine.target, cmap='plasma');"
   ]
  },
  {
   "cell_type": "markdown",
   "metadata": {},
   "source": [
    "Despite the fact that we did dimensionality reduction the data does not look separable.\n",
    "Let's try something different, let's describe this data using `pandas`."
   ]
  },
  {
   "cell_type": "code",
   "execution_count": null,
   "metadata": {},
   "outputs": [],
   "source": [
    "df = pd.DataFrame(wine.data, columns=[wine.feature_names])\n",
    "df.describe()"
   ]
  },
  {
   "cell_type": "markdown",
   "metadata": {},
   "source": [
    "The values of *magnesium* and *proline* have completely different magnitudes from all other features.\n",
    "These features have much bigger values than all the others,\n",
    "and since PCA will evaluate variance based on the values alone,\n",
    "it will take these two features as the main variance explanation.\n",
    "In other words, instead of finding the main variance in the data PCA is simply finding these two features.\n",
    "\n",
    "Until now we worked with PCA on images,\n",
    "in which each dimension follows the same scale:\n",
    "the possible values of the pixel which are from $0$ to $255$.\n",
    "Such a well behaved set of dimensions is uncommon in most datasets,\n",
    "notably if the data are not images.\n",
    "\n",
    "Let's scale those things down and then apply PCA.\n",
    "The `StandardScaler` centers the mean of every feature to zero,\n",
    "and ensures that the variance of each feature is exactly one."
   ]
  },
  {
   "cell_type": "code",
   "execution_count": null,
   "metadata": {},
   "outputs": [],
   "source": [
    "from sklearn.preprocessing import StandardScaler\n",
    "from sklearn.pipeline import make_pipeline\n",
    "\n",
    "preprocess = make_pipeline(StandardScaler(), PCA(n_components=2))\n",
    "wine_pca = preprocess.fit_transform(wine.data)\n",
    "fig, ax = plt.subplots(figsize=(14, 6))\n",
    "ax.scatter(wine_pca[:, 0], wine_pca[:, 1], s=60, c=wine.target, cmap='plasma');"
   ]
  },
  {
   "cell_type": "markdown",
   "metadata": {},
   "source": [
    "Now this is rather easy to separate.\n",
    "And moreover, we probably do not need a complex classifier for it.\n",
    "\n",
    "We have two take away messages here.\n",
    "The first is that if we had believed that the PCA examples we have done\n",
    "earlier are good representations for all data sets we would be in trouble\n",
    "when faced with a dataset of non-images.\n",
    "Not scaling the data before PCA is one of the most common mistakes\n",
    "one makes when working with data preprocessing.\n",
    "\n",
    "Another thing that we did not see before is the use of a pipeline\n",
    "with two preprocessors.\n",
    "We could now add a third `sklearn` object, perhaps a classifier,\n",
    "to the pipeline and build a three piece pipeline.\n",
    "A pipeline is not limited to two `sklearn` objects glued together,\n",
    "often one may need a longer one.\n",
    "The dataset after scaling is quite easy to classify,\n",
    "we will leave the concatenation of a model to the pipeline\n",
    "and classification to you."
   ]
  },
  {
   "cell_type": "markdown",
   "metadata": {},
   "source": [
    "## References\n",
    "\n",
    "- [SciKit Learn - Importance of Feature Scaling][1]\n",
    "\n",
    "[1]: http://scikit-learn.org/stable/auto_examples/preprocessing/plot_scaling_importance.html"
   ]
  }
 ],
 "metadata": {
  "anaconda-cloud": {},
  "kernelspec": {
   "display_name": "Python 3",
   "language": "python",
   "name": "python3"
  },
  "language_info": {
   "codemirror_mode": {
    "name": "ipython",
    "version": 3
   },
   "file_extension": ".py",
   "mimetype": "text/x-python",
   "name": "python",
   "nbconvert_exporter": "python",
   "pygments_lexer": "ipython3",
   "version": "3.7.6"
  }
 },
 "nbformat": 4,
 "nbformat_minor": 4
}
