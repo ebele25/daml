{
 "cells": [
  {
   "cell_type": "markdown",
   "metadata": {},
   "source": [
    "# 09.01 Trees\n",
    "\n",
    "Before we attempt to describe how one uses several models at once\n",
    "to solve a single problem we need to take a step back and look\n",
    "at a rather simple but still useful model, the **decision tree**."
   ]
  },
  {
   "cell_type": "markdown",
   "metadata": {},
   "source": [
    "![Major Oak](sl-major-oak.svg)\n",
    "\n",
    "<div style=\"text-align:right;\"><sup>sl-major-oak.svg</sup></div>\n",
    "\n",
    "<div style=\"border: 0.3em double teal; border-radius: 0.5em; padding:0.5em;\">\n",
    "    The Royal Oak is a major Oak tree in Sherwood Forest.\n",
    "    Legend says that Robin Hood and his band of Merry Men had their hideout\n",
    "    below the tree.\n",
    "    The Oak itself is at least 800 years old which makes it viable for it\n",
    "    to be alive and reasonably grown during the time the legendary folk\n",
    "    hero supposedly lived.\n",
    "    Whether Robin Hood himself lived or whether his tales are a collection\n",
    "    of stories aggregated from the deeds of many people remains unsolved.\n",
    "    One thing we can say rather confidently about Robin Hood is that he\n",
    "    very likely did wear green clothes.\n",
    "    In the 13th century hunters in the forests in the Midlands used clothes\n",
    "    dyed in Lincoln, which was famous for green dyes.\n",
    "</div>"
   ]
  },
  {
   "cell_type": "markdown",
   "metadata": {},
   "source": [
    "For a start we import the usual stuff.\n",
    "We will again use the moons dataset creator and take the decision\n",
    "tree classifier to work on a non-linear problem."
   ]
  },
  {
   "cell_type": "code",
   "execution_count": null,
   "metadata": {},
   "outputs": [],
   "source": [
    "import numpy as np\n",
    "import matplotlib.pyplot as plt\n",
    "%matplotlib inline\n",
    "plt.style.use('seaborn-talk')\n",
    "from sklearn.datasets import make_moons\n",
    "from sklearn.tree import DecisionTreeClassifier\n",
    "from sklearn.model_selection import cross_val_score, KFold"
   ]
  },
  {
   "cell_type": "markdown",
   "metadata": {},
   "source": [
    "Two moons are a non-linear problem but we can produce a more complex\n",
    "problem by merging two two moons datasets into a four moon dataset.\n",
    "The decision tree is a model which can separate several classes at once,\n",
    "and with four moons we have four distinct classes.\n",
    "\n",
    "Note that we moved the second set of moons to the right by adding $3$ to it.\n",
    "And that we also add to the labels of the second set of moons in order\n",
    "to have four different classes."
   ]
  },
  {
   "cell_type": "code",
   "execution_count": null,
   "metadata": {},
   "outputs": [],
   "source": [
    "def make_four_moons(n, noise):\n",
    "    X_left, y_left = make_moons(n//2, noise=noise)\n",
    "    X_right, y_right = make_moons(n//2, noise=noise)\n",
    "    X_right[:, 0] += 3\n",
    "    y_right[:] += 2\n",
    "    X = np.vstack((X_left, X_right))\n",
    "    y = np.hstack((y_left, y_right))\n",
    "    return X, y"
   ]
  },
  {
   "cell_type": "markdown",
   "metadata": {},
   "source": [
    "Let's have a look how this turns out."
   ]
  },
  {
   "cell_type": "code",
   "execution_count": null,
   "metadata": {},
   "outputs": [],
   "source": [
    "X, y = make_four_moons(2048, noise=.2)\n",
    "fig, ax = plt.subplots(figsize=(16, 9))\n",
    "colors = ['crimson', 'navy', 'forestgreen', 'indigo']\n",
    "for i in range(4):\n",
    "    ax.plot(X[y == i, 0], X[y == i, 1], 'o', c=colors[i])"
   ]
  },
  {
   "cell_type": "markdown",
   "metadata": {},
   "source": [
    "A decision tree is a rather simple non-parametric model,\n",
    "either used as a classifier or a regressor.\n",
    "During training a decision tree learns rules that divide\n",
    "the feature space *perpendicular* to a feature.\n",
    "In other words, at each training step,\n",
    "the tree divides one dimension into two groups.\n",
    "\n",
    "At the first training step the tree divides the entire feature space.\n",
    "On all following steps the tree attempt to divide each resulting divided branch further.\n",
    "This happens until all leaves contain only data with the same label,\n",
    "or another stopping criteria is reached.\n",
    "A handful of stopping criteria can be the depth (or height) of the tree,\n",
    "which limits how many times the tree can split;\n",
    "the minimum number of data points in a leaf,\n",
    "which is the smallest possible split produced by a tree."
   ]
  },
  {
   "cell_type": "markdown",
   "metadata": {},
   "source": [
    "There are several algorithms to train a decision tree.\n",
    "The algorithms are concerned in how, at each step, perform the best split.\n",
    "At each step a tree can split the feature space into two separate areas using any of the features.\n",
    "Therefore each feature is evaluated for the best split so that as many labels are separated,\n",
    "then an information gain measure is used to decide which split produces the tree that better\n",
    "slits classes apart.\n",
    "The information gain measure differs between algorithms,\n",
    "for classification we have a handful of information measures.\n",
    "\n",
    "Take the split which minimizes the *gini* impurity,\n",
    "\n",
    "$$\n",
    "\\sum_k \\left[ \\frac{\\sum_i (y_i = k)}{N} \\left( 1 - \\frac{\\sum_i (y_i = k)}{N} \\right) \\right]\n",
    "$$\n",
    "\n",
    "or, take the split which minimizes the *entropy*\n",
    "\n",
    "$$\n",
    "\\sum_k \\left[ - \\frac{\\sum_i (y_i = k)}{N} log \\left( \\frac{\\sum_i (y_i = k)}{N} \\right) \\right]\n",
    "$$\n",
    "\n",
    "or even the split which minimizes the maximum misclassification error.\n",
    "\n",
    "$$\n",
    "\\sum_k \\left[ 1 - max \\left( \\frac{\\sum_i (y_i = k)}{N} \\right) \\right]\n",
    "$$\n",
    "\n",
    "Where $k$ is each class and $N$ the number of samples being split.\n",
    "For regression criteria such as mean square error can be used.\n",
    "\n",
    "Once a tree performs a split then the division is set in stone.\n",
    "Each side of the split is then evaluated for more splits\n",
    "taking into account only the data points that are inside that split.\n",
    "In other words, once a tree has split the dataset into two parts\n",
    "(splits) each part (split) is considered a new complete dataset\n",
    "and a new decision tree split is performed on it as if it were a new tree.\n",
    "The final complete tree is a connection of all these splits into a branched structure."
   ]
  },
  {
   "cell_type": "markdown",
   "metadata": {},
   "source": [
    "No matter the split method the algorithm is always a greedy algorithm.\n",
    "The tree will always attempt the split that will reduce the impurity/entropy\n",
    "the most *at the current step*.\n",
    "By no means this guarantees that the final tree will be optimal,\n",
    "or have the minimum overall impurity/entropy.\n",
    "\n",
    "In general decision trees tend to overfit the data.\n",
    "The stopping criteria are ways of making the tree not overfit the data\n",
    "but the best criteria can be hard to find, i.e. by hyperparamter search.\n",
    "Without any criteria we will just split the data as much as we can.\n",
    "\n",
    "We have the data and we know something about decisions trees.\n",
    "Other than the internals of the model,\n",
    "in `sklearn` trees work with the same `fit` and `predict` methods."
   ]
  },
  {
   "cell_type": "code",
   "execution_count": null,
   "metadata": {},
   "outputs": [],
   "source": [
    "model = DecisionTreeClassifier()\n",
    "cross_val_score(model, X, y, cv=KFold(n_splits=5, shuffle=True))"
   ]
  },
  {
   "cell_type": "markdown",
   "metadata": {},
   "source": [
    "Good enough for such a simple classifier.\n",
    "As most `sklearn` classes the decision tree classifier has some sensible defaults.\n",
    "\n",
    "Decision trees are simple and computationally cheap to use for multilabel classification,\n",
    "also this is a model that can estimate class probabilities.\n",
    "We can also extract the rules the tree has learned to explain what it is doing.\n",
    "In other words, the decision tree is a white-box model,\n",
    "a model that can explain how it performs the classification.\n",
    "\n",
    "We can look at how the classification happened.\n",
    "In the plot we use color maps in two ways.\n",
    "In one we assign `cmap=` and the engine figures out that it needs\n",
    "to split the color in four different hues.\n",
    "Another way to do it is to take the color map from the `cm`\n",
    "module and execute it with color an array of values between $0$ and $1$.\n",
    "Also, there are more efficient ways to plot an entire canvas of color,\n",
    "with contour and filled contours procedures from `matplotlib`.\n",
    "But when it doubt the trick of plotting many semi-transparent\n",
    "points - as we do here - make it easier to spot visualization mistakes."
   ]
  },
  {
   "cell_type": "code",
   "execution_count": null,
   "metadata": {},
   "outputs": [],
   "source": [
    "model = DecisionTreeClassifier()\n",
    "model.fit(X, y)\n",
    "\n",
    "fig, ax = plt.subplots(figsize=(16, 9))\n",
    "gx = np.linspace(-2, 6, 256)\n",
    "gy = np.linspace(-2, 2, 256)\n",
    "gx, gy = np.meshgrid(gx, gy)\n",
    "gx, gy = gx.reshape(-1), gy.reshape(-1)\n",
    "z = model.predict(np.c_[gx, gy])\n",
    "ax.scatter(gx, gy, c=plt.cm.plasma(z / 4), alpha=0.2, s=10)\n",
    "ax.scatter(X[:, 0], X[:, 1], s=60, c=y, cmap='plasma')\n",
    "ax.axis('off');"
   ]
  },
  {
   "cell_type": "markdown",
   "metadata": {},
   "source": [
    "And we can see a lot of overfitting in the middle of the figure.\n",
    "Since the data is two dimensional we can visualize it and argue\n",
    "for specific stopping conditions.\n",
    "I here a good choice would be to not allow leaves with less than,\n",
    "say, $10$ data points.\n",
    "\n",
    "Unfortunately, as we did see, visualizing a dataset can be quite hard.\n",
    "Soon we will see how to avoid the a good deal of the overfitting\n",
    "without the need for visualization.\n",
    "For the time being let's look at how the decision tree decided to split the data.\n",
    "The `max_depth=` hyperparamter is a stopping criteria,\n",
    "and we will use it to build our tree by parts."
   ]
  },
  {
   "cell_type": "code",
   "execution_count": null,
   "metadata": {},
   "outputs": [],
   "source": [
    "fig, ax = plt.subplots(2, 3, figsize=(16, 9))\n",
    "gx = np.linspace(-2, 6, 256)\n",
    "gy = np.linspace(-2, 2, 256)\n",
    "gx, gy = np.meshgrid(gx, gy)\n",
    "gx, gy = gx.reshape(-1), gy.reshape(-1)\n",
    "\n",
    "for i in range(6):\n",
    "    model = DecisionTreeClassifier(max_depth=i+1)\n",
    "    model.fit(X, y)\n",
    "    z = model.predict(np.c_[gx, gy])\n",
    "    ax.flat[i].scatter(gx, gy, c=plt.cm.plasma(z / 4), alpha=0.1, s=10)\n",
    "    ax.flat[i].scatter(X[:, 0], X[:, 1], s=10, c=y, cmap='plasma')\n",
    "    ax.flat[i].set_title('split %s' % (i+1))\n",
    "    ax.flat[i].axis('off')"
   ]
  },
  {
   "cell_type": "markdown",
   "metadata": {},
   "source": [
    "In the first split the tree divides in the middle across the horizontal feature.\n",
    "It produces a left and a right leaf.  For now this is a tiny tree.\n",
    "In the second split the left part is divided in the middle across the vertical\n",
    "feature and the same happens with the right side.\n",
    "\n",
    "We will now ignore the right side and continue looking at the left side only.\n",
    "In the third split the bottom-left has been divided into two across\n",
    "the horizontal feature, between the blue and violet classes.\n",
    "Still in the third split the top-left is also divided\n",
    "across the horizontal feature so that the far right side\n",
    "of the current split is moved to the violet class.\n",
    "\n",
    "Now we will look only at the top-left and ignore the remaining regions.\n",
    "In the third split the far right of this part was violet\n",
    "but in the fourth split it is divided between the violet and the orange.\n",
    "The resulting small violet strip now only has a single (violet)\n",
    "data point and splitting on this part finishes since the part is *pure*.\n",
    "But still in the fourth split the left side is split\n",
    "between the far left fully blue (pure) and the middle of blues and violet.\n",
    "We cannot see this last split in the graph but we can guess that it happens\n",
    "based on how the tree evolves further.\n",
    "\n",
    "In the fifth split the only two not pure parts in the top left\n",
    "are again split vertically.\n",
    "One becomes pure orange and pure violet parts and\n",
    "the other becomes pure blue and mixed blue and violet.\n",
    "In the final sixth split the remaining non pure part in the\n",
    "top-left is split horizontally into a blue and a violet part.\n",
    "Similar splitting happen in the other parts of the graph."
   ]
  },
  {
   "cell_type": "markdown",
   "metadata": {},
   "source": [
    "Decision trees are very sensitive to outliers and variations in data.\n",
    "Hence running the data generation several times may result in slightly different splits.\n",
    "\n",
    "Other limitations also plague decision trees.\n",
    "For example, one needs to ensure that data fed to a decision tree is scaled and has similar\n",
    "support across all classes as trees tend to be biased to the most often found classes."
   ]
  }
 ],
 "metadata": {
  "anaconda-cloud": {},
  "kernelspec": {
   "display_name": "Python 3",
   "language": "python",
   "name": "python3"
  },
  "language_info": {
   "codemirror_mode": {
    "name": "ipython",
    "version": 3
   },
   "file_extension": ".py",
   "mimetype": "text/x-python",
   "name": "python",
   "nbconvert_exporter": "python",
   "pygments_lexer": "ipython3",
   "version": "3.7.6"
  }
 },
 "nbformat": 4,
 "nbformat_minor": 4
}
