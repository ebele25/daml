{
 "cells": [
  {
   "cell_type": "markdown",
   "metadata": {},
   "source": [
    "# 09.02 Ensembles\n",
    "\n",
    "Training several trees and then bagging them together makes up for several\n",
    "the issues with decision trees.\n",
    "Thanks to that the Random Forest,\n",
    "a forest of randomized decision trees,\n",
    "is a very powerful ensemble classifier.\n",
    "\n",
    "Such ensembles are some of the most powerful classifiers,\n",
    "these can draw very fluid decision boundaries between several classes at once."
   ]
  },
  {
   "cell_type": "markdown",
   "metadata": {},
   "source": [
    "![Moons of Jupiter](sl-jupiter.svg)\n",
    "\n",
    "<div style=\"text-align:right;\"><sup>sl-jupiter.svg</sup></div>\n",
    "\n",
    "<div style=\"border: 0.3em double teal; border-radius: 0.5em; padding: 0.5em;\">\n",
    "    Jupiter has many moons,\n",
    "    at the time of writing we know of 79 objects orbiting the planet which are\n",
    "    considered to be moons.\n",
    "    But perhaps the four best known moons are the Galilean Moons:\n",
    "    Callisto, Europa, Ganymede and Io.\n",
    "    These four moons have been registered by Galileo Galilei in the early 17th century.\n",
    "    The dots in the Jupyter logo represent these moons but only three of the moons\n",
    "    are visible because at the time of creation of the Jupyter project only three\n",
    "    languages were supported: Julia, Python and R.\n",
    "</div>"
   ]
  },
  {
   "cell_type": "markdown",
   "metadata": {},
   "source": [
    "For a start we import the usual stuff and also two ensemble models.\n",
    "Ensemble models will train several models instead of a single one,\n",
    "and then predict from each model and average the results.\n",
    "There are several ways in which groups of models can be trained,\n",
    "and different ensemble techniques perform often very different schemes.\n",
    "\n",
    "The Random Forest trains trees on subsamples of data,\n",
    "whilst Ada Boost trains several model one based on the results of the\n",
    "previous model.\n",
    "Most commonly Ada Boost is used with trees but other models are also possible."
   ]
  },
  {
   "cell_type": "code",
   "execution_count": null,
   "metadata": {},
   "outputs": [],
   "source": [
    "import numpy as np\n",
    "import pandas as pd\n",
    "import matplotlib.pyplot as plt\n",
    "%matplotlib inline\n",
    "plt.style.use('seaborn-talk')\n",
    "from sklearn.datasets import make_moons\n",
    "from sklearn.tree import DecisionTreeClassifier\n",
    "from sklearn.ensemble import RandomForestClassifier, AdaBoostClassifier"
   ]
  },
  {
   "cell_type": "markdown",
   "metadata": {},
   "source": [
    "### Random Forest\n",
    "\n",
    "Is the technique of training several trees on subsamples of the data,\n",
    "i.e. each tree does not see the full dataset.\n",
    "Then we take the majority vote when predicting.\n",
    "Apart from varying the number of samples each tree will see only a subset of features,\n",
    "A *random forest* trains several trees each on a sub-sample of the data\n",
    "and a sub-sample of the features.\n",
    "The sub-sampling can be performed *bootstrapped* (the default in `sklearn`) or not.\n",
    "Bootstrapping means selecting from the dataset *with replacement*.\n",
    "The bootstrapped means that each tree sees as many points as the dataset has\n",
    "but some of the points are likely duplicates since the selection\n",
    "of the subsamples is with replacement.\n",
    "\n",
    "The higher randomization increases the variance of the model.\n",
    "But the fact that we train several models and then take the majority vote\n",
    "reduces the variance again.\n",
    "The big advantage of random forests and bagging is the fact that\n",
    "each ensemble model can be trained separately.\n",
    "Which also means that it is easy to parallelize the algorithm across processes or even machines.\n",
    "When using several trees at once\n",
    "we lose the capacity of explaining what the model is doing (white-box),\n",
    "hence the random forest is a black-box model - a model which classification\n",
    "decision is hard to explain by looking at the model itself."
   ]
  },
  {
   "cell_type": "markdown",
   "metadata": {},
   "source": [
    "### Ada Boost\n",
    "\n",
    "Boosting algorithms take a slightly different approach.\n",
    "They train a very simple model,\n",
    "e.g. a tree that can only split the data once (also called a tree stump).\n",
    "Then the boosting algorithm finds the samples that the very simple model got wrong,\n",
    "and updates the data set to put more weights to these samples.\n",
    "Remember that in most cases in machine learning we have equations\n",
    "where we sum over the data, to put more weight on certain data points\n",
    "we just add a multiplier higher than $1$ against these data points.\n",
    "\n",
    "Then the boosting algorithm trains a new very simple model (e.g. stump)\n",
    "on the new, updated, dataset.\n",
    "It is likely that the new model will classify/regress the weighted samples correctly,\n",
    "at the expense of the other samples.\n",
    "On the next step the boosting algorithm again evaluates the just trained simple model,\n",
    "and find the samples that this new model got wrong.\n",
    "Now the algorithm puts more weight on the samples badly predicted by the newest\n",
    "model and trains yet another simple model on that set.\n",
    "The algorithm repeats until the maximum number of simple models is reached.\n",
    "\n",
    "The final answer from the algorithm is either a majority vote, or a weighted vote\n",
    "(weighted by amount of error of each model or by predicted probabilities).\n",
    "\n",
    "Ada Boost is the original algorithm, with several variants following it.\n",
    "In general, boosting produces a good representation of the dataset structure,\n",
    "which means that is produces very good generalization to new datasets.\n",
    "Yet, the fact that the ensemble construction by boosting cannot be parallelized\n",
    "makes the algorithm less practical for use with very big datasets."
   ]
  },
  {
   "cell_type": "markdown",
   "metadata": {},
   "source": [
    "---\n",
    "\n",
    "In order to look at a non-linear problem we again we build our four moon data generator."
   ]
  },
  {
   "cell_type": "code",
   "execution_count": null,
   "metadata": {},
   "outputs": [],
   "source": [
    "def make_four_moons(n, noise):\n",
    "    X_left, y_left = make_moons(n//2, noise=noise)\n",
    "    X_right, y_right = make_moons(n//2, noise=noise)\n",
    "    X_right[:, 0] += 3\n",
    "    y_right[:] += 2\n",
    "    X = np.vstack((X_left, X_right))\n",
    "    y = np.hstack((y_left, y_right))\n",
    "    return X, y"
   ]
  },
  {
   "cell_type": "markdown",
   "metadata": {},
   "source": [
    "And we can have a look at it."
   ]
  },
  {
   "cell_type": "code",
   "execution_count": null,
   "metadata": {},
   "outputs": [],
   "source": [
    "X, y = make_four_moons(2048, noise=.2)\n",
    "fig, ax = plt.subplots(figsize=(16, 9))\n",
    "colors = ['crimson', 'navy', 'forestgreen', 'indigo']\n",
    "for i in range(4):\n",
    "    ax.plot(X[y == i, 0], X[y == i, 1], 'o', c=colors[i])"
   ]
  },
  {
   "cell_type": "markdown",
   "metadata": {},
   "source": [
    "We build graphs similar to what we did for decision tress\n",
    "because we will us the decision tree as the basic model of our ensembles.\n",
    "The Random Forest will split the trees for as long as possible,\n",
    "resulting in overfitting in each tree.\n",
    "But the result of averaging several trees that overfit in different\n",
    "places of the datasset produces a very good classification.\n",
    "On thing to note is that we achieve boundaries between classes\n",
    "(i.e. the decision function) that is not straight everywhere\n",
    "as it was with a single decision tree.\n",
    "We use $30$ trees in the Random Forest constructions,\n",
    "provided in the argument.\n",
    "\n",
    "The Ada Boost attempts to find a good representation\n",
    "hence it will keep the straight lines.\n",
    "We explicitly give the type of model Ada Boost should use,\n",
    "a tree that can split only *thrice* (`max_depth=3`).\n",
    "Since our data has several places where three classes are present\n",
    "at the same time,\n",
    "splitting only once would never be able to capture the dataset structure.\n",
    "We use $20$ such trees."
   ]
  },
  {
   "cell_type": "code",
   "execution_count": null,
   "metadata": {},
   "outputs": [],
   "source": [
    "model_l = RandomForestClassifier(n_estimators=30)\n",
    "model_r = AdaBoostClassifier(DecisionTreeClassifier(max_depth=3), n_estimators=20)\n",
    "model_l.fit(X, y)\n",
    "model_r.fit(X, y)\n",
    "\n",
    "fig, (ax_l, ax_r) = plt.subplots(1, 2, figsize=(16, 9))\n",
    "gx = np.linspace(-2, 6, 256)\n",
    "gy = np.linspace(-2, 2, 256)\n",
    "gx, gy = np.meshgrid(gx, gy)\n",
    "gx, gy = gx.reshape(-1), gy.reshape(-1)\n",
    "\n",
    "y_hat = model_l.predict(np.c_[gx, gy])\n",
    "ax_l.scatter(gx, gy, c=plt.cm.plasma(y_hat / 4), alpha=0.2, s=10)\n",
    "ax_l.scatter(X[:, 0], X[:, 1], s=60, c=y, cmap='plasma');\n",
    "ax_l.axis('off')\n",
    "\n",
    "y_hat = model_r.predict(np.c_[gx, gy])\n",
    "ax_r.scatter(gx, gy, c=plt.cm.plasma(y_hat / 4), alpha=0.2, s=10)\n",
    "ax_r.scatter(X[:, 0], X[:, 1], s=60, c=y, cmap='plasma');\n",
    "ax_r.axis('off');"
   ]
  },
  {
   "cell_type": "markdown",
   "metadata": {},
   "source": [
    "At first sight the model produce by the random forest looks better.\n",
    "Both models certainly overfit a lot less than the single decision tree.\n",
    "The Ada Boost ensemble model attempted to identify the structure\n",
    "but straight lines are not a good way of separating this dataset.\n",
    "\n",
    "Instead we can try a base model that does not separate using straight line.\n",
    "We did see the logistic regression and that it has a decision function that is curved.\n",
    "We will take the logistic regression and use it as the base model for boosting,\n",
    "the `C=0.7` is slight regularization for the logistic regression.\n",
    "And we train $20$ such logistic regressions in Ada Boost scheme."
   ]
  },
  {
   "cell_type": "code",
   "execution_count": null,
   "metadata": {},
   "outputs": [],
   "source": [
    "from sklearn.linear_model import LogisticRegression\n",
    "\n",
    "model = AdaBoostClassifier(LogisticRegression(C=0.7), n_estimators=10)\n",
    "model.fit(X, y)\n",
    "\n",
    "fig, ax = plt.subplots(figsize=(14, 7))\n",
    "gx = np.linspace(-2, 6, 256)\n",
    "gy = np.linspace(-2, 2, 256)\n",
    "gx, gy = np.meshgrid(gx, gy)\n",
    "gx, gy = gx.reshape(-1), gy.reshape(-1)\n",
    "\n",
    "y_hat = model.predict(np.c_[gx, gy])\n",
    "ax.scatter(gx, gy, c=plt.cm.plasma(y_hat / 4), alpha=0.2, s=10)\n",
    "ax.scatter(X[:, 0], X[:, 1], s=60, c=y, cmap='plasma');\n",
    "ax.axis('off');"
   ]
  },
  {
   "cell_type": "markdown",
   "metadata": {},
   "source": [
    "And we recover the structure of the dataset:\n",
    "there is one (blue) class at the top-left,\n",
    "one (violet) at the bottom-left-middle,\n",
    "one (orange) at the top-right-middle,\n",
    "and one (yellow) at the bottom-right.\n",
    "It may not appear to be a good model at first sight,\n",
    "and it may indeed not be a good one if new data is close to the original moons.\n",
    "Yet, if new data extends far away of the moons in the dataset\n",
    "the generalization of the model is high."
   ]
  },
  {
   "cell_type": "markdown",
   "metadata": {},
   "source": [
    "## More Ensembles\n",
    "\n",
    "There are several other schemes of ensemble training.\n",
    "\n",
    "- A **Bagging** approach (`BaggingClassifier`/`BaggingRegressor` in `sklearn`)\n",
    "  is a random forest composed of models that are not necessarily trees.\n",
    "  In other words, training several models *of the same type* with subsamples of data\n",
    "  is called the bagging scheme of ensembles.\n",
    "  When the subsamples of data do not use bootstrapping the technique is sometimes\n",
    "  referred to a pasting.\n",
    "\n",
    "- The **Voting** approach (`VotingClassifier`/`VotingRegressor` in `sklearn`)\n",
    "  consists of training several models of *different types* within the same ensemble.\n",
    "  For example, an ensemble of kNN and LogisticRegression.\n",
    "  One can directly assign weights to the votes from different models.\n",
    "\n",
    "A tuned ensemble will perform better than a simple classifier, in most cases."
   ]
  }
 ],
 "metadata": {
  "anaconda-cloud": {},
  "kernelspec": {
   "display_name": "Python 3",
   "language": "python",
   "name": "python3"
  },
  "language_info": {
   "codemirror_mode": {
    "name": "ipython",
    "version": 3
   },
   "file_extension": ".py",
   "mimetype": "text/x-python",
   "name": "python",
   "nbconvert_exporter": "python",
   "pygments_lexer": "ipython3",
   "version": "3.7.6"
  }
 },
 "nbformat": 4,
 "nbformat_minor": 4
}
