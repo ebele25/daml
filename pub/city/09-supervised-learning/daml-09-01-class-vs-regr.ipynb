{
 "cells": [
  {
   "cell_type": "markdown",
   "metadata": {},
   "source": [
    "# 09.00 Classification vs Regression\n",
    "\n",
    "We have been debunking the common categorization of machine learning for a while now.\n",
    "We saw how clustering is most often used as semi-supervised learning and not\n",
    "completely supervised.\n",
    "This is because for the vast majority of practical cases we need at least some\n",
    "labels in order to evaluate how the clustering model is performing.\n",
    "The (outdated) categorization looks as follows.\n",
    "\n",
    "- Supervised Learning\n",
    "  + Classification\n",
    "  + Regression\n",
    "- Unsupervised Learning\n",
    "  + Dimensionality Reduction\n",
    "  + Clustering\n",
    "\n",
    "The real focus of differentiation of machine learning is the\n",
    "linearity and non-linearity of the problems faced.\n",
    "We also had a look that since the reducibility of the entire world\n",
    "into first principles is not possible,\n",
    "i.e. that *reductionism* cannot fully explain the world we live in,\n",
    "that linear problems are just a small fractions of problems we face.\n",
    "\n",
    "Now we will focus on supervised learning an break the separation there."
   ]
  },
  {
   "cell_type": "markdown",
   "metadata": {},
   "source": [
    "How is *classification* different from *regression*?\n",
    "Both techniques are a form of supervised learning,\n",
    "i.e. require training data to have some kind of labels or values which represent the desired output.\n",
    "It turns out that most classification methods can be used to perform regression\n",
    "and most regression methods can be used to perform classification."
   ]
  },
  {
   "cell_type": "code",
   "execution_count": null,
   "metadata": {},
   "outputs": [],
   "source": [
    "import numpy as np\n",
    "import pandas as pd\n",
    "import matplotlib.pyplot as plt\n",
    "%matplotlib inline\n",
    "from mpl_toolkits import mplot3d\n",
    "plt.style.use('seaborn-talk')"
   ]
  },
  {
   "cell_type": "markdown",
   "metadata": {},
   "source": [
    "### Logistic Regression\n",
    "\n",
    "Imagine that we can construct a continuous function $f$ from a classification problem,\n",
    "and then say that values below some value of $f(\\vec{x}) = y_{decision}$ are from one class\n",
    "and above this value are from the other class.\n",
    "That is one common way of turning regression into binary classification (only two classes),\n",
    "yet points with values very close to $y_{decision}$ would be often misclassified.\n",
    "\n",
    "Instead, we can say that points with values close to $y_{decision}$ have a good probability\n",
    "of being from either of the classes (with a little higher probability for the class on which\n",
    "side of $y_{decision}$ the point is).\n",
    "Points away from $y_{decision}$ will then have a big probability of being of one of the classes\n",
    "and zero or almost zero probability of being from the other class.\n",
    "This is what logical regression performs.\n",
    "And several other classification techniques also perform this trick\n",
    "with a **decision function** below the hood."
   ]
  },
  {
   "cell_type": "markdown",
   "metadata": {},
   "source": [
    "People say that a stew needs to be cooked for a long time to be good.\n",
    "Let's see if we can classify stews based on their cooking time\n",
    "and how the people who ate them liked them.\n",
    "Here we have the cooking times I did try when cooking a stew\n",
    "and whether I could confirm later that the person eating it\n",
    "found it palatable."
   ]
  },
  {
   "cell_type": "markdown",
   "metadata": {},
   "source": [
    "![Stew](sl-stew.svg)\n",
    "\n",
    "<div style=\"text-align:right;\"><sup>sl-stew.svg</sup></div>"
   ]
  },
  {
   "cell_type": "code",
   "execution_count": null,
   "metadata": {},
   "outputs": [],
   "source": [
    "df = pd.DataFrame({\n",
    "    'cooking time (h)': [0.2, 0.5, 0.6, 0.7, 1.0, 1.2, 1.3, 1.5, 1.9, 2.0, 2.5, 3.0, 3.7, 4.5],\n",
    "    'satisfied eater':  [  0,   0,   0,   1,   0,   1,   0,   0,   1,   1,   1,   1,   1,   1]})\n",
    "df"
   ]
  },
  {
   "cell_type": "markdown",
   "metadata": {},
   "source": [
    "We can see that it is more likely that a better cooked steak leaves a satisfied eater.\n",
    "Yet where exactly is the boundary defined by this data is slightly more complicated.\n",
    "If the measures were equally distributed we could take the mean of the classes on a scaled space.\n",
    "But even that could account badly for people who,\n",
    "out of politeness, lied that the stew was good.\n",
    "\n",
    "An easier way is to fit a model, and we will try  logistic regression.\n",
    "We will come back to the `C=` argument right away."
   ]
  },
  {
   "cell_type": "code",
   "execution_count": null,
   "metadata": {},
   "outputs": [],
   "source": [
    "from sklearn.linear_model import LogisticRegression\n",
    "from sklearn.model_selection import cross_val_score\n",
    "\n",
    "model = LogisticRegression(C=1.5)\n",
    "X = df['cooking time (h)'].values[:, np.newaxis]\n",
    "y = df['satisfied eater']\n",
    "cross_val_score(model, X, y, cv=3)"
   ]
  },
  {
   "cell_type": "markdown",
   "metadata": {},
   "source": [
    "The cross validation is not overly good but anything above $0.5$\n",
    "should be good enough for such a tiny dataset."
   ]
  },
  {
   "cell_type": "markdown",
   "metadata": {},
   "source": [
    "What we are fitting is a continuous *logit* function that attempts to find\n",
    "a good measure of the positive class (satisfied).\n",
    "\n",
    "$$\n",
    "\\min_{w,b} C \\sum_{i=1}^N log(exp(-y_i(x_i^T w + b)) + 1) + \\frac{\\|w\\|_2^2}{2}\n",
    "$$\n",
    "\n",
    "This produces a value between 0 and 1 for every sample in the dataset\n",
    "and can be steered by the parameters inside the $w$ vector and the $C$ hyperparameter.\n",
    "$w$ contains a parameter for every feature.\n",
    "$C$ on the other hand is a *sensitivity* hyperparameter.\n",
    "A very high $C$ will make the logit function never leave a sample\n",
    "on the wrong side of the decision value, yet this may not converge.\n",
    "A very small $C$ will make the solution tend to the mean for all samples.\n",
    "As with most hyperparameters one should tune $C$ to the given problem.\n",
    "\n",
    "The regularization parameter (on the right hand side) has no\n",
    "$\\alpha$ hyperparameter multiplying it as we had in ridge an lasso\n",
    "regressions.\n",
    "In the equation above we see `L2` but `L1` and elastic net can also be used.\n",
    "The important fact is that since we are only interested in minimizing\n",
    "the value of the function it does not matter what the actual values are,\n",
    "the minimums will be in the same places after all.\n",
    "Since there is no hyperparameter multiplying the regularization parameter\n",
    "but there is a hyperparameter ($C$) multiplying everything else in the function\n",
    "to be optimized, the $C$ hyperparameter works as an inverse regularization.\n",
    "A high $C$ means a non-regularized models,\n",
    "a tiny $C$ means a highly regularized model.\n",
    "\n",
    "Let's use our trained model to check the probability of someone\n",
    "being satisfied by the stew cooked by the following times."
   ]
  },
  {
   "cell_type": "code",
   "execution_count": null,
   "metadata": {},
   "outputs": [],
   "source": [
    "model.fit(X, y)\n",
    "model.predict([[0.3], [2.6]]), model.predict_proba([[0.3], [2.6]])"
   ]
  },
  {
   "cell_type": "markdown",
   "metadata": {},
   "source": [
    "The `predict` method gives us the class as expected.\n",
    "But the `predict_proba` gives out two numbers per sample.\n",
    "These two numbers are the probabilities to the negative and the positive classes, respectively.\n",
    "\n",
    "The negative class, in a binary classification is just $1 - y$ of the positive class.\n",
    "We can see it better if we plot both probabilities at the same time."
   ]
  },
  {
   "cell_type": "code",
   "execution_count": null,
   "metadata": {},
   "outputs": [],
   "source": [
    "xfit = np.linspace(0, 5, 100)\n",
    "yfit = model.predict_proba(xfit[:, np.newaxis])\n",
    "fig, ax = plt.subplots(1, figsize=(15, 7))\n",
    "ax.plot(xfit, yfit[:, 0], color='crimson')\n",
    "ax.plot(xfit, yfit[:, 1], color='steelblue')\n",
    "ax.plot(X, y, 'o', color='black');"
   ]
  },
  {
   "cell_type": "markdown",
   "metadata": {},
   "source": [
    "The blue line is the decision function produced by the Logistic Regression classifier.\n",
    "Whilst the red line would be the decision function had we reversed the classes.\n",
    "\n",
    "Using *logit* function for classification is actually much more common than for regression.\n",
    "Since logistic regression classification provides probabilities it is\n",
    "a good model to explain the classification performed.\n",
    "The probabilities that are close to $0.5$ are the points where\n",
    "the decision function is close to $0.5$.\n",
    "In the graph is is where the blue and red lines cross,\n",
    "around this point the classifier is not very confident what the class should be."
   ]
  },
  {
   "cell_type": "markdown",
   "metadata": {},
   "source": [
    "### Regression using KNN\n",
    "\n",
    "On the other hand we can also use a classification technique to perform a regression.\n",
    "When we count the neighbors in the $k$ nearest neighbors algorithm for classification\n",
    "we take the class of the majority of neighbors.\n",
    "But what if, instead of classes we have real values and we want a regression?\n",
    "We could simply take the mean of all the neighbors.\n",
    "And this is exactly how a regressor based on KNN works.\n",
    "\n",
    "Onto a problem: The foundation depth of a crane depends on what lift it will need to carry,\n",
    "which in turn depends on the maximum weight and size (in the biggest dimension) of the load it may carry.\n",
    "Let's try to estimate that foundation depth.\n",
    "Here are some samples of foundation depth against their crane features."
   ]
  },
  {
   "cell_type": "markdown",
   "metadata": {},
   "source": [
    "![Crane](sl-crane.svg)\n",
    "\n",
    "<div style=\"text-align:right;\"><sup>sl-crane.svg</sup></div>"
   ]
  },
  {
   "cell_type": "code",
   "execution_count": null,
   "metadata": {},
   "outputs": [],
   "source": [
    "weight = np.linspace(0, 10, 10) + np.random.rand(10)\n",
    "size = np.linspace(0, 10, 10) + np.random.rand(10)\n",
    "w, s = np.meshgrid(weight, size)\n",
    "lift_foundation = w*3 + s*2 + 17 + 7*np.random.rand(10)\n",
    "X = np.c_[w.reshape(-1), s.reshape(-1)]\n",
    "y = lift_foundation.reshape(-1)\n",
    "\n",
    "fig = plt.figure(figsize=(16, 9))\n",
    "ax = fig.add_subplot(111, projection='3d')\n",
    "ax.scatter(w, s, lift_foundation);"
   ]
  },
  {
   "cell_type": "markdown",
   "metadata": {},
   "source": [
    "Since we are working in three dimensions we use a mesh grid.\n",
    "But we also reshape all the data into simple `X` and `y`\n",
    "arrays for samples and expected values.\n",
    "\n",
    "This is a set with two features, and we can see an almost-plane forming,\n",
    "We will estimate the plane based on data with a `KNeighborsRegressor`.\n",
    "Before we used the $R2$ measure to score the regressions,\n",
    "yet the $R2$ measure is particularly badly descriptive with KNN regressions.\n",
    "This is because the regression uses means to explain large regions\n",
    "and the variance of data within those regions is small.\n",
    "But $R2$ expects a function that passes through the test data points,\n",
    "and not a function that finds the best mean value close to the the test points.\n",
    "Instead we will use plain explained variance to score our model."
   ]
  },
  {
   "cell_type": "code",
   "execution_count": null,
   "metadata": {},
   "outputs": [],
   "source": [
    "from sklearn.neighbors import KNeighborsRegressor\n",
    "from sklearn.model_selection import GridSearchCV\n",
    "\n",
    "model = KNeighborsRegressor(n_neighbors=3)\n",
    "grid = GridSearchCV(model, {'n_neighbors': [3, 4, 5, 6, 7]}, scoring='explained_variance', cv=5)\n",
    "grid.fit(X, y)\n",
    "grid.best_score_"
   ]
  },
  {
   "cell_type": "markdown",
   "metadata": {},
   "source": [
    "A pretty reasonable score.\n",
    "\n",
    "The grid search found the best hyperparameters\n",
    "from the ones we have given.\n",
    "The randomness in the data creation above requires\n",
    "us to search for the hyperparameters each time.\n",
    "The value chosen for `n_neighbors=` can be checked by printing the model out."
   ]
  },
  {
   "cell_type": "code",
   "execution_count": null,
   "metadata": {},
   "outputs": [],
   "source": [
    "grid.best_estimator_"
   ]
  },
  {
   "cell_type": "markdown",
   "metadata": {},
   "source": [
    "We can be confident in our model due to the quite reasonable score.\n",
    "One thing we should do is try to visualize how this model builds\n",
    "the values it predicts.\n",
    "We build a visualization by predicting lots of points with this model."
   ]
  },
  {
   "cell_type": "code",
   "execution_count": null,
   "metadata": {},
   "outputs": [],
   "source": [
    "xmesh, ymesh = np.meshgrid(np.linspace(0, 10, 100), np.linspace(0, 10, 100))\n",
    "xfit = np.dstack([xmesh, ymesh]).reshape(10000, 2)\n",
    "model = grid.best_estimator_\n",
    "yfit = model.predict(xfit)\n",
    "\n",
    "fig = plt.figure(figsize=(16, 9))\n",
    "ax = fig.add_subplot(111, projection='3d')\n",
    "ax.plot_surface(xmesh, ymesh, yfit.reshape(100, 100));"
   ]
  },
  {
   "cell_type": "markdown",
   "metadata": {},
   "source": [
    "Just like we can make areas where a certain class holds we can make areas\n",
    "where a certain continuous value holds.\n",
    "In simple words, the classification and regression problems are always related.\n",
    "The techniques for classification and/or regression try to\n",
    "either build a *decision function* across data points,\n",
    "or divide the search space into *specific areas* which hold a label or value."
   ]
  },
  {
   "cell_type": "markdown",
   "metadata": {},
   "source": [
    "## Types of Machine Learning Models\n",
    "\n",
    "We saw that we can divide machine learning problems/models in four categories:\n",
    "\n",
    "- Classification\n",
    "- Regression\n",
    "- Dimensionality Reduction\n",
    "- Clustering\n",
    "\n",
    "We also saw that the line between *classification* and *regression* is pretty thin,\n",
    "i.e. that these models only differ in how they present their outputs.\n",
    "Yet, there are even thinner divisions between other forms of machine learning techniques.\n",
    "Some other types for machine learning problems you may see out there follow.\n",
    "Concepts we have not yet covered are needed to fully describe these methods,\n",
    "but worry not as we will cover a good deal of these concepts.\n",
    "\n",
    "- *Anomaly detection* is a binary classification problem where *normal*\n",
    "  is one of the classes and *abnormal* the other.\n",
    "  Tuning between precision and recall for these classes is often automated in a way that\n",
    "  it is easy to change an abnormal activity into a normal sample upon human inspection.\n",
    "\n",
    "- *Association Rule Learning* is a clustering problem where we use several\n",
    "  different distance measures and deterministic ways of defining clusters.\n",
    "  In other words, it is a clustering technique simplified to a level which\n",
    "  can be easily explained.\n",
    "  Some forms of hierarchical clustering can be thought as rule learners.\n",
    "\n",
    "- *Reinforcement Learning* is a non-linear online learning classification/regression\n",
    "  technique with a *variable learning rate*.\n",
    "  This attempt to reuse knowledge obtained from one task into learning another task.\n",
    "  Reinforcement learning is what we often consider robot-AI, and, to be fair,\n",
    "  is quite popular in robot development."
   ]
  },
  {
   "cell_type": "markdown",
   "metadata": {},
   "source": [
    "Finally there are also **genetic algorithms** and **swarm intelligence**\n",
    "which are completely different techniques.\n",
    "The mathematical foundation to the convergence of genetic algorithms\n",
    "or swarm intelligence are not developed.\n",
    "Both techniques take analogies from nature and use them to iteratively build and tune ML models.\n",
    "Experimental techniques proved that both techniques\n",
    "work but their application to new problems is tricky to develop.\n",
    "In essence, the use of these algorithms in a practical manner is viable,\n",
    "and even very successful, on specific problems.\n",
    "But the mathematical formulation of the techniques is next to non-existent.\n",
    "This may change in the following years (perhaps decades),\n",
    "if you want a not extensively explored field to work in there's your chance.\n",
    "\n",
    "Even that is not all.\n",
    "Another form of machine learning use to solve problems is not to\n",
    "use a single model but to use several models at once,\n",
    "and then combine the answers from all those models together."
   ]
  }
 ],
 "metadata": {
  "kernelspec": {
   "display_name": "Python 3",
   "language": "python",
   "name": "python3"
  },
  "language_info": {
   "codemirror_mode": {
    "name": "ipython",
    "version": 3
   },
   "file_extension": ".py",
   "mimetype": "text/x-python",
   "name": "python",
   "nbconvert_exporter": "python",
   "pygments_lexer": "ipython3",
   "version": "3.7.6"
  }
 },
 "nbformat": 4,
 "nbformat_minor": 4
}
