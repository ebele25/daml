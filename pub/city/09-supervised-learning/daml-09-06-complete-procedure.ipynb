{
 "cells": [
  {
   "cell_type": "markdown",
   "metadata": {},
   "source": [
    "# 09.05 A Complete Procedure\n",
    "\n",
    "Classification issues on the Olivetti faces are hard to visualize because out classes are just numbers.\n",
    "Let's use the Labeled Faces in the Wild dataset again,\n",
    "since we can recognize some of the people in there by ourselves."
   ]
  },
  {
   "cell_type": "markdown",
   "metadata": {},
   "source": [
    "![Tony Blair](sl-tony-blair.svg)\n",
    "\n",
    "<div style=\"text-align:right;\"><sup>sl-tony-blair.svg</sup></div>"
   ]
  },
  {
   "cell_type": "markdown",
   "metadata": {},
   "source": [
    "LFW is a much harder dataset:\n",
    "the faces are in different orientations and the support of distinct classes vary considerably.\n",
    "This is close to a real world problem, therefore let's treat it as such.\n",
    "For a while we have been relying on cross-validation to check our models but for real world data,\n",
    "where we expect to have new (previously unknown) data thrown at our classifier.\n",
    "This is often not enough because as our grid search increases to more hyperparemeters\n",
    "we are risking overfitting the hyperparameters to our model.\n",
    "For this problem we will use three sets: **a training set, a validation set and a test set**.\n",
    "\n",
    "We will still use SVMs and PCA here for dealing with faces, we import these.\n",
    "Also we take the common libraries and the LFW dataset.\n",
    "The model selection procedures we will import as we go."
   ]
  },
  {
   "cell_type": "code",
   "execution_count": null,
   "metadata": {},
   "outputs": [],
   "source": [
    "import numpy as np\n",
    "import matplotlib.pyplot as plt\n",
    "%matplotlib inline\n",
    "plt.style.use('seaborn-talk')\n",
    "from sklearn.svm import SVC\n",
    "from sklearn.decomposition import PCA\n",
    "from sklearn.pipeline import make_pipeline\n",
    "from sklearn.datasets import fetch_lfw_people\n",
    "faces = fetch_lfw_people(min_faces_per_person=50)\n",
    "len(faces.data), faces.target_names"
   ]
  },
  {
   "cell_type": "markdown",
   "metadata": {},
   "source": [
    "We saw this before, but just in case let's look at the images.\n",
    "The `y=` argument to title allows us to place it at the bottom."
   ]
  },
  {
   "cell_type": "code",
   "execution_count": null,
   "metadata": {},
   "outputs": [],
   "source": [
    "fig, axes = plt.subplots(1, 11, figsize=(16, 3))\n",
    "fig.subplots_adjust(hspace=0.1, wspace=0.1)\n",
    "first_img = [np.argmax(faces.target == x) for x in list(range(len(faces.target_names)))]\n",
    "for i, ax in enumerate(axes.flat):\n",
    "    idx = first_img[i]\n",
    "    ax.imshow(faces.data[idx].reshape(62, 47), cmap='gray')\n",
    "    if i % 2:\n",
    "        ax.set_title(faces.target_names[i], fontsize=10)\n",
    "    else:\n",
    "        ax.set_title(faces.target_names[i], fontsize=10, y=-0.2)\n",
    "    ax.axis('off')"
   ]
  },
  {
   "cell_type": "markdown",
   "metadata": {},
   "source": [
    "First let's flense out a test set.\n",
    "We will not touch this set until we have a trained model with tuned hyperparameters.\n",
    "Then we will use this set to estimate the generalization of the model against\n",
    "data that it has never seen.\n",
    "\n",
    "This is quite different from how we used the `train_test_split` procedure before.\n",
    "When we saw the procedure the first time it did appear to be a poor man's cross validation splitter.\n",
    "The main purpose of this procedure is to take out the test set,\n",
    "a test set which will not be touched by cross validation.\n",
    "The naming convention of *test set* and *validation set* vary in literature,\n",
    "some people call the set taken out before the cross validation the test set\n",
    "and some people call it the validation set.\n",
    "Unfortunately machine learning is full of not well defined naming conventions.\n",
    "Beware!\n",
    "What is really important to remember is that one set is split from the dataset\n",
    "before cross validation.\n",
    "During the cross validation the remaining dataset is split into folds\n",
    "and the model is repeatedly tested on all but one fold,\n",
    "and then tested on the remaining fold.\n",
    "Rinse-repeat for each fold during cross validation."
   ]
  },
  {
   "cell_type": "code",
   "execution_count": null,
   "metadata": {},
   "outputs": [],
   "source": [
    "from sklearn.model_selection import train_test_split\n",
    "\n",
    "xtrain, xtest, ytrain, ytest = train_test_split(faces.data, faces.target, test_size=0.2)"
   ]
  },
  {
   "cell_type": "markdown",
   "metadata": {},
   "source": [
    "Now we train the model as normal, and perform cross-validation.\n",
    "We will try different kernels, let's see which kernel will perform best.\n",
    "The grid search with shuffling allow us to be reasonably\n",
    "confident of the cross validation.\n",
    "\n",
    "The following is still a big problem that will take a while when run."
   ]
  },
  {
   "cell_type": "code",
   "execution_count": null,
   "metadata": {},
   "outputs": [],
   "source": [
    "from sklearn.model_selection import KFold, GridSearchCV\n",
    "\n",
    "model = make_pipeline(PCA(n_components=128, svd_solver='randomized'), SVC())\n",
    "param_grid = [\n",
    "    {'svc__kernel': ['linear'], 'svc__C': [1, 10, 100]},\n",
    "    {'svc__kernel': ['rbf'], 'svc__C': [1, 10, 100], 'svc__gamma': [0.1, 1.0, 10.0]}\n",
    "]\n",
    "grid = GridSearchCV(model, param_grid, cv=KFold(n_splits=5, shuffle=True))\n",
    "grid.fit(xtrain, ytrain)\n",
    "grid.best_score_, grid.best_estimator_"
   ]
  },
  {
   "cell_type": "markdown",
   "metadata": {},
   "source": [
    "But plain score, be it mean accuracy or F1 does not tell us much in a multiclass problem.\n",
    "Instead a classification report would better capture the model performance.\n",
    "\n",
    "Moreover, we are really interested in how the model *generalizes*,\n",
    "we should test is against the *test set* which we kept untouched until now."
   ]
  },
  {
   "cell_type": "code",
   "execution_count": null,
   "metadata": {},
   "outputs": [],
   "source": [
    "from sklearn.metrics import classification_report\n",
    "\n",
    "y_hat = grid.best_estimator_.predict(xtest)\n",
    "print(classification_report(ytest, y_hat, target_names=faces.target_names))"
   ]
  },
  {
   "cell_type": "markdown",
   "metadata": {},
   "source": [
    "We have a reasonable F1 score across all classes.\n",
    "There are differences where the support is poor.\n",
    "But also people who tend to have a very different face from the others have a very good F1 score.\n",
    "This is likely to mean that our classifier is doing what is supposed to do.\n",
    "Another way of visualizing this is a confusion matrix."
   ]
  },
  {
   "cell_type": "code",
   "execution_count": null,
   "metadata": {},
   "outputs": [],
   "source": [
    "from sklearn.metrics import confusion_matrix\n",
    "\n",
    "mat = confusion_matrix(ytest, y_hat)\n",
    "fig, ax = plt.subplots(figsize=(12, 12))\n",
    "cax = ax.matshow(mat, cmap='summer')\n",
    "ticks = np.arange(0,len(faces.target_names))\n",
    "ax.set_xticks(ticks)\n",
    "ax.set_yticks(ticks)\n",
    "ax.set_xticklabels(faces.target_names, rotation=45, ha='right')\n",
    "ax.set_yticklabels(faces.target_names, rotation=45, ha='right')\n",
    "ax.set_ylabel('true label')\n",
    "ax.set_xlabel('predicted label')\n",
    "ax.xaxis.set_ticks_position('bottom')\n",
    "\n",
    "for i in range(mat.shape[0]):\n",
    "    for j in range(mat.shape[1]):\n",
    "        ax.text(j, i, mat[i, j], ha='center', va='center')"
   ]
  },
  {
   "cell_type": "markdown",
   "metadata": {},
   "source": [
    "That is a similar picture, we can say that the generalization is good enough.\n",
    "SVMs are quite a good model for this kind of problem.\n",
    "On supervised learning problems we expect the main diagonal\n",
    "to be populated in the confusion matrix.\n",
    "We can more-or-less see the main diagonal populated,\n",
    "it is just the support for the class containing photos of George W Bush\n",
    "is so high that the colors of the colormap cannot cope.\n",
    "Still we have a good classification because the values\n",
    "outside the main diagonal are small.\n",
    "\n",
    "Let's see how good.\n",
    "We can identify the faces on the pictures ourselves\n",
    "(or cheat and read it from the original dataset),\n",
    "and we can compare that against how our model did."
   ]
  },
  {
   "cell_type": "code",
   "execution_count": null,
   "metadata": {},
   "outputs": [],
   "source": [
    "fig, axes = plt.subplots(2, 6, figsize=(16, 5))\n",
    "fig.subplots_adjust(hspace=0.3, wspace=0.3)\n",
    "names = faces.target_names\n",
    "for i, ax in enumerate(axes.flat):\n",
    "    ax.imshow(xtest[i].reshape(62, 47), cmap='gray')\n",
    "    ax.set_title('true: %s\\npredicted: %s' % (names[ytest[i]], names[y_hat[i]]), fontsize=10)\n",
    "    ax.axis('off')"
   ]
  },
  {
   "cell_type": "markdown",
   "metadata": {},
   "source": [
    "For such a small amount of code is tis quite a powerful model."
   ]
  },
  {
   "cell_type": "markdown",
   "metadata": {},
   "source": [
    "## Further Evaluation\n",
    "\n",
    "The three sets to evaluate a real world problem are a good enough standard for most problems.\n",
    "That said there are more advanced techniques.\n",
    "The model complexity found by tuning the hyperparameters is not constant\n",
    "when we add more data points.\n",
    "In other words, we can prove that a problem is solvable by sampling our data points;\n",
    "but we cannot argue that a model tuned to use certain hyperparameters\n",
    "will perform (generalize) as well on new data.\n",
    "\n",
    "If we have enough data to worry about the training time,\n",
    "we can use a **learning curve** to estimate how well our hyperparameters,\n",
    "tuned on small samples will perform on the full dataset.\n",
    "The *total variance in the dataset is directly proportional\n",
    "to the number of samples needed to explain this variance*.\n",
    "Therefore, if we train and tune our model on increasingly bigger samples of our dataset,\n",
    "the score of the model on its training data and its test set will converge.\n",
    "Once this converges we can be confident that we have found the number of samples\n",
    "needed to account for the entire variance in the data.\n",
    "\n",
    "The *learning curve* is evaluated by checking whether the training score\n",
    "and testing score converges to the same value.\n",
    "In which case we can argue that we have enough data to explain the\n",
    "variance of the problem we are dealing with.\n",
    "Unfortunately in the vast majority of cases we either do not have\n",
    "enough data to perform a learning curve or the problem is so hard\n",
    "that the amount of data needed to produce a learning curve for it is just not available.\n",
    "This is one of the reasons why the practice of machine learning is often\n",
    "more of an art rather than pure engineering."
   ]
  },
  {
   "cell_type": "markdown",
   "metadata": {},
   "source": [
    "## References\n",
    "\n",
    "- [SciKit Learn - Face Recognition][1]\n",
    "- [SciKit Learn - Validation Curves][2]\n",
    "\n",
    "[1]: https://scikit-learn.org/stable/auto_examples/applications/plot_face_recognition.html\n",
    "[2]: https://scikit-learn.org/stable/modules/learning_curve.html"
   ]
  }
 ],
 "metadata": {
  "anaconda-cloud": {},
  "kernelspec": {
   "display_name": "Python 3",
   "language": "python",
   "name": "python3"
  },
  "language_info": {
   "codemirror_mode": {
    "name": "ipython",
    "version": 3
   },
   "file_extension": ".py",
   "mimetype": "text/x-python",
   "name": "python",
   "nbconvert_exporter": "python",
   "pygments_lexer": "ipython3",
   "version": "3.7.6"
  }
 },
 "nbformat": 4,
 "nbformat_minor": 4
}
