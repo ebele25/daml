{
 "cells": [
  {
   "cell_type": "markdown",
   "metadata": {},
   "source": [
    "# 02.02 Randomness in `NumPy`\n",
    "\n",
    "The random module seem confusing at first due to the number of functions it provides.\n",
    "In reality you will be only using a handful of these functions."
   ]
  },
  {
   "cell_type": "markdown",
   "metadata": {},
   "source": [
    "We will get ahead of ourselves and use some plotting code.\n",
    "Please ignore it for now, we will see it shortly.\n",
    "For now we will use the plots to describe how the random numbers\n",
    "are generated.\n",
    "\n",
    "Let's look at what kind of random numbers these functions generate."
   ]
  },
  {
   "cell_type": "code",
   "execution_count": null,
   "metadata": {},
   "outputs": [],
   "source": [
    "import numpy as np\n",
    "%matplotlib inline\n",
    "import matplotlib.pyplot as plt\n",
    "plt.style.use('seaborn-talk')"
   ]
  },
  {
   "cell_type": "markdown",
   "metadata": {},
   "source": [
    "![Dice](np-dice.svg)\n",
    "\n",
    "<div style=\"text-align:right;\"><sup>np-dice.svg</sup></div>"
   ]
  },
  {
   "cell_type": "markdown",
   "metadata": {},
   "source": [
    "For a start we can use the `np.random` functions,\n",
    "these are good enough to generate some random numbers.\n",
    "The most common uses of randomness are here:\n",
    "\n",
    "- `rand` generates floating point values between $0$ and $1$.\n",
    "  taking them from a uniform distribution.\n",
    "\n",
    "- `normal` takes random numbers from a normal distribution.\n",
    "  Deep below the hood it uses `rand` and then a quantile function.\n",
    "\n",
    "- `randint` is given two integers and it generates random\n",
    "  integers between these values.  Below the hood it uses `rand`.\n",
    "\n",
    "- `choice` select values from the array given as the first argument at random.\n",
    "  By default it does so with replacement but one can set `replace=False`\n",
    "  in order to achieve choice without replacement.\n",
    "  Below the hood it uses `randint`.\n",
    "\n",
    "So, well, in the end the random module has just a single function that\n",
    "generates (pseudo-)random numbers.\n",
    "All other functions use the first random function and use its values\n",
    "in clever ways to achieve different and useful interfaces.\n",
    "On most computers even the first function which generates random\n",
    "values between $0$ and $1$ is just borrowed from the operating system.\n",
    "\n",
    "Hence yes, all computers do is to generate random floating point\n",
    "numbers from a uniform distribution between $0$ and $1$.\n",
    "All other functions in a random library, including `np.random`\n",
    "are clever interfaces on how to turn those numbers between $0$\n",
    "and $1$ into more convenient uses and distributions.\n",
    "And we can see the graphs of these distributions:"
   ]
  },
  {
   "cell_type": "code",
   "execution_count": null,
   "metadata": {},
   "outputs": [],
   "source": [
    "r = {}\n",
    "r['rand'] = np.random.rand(1024)\n",
    "r['normal'] = np.random.normal(size=1024)\n",
    "r['randint'] = np.random.randint(0, 512, 1024)\n",
    "r['choice'] = np.random.choice(np.arange(128), 1024)\n",
    "\n",
    "fig, ax = plt.subplots(2, 2, figsize=(16, 13))\n",
    "fig.subplots_adjust(hspace=0.6)\n",
    "order = ['rand', 'normal', 'randint', 'choice']\n",
    "for idx, dist in enumerate(order):\n",
    "    ax[idx // 2, idx % 2].hist(r[dist], bins=50)\n",
    "    ax[idx // 2, idx % 2].title.set_text(dist)"
   ]
  },
  {
   "cell_type": "markdown",
   "metadata": {},
   "source": [
    "Note that as with array creation you can give a tuple\n",
    "as the shape of the resulting array returned by randomness\n",
    "generating functions.\n",
    "Or reshape it yourself afterward.\n",
    "As we have seen there is no significant difference\n",
    "since data is not copied.\n",
    "\n",
    "Random numbers are all fun and good but sometimes we want\n",
    "number that are reasonably random but are always the same random numbers.\n",
    "What?  Yes.  We want random numbers that are known to us.\n",
    "This is useful if we have code that works reasonably well for most\n",
    "inputs and we want a known run of this code.\n",
    "Or to make a specific test of the results of such code.\n",
    "\n",
    "We can seed the random number generator,\n",
    "this will give us a seeded object that works in a very similar way\n",
    "to `np.random` but which always outputs the same sequence of random numbers.\n",
    "If we change the seed he sequence changes but as long as the seed is the\n",
    "same the code will run in the same way every time.\n",
    "Here we replicate the above with the seed method:"
   ]
  },
  {
   "cell_type": "code",
   "execution_count": null,
   "metadata": {},
   "outputs": [],
   "source": [
    "rng = np.random.RandomState(42)\n",
    "r = {}\n",
    "r['rand'] = rng.rand(1024)\n",
    "r['normal'] = rng.normal(size=1024)\n",
    "r['randint'] = rng.randint(0, 512, 1024)\n",
    "r['choice'] = rng.choice(np.arange(128), 1024)\n",
    "\n",
    "fig, ax = plt.subplots(2, 2, figsize=(16, 13))\n",
    "fig.subplots_adjust(hspace=0.6)\n",
    "order = ['rand', 'normal', 'randint', 'choice']\n",
    "for idx, dist in enumerate(order):\n",
    "    ax[idx // 2, idx % 2].hist(r[dist], bins=50)\n",
    "    ax[idx // 2, idx % 2].title.set_text(dist)"
   ]
  },
  {
   "cell_type": "markdown",
   "metadata": {},
   "source": [
    "You may have noticed that we did call the `normal` procedure with\n",
    "a `size=` argument every time.\n",
    "This is because that function produces values from a normal distribution\n",
    "with specific parameters: the mean and standard deviation.\n",
    "By default the mean is $0$ and the standard deviation is $1$\n",
    "but since these arguments come before the number of random numbers we\n",
    "want to retrieve from the distribution we need to explicitly name the argument above.\n",
    "\n",
    "As you change the parameters of the normal distribution you generate random\n",
    "numbers with slightly different values.\n",
    "This is only visible if you generate a reasonably big amount of random numbers.\n",
    "Let's do exactly that: generate some random numbers from slightly different distributions:"
   ]
  },
  {
   "cell_type": "code",
   "execution_count": null,
   "metadata": {},
   "outputs": [],
   "source": [
    "r = {}\n",
    "r['n1'] = rng.normal(0, 1, size=1024)\n",
    "r['n2'] = rng.normal(1, 1, size=1024)\n",
    "r['n3'] = rng.normal(-1, 3, size=1024)\n",
    "for dist in r.keys():\n",
    "    plt.hist(r[dist], bins=30, alpha=0.3)"
   ]
  },
  {
   "cell_type": "markdown",
   "metadata": {},
   "source": [
    "There are many more distributions to select random numbers from:\n",
    "*binomial*, *pareto* and *weibull* are some common ones.  The full list of\n",
    "functions can be found in the [numpy documentation][nprnd].\n",
    "As well as in the in-built documentation.\n",
    "\n",
    "[nprnd]:  https://numpy.org/doc/stable/reference/random/generator.html#distributions \"NumPy random\""
   ]
  },
  {
   "cell_type": "code",
   "execution_count": null,
   "metadata": {},
   "outputs": [],
   "source": [
    "np.random?"
   ]
  }
 ],
 "metadata": {
  "kernelspec": {
   "display_name": "Python 3",
   "language": "python",
   "name": "python3"
  },
  "language_info": {
   "codemirror_mode": {
    "name": "ipython",
    "version": 3
   },
   "file_extension": ".py",
   "mimetype": "text/x-python",
   "name": "python",
   "nbconvert_exporter": "python",
   "pygments_lexer": "ipython3",
   "version": "3.7.6"
  }
 },
 "nbformat": 4,
 "nbformat_minor": 4
}
