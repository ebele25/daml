{
 "cells": [
  {
   "cell_type": "markdown",
   "metadata": {},
   "source": [
    "# 05.01 Distributions\n",
    "\n",
    "We saw measures about the data, and we saw the assumption of the standard deviation.\n",
    "Why is this standard deviation thing important?\n",
    "Because it describes how the data variates from the mean,\n",
    "and how that moves from the mean becomes apparent if we assume that our data\n",
    "can be described by a Gaussian (normal) distribution.\n",
    "\n",
    "We import our common suspects."
   ]
  },
  {
   "cell_type": "code",
   "execution_count": null,
   "metadata": {},
   "outputs": [],
   "source": [
    "import numpy as np\n",
    "import pandas as pd\n",
    "import matplotlib.pyplot as plt\n",
    "%matplotlib inline\n",
    "plt.style.use('seaborn-talk')\n",
    "from scipy import stats"
   ]
  },
  {
   "cell_type": "markdown",
   "metadata": {},
   "source": [
    "And since that normal (Gaussian) distribution is so important we shall plot it.\n",
    "The equation of a normal distribution is defined in code in the\n",
    "`gaussian` procedure below.\n",
    "Then we perform an extensive exercise in plotting."
   ]
  },
  {
   "cell_type": "code",
   "execution_count": null,
   "metadata": {},
   "outputs": [],
   "source": [
    "def gaussian(x, mean=0, std=1, var=1):\n",
    "    return np.exp(-(x-mean)**2/2*var)/(np.sqrt(2*np.pi*var))\n",
    "\n",
    "arrow = {'facecolor': 'black', 'arrowstyle': '->'}\n",
    "text = {'fontsize': 14, 'ha': 'center', 'arrowprops': arrow}\n",
    "fig, ax = plt.subplots(figsize=(16, 9))\n",
    "\n",
    "x = np.linspace(-4, 4, 128)\n",
    "y = gaussian(x)\n",
    "ax.plot(x, y, color='navy')\n",
    "x = np.linspace(-2, 2, 128)\n",
    "y = gaussian(x)\n",
    "ax.fill_between(x, y, alpha=0.2, color='seagreen')\n",
    "ax.annotate('95.45%', xy=(-1.5, 0.05), xytext=(-3, 0.2), **text)\n",
    "\n",
    "x = np.linspace(-1, 1, 128)\n",
    "y = gaussian(x)\n",
    "ax.fill_between(x, y, alpha=0.5, color='crimson')\n",
    "ax.annotate('68.27%', xy=(0.5, 0.2), xytext=(1.5, 0.35), **text)\n",
    "\n",
    "x = np.array([-1, 1])\n",
    "y = gaussian(x)\n",
    "ax.scatter(x, y, s=100, color='navy')\n",
    "ax.annotate('inflection point', xy=(x[1]+0.07, y[1]+0.001), xytext=(3, 0.27), **text)\n",
    "\n",
    "def plot_std(ax, xy_left, xy_right):\n",
    "    arrow['arrowstyle'] = '<->'\n",
    "    ax.annotate('', xy=xy_left, xytext=xy_right, **text)\n",
    "    xcentre = xy_left[0] + (xy_right[0] - xy_left[0])/2\n",
    "    ax.text(xcentre, xy_left[1] + 0.01, 'std', ha='center', fontsize=14)\n",
    "    arrow['arrowstyle'] = '->'\n",
    "\n",
    "plot_std(ax, (-2, 0.01), (-1, 0.01))\n",
    "plot_std(ax, (-1, 0.01), (0, 0.01))\n",
    "plot_std(ax, (0, 0.01), (1, 0.01))\n",
    "plot_std(ax, (1, 0.01), (2, 0.01))"
   ]
  },
  {
   "cell_type": "markdown",
   "metadata": {},
   "source": [
    "The areas below the curve and the inflection points vary according how the Gaussian changes.\n",
    "But the relations always stay true:\n",
    "\n",
    "- The standard deviation is the horizontal distance between the mean and the inflection point.\n",
    "- The area within two standard deviations around the mean contains the majority of data.\n",
    "- The area within four standard deviations contains roughly $95\\%$ of the data.\n",
    "\n",
    "But all that assumes that our data is modeled by a Gaussian distribution.\n",
    "We keep repeating this, and it is time to see things that are not\n",
    "modeled by a normal distribution."
   ]
  },
  {
   "cell_type": "markdown",
   "metadata": {},
   "source": [
    "The Gaussian distribution above is a continuous distribution but there are as well\n",
    "discrete distributions.  The discrete equivalent to the Gaussian distribution\n",
    "is the Binomial distribution, which is pretty much the histogram of a Gaussian.\n",
    "\n",
    "Yet, other distribution exist, for example the Poisson discrete distribution\n",
    "models occurrence of an event during a time period.\n",
    "It models the probability of an event occurring a number of times.\n",
    "Here the vertical axis is the probability of number of occurrences\n",
    "$x$ ($1$ to $64$) on the horizontal axis.\n",
    "The different graphs represent different variances of the event\n",
    "occurrences, here variances of $1$, $5$, $10$, $30$ and $50$.\n",
    "Note that the time period is not defined by the distribution,\n",
    "and is required to be interpreted given a problem."
   ]
  },
  {
   "cell_type": "code",
   "execution_count": null,
   "metadata": {},
   "outputs": [],
   "source": [
    "fig, ax = plt.subplots(figsize=(16, 9))\n",
    "\n",
    "x = np.arange(1, 64)\n",
    "for gamma in [1, 5, 10, 30, 50]:\n",
    "    y = stats.poisson.pmf(x, gamma)\n",
    "    label = '$\\gamma = %s$' % gamma\n",
    "    ax.plot(x, y, '.', label=label)\n",
    "ax.legend();"
   ]
  },
  {
   "cell_type": "markdown",
   "metadata": {},
   "source": [
    "And the continuous version of the event based distribution is the Weibull distribution.\n",
    "Well, to be fair the continuous version of the Poisson distribution is the exponential\n",
    "distribution but the Weibull distribution is an extension to the exponential distribution.\n",
    "\n",
    "The Weibull distribution also models the occurrence of an event in time.\n",
    "Yet, Weibull is often used to get a continuous value, e.g. the occurrence of half an event.\n",
    "The distribution was developed to model material failures,\n",
    "where one wishes to know when an *almost* failure will occur.\n",
    "\n",
    "The distribution has an extra parameter (here $k$) which\n",
    "models for the change in the chance of a failure.\n",
    "The biggest the $k$ the faster a failure may happen when time passes."
   ]
  },
  {
   "cell_type": "markdown",
   "metadata": {},
   "source": [
    "![Weibull Mountains](da-weibull.svg)\n",
    "\n",
    "<div style=\"text-align:right;\"><sup>da-weibull.svg</sup></div>"
   ]
  },
  {
   "cell_type": "code",
   "execution_count": null,
   "metadata": {},
   "outputs": [],
   "source": [
    "def weibull(x, gamma, k):\n",
    "    return (k/gamma) * (x/gamma)**(k-1) * np.exp(-(x/gamma)**k)\n",
    "\n",
    "fig, ax = plt.subplots(figsize=(16, 9))\n",
    "x = np.linspace(0, 4, 256)\n",
    "for k in [1, 1.5, 3, 5, 10]:\n",
    "    y = weibull(x, 1, k)\n",
    "    label = 'k = %s' % k\n",
    "    ax.plot(x, y, label=label)\n",
    "ax.legend();"
   ]
  },
  {
   "cell_type": "markdown",
   "metadata": {},
   "source": [
    "Therefore the data can be modeled by quite a lot of different distributions, right?\n",
    "Yes.  Yet in the vast majority of cases a Gaussian distribution turns out to be the best model.\n",
    "This is because the sum of several continuous distributions can be approximated as a Gaussian distribution.\n",
    "In other words, when distinct processes influence the data we measure, it is likely\n",
    "that we will see a Gaussian distribution.\n",
    "Since each process affects the measures in a way that may result in some distribution,\n",
    "a group of distinct processes will produce a sum of distinct distributions,\n",
    "which tend towards a Gaussian.\n",
    "\n",
    "That works for continuous distributions, the sum of discrete distributions vary,\n",
    "yet *often* can be approximated with the Uniform distribution.\n",
    "\n",
    "Let's try this out by summing together several Weibull distributions.\n",
    "We plot here the evolution (cumulative sum) of adding more and more Weibull distributions."
   ]
  },
  {
   "cell_type": "code",
   "execution_count": null,
   "metadata": {},
   "outputs": [],
   "source": [
    "x = np.linspace(0, 4, 256)\n",
    "y = []\n",
    "fig, ax = plt.subplots(figsize=(16, 9))\n",
    "ks = [1, 12, 23, 34, 45, 56, 67, 78, 89, 100]\n",
    "for k in ks:\n",
    "    y.append(weibull(x, 1, k))\n",
    "s = np.cumsum(np.array(y), axis=0)\n",
    "for k, i in zip(ks, s):\n",
    "    label = '$k = %s$' % str(k)\n",
    "    ax.plot(x, i, label=label)\n",
    "ax.legend();"
   ]
  },
  {
   "cell_type": "markdown",
   "metadata": {},
   "source": [
    "The above is often called the Central Limit Theorem in statistics.\n",
    "It works in many problems allowing us to assume the normal distribution of data,\n",
    "and only worry about not normally distributed data when we attempt\n",
    "statistics based on a Gaussian distribution and they fail.\n",
    "Most of the time we will be working with data that is generated by a complex process,\n",
    "i.e. by a combination of several processes.\n",
    "Therefore the Gaussian assumption and the use of standard deviation can be justified.\n",
    "\n",
    "On the other hand the Central Limit Theorem does *not* allow us to assume\n",
    "that *every* problem will be well modeled by a Gaussian distribution.\n",
    "If we change the $k$ values we used for our Weibull distributions above\n",
    "we can easily make a problem for which the Central Limit Theorem\n",
    "doe not work."
   ]
  },
  {
   "cell_type": "code",
   "execution_count": null,
   "metadata": {},
   "outputs": [],
   "source": [
    "x = np.linspace(.01, 4, 256)\n",
    "y = []\n",
    "fig, ax = plt.subplots(figsize=(16, 9))\n",
    "ks = [.1, .2, .3, .4, .5, 9, 10, 12, 13]\n",
    "for k in ks:\n",
    "    y.append(weibull(x, 1, k))\n",
    "s = np.cumsum(np.array(y), axis=0)\n",
    "for k, i in zip(ks, s):\n",
    "    label = '$k = %s$' % str(k)\n",
    "    ax.plot(x, i, label=label)\n",
    "ax.legend();"
   ]
  },
  {
   "cell_type": "markdown",
   "metadata": {},
   "source": [
    "Here we see a multivariate (also called a multi-modal) distribution.\n",
    "Despite the fact we accumulated several processes we did not end up with\n",
    "a Gaussian-like distribution.\n",
    "In complex problems this may happen,\n",
    "and we need to be aware of this possibility.\n",
    "Moreover, there is no known *single* distribution to model this specific combination of processes.\n",
    "Of course, we can model the scenario with several Weibull distributions\n",
    "one fore each process we graph.\n",
    "In real data we do not have access to the information of how many different process\n",
    "and their nature is not available to us.\n",
    "In real world data finding out the processes generating it is our task\n",
    "in the first place.\n",
    "\n",
    "Most known statistical distributions are univariate\n",
    "(have a single peak),\n",
    "and hence obey the Central Limit Theorem.\n",
    "In this specific case the two peaks happen because we used values of $k$ below $1$,\n",
    "which mean a decreasing chance of failure over time;\n",
    "and values of $k$ above $1$ which mean an increasing chance over time of failure.\n",
    "The difference in meaning causes an effect often called a *bifurcation*.\n",
    "\n",
    "The take away message is that it is okay to start out with the assumption\n",
    "that our data is reasonably close to a normal distribution.\n",
    "But it is also important to keep at the back of one's mind the fact\n",
    "that if things go wrong we may be working with a distribution of data\n",
    "that is not normal in any way.\n",
    "Life then becomes complicated.\n",
    "Yet there are methods to work with non-normal data,\n",
    "and knowing that we do not have a normal distribution is better\n",
    "than attempting to square every circle just because working with circles is hard."
   ]
  }
 ],
 "metadata": {
  "anaconda-cloud": {},
  "kernelspec": {
   "display_name": "Python 3",
   "language": "python",
   "name": "python3"
  },
  "language_info": {
   "codemirror_mode": {
    "name": "ipython",
    "version": 3
   },
   "file_extension": ".py",
   "mimetype": "text/x-python",
   "name": "python",
   "nbconvert_exporter": "python",
   "pygments_lexer": "ipython3",
   "version": "3.7.6"
  }
 },
 "nbformat": 4,
 "nbformat_minor": 4
}
