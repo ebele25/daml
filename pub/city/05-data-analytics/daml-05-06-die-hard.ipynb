{
 "cells": [
  {
   "cell_type": "markdown",
   "metadata": {},
   "source": [
    "# 05.05 Die Hard\n",
    "\n",
    "Remember we are arguing that *Die Hard* movies are just a\n",
    "**bunch of middle-aged of blokes hitting each other**.\n",
    "In order to prove or disprove our statements we collected\n",
    "cast data about the movies.\n",
    "\n",
    "Now we again import what we will need and work\n",
    "on the data using the tools we already know.\n",
    "We will use the `OrderedDict` to ensure\n",
    "the correct chronological order of the movies as\n",
    "we work with them.\n",
    "This is not needed in modern versions of Python anymore,\n",
    "where the default dictionary is ordered,\n",
    "but we keep it in case anyone may be running an old version."
   ]
  },
  {
   "cell_type": "code",
   "execution_count": null,
   "metadata": {},
   "outputs": [],
   "source": [
    "import numpy as np\n",
    "import pandas as pd\n",
    "import matplotlib.pyplot as plt\n",
    "%matplotlib inline\n",
    "plt.style.use('seaborn-talk')\n",
    "from collections import OrderedDict"
   ]
  },
  {
   "cell_type": "markdown",
   "metadata": {},
   "source": [
    "We have saved the data to a file.\n",
    "The file below is data collected at a specific time in $2020$,\n",
    "this data makes sense for all of the changes below.\n",
    "More recent data is likely to be more complete.\n",
    "\n",
    "We also have a good deal of missing data, let's see how much."
   ]
  },
  {
   "cell_type": "code",
   "execution_count": null,
   "metadata": {},
   "outputs": [],
   "source": [
    "df = pd.read_csv('da-die-hard.csv', index_col='webpage_name')\n",
    "df.info()"
   ]
  },
  {
   "cell_type": "markdown",
   "metadata": {},
   "source": [
    "Oh wow!  Most of the columns only have a handful of data, all the remaining rows are nulls.\n",
    "This is dirty data, therefore we should expect it.\n",
    "Here we can see that crowd sourced data input (Wikipedia) is often very inconsistent\n",
    "(e.g. \"Parent(s)\" vs. \"Parents\" or \"Spouse(s)\" vs. \"Partner(s)\").\n",
    "\n",
    "What we can do is to select the pieces of data that contain meaningful information\n",
    "and throw away the rest.  The following keys appear to be usable across most rows.\n",
    "We also copy the new data frame in order to throw away the old one and save memory."
   ]
  },
  {
   "cell_type": "code",
   "execution_count": null,
   "metadata": {},
   "outputs": [],
   "source": [
    "features = ['Die Hard', 'Die Hard 2', 'Die Hard with a Vengeance',\n",
    "            'Live Free or Die Hard', 'A Good Day to Die Hard',\n",
    "            'Alma mater', 'Born', 'Children', 'Nationality',\n",
    "            'Occupation', 'Occupation(s)', 'Partner(s)', 'Spouse(s)',\n",
    "            'Years active', 'bday', ]\n",
    "df = df[features].copy()\n",
    "df.head()"
   ]
  },
  {
   "cell_type": "markdown",
   "metadata": {},
   "source": [
    "![John McClane](da-christmas.svg)\n",
    "\n",
    "<div style=\"text-align:right;\"><sup>da-christmas.svg</sup></div>\n",
    "\n",
    "<div style=\"border: 0.3em double teal; border-radius: 0.5em; padding: 0.5em;\">\n",
    "    It has been long debated whether Die Hard is a Christmas movie.\n",
    "    Yes, the story of several of the Die Hard movies happen during Christmas Eve\n",
    "    but the movies have been released in the middle of the year.\n",
    "    Somehow the tradition of showing a Die Hard movie on Christmas Eve\n",
    "    started across television channels in several countries,\n",
    "    and that is what consolidated the series as Christmas movies.\n",
    "</div>"
   ]
  },
  {
   "cell_type": "markdown",
   "metadata": {},
   "source": [
    "That data frame above is easier to look at.\n",
    "Now we can go back to the question at hand:\n",
    "Whether there are really that few women in the cast of Die Hard movies.\n",
    "We do not have the gender of the cast in our data frame but we have their occupation,\n",
    "and after looking at a handful of the pages we can see that \"Actor\" often appears.\n",
    "Also, there are some references to the occupation in the title of the page,\n",
    "we can try to use that too.\n",
    "\n",
    "We try to find the strings \"actor\" or \"Actor\" in one of the columns\n",
    "representing the occupation of the person.\n",
    "Note that we attempt to match the index as well,\n",
    "which comes from the page title."
   ]
  },
  {
   "cell_type": "code",
   "execution_count": null,
   "metadata": {},
   "outputs": [],
   "source": [
    "actor = (df['Occupation'].str.contains('[Aa]ctor')\n",
    "         | df['Occupation(s)'].str.contains('[Aa]ctor')\n",
    "         | df.index.str.contains('[Aa]ctor'))\n",
    "actor = actor.astype(np.int)\n",
    "actor"
   ]
  },
  {
   "cell_type": "markdown",
   "metadata": {},
   "source": [
    "Looks promising, and looks like there are more ones than zeros,\n",
    "confirming our initial suspicion.\n",
    "We have not proved anything yet, though.\n",
    "Add the indicator we have built to our data frame as a new column,\n",
    "and let's build the \"actress\" column next."
   ]
  },
  {
   "cell_type": "code",
   "execution_count": null,
   "metadata": {},
   "outputs": [],
   "source": [
    "df['actor'] = actor\n",
    "df.head()"
   ]
  },
  {
   "cell_type": "markdown",
   "metadata": {},
   "source": [
    "This is dirty data, don't make the mistake of assuming that everything that\n",
    "is not an actor is an actress!  You might get very surprising (and wrong)\n",
    "results that way.\n",
    "\n",
    "Let's repeat the procedure of searching the occupation of each person\n",
    "for the strings \"actress\" and \"Actress\"."
   ]
  },
  {
   "cell_type": "code",
   "execution_count": null,
   "metadata": {},
   "outputs": [],
   "source": [
    "actress = (df['Occupation'].str.contains('[Aa]ctress')\n",
    "           | df['Occupation(s)'].str.contains('[Aa]ctress')\n",
    "           | df.index.str.contains('[Aa]ctress'))\n",
    "actress = actress.astype(np.int)\n",
    "df['actress'] = actress\n",
    "df.head()"
   ]
  },
  {
   "cell_type": "markdown",
   "metadata": {},
   "source": [
    "And let's also see who we would consider an actress if we had assumed that\n",
    "everyone who isn't an actor is an actress.\n",
    "\n",
    "We also save the index value for these rows\n",
    "(note: there are no rows where actor == 1 and actress == 1,\n",
    "in a real situation one would need to check for that too but we leave it for brevity)."
   ]
  },
  {
   "cell_type": "code",
   "execution_count": null,
   "metadata": {},
   "outputs": [],
   "source": [
    "no_gender = df[(df['actor'] == 0) & (df['actress'] == 0)]\n",
    "names = no_gender.index.values\n",
    "no_gender"
   ]
  },
  {
   "cell_type": "markdown",
   "metadata": {},
   "source": [
    "We could try to guesstimate the gender from the name but that would\n",
    "probably be using our own bias to make decisions.\n",
    "Some names can be very tricky to guess the gender of the person.\n",
    "Instead we should throw these rows away."
   ]
  },
  {
   "cell_type": "code",
   "execution_count": null,
   "metadata": {},
   "outputs": [],
   "source": [
    "df.drop(names, inplace=True)\n",
    "df.shape"
   ]
  },
  {
   "cell_type": "markdown",
   "metadata": {},
   "source": [
    "We have been looking at this data for a while and we can see other columns that\n",
    "have useful data.\n",
    "\n",
    "The next piece of information we need to figure out \"middle-aged blokes\" is age.\n",
    "Let's see if we have the birth day or the \"Born\" attribute for everyone."
   ]
  },
  {
   "cell_type": "code",
   "execution_count": null,
   "metadata": {},
   "outputs": [],
   "source": [
    "df[df['Born'].isnull() & df['bday'].isnull()]"
   ]
  },
  {
   "cell_type": "markdown",
   "metadata": {},
   "source": [
    "Just one person has neither.\n",
    "And the only reason he is part of our dataset is because of his page title,\n",
    "i.e. we pretty much have no data about him.\n",
    "We can go forward without this row."
   ]
  },
  {
   "cell_type": "code",
   "execution_count": null,
   "metadata": {},
   "outputs": [],
   "source": [
    "df.drop('Tom Bower (actor)', inplace=True)\n",
    "df.shape"
   ]
  },
  {
   "cell_type": "markdown",
   "metadata": {},
   "source": [
    "Now let's see if we will need to use the \"Born\" attribute to build the birth date\n",
    "of some of the people in our set.  i.e. whether everyone has the \"bday\" column."
   ]
  },
  {
   "cell_type": "code",
   "execution_count": null,
   "metadata": {},
   "outputs": [],
   "source": [
    "no_bday = df[df['bday'].isnull()]\n",
    "no_bday"
   ]
  },
  {
   "cell_type": "markdown",
   "metadata": {},
   "source": [
    "Okay, one row has no birth date.\n",
    "But moreover, the \"Born\" attribute has no date either.\n",
    "This is very common with plain dirty data,\n",
    "one cannot tell what the person inputting the data assumes the data should mean.\n",
    "\n",
    "We could just kill off this row too but let's try a trick:\n",
    "let's assume that she started her career when she was $20$ years old,\n",
    "and guess her age accordingly.\n",
    "We know the year when she started the career based on the \"Years Active\" attribute."
   ]
  },
  {
   "cell_type": "code",
   "execution_count": null,
   "metadata": {},
   "outputs": [],
   "source": [
    "byear = no_bday['Years active'].str.extract('(\\d+)', expand=False).astype(np.int) - 20\n",
    "byear"
   ]
  },
  {
   "cell_type": "markdown",
   "metadata": {},
   "source": [
    "We do not know the actual birth day, let's just say $1st$ of January.\n",
    "Which is a low estimate.\n",
    "The $20$ years old as the start of the career was actually a high estimate,\n",
    "most actors/actresses start before that.\n",
    "One estimate up and one down should be a good enough shot.\n",
    "\n",
    "And that's probably enough playing around with this data.\n",
    "Let's have a look again at how many nulls we have in this new,\n",
    "cleaned up, data frame."
   ]
  },
  {
   "cell_type": "code",
   "execution_count": null,
   "metadata": {},
   "outputs": [],
   "source": [
    "bday = byear.astype(np.str) + '-01-01'\n",
    "df.loc[df['bday'].isnull(), 'bday'] = bday\n",
    "df.info()"
   ]
  },
  {
   "cell_type": "markdown",
   "metadata": {},
   "source": [
    "Several columns are full of values, notably the columns we have created.\n",
    "Apart from that we know that that columns with the movie titles contain\n",
    "`NaN`s where the person did not participate in the movie.\n",
    "Instead of a `NaN` we should place a zero there.\n",
    "\n",
    "Let's therefore fill the nulls and select only the columns that are needed\n",
    "to answer our initial question.\n",
    "We only need the gender indicators and the birthdays."
   ]
  },
  {
   "cell_type": "code",
   "execution_count": null,
   "metadata": {},
   "outputs": [],
   "source": [
    "features = ['Die Hard', 'Die Hard 2', 'Die Hard with a Vengeance',\n",
    "            'Live Free or Die Hard', 'A Good Day to Die Hard',\n",
    "            'actor', 'actress', 'bday', ]\n",
    "df = df[features].copy()\n",
    "df = df.fillna(0)\n",
    "df['bday'] = pd.to_datetime(df['bday'])\n",
    "df.head()"
   ]
  },
  {
   "cell_type": "markdown",
   "metadata": {},
   "source": [
    "Finally some *clean* data.\n",
    "Calculating the age now is a simple task: parse the dates and subtract."
   ]
  },
  {
   "cell_type": "code",
   "execution_count": null,
   "metadata": {},
   "outputs": [],
   "source": [
    "df['age'] = (pd.to_datetime('2020-01-01') - df['bday']).dt.days // 365.25\n",
    "df"
   ]
  },
  {
   "cell_type": "markdown",
   "metadata": {},
   "source": [
    "The age of the cast as of January the $1st$, $2020$\n",
    "is not a good indicator of what we see in the movies.\n",
    "A movies is a snap of time where the actors remain a specific age.\n",
    "We will need an extra piece of data: the release date of each movie.\n",
    "\n",
    "The release date is not an exact description of when the movie was filmed\n",
    "but it is a good enough estimate.\n",
    "Now, when we compare the age of the cast of a movie we subtract\n",
    "the years since the release of the movie."
   ]
  },
  {
   "cell_type": "code",
   "execution_count": null,
   "metadata": {},
   "outputs": [],
   "source": [
    "release = OrderedDict(\n",
    "    {'Die Hard': '1988-07-15',\n",
    "     'Die Hard 2': '1990-07-04',\n",
    "     'Die Hard with a Vengeance': '1995-05-19',\n",
    "     'Live Free or Die Hard': '2007-06-27',\n",
    "     'A Good Day to Die Hard': '2013-02-14',\n",
    "    })\n",
    "for k, v in release.items():\n",
    "    release[k] = (pd.to_datetime('2020-01-01') - pd.to_datetime(v)).days // 365.25\n",
    "release"
   ]
  },
  {
   "cell_type": "markdown",
   "metadata": {},
   "source": [
    "We will want to do some statistics over the cast of each movie.\n",
    "It is time to build another data structure:\n",
    "We keep the full data frame as the total of all movies then divide\n",
    "(make views) of the data frame based on the columns of each movie.\n",
    "The cast of the movies may overlap, therefore the same actor/actress\n",
    "can be in several of these views of the data frame."
   ]
  },
  {
   "cell_type": "code",
   "execution_count": null,
   "metadata": {},
   "outputs": [],
   "source": [
    "dh = OrderedDict()\n",
    "movies = ['Die Hard', 'Die Hard 2',\n",
    "          'Die Hard with a Vengeance', 'Live Free or Die Hard', 'A Good Day to Die Hard']\n",
    "for m in movies:\n",
    "    dh[m] = df[df[m] == 1]\n",
    "dh.keys()"
   ]
  },
  {
   "cell_type": "markdown",
   "metadata": {},
   "source": [
    "Plotting time!\n",
    "We have the data in the format we'd like to answer the question that brought us here:\n",
    "Are there many more male cast in Die Hard movies than female?\n",
    "\n",
    "For each data frame view we plot several bars:\n",
    "the fatter bars represent the gender ratio (total, actors, actresses),\n",
    "and the smaller bars are the mean age of each group.\n",
    "Most of this code is graph prettifying.\n",
    "\n",
    "We use the `bar` plot from `matplotlib` directly.\n",
    "The routine takes the position of the bars as the first argument\n",
    "and the height of the bars as the second argument.\n",
    "In a loop we plot the large bars against the left axis\n",
    "of cast counts,\n",
    "and we plot the thin bars against the right axis of age.\n",
    "We do it for each of the movies.\n",
    "After that we add extra thick bars against the left axis\n",
    "containing the total cast counts across all movies."
   ]
  },
  {
   "cell_type": "code",
   "execution_count": null,
   "metadata": {},
   "outputs": [],
   "source": [
    "fig, axl = plt.subplots(figsize=(18, 9))\n",
    "axr = axl.twinx()\n",
    "l_height = []\n",
    "r_height = []\n",
    "labels = []\n",
    "l_base = np.array([1, 1.25, 1.50])\n",
    "r_base = np.array([1.10, 1.35, 1.60])\n",
    "l_positions = np.array([])\n",
    "r_positions = np.array([])\n",
    "next_position = 0\n",
    "for m, data in dh.items():\n",
    "    actor = data[data['actor'] == 1]\n",
    "    actress = data[data['actress'] == 1]\n",
    "    l_positions = np.append(l_positions, l_base + next_position)\n",
    "    r_positions = np.append(r_positions, r_base + next_position)\n",
    "    l_height += [len(data), data.actor.sum(), data.actress.sum()]\n",
    "    s = release[m]\n",
    "    r_height += [data.age.mean() - s, actor.age.mean() - s, actress.age.mean() - s]\n",
    "    labels += [m + ' - Cast', m + ' - Actors', m + ' - Actressses']\n",
    "    next_position += 1\n",
    "    \n",
    "c = ['yellowgreen', 'royalblue', 'crimson']\n",
    "axl.bar(l_base - 1, [len(df), df.actor.sum(), df.actress.sum()], width=0.3, color=c)\n",
    "axl.bar(l_positions, l_height, width=0.18, color=c)\n",
    "axl.set_xticks(np.append(l_base - 1, l_positions))\n",
    "axl.set_xticklabels(['Total Cast', 'Total Actors', 'Total Actresses'] + labels)\n",
    "axl.set_xticklabels(axl.get_xticklabels(), rotation=45, ha='right')\n",
    "axl.set_title('Die Hard - Cast Gender and Age Comparison', fontsize=16)\n",
    "axl.set_ylabel('People Count')\n",
    "c = ['mediumseagreen', 'slateblue', 'lightcoral']\n",
    "axr.bar(r_positions, r_height, width=0.07, color=c)\n",
    "axr.set_ylim(0, 100)\n",
    "axr.set_ylabel('Age');"
   ]
  },
  {
   "cell_type": "markdown",
   "metadata": {},
   "source": [
    "## Conclusions\n",
    "\n",
    "We can answer our question with a **yes**.\n",
    "The male cast overwhelms the female cast in the Die Hard movies,\n",
    "and the ages are past the $40$s for actors.\n",
    "In the last movies the ratio has been getting more even but it is still far off.\n",
    "\n",
    "The male cast keeps with the movies, e.g. Bruce Willis plays in all of them\n",
    "but the female cast changes.\n",
    "This likely explains the male mean age going up over time.\n",
    "Another option is that newer movies casted more younger actresses.\n",
    "Possibly a combination of both effects."
   ]
  }
 ],
 "metadata": {
  "anaconda-cloud": {},
  "kernelspec": {
   "display_name": "Python 3",
   "language": "python",
   "name": "python3"
  },
  "language_info": {
   "codemirror_mode": {
    "name": "ipython",
    "version": 3
   },
   "file_extension": ".py",
   "mimetype": "text/x-python",
   "name": "python",
   "nbconvert_exporter": "python",
   "pygments_lexer": "ipython3",
   "version": "3.7.6"
  }
 },
 "nbformat": 4,
 "nbformat_minor": 4
}
