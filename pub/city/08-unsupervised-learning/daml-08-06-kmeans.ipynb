{
 "cells": [
  {
   "cell_type": "markdown",
   "metadata": {},
   "source": [
    "# 08.05 k-Means\n",
    "\n",
    "The algorithm we will refer to as k-Means has many names.\n",
    "Some would call it the Lloyd's Algorithms, some will call it\n",
    "Voronoi Iteration, and other the Expectation-Maximization.\n",
    "Whichever the name k-means is a *clustering* algorithm,\n",
    "it finds clusters of data points that are similar (close)\n",
    "to each other.\n",
    "It evaluates the similarity based on some notion of distance.\n",
    "For simplicity we will only use euclidean distance\n",
    "but many variants with different distances exist."
   ]
  },
  {
   "cell_type": "markdown",
   "metadata": {},
   "source": [
    "![Andromeda](ul-andromeda.svg)\n",
    "\n",
    "<div style=\"text-align:right;\"><sup>ul-andromeda.svg</sup></div>"
   ]
  },
  {
   "cell_type": "markdown",
   "metadata": {},
   "source": [
    "In general the algorithm looks as follows:\n",
    "\n",
    "1. Generate a predefined number of random cluster centers;\n",
    "2. Assign data points to the closest cluster center;\n",
    "3. Change the cluster centers so that they lie in the center of the data points assigned to them;\n",
    "4. Repeat steps 2 and 3 until convergence, until the centers do not change;\n",
    "5. The final cluster centers are the position of the clusters.\n",
    "\n",
    "Note that the above requires some form of *distance measure*,\n",
    "and that the optimized function in these steps\n",
    "is the minimization of all the distances.\n",
    "Let's do the initial imports and dive into k-means."
   ]
  },
  {
   "cell_type": "code",
   "execution_count": null,
   "metadata": {},
   "outputs": [],
   "source": [
    "import numpy as np\n",
    "import matplotlib.pyplot as plt\n",
    "%matplotlib inline\n",
    "plt.style.use('seaborn-talk')"
   ]
  },
  {
   "cell_type": "markdown",
   "metadata": {},
   "source": [
    "We will use a rather mechanical looking dataset of three clusters of points,\n",
    "the points in the blobs are all positive which will also make things easier as we go."
   ]
  },
  {
   "cell_type": "code",
   "execution_count": null,
   "metadata": {},
   "outputs": [],
   "source": [
    "cluster_num = 3\n",
    "points = [\n",
    "    [4, 7], [4, 8], [4.5, 8], [5, 7], [5, 7.5], [5, 8], [5, 8.5], [5, 9], [5.5, 7.5], [5.5, 8], [6, 8],\n",
    "    [6, 3.5], [6, 4], [6, 4.5], [6, 5], [6, 5.5], [6.5, 5], [7, 4.5], [7, 5], [7, 5.5], [7.5, 5], [7.5, 5.5],\n",
    "    [7, 2], [7.5, 2], [8, 2], [8, 2.5], [8, 3], [8, 3.5], [8.5, 2.5], [8.5, 3], [9, 2], [9, 2.5], [9, 3],\n",
    "]\n",
    "labels = [0]*11 + [1]*11 + [2]*11\n",
    "X, y = np.array(points), np.array(labels)\n",
    "fig, ax = plt.subplots(figsize=(14, 9))\n",
    "ax.scatter(X[:, 0], X[:, 1], c=y, cmap='viridis');"
   ]
  },
  {
   "cell_type": "markdown",
   "metadata": {},
   "source": [
    "The steps above are rather easy to follow,\n",
    "so we can implement a k-means algorithm ourselves.\n",
    "The following is a very simple implementation of k-means.\n",
    "We perform step $1$ by first randomly assigning cluster centers,\n",
    "step $2$ is performed with the `pairwise_distances` procedure.\n",
    "The `pairwise_distances` procedure performs a matrix transformation\n",
    "to generate distances between all points in the first and all\n",
    "points in the second argument.\n",
    "We did write our own version of `pairwise_distances` inside\n",
    "the `fit` method when we implemented k nearest neighbors.\n",
    "Computing the distances between all points is a very common\n",
    "task in machine learning hence `sklearn` has a procedure for that.\n",
    "And since we already implemented ourselves the procedure once,\n",
    "we are now allowed to make our lives easier and\n",
    "use the procedure provided.\n",
    "\n",
    "Step $3$ is performed by taking the mean of the points in the cluster.\n",
    "Remember that the mean is simply the center.\n",
    "In our implementation we ignore the convergence and\n",
    "just perform $6$ iterations to account for step $4$.\n",
    "Finally, step $5$ is left in the `clusters` variable.\n",
    "\n",
    "We plot the results.\n",
    "Since k-means has the tendency of choking when a cluster center is not close enough to at least\n",
    "one point, we may need to run the following several times until a good solution is found.\n",
    "Note that we use a heuristic about initial cluster location,\n",
    "we assume that our data centers close to zero and assign cluster centers\n",
    "within the mean variance of the data from the origin."
   ]
  },
  {
   "cell_type": "code",
   "execution_count": null,
   "metadata": {},
   "outputs": [],
   "source": [
    "from sklearn.metrics import pairwise_distances\n",
    "\n",
    "steps = 6\n",
    "clusters = (np.random.rand(3, 2) - 0.5)*np.abs(X.mean(axis=0)) + X.mean(axis=0)\n",
    "colors = np.array(['crimson', 'steelblue', 'seagreen'])\n",
    "fig, ax = plt.subplots(3, 2, figsize=(16, 9))\n",
    "for i in range(steps):\n",
    "    distances = pairwise_distances(X, clusters)\n",
    "    classes = distances.argmin(axis=1)\n",
    "    ax.flat[i].scatter(clusters[:, 0], clusters[:, 1], c=colors);\n",
    "    ax.flat[i].scatter(X[:, 0], X[:, 1], c=colors[classes], alpha=0.3);\n",
    "    ax.flat[i].set(xticks=[], yticks=[], title=f'step {i}')\n",
    "    new_clusters = np.array([]).reshape(0, 2)\n",
    "    for j in range(cluster_num):\n",
    "        centre = X[classes == j]\n",
    "        if centre.shape[0]:\n",
    "            new_clusters = np.r_['0,2', new_clusters, centre.mean(axis=0)]\n",
    "        else:\n",
    "            new_clusters = np.r_['0,2', new_clusters, clusters[j, :]]\n",
    "        ax.flat[i].annotate('', new_clusters[j, :], clusters[j, :],\n",
    "                            arrowprops=dict(arrowstyle='->', linewidth=1))\n",
    "    clusters = new_clusters"
   ]
  },
  {
   "cell_type": "markdown",
   "metadata": {},
   "source": [
    "## Limitations\n",
    "\n",
    "One limitation of k-means that is apparent at first sight is that we need to know\n",
    "a-priori the number of clusters we want to assign the data to.\n",
    "Although measures such as *cluster inertia* across several numbers of clusters or a handful\n",
    "of statistical techniques (e.g. silhouette analysis) exist to estimate a good number of clusters,\n",
    "these are far from perfect.\n",
    "Preexisting knowledge of the data,\n",
    "possibly aided by dimensionality reduction is often needed to find a good number of clusters.\n",
    "\n",
    "The algorithm requires stochastic initialization and,\n",
    "given a bad initial start, may find a local minimum instead of a global minimum.\n",
    "In other words badly initialized k-means can cluster badly.\n",
    "In practice k-means is run for several random initializations and then evaluated.\n",
    "Below the hood this is what the `sklearn` version of k-means does,\n",
    "it runs the model fit several times and selects the best model.\n",
    "(The number of times the k-means algorithm is initialized by `sklearn` is defined\n",
    "by the `n_init=` argument to the class initialization.)\n",
    "\n",
    "As long as the distance measure used is linear,\n",
    "k-means is a linear algorithm and will only find clusters defined by linear borders.\n",
    "Graph techniques such as spectral clustering or some versions of hierarchical clustering\n",
    "are capable of dealing directly with non-linear clusters.\n",
    "Yet, another viable trick is to pre-process the data with a manifold technique\n",
    "and then cluster the projected data with (possibly a variant of) k-means."
   ]
  }
 ],
 "metadata": {
  "anaconda-cloud": {},
  "kernelspec": {
   "display_name": "Python 3",
   "language": "python",
   "name": "python3"
  },
  "language_info": {
   "codemirror_mode": {
    "name": "ipython",
    "version": 3
   },
   "file_extension": ".py",
   "mimetype": "text/x-python",
   "name": "python",
   "nbconvert_exporter": "python",
   "pygments_lexer": "ipython3",
   "version": "3.7.6"
  }
 },
 "nbformat": 4,
 "nbformat_minor": 4
}
