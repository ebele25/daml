{
 "cells": [
  {
   "cell_type": "markdown",
   "metadata": {},
   "source": [
    "# 08.07 Hierarchical\n",
    "\n",
    "There are more clustering techniques out there.\n",
    "Notably techniques that can deal directly with non-linearity to some extent.\n",
    "We will look at a group of clustering techniques that are called\n",
    "Hierarchical or Agglomerative Clustering depending on who is naming it.\n",
    "\n",
    "We import things we saw before and the Agglomerative Clustering from `sklearn`.\n",
    "Also, we import `make_moons` which it a dataset constructor similar\n",
    "to `make_blobs` we saw before."
   ]
  },
  {
   "cell_type": "code",
   "execution_count": null,
   "metadata": {},
   "outputs": [],
   "source": [
    "import numpy as np\n",
    "import matplotlib.pyplot as plt\n",
    "%matplotlib inline\n",
    "plt.style.use('seaborn-talk')\n",
    "from sklearn.datasets import make_moons, load_digits\n",
    "from sklearn.manifold import TSNE\n",
    "from sklearn.cluster import AgglomerativeClustering, MiniBatchKMeans\n",
    "from sklearn.metrics import v_measure_score"
   ]
  },
  {
   "cell_type": "markdown",
   "metadata": {},
   "source": [
    "![Moon](ul-moon.svg)\n",
    "\n",
    "<div style=\"text-align:right;\"><sup>ul-moon.svg</sup></div>"
   ]
  },
  {
   "cell_type": "markdown",
   "metadata": {},
   "source": [
    "The `make_moons` procedure builds a dataset with a touch of nonlinearity.\n",
    "Here we build two crescent moons with a tiny amount of noise.\n",
    "The dataset construction procedure provides us with labels.\n",
    "\n",
    "We will use the labels to visually verify what the clustering techniques\n",
    "are doing on the dataset but will not provide the labels to the algorithms.\n",
    "To view the ground truth we will be working with we first plot the\n",
    "entire dataset with the labels originally generated."
   ]
  },
  {
   "cell_type": "code",
   "execution_count": null,
   "metadata": {},
   "outputs": [],
   "source": [
    "X, y = make_moons(1024, noise=.03)\n",
    "fig, ax = plt.subplots(figsize=(16, 9))\n",
    "ax.plot(X[y == 1, 0], X[y == 1, 1], 'o', c='crimson')\n",
    "ax.plot(X[y == 0, 0], X[y == 0, 1], 'o', c='steelblue');"
   ]
  },
  {
   "cell_type": "markdown",
   "metadata": {},
   "source": [
    "For a quick start we will attempt our good friend k-means.\n",
    "We know that the number of clusters is $2$ hence we\n",
    "can easily feed that into k-means.\n",
    "\n",
    "We again use `fit_predict` and `v_measure` to evaluate how well\n",
    "the clustering works.\n",
    "On top of that we plot the classes according to the clusters\n",
    "k-means reached."
   ]
  },
  {
   "cell_type": "code",
   "execution_count": null,
   "metadata": {},
   "outputs": [],
   "source": [
    "model = MiniBatchKMeans(n_clusters=2)\n",
    "y_hat = model.fit_predict(X)\n",
    "\n",
    "fig, ax = plt.subplots(figsize=(16, 9))\n",
    "ax.plot(X[y_hat == 1, 0], X[y_hat == 1, 1], 'o', c='crimson')\n",
    "ax.plot(X[y_hat == 0, 0], X[y_hat == 0, 1], 'o', c='steelblue')\n",
    "v_measure_score(y, y_hat)"
   ]
  },
  {
   "cell_type": "markdown",
   "metadata": {},
   "source": [
    "And k-means is *not* a good clustering technique for this dataset.\n",
    "This is because k-means depends purely on distance from the cluster center,\n",
    "the clusters k-means produces do not follow the structure of the dataset.\n",
    "\n",
    "In order to follow the non-linear structure in the two moons we will\n",
    "use a form of clustering that cares about the distances between\n",
    "the points in the dataset rather the distance of every points\n",
    "to an arbitrary point in space."
   ]
  },
  {
   "cell_type": "markdown",
   "metadata": {},
   "source": [
    "Agglomerative (Or Hierarchical) clustering works by assigning as many clusters\n",
    "as there are data points in the dataset,\n",
    "and every cluster contains a single sample.\n",
    "Then an iterative algorithms attempts to join the clusters together\n",
    "by following the nest steps:\n",
    "\n",
    "1. *Measure the distance* between every pair of clusters\n",
    "2. Join together the two *closest* clusters, making them into a single cluster\n",
    "3. repeat steps 1 and 2 until the desired number of clusters is reached\n",
    "\n",
    "Note that the clusters *have no centers* bu only samples,\n",
    "hence joining two clusters together simply means placing the samples\n",
    "in the same cluster.\n",
    "Since there are no centers measuring the distance between\n",
    "clusters becomes a tad complicated.\n",
    "This distance measure is called **linkage** in hierarchical\n",
    "clustering, and the choice of linkage produces very different clusters.\n",
    "When evaluating the distance between two clusters,\n",
    "each cluster is formed of one or more samples\n",
    "and each sample has a position.\n",
    "All samples in one cluster have a distance to all samples\n",
    "in the second cluster, and linkage is a way to make these\n",
    "distances into a single value.\n",
    "\n",
    "- **single linkage** considers the shorter distance as\n",
    "  the distance between clusters.\n",
    "\n",
    "- **complete linkage** uses the maximum distance.\n",
    "\n",
    "- **average linkage** takes the average of all distances.\n",
    "\n",
    "- **ward linkage** is a little different,\n",
    "  instead of using the distances between the clusters\n",
    "  it attempts to minimize the variance of the cluster\n",
    "  after the merge.\n",
    "  In other words the cluster merge it will perform\n",
    "  will be the one which increases the total variances\n",
    "  within clusters the least."
   ]
  },
  {
   "cell_type": "markdown",
   "metadata": {},
   "source": [
    "The algorithm is called agglomerative because we keep joining\n",
    "the clusters together.\n",
    "And is called hierarchical because we can join all clusters\n",
    "all the way until we remain with only a single cluster.\n",
    "Then the path taken by the algorithm to reach the single cluster\n",
    "can be considered to be a hierarchy of joins.\n",
    "If the number of clusters to find is not too big agglomerative\n",
    "clustering will perform all joins up to a single cluster and then\n",
    "walk the path of the joins to find a place where the desired number\n",
    "of clusters exist.\n",
    "The path of the joins is cached,\n",
    "hence it is possible to ask to cluster into several numbers of clusters\n",
    "repeatedly at minimal cost.\n",
    "\n",
    "The linkage is given by the appropriately named `linkage=` argument.\n",
    "In order to compare the performance of the different linkage schemes,\n",
    "we perform each and graph them.\n",
    "We also add the v-measure as the title of each graph for comparison."
   ]
  },
  {
   "cell_type": "code",
   "execution_count": null,
   "metadata": {},
   "outputs": [],
   "source": [
    "fig, ax = plt.subplots(2, 2, figsize=(16, 9))\n",
    "\n",
    "for axf, link in zip(ax.flat, ['average', 'complete', 'single', 'ward']):\n",
    "    model = AgglomerativeClustering(n_clusters=2, linkage=link)\n",
    "    y_hat = model.fit_predict(X)\n",
    "    score = v_measure_score(y, y_hat)\n",
    "    axf.plot(X[y_hat == 1, 0], X[y_hat == 1, 1], 'o', c='crimson')\n",
    "    axf.plot(X[y_hat == 0, 0], X[y_hat == 0, 1], 'o', c='steelblue');\n",
    "    axf.set_title('%s link score: %.02f' % (link, score))"
   ]
  },
  {
   "cell_type": "markdown",
   "metadata": {},
   "source": [
    "When the classes have well defined and also well separated structure\n",
    "single linkage appears to work very well.\n",
    "Other linkages performed rather randomly,\n",
    "some as badly as k-means whilst others somewhere in between.\n",
    "In this dataset the exact score of the other three linkages\n",
    "is heavily dependent on the random noise in the position of the points.\n",
    "But we cannot take at face value that the single linkage work well for every dataset.\n",
    "\n",
    "A dataset we already did see that we know that the separation between classes\n",
    "is bad is the digits dataset.\n",
    "The issue with that dataset is that it is hard to visualize what is happening\n",
    "in it because the dataset itself is hard to visualize.\n",
    "In order to see what is happening we will perform t-SNE on the digits dataset\n",
    "and will plot the results of our clustering in the t-SNE projection.\n",
    "But we will *not* give this projection to the agglomerative clustering algorithm,\n",
    "we will give the algorithm the plain data in all $2914$ dimensions."
   ]
  },
  {
   "cell_type": "code",
   "execution_count": null,
   "metadata": {},
   "outputs": [],
   "source": [
    "digits = load_digits()\n",
    "digits.data.shape, digits.images.shape\n",
    "tsne = TSNE(n_components=2)\n",
    "proj = tsne.fit_transform(digits.data)"
   ]
  },
  {
   "cell_type": "markdown",
   "metadata": {},
   "source": [
    "The v-measure of plain k-means on the digits dataset was slightly above $0.7$.\n",
    "We will again evaluate all four linkage methods on clustering the digits\n",
    "in $2914$ dimensions.\n",
    "\n",
    "We will plot the results in a similar fashion to the way we displayed\n",
    "the t-SNE projections before.\n",
    "In order to do that we need to scale our data to a unit square\n",
    "so that the plotting engine has an easy time displaying the graph."
   ]
  },
  {
   "cell_type": "code",
   "execution_count": null,
   "metadata": {},
   "outputs": [],
   "source": [
    "def plot_digits(X, y, ax):\n",
    "    x_min, x_max = np.min(X, axis=0), np.max(X, axis=0)\n",
    "    proj_norm = (X - x_min) / (x_max - x_min)\n",
    "\n",
    "    ax.axis('off')\n",
    "    for i in range(len(y)):\n",
    "        ax.text(proj_norm[i, 0], proj_norm[i, 1], str(digits.target[i]),\n",
    "                color=plt.cm.plasma(y[i] / 10),\n",
    "                fontdict=dict(size=11, weight='bold'))\n",
    "\n",
    "\n",
    "fig, ax = plt.subplots(2, 2, figsize=(16, 14))\n",
    "for axf, link in zip(ax.flat, ['average', 'complete', 'single', 'ward']):\n",
    "    model = AgglomerativeClustering(n_clusters=10, linkage=link)\n",
    "    y_hat = model.fit_predict(digits.data)\n",
    "    score = v_measure_score(digits.target, y_hat)\n",
    "    plot_digits(proj, y_hat, axf)\n",
    "    axf.set_title('%s link score: %.02f' % (link, score), pad=30)"
   ]
  },
  {
   "cell_type": "markdown",
   "metadata": {},
   "source": [
    "An in the case of digits the single linkage performed exceptionally badly.\n",
    "The classes in the digits dataset are very close to each other\n",
    "therefore single linkage just made $9$ clusters with a single sample each\n",
    "and a $10th$ cluster with all other samples.\n",
    "The ward linkage on the other hand performs very well on this problem.\n",
    "\n",
    "Do not be mislead by the graphs.\n",
    "The actual data samples are all very close to each other in $2914$ dimensions.\n",
    "The graphs use the t-SNE projection in order for us to be able to visually\n",
    "inspect what the agglomerative clustering graph is doing.\n",
    "\n",
    "The take home message is that algorithms that are capable of dealing\n",
    "with non-linearities are often unstable - they work very well on some\n",
    "problems whilst badly on others.\n",
    "In these cases nothing substitutes our own understanding of the data,\n",
    "which allows us to guesstimate which algorithm is performing well and why.\n",
    "\n",
    "Agglomerative clustering is powerful but it is not the only form of clustering\n",
    "that can account for non-linearities.\n",
    "We did see that agglomerative clustering caches the path of joins.\n",
    "Moreover, it considers all samples at every iteration,\n",
    "which makes it impossible to scale the algorithm to big datasets.\n",
    "The scaling issue in clustering is a common issue.\n",
    "Pretty much all advanced clustering algorithms do not scale well.\n",
    "If your dataset has millions of samples and hundreds of features,\n",
    "your only option is k-means."
   ]
  },
  {
   "cell_type": "markdown",
   "metadata": {},
   "source": [
    "# References\n",
    "\n",
    "[SciKit Learn - Digits Dataset Cluster Linkage][1]\n",
    "\n",
    "[1]: https://scikit-learn.org/stable/auto_examples/cluster/plot_digits_linkage.html"
   ]
  }
 ],
 "metadata": {
  "anaconda-cloud": {},
  "kernelspec": {
   "display_name": "Python 3",
   "language": "python",
   "name": "python3"
  },
  "language_info": {
   "codemirror_mode": {
    "name": "ipython",
    "version": 3
   },
   "file_extension": ".py",
   "mimetype": "text/x-python",
   "name": "python",
   "nbconvert_exporter": "python",
   "pygments_lexer": "ipython3",
   "version": "3.7.6"
  }
 },
 "nbformat": 4,
 "nbformat_minor": 4
}
