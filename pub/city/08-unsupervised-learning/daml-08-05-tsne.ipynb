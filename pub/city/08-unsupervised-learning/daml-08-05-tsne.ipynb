{
 "cells": [
  {
   "cell_type": "markdown",
   "metadata": {},
   "source": [
    "# 08.04 t-SNE\n",
    "\n",
    "The t-distributed Stochastic Neighbor Embedding (t_SNE) is a manifold technique  that\n",
    "uses a probabilistic distribution to measure distances between points in a dataset\n",
    "(high probability means short distance and low probability long distance).\n",
    "It then attempts to keep these distances during transformation."
   ]
  },
  {
   "cell_type": "markdown",
   "metadata": {},
   "source": [
    "![William Sealy Gosset](ul-gosset.svg)\n",
    "\n",
    "<div style=\"text-align:right;\"><sup>ul-gosset.svg</sup></div>\n",
    "\n",
    "<div style=\"border: 0.3em double teal; border-radius: 0.5em; padding: 0.5em\">\n",
    "    William Sealy Gosset was the Chief Brewer for Guiness.\n",
    "    Since Guiness did not allow their scientists to mention their own surname\n",
    "    in their publications, Gosset published under the pseudonym \"Student\".\n",
    "    He's discoveries in the realm of small sample statistics led to the\n",
    "    \"Student's t distribution\" and \"Student's tests of significance\".\n",
    "    An interesting feat of Gosset's life is his friendship to both Roland Fisher\n",
    "    and Karl Pearson, the fathers of modern statistics,\n",
    "    two men who deeply disliked each other.\n",
    "</div>"
   ]
  },
  {
   "cell_type": "markdown",
   "metadata": {},
   "source": [
    "t-SNE is considerably different from a decomposition technique such as PCA:\n",
    "\n",
    "-   Has no inverse transform (this is often the case with manifold techniques)\n",
    "\n",
    "-   The number of components is always much smaller than the number of dimensions\n",
    "    in the original data.  Since this originally is a visualization technique,\n",
    "    most often you will only see 2 or 3 components\n",
    "\n",
    "-   Since it is a stochastic technique the result is considerably different\n",
    "    depending on the initial (random) state, or even the ordering of the input data\n",
    "\n",
    "We import the usual stuff."
   ]
  },
  {
   "cell_type": "code",
   "execution_count": null,
   "metadata": {},
   "outputs": [],
   "source": [
    "import numpy as np\n",
    "import matplotlib.pyplot as plt\n",
    "%matplotlib inline\n",
    "plt.style.use('seaborn-talk')"
   ]
  },
  {
   "cell_type": "markdown",
   "metadata": {},
   "source": [
    "Let's see how t-SNE performs on the MNIST handwritten digits."
   ]
  },
  {
   "cell_type": "code",
   "execution_count": null,
   "metadata": {},
   "outputs": [],
   "source": [
    "from sklearn.datasets import load_digits\n",
    "\n",
    "digits = load_digits()\n",
    "sample = digits.images[:20]\n",
    "fig, axes = plt.subplots(4, 5, figsize=(16, 8))\n",
    "for i, ax in enumerate(axes.flat):\n",
    "    ax.imshow(sample[i], cmap='binary')\n",
    "    ax.axis('off')"
   ]
  },
  {
   "cell_type": "markdown",
   "metadata": {},
   "source": [
    "The t-SNE algorithm in `sklearn` works in a similar way as any other preprocessor.\n",
    "We give it the hyperparameters - here just the number of components - and `fit` the model.\n",
    "We use `fit_transform` to already transform the data.\n",
    "\n",
    "The following takes a while to run, t-SNE is computationally expensive."
   ]
  },
  {
   "cell_type": "code",
   "execution_count": null,
   "metadata": {},
   "outputs": [],
   "source": [
    "from sklearn.manifold import TSNE\n",
    "\n",
    "proj = TSNE(n_components=2).fit_transform(digits.data)"
   ]
  },
  {
   "cell_type": "markdown",
   "metadata": {},
   "source": [
    "As we did with PCA we plot the groups output by t-SNE,\n",
    "and we take the known labels and color the groups accordingly.\n",
    "We also scale the projection in the same way to optimize plotting."
   ]
  },
  {
   "cell_type": "code",
   "execution_count": null,
   "metadata": {},
   "outputs": [],
   "source": [
    "x_min, x_max = np.min(proj, axis=0), np.max(proj, axis=0)\n",
    "proj_norm = (proj - x_min) / (x_max - x_min)\n",
    "\n",
    "fig, ax = plt.subplots(figsize=(16, 14))\n",
    "ax.axis('off')\n",
    "for i in range(len(digits.target)):\n",
    "    ax.text(proj_norm[i, 0], proj_norm[i, 1], str(digits.target[i]),\n",
    "            color=plt.cm.plasma(digits.target[i] / 10),\n",
    "            fontdict=dict(size=14, weight='bold'))"
   ]
  },
  {
   "cell_type": "markdown",
   "metadata": {},
   "source": [
    "The separation between classes is pretty good.\n",
    "t-SNE can find non-linear relations therefore it performs\n",
    "much better than PCA on a non-linear dataset.\n",
    "That said, t-SNE is not without its own flaws.\n",
    "For example, the algorithm is very sensitive to data ordering,\n",
    "and we can test it out by reordering our data.\n",
    "\n",
    "Digits data is ordered as several groups from $0$ to $9$.\n",
    "We will change that ordering: first all zeros, then all ones, and so on;\n",
    "and run t-SNE with that ordering."
   ]
  },
  {
   "cell_type": "code",
   "execution_count": null,
   "metadata": {},
   "outputs": [],
   "source": [
    "X = np.vstack([digits.data[digits.target==i] for i in range(10)])\n",
    "y = np.hstack([digits.target[digits.target==i] for i in range(10)])\n",
    "proj_ordered = TSNE(n_components=2).fit_transform(X)"
   ]
  },
  {
   "cell_type": "markdown",
   "metadata": {},
   "source": [
    "In the same way we plotted it before we do the ordered digits projection.\n",
    "We can then compare both plots."
   ]
  },
  {
   "cell_type": "code",
   "execution_count": null,
   "metadata": {},
   "outputs": [],
   "source": [
    "x_min, x_max = np.min(proj_ordered, axis=0), np.max(proj_ordered, axis=0)\n",
    "proj_norm_ordered = (proj_ordered - x_min) / (x_max - x_min)\n",
    "projs = [proj_norm, proj_norm_ordered]\n",
    "labels = [digits.target, y]\n",
    "titles = ['input data order: 0,1,2,3,4,5,6,7,8,9,0,1,2,...', 'input data order: 0,0,..,1,1,...,2,2,...']\n",
    "\n",
    "fig, ax = plt.subplots(1, 2, figsize=(24, 12))\n",
    "for i in [0, 1]:\n",
    "    ax[i].axis('off')\n",
    "    ax[i].set_title(titles[i], pad=30)\n",
    "    for j in range(len(digits.target)):\n",
    "        ax[i].text(projs[i][j, 0], projs[i][j, 1], str(labels[i][j]),\n",
    "                   color=plt.cm.plasma(labels[i][j] / 10),\n",
    "                   fontdict=dict(size=14, weight='bold'))"
   ]
  },
  {
   "cell_type": "markdown",
   "metadata": {},
   "source": [
    "The class separation is still good but the plot looks very different.\n",
    "That is the big disadvantage of t-SNE, the algorithm is not trivially reproducible.\n",
    "That said, t-SNE will certainly be a better preprocessing technique than PCA for this dataset.\n",
    "\n",
    "t-SNE is just one of many manifold techniques,\n",
    "each with its advantages and disadvantages.\n",
    "Understanding of manifolds is an area of active research."
   ]
  },
  {
   "cell_type": "markdown",
   "metadata": {},
   "source": [
    "# References\n",
    "\n",
    "[SciKit Learn - Manifolds on Handwritten Digits][1]\n",
    "\n",
    "[1]: https://scikit-learn.org/stable/auto_examples/manifold/plot_lle_digits.html"
   ]
  }
 ],
 "metadata": {
  "kernelspec": {
   "display_name": "Python 3",
   "language": "python",
   "name": "python3"
  },
  "language_info": {
   "codemirror_mode": {
    "name": "ipython",
    "version": 3
   },
   "file_extension": ".py",
   "mimetype": "text/x-python",
   "name": "python",
   "nbconvert_exporter": "python",
   "pygments_lexer": "ipython3",
   "version": "3.7.6"
  }
 },
 "nbformat": 4,
 "nbformat_minor": 4
}
