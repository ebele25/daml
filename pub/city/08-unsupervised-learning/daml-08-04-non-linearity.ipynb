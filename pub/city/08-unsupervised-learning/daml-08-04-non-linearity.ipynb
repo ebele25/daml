{
 "cells": [
  {
   "cell_type": "markdown",
   "metadata": {},
   "source": [
    "# 08.03 Non-Linearity\n",
    "\n",
    "Another dataset of images are the MNIST handwritten digits.\n",
    "This dataset is often used for algorithm benchmark due to its complexity.\n",
    "\n",
    "Relevant to the digits is perhaps this man.\n",
    "Since a lot of people consider him a number $1$,\n",
    "and a lot of other people consider him a number $0$."
   ]
  },
  {
   "cell_type": "markdown",
   "metadata": {},
   "source": [
    "![Donald Trump](ul-orange-man-bad.svg)\n",
    "\n",
    "<div style=\"text-align:right;\"><sup>ul-orange-man-bad.svg</sup></div>"
   ]
  },
  {
   "cell_type": "code",
   "execution_count": null,
   "metadata": {},
   "outputs": [],
   "source": [
    "import numpy as np\n",
    "import matplotlib.pyplot as plt\n",
    "%matplotlib inline\n",
    "plt.style.use('seaborn-talk')\n",
    "from sklearn.decomposition import PCA\n",
    "from sklearn.datasets import load_digits"
   ]
  },
  {
   "cell_type": "markdown",
   "metadata": {},
   "source": [
    "We import and load the dataset.\n",
    "Indeed we did see this dataset before, in the exercises for `matplotlib`.\n",
    "In those exercises we attempted to plot four random features from the\n",
    "set and attempt to make sense of them.\n",
    "\n",
    "The dataset is made out out $64$ pixel ($8$ by $8$ pixels) images of\n",
    "handwritten digits.\n",
    "Now that we know that we understand every pixel as a feature we can easily\n",
    "tell that picking $4$ pixels at random and then plotting these\n",
    "$4$ pixel values out of several $64$ pixel images will *not*\n",
    "provide us with a good description of the image.\n",
    "Indeed, that exercise was impossible to complete.\n",
    "Unfortunately, it is a fact of life that some tasks are just impossible,\n",
    "and exercises are no different.\n",
    "Hopefully it makes one re-evaluate randomly given exercises.\n",
    "\n",
    "Nevertheless, we are now in a possession of a better technique, PCA.\n",
    "We could attempt to find a good projection and then plot features from that projection.\n",
    "On the other hand we did see that the written letter B has non-linear features/patterns,\n",
    "and that PCA would not be capable of identifying those.\n",
    "We will need to explore and find the answer as to whether we can describe\n",
    "the digits dataset in fewer *linear* dimensions."
   ]
  },
  {
   "cell_type": "code",
   "execution_count": null,
   "metadata": {},
   "outputs": [],
   "source": [
    "digits = load_digits()\n",
    "print(digits['DESCR'])\n",
    "digits.data.shape, digits.images.shape"
   ]
  },
  {
   "cell_type": "markdown",
   "metadata": {},
   "source": [
    "---\n",
    "\n",
    "The number of dimensions ($64$) in this dataset is much smaller\n",
    "than in the faces dataset.\n",
    "Moreover, we know very well the labels: digits from $0$ to $9$.\n",
    "We may as well try to visualize the distribution of each digit.\n",
    "For a start we'll try to reduce the digits to a representation in two dimensions,\n",
    "since two dimensions are particularly easy to visualize.\n",
    "We then use the labels as a third dimension to check whether\n",
    "we have patters that distinguish, say, $3$ from $7$.\n",
    "\n",
    "These are $8$ pixels by $8$ pixels images.\n",
    "As we did with the faces we can plot them to see what we are working with."
   ]
  },
  {
   "cell_type": "code",
   "execution_count": null,
   "metadata": {},
   "outputs": [],
   "source": [
    "sample = digits.images[:20, :]\n",
    "fig, ax = plt.subplots(4, 5, figsize=(16, 8))\n",
    "for i in range(20):\n",
    "    ax.flat[i].imshow(sample[i], cmap='binary')\n",
    "    ax.flat[i].axis('off')"
   ]
  },
  {
   "cell_type": "markdown",
   "metadata": {},
   "source": [
    "We can use the default solver for a small number of dimensions."
   ]
  },
  {
   "cell_type": "code",
   "execution_count": null,
   "metadata": {},
   "outputs": [],
   "source": [
    "pca = PCA(n_components=2)\n",
    "proj = pca.fit_transform(digits.data)\n",
    "digits.data.shape, proj.shape"
   ]
  },
  {
   "cell_type": "markdown",
   "metadata": {},
   "source": [
    "We have the digits as a representation in two dimensions.\n",
    "A common pattern we have been using is that the order of the samples when\n",
    "we perform `transform` (or any method on `sklearn` objects) is retained,\n",
    "i.e. the order of the outputs is the same as the order of inputs.\n",
    "This makes sense for PCA since it is just a matrix multiplication\n",
    "but this is true for *almost all* operation in `sklearn`.\n",
    "\n",
    "Since we have the same order of the samples in two dimensions,\n",
    "and the dataset provides us with the correct labels for the digits,\n",
    "we can plot each digit with a specific color and its label.\n",
    "\n",
    "To speed up plotting we scale the data in our projection for it\n",
    "to fit in a unit square, a square between $(0, 0)$ and $(1, 1)$."
   ]
  },
  {
   "cell_type": "code",
   "execution_count": null,
   "metadata": {},
   "outputs": [],
   "source": [
    "x_min, x_max = np.min(proj, axis=0), np.max(proj, axis=0)\n",
    "proj_norm = (proj - x_min) / (x_max - x_min)\n",
    "\n",
    "fig, ax = plt.subplots(figsize=(16, 14))\n",
    "ax.axis('off')\n",
    "for i in range(len(digits.target)):\n",
    "    ax.text(proj_norm[i, 0], proj_norm[i, 1], str(digits.target[i]),\n",
    "            color=plt.cm.plasma(digits.target[i] / 10),\n",
    "            fontdict=dict(size=14, weight='bold'))"
   ]
  },
  {
   "cell_type": "markdown",
   "metadata": {},
   "source": [
    "That may look colorful but isn't very promising.\n",
    "We can see the $5$ and $8$ or $1$ and $7$ are very related to each other,\n",
    "which is what we expect since we know how digits look.\n",
    "The separation between classes is very poor nevertheless.\n",
    "\n",
    "Let's build the full PCA (on all dimensions which is the default)\n",
    "and see the cumulative explained variance.\n",
    "This should give us an idea of where we went wrong."
   ]
  },
  {
   "cell_type": "code",
   "execution_count": null,
   "metadata": {},
   "outputs": [],
   "source": [
    "pca = PCA().fit(digits.data)\n",
    "fig, ax = plt.subplots(figsize=(16, 10))\n",
    "ax.plot(np.cumsum(pca.explained_variance_ratio_))\n",
    "ax.set(xlabel='components', ylabel='explained variance');"
   ]
  },
  {
   "cell_type": "markdown",
   "metadata": {},
   "source": [
    "Only $2$ components do a very bad job of explaining the dataset,\n",
    "even $10$ components would do a bad job.\n",
    "Hence our earlier exercise with $4$ dimensions would still\n",
    "be impossible with the knowledge of PCA.\n",
    "PCA will not allow us to visualize this dataset.\n",
    "\n",
    "The issue with the digits happens because PCA is a technique\n",
    "that depends on the linearity of the dimensions it works with.\n",
    "Relations between digits that are non-linear,\n",
    "e.g. two open spaces means an $8$, one open space means a $6$ or a $9$,\n",
    "no open spaces within the digit means anything else;\n",
    "these cannot be captured by PCA.\n",
    "\n",
    "The cumulative variance graph will *often* increase very fast when we deal\n",
    "with linear problems and will take a long time to increase,\n",
    "such as the graph just above, for non-linear problem.\n",
    "Although that is not an authoritative rule.\n",
    "One can find linear problems where cumulative variance increases\n",
    "slowly (e.g. noise in every dimension) or a non-linear problem\n",
    "in which the cumulative variance increases slowly\n",
    "(e.g. a dataset of images of the letters B and Z).\n",
    "\n",
    "One can only authoritatively tell whether a problem is\n",
    "linear or non-linear by understanding the problem.\n",
    "Note that since the same dataset can be used to solve\n",
    "several problems it may be the case that a single dataset\n",
    "can be used for linear and non-linear problems,\n",
    "depending on how the problem itself is defined.\n",
    "\n",
    "All that being said, plotting the cumulative variance of the PCA\n",
    "application is often a good way to begin to understand a dataset.\n",
    "\n",
    "As for the digits, we will need to find a different technique\n",
    "to plot their relations."
   ]
  },
  {
   "cell_type": "markdown",
   "metadata": {},
   "source": [
    "# References\n",
    "\n",
    "[SciKit Learn - Dimensionality Reduction][1]\n",
    "\n",
    "[1]: https://scikit-learn.org/stable/auto_examples/neighbors/plot_nca_dim_reduction.html"
   ]
  }
 ],
 "metadata": {
  "anaconda-cloud": {},
  "kernelspec": {
   "display_name": "Python 3",
   "language": "python",
   "name": "python3"
  },
  "language_info": {
   "codemirror_mode": {
    "name": "ipython",
    "version": 3
   },
   "file_extension": ".py",
   "mimetype": "text/x-python",
   "name": "python",
   "nbconvert_exporter": "python",
   "pygments_lexer": "ipython3",
   "version": "3.7.6"
  }
 },
 "nbformat": 4,
 "nbformat_minor": 4
}
