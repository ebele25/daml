{
 "cells": [
  {
   "cell_type": "markdown",
   "metadata": {},
   "source": [
    "# 08.02 Noise Reduction\n",
    "\n",
    "We did see that white noise has linear relations.\n",
    "And since PCA is a linear technique it is perfect to operate on noise.\n",
    "Moreover, white noise has low variance, hence if we reduce\n",
    "the dimensions according to variance in decreasing order\n",
    "(as PCA does) we will de-noise the image.\n",
    "\n",
    "Let's import PCA and a loader for a dataset.\n",
    "And using these we will push our PCA use by a notch."
   ]
  },
  {
   "cell_type": "code",
   "execution_count": null,
   "metadata": {},
   "outputs": [],
   "source": [
    "import numpy as np\n",
    "import matplotlib.pyplot as plt\n",
    "%matplotlib inline\n",
    "plt.style.use('seaborn-talk')\n",
    "from sklearn.decomposition import PCA\n",
    "from sklearn.datasets import fetch_lfw_people"
   ]
  },
  {
   "cell_type": "markdown",
   "metadata": {},
   "source": [
    "![Bush](ul-bush.svg)\n",
    "\n",
    "<div style=\"text-align:right;\"><sup>ul-bush.svg</sup></div>"
   ]
  },
  {
   "cell_type": "markdown",
   "metadata": {},
   "source": [
    "When used on faces,\n",
    "and since eigenvectors have been used on faces over the years in many applications,\n",
    "the eigenvectors are called by some people *eigenfaces*.\n",
    "The eigenfaces represent the biggest directions of variations across a dataset of faces,\n",
    "and are a common preprocessing technique in face recognition,\n",
    "i.e. to reduce the image noise before attempting the classification.\n",
    "Eventually we will build a face classifier but for now we will\n",
    "focus in the noise removal.\n",
    "\n",
    "To get some faces we will use the *Labeled Faces in the Wild* (lfw) dataset,\n",
    "which contains thousands of cropped photos to show only the face.\n",
    "This dataset has been produced in early $2000$s, therefore has mostly people often photographed at that time.\n",
    "It may take a short while while `sklearn` downloads the images."
   ]
  },
  {
   "cell_type": "code",
   "execution_count": null,
   "metadata": {},
   "outputs": [],
   "source": [
    "faces = fetch_lfw_people(min_faces_per_person=30)\n",
    "print(faces.target_names)\n",
    "faces.images.shape, faces.data.shape"
   ]
  },
  {
   "cell_type": "markdown",
   "metadata": {},
   "source": [
    "We asked for people from the dataset which have at least $30$ face images,\n",
    "And we got a reasonable set of people.\n",
    "\n",
    "Every image is $62$ by $47$ pixels, or $2914$ pixels in total.\n",
    "We argue that we have $2914$ different features.\n",
    "In other words, every pixel in the image is a feature.\n",
    "The first feature (column) is the first pixel *in every image*,\n",
    "the second feature is the second pixel in every image, and so on.\n",
    "`matplotlib` provides us with `imshow`,\n",
    "since we are working with images, this is perfect to see what we are working with.\n",
    "We reshape the sample (row) into the number of pixel rows we know the image has\n",
    "but in our dataset every image is just a long string of $2914$ pixels/features."
   ]
  },
  {
   "cell_type": "code",
   "execution_count": null,
   "metadata": {},
   "outputs": [],
   "source": [
    "fig, axes = plt.subplots(2, 8, figsize=(16, 5))\n",
    "fig.subplots_adjust(hspace=0.2, wspace=0.2)\n",
    "for i, ax in enumerate(axes.flat):\n",
    "    ax.imshow(faces.data[i].reshape(62, 47), cmap='gray')\n",
    "    ax.set_title(faces.target_names[faces.target[i]], fontsize=10)\n",
    "    ax.axis('off')"
   ]
  },
  {
   "cell_type": "markdown",
   "metadata": {},
   "source": [
    "A rule of thumb is that, for images, $2 \\cdot \\sqrt N$,\n",
    "where $N$ is the number of pixels (i.e. features),\n",
    "is a good number of reduced features.\n",
    "We will use $128$, since it is close to the square root of $2914$ and is a power of $2$.\n",
    "Remember that PCA `components_` is the transformation matrix, the eigenvectors.\n",
    "The `explained_variance_` are the vector magnitudes,\n",
    "without the scaling that we saw in `explained_variance_ratio_`.\n",
    "\n",
    "We will use a *randomized* solver for this dataset.\n",
    "The randomized solver uses a heuristic method to identify the first couple of eigenvectors.\n",
    "Solving the decomposition problem is very costly for big datasets,\n",
    "the randomized solver alleviates this considerably."
   ]
  },
  {
   "cell_type": "code",
   "execution_count": null,
   "metadata": {},
   "outputs": [],
   "source": [
    "pca = PCA(n_components=128, svd_solver='randomized')\n",
    "pca.fit(faces.data)\n",
    "pca.components_, pca.components_.shape, pca.explained_variance_"
   ]
  },
  {
   "cell_type": "markdown",
   "metadata": {},
   "source": [
    "This time the transformation matrix is quite big,\n",
    "$2914$ rows and $128$ columns to be exact.\n",
    "We have this many eigenvectors because our dataset\n",
    "has $2914$ features instead of the $3$ we saw before.\n",
    "The images may seem two dimensional for us but\n",
    "in order to get more out of the images than just the\n",
    "pixel histograms on each side we need to understand the\n",
    "images with each pixel/dataset column/feature as a single dimension.\n",
    "\n",
    "We can also see how the eigenvectors actually look on the images.\n",
    "We can display images of $2914$ features/pixels,\n",
    "the eigenvectors have exactly the same number of dimensions so we can plot them the same way.\n",
    "\n",
    "We plot the eigenvectors/eigenfaces in order of explained variance,\n",
    "from the eigenvector that explains the most in descending order."
   ]
  },
  {
   "cell_type": "code",
   "execution_count": null,
   "metadata": {},
   "outputs": [],
   "source": [
    "fig, axes = plt.subplots(6, 6, figsize=(14, 12))\n",
    "fig.subplots_adjust(hspace=0.2, wspace=0.2)\n",
    "for i, ax in enumerate(axes.flat):\n",
    "    ax.imshow(pca.components_[i].reshape(62, 47), cmap='copper')\n",
    "    ax.axis('off')"
   ]
  },
  {
   "cell_type": "markdown",
   "metadata": {},
   "source": [
    "The most important eigenvectors are changes\n",
    "in illumination and orientation of the face.\n",
    "At first sight we may argue that that would be a problem if we would try to build a classifier.\n",
    "By the contrary, the PCA managed to move (most of) the illumination and orientation\n",
    "into their own dimensions, which means they were removed from the other dimensions.\n",
    "We could tweak the PCA output to prevent the first eigenvectors from being used.\n",
    "Yet, that's a topic for another time.\n",
    "\n",
    "We saw that we order the eigenvectors in explained variance order.\n",
    "But how much variance each eigenvector explains?\n",
    "We often want to plot a cumulative explained variance,\n",
    "to understand how many components we actually need.\n",
    "Let's rebuild the PCA with $512$ components\n",
    "(we have no need to build all $2914$ eigenvectors)\n",
    "and evaluate whether our choice of $128$ components was good."
   ]
  },
  {
   "cell_type": "code",
   "execution_count": null,
   "metadata": {},
   "outputs": [],
   "source": [
    "pca = PCA(n_components=512, svd_solver='randomized')\n",
    "pca.fit(faces.data)\n",
    "fig, ax = plt.subplots(figsize=(14, 10))\n",
    "ax.plot(np.cumsum(pca.explained_variance_ratio_))\n",
    "ax.set(xlabel='components', ylabel='explained variance');"
   ]
  },
  {
   "cell_type": "markdown",
   "metadata": {},
   "source": [
    "The `transform` of the PCA technique projects the data into the space defined by the eigenvectors.\n",
    "This operation *loses some information* but since the majority\n",
    "of the variance is retained the loss is as minimal as possible.\n",
    "Our choice of $128$ is quite reasonable as by then more than $90\\%$\n",
    "of the variance is accounted for.\n",
    "\n",
    "The `inverse_transform` can throw the projection back into the original dimensions,\n",
    "yet the data loss remains since we cannot guess that data.\n",
    "This, plus the fact that the images are easy to evaluate by the human eye,\n",
    "allows us to visualize how much data was actually lost.\n",
    "For comparison let us build a PCA projecting onto\n",
    "$128$ dimensions and one projecting onto $256$ dimensions."
   ]
  },
  {
   "cell_type": "code",
   "execution_count": null,
   "metadata": {},
   "outputs": [],
   "source": [
    "proj = {}\n",
    "for i in [128, 256]:\n",
    "    pca = PCA(n_components=i, svd_solver='randomized')\n",
    "    pca.fit(faces.data)\n",
    "    reduced = pca.transform(faces.data)\n",
    "    proj[i] = pca.inverse_transform(reduced)"
   ]
  },
  {
   "cell_type": "markdown",
   "metadata": {},
   "source": [
    "And after that we also performed the inverse transformation.\n",
    "The inverse transformation did project the images back into $2914$ dimensions."
   ]
  },
  {
   "cell_type": "code",
   "execution_count": null,
   "metadata": {},
   "outputs": [],
   "source": [
    "proj[128].shape, proj[256].shape"
   ]
  },
  {
   "cell_type": "markdown",
   "metadata": {},
   "source": [
    "Since $2914$ can be understood as an image of $62$ by $47$ we can now plot\n",
    "as an image the inverse transformed projections."
   ]
  },
  {
   "cell_type": "code",
   "execution_count": null,
   "metadata": {},
   "outputs": [],
   "source": [
    "fig, ax = plt.subplots(3, 16, figsize=(16, 5))\n",
    "fig.subplots_adjust(hspace=0.2, wspace=0.2)\n",
    "for i in range(16):\n",
    "    ax[0, i].imshow(faces.data[i].reshape(62, 47), cmap='gray')\n",
    "    ax[1, i].imshow(proj[128][i].reshape(62, 47), cmap='gray')\n",
    "    ax[2, i].imshow(proj[256][i].reshape(62, 47), cmap='gray')\n",
    "for img in ax.flat:\n",
    "    img.axis('off')\n",
    "ax[0, 0].set_title('full')\n",
    "ax[1, 0].set_title('projection 128');\n",
    "ax[2, 0].set_title('projection 256');"
   ]
  },
  {
   "cell_type": "markdown",
   "metadata": {},
   "source": [
    "We can now visually inspect the data loss.\n",
    "It is possible to argue that once can still recognize the faces in both projections.\n",
    "Moreover, in the projections the images are smoother, and indication of de-noising.\n",
    "\n",
    "For a classifier the same applies.\n",
    "As we can still identify faces so can a classifier.\n",
    "And without the noise such a classifier would be less likely to\n",
    "get stuck in some unimportant noisy details and would look at the general picture.\n",
    "Less features (dimensions) as in the not inverse transformed projections\n",
    "also mean fewer numbers to process for each sample,\n",
    "resulting in a quicker fit time for such a classifier."
   ]
  },
  {
   "cell_type": "markdown",
   "metadata": {},
   "source": [
    "## References\n",
    "\n",
    "- [SciKit Learn - Face Decomposition][1]\n",
    "- [SciKit Learn - Face Recognition][2]\n",
    "\n",
    "[1]: https://scikit-learn.org/stable/auto_examples/decomposition/plot_faces_decomposition.html\n",
    "[2]: https://scikit-learn.org/stable/auto_examples/applications/plot_face_recognition.html"
   ]
  }
 ],
 "metadata": {
  "anaconda-cloud": {},
  "kernelspec": {
   "display_name": "Python 3",
   "language": "python",
   "name": "python3"
  },
  "language_info": {
   "codemirror_mode": {
    "name": "ipython",
    "version": 3
   },
   "file_extension": ".py",
   "mimetype": "text/x-python",
   "name": "python",
   "nbconvert_exporter": "python",
   "pygments_lexer": "ipython3",
   "version": "3.7.6"
  }
 },
 "nbformat": 4,
 "nbformat_minor": 4
}
