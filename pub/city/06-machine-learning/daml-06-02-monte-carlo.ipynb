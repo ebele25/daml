{
 "cells": [
  {
   "cell_type": "markdown",
   "metadata": {},
   "source": [
    "# 06.01 Monte Carlo\n",
    "\n",
    "The idea of the Monte Carlo technique consists of measuring random points in a search space\n",
    "and then take out conclusions from the measured points.  The bigger number of random points\n",
    "the more likely we are to an exact solution.  In other words, the method *converges* on a solution."
   ]
  },
  {
   "cell_type": "markdown",
   "metadata": {},
   "source": [
    "![Monte Carlo](skl-monte-carlo.svg)\n",
    "\n",
    "<div style=\"text-align:right;\"><sup>skl-monte-carlo.svg</sup></div>"
   ]
  },
  {
   "cell_type": "markdown",
   "metadata": {},
   "source": [
    "Above we can see Monte Carlo city, on the coast of, well, Monte Carlo.\n",
    "The entire country of Monaco is composed of the city of Monte Carlo after all.\n",
    "That said the Monte Carlo technique was not created in Monte Carlo,\n",
    "it was conceived around the early computing and nuclear programmes in the US.\n",
    "The technique was named after the Monte Carlo municipality because of its Casinos,\n",
    "which make for a good analogy against the heavy use of randomness in the technique.\n",
    "\n",
    "We will play with NumPy to build a Monte Carlo method to solve\n",
    "the classical problem of estimating the value of $\\pi$."
   ]
  },
  {
   "cell_type": "code",
   "execution_count": null,
   "metadata": {},
   "outputs": [],
   "source": [
    "import numpy as np\n",
    "import matplotlib.pyplot as plt\n",
    "%matplotlib inline\n",
    "plt.style.use('seaborn-talk')"
   ]
  },
  {
   "cell_type": "markdown",
   "metadata": {},
   "source": [
    "We can estimate the value of $\\pi$ using the *euclidean distance* between the origin\n",
    "and the radius of a circle centered on the origin.  This comes straight from Pythagoras.\n",
    "The square of the hypotenuse is equal to the sum of squares of the other two sides;\n",
    "or the distance of the origin to a point in the plane is the square root of the sum\n",
    "pf the square of its coordinates.\n",
    "\n",
    "$$h^2 = a^2 + b^2 \\Leftrightarrow d = \\sqrt{x^2 + y^2}$$\n",
    "\n",
    "If a point is inside the circle, then the distance will smaller then the radius, otherwise\n",
    "it will be bigger.  We will use a circle or radius $1$, since that is the basic trigonometric circle.\n",
    "The argument to our estimator is the number of points used.\n",
    "A circle of radius $1$ -  a unit circle - has several useful properties.\n",
    "For example, the perimeter of the circle is $2\\pi$\n",
    "and the area of the unit circle is $\\pi$."
   ]
  },
  {
   "cell_type": "markdown",
   "metadata": {},
   "source": [
    "![Euclidean Geometry of Pi](skl-pi-euclid.svg)\n",
    "\n",
    "<div style=\"text-align:right;\"><sup>skl-pi-euclid.svg</sup></div>"
   ]
  },
  {
   "cell_type": "markdown",
   "metadata": {},
   "source": [
    "Working with the full unit circle is a tad annoying because we need to deal\n",
    "with negative values.\n",
    "We will need to generate random values and, as we saw,\n",
    "the random number generating functions spit numbers\n",
    "between $0$ and $1$, which are positive.\n",
    "\n",
    "Instead of the full circle we can work with one quadrant of the unit circle.\n",
    "And since the circle has $4$ quadrants, the area of one quadrant is $\\pi/4$.\n",
    "The $1st$ quadrant is composed of values in the positive area of both axes.\n",
    "And moreover, the $1st$ quadrant fits inside a square of values $0$ to $1$ on both axes,\n",
    "a shape in which all raw random values will appear.\n",
    "The area of this square is $1$ since all its sides are $1$."
   ]
  },
  {
   "cell_type": "markdown",
   "metadata": {},
   "source": [
    "![Estimating Pi](skl-pi-area.svg)\n",
    "\n",
    "<div style=\"text-align:right;\"><sup>skl-pi-area.svg</sup></div>"
   ]
  },
  {
   "cell_type": "markdown",
   "metadata": {},
   "source": [
    "If we generate lots of random points inside the square,\n",
    "we will have points that fall inside or outside the quadrant of the circle.\n",
    "The ratio between the area of the quadrant and the square tells us\n",
    "how much of the square the quadrant occupies.\n",
    "And since the square has area $1$,\n",
    "that ratio is the value of the area of the quadrant.\n",
    "We know that the are of the quadrant is $\\pi/4$,\n",
    "hence the value of $\\pi$ is just $4$ times the ratio between the area\n",
    "of the quadrant and the square.\n",
    "\n",
    "We will approximate the area of the square by the number of points\n",
    "that fall in the square.\n",
    "All the points we generate fall in the square hence the estimate is all points.\n",
    "The area of the quadrant will then be the number of points inside the quadrant.\n",
    "Which points are inside the quadrant can be determined by euclidean distance.\n",
    "Since the radius from the origin is $1$,\n",
    "any point closer than that to the origin is inside the quadrant.\n",
    "\n",
    "Note that we do not really need the square root in our equation\n",
    "since the square root of any value bigger that $1$ is still bigger than $1$,\n",
    "and the square root of any number smaller than $1$ is still smaller than $1$.\n",
    "We will keep the square root for readability here\n",
    "but in a real implementation one would do away with it.\n",
    "This concept of making away with the square root when comparing distances\n",
    "will come back, and it is a very common idea in mathematical programming."
   ]
  },
  {
   "cell_type": "code",
   "execution_count": null,
   "metadata": {},
   "outputs": [],
   "source": [
    "def approx_pi(n=1000, plot=False):\n",
    "    points = np.random.rand(n, 2)\n",
    "    result = np.sqrt(points[:, 0]**2 + points[:, 1]**2) < 1.0\n",
    "    pi = 4 * (result.sum() /  n)\n",
    "    if plot:\n",
    "        fig, ax = plt.subplots(figsize=(7, 7))\n",
    "        ax.plot(points[result, 0], points[result, 1], 'o', color='crimson')\n",
    "        ax.plot(points[~result, 0], points[~result, 1], 'o', color='steelblue')\n",
    "        ax.axis('equal')\n",
    "        ax.axis([0, 1, 0, 1])\n",
    "    return pi\n",
    "\n",
    "\n",
    "approx_pi(plot=True)"
   ]
  },
  {
   "cell_type": "markdown",
   "metadata": {},
   "source": [
    "Kind of fuzzy, and $\\pi$ is quite off too.\n",
    "But we only tried a thousand points.\n",
    "We shall try more.\n",
    "\n",
    "The more points one attempts in a Monte Carlo method the better\n",
    "the approximation one will get.\n",
    "Yet, the more points so does the computational cost increases.\n",
    "With a million points."
   ]
  },
  {
   "cell_type": "code",
   "execution_count": null,
   "metadata": {},
   "outputs": [],
   "source": [
    "approx_pi(10**6, plot=True)"
   ]
  },
  {
   "cell_type": "markdown",
   "metadata": {},
   "source": [
    "Hmmm... but that is still a tag off.\n",
    "NumPy itself has a good approximation of $\\pi$."
   ]
  },
  {
   "cell_type": "code",
   "execution_count": null,
   "metadata": {},
   "outputs": [],
   "source": [
    "np.pi"
   ]
  },
  {
   "cell_type": "markdown",
   "metadata": {},
   "source": [
    "Let's try our function in a loop,\n",
    "i.e. we approximate several times with more and more random points.."
   ]
  },
  {
   "cell_type": "code",
   "execution_count": null,
   "metadata": {},
   "outputs": [],
   "source": [
    "for i in range(7):\n",
    "    print(10**i, approx_pi(10**i))"
   ]
  },
  {
   "cell_type": "markdown",
   "metadata": {},
   "source": [
    "And the more points we use the better the approximation is.\n",
    "This is because Monte Carlo is a **brute force** algorithm,\n",
    "one can try more and more points to try to find a solution.\n",
    "The computational cost becomes expensive very fast with such algorithms.\n",
    "\n",
    "But is Monte Carlo Machine Learning?"
   ]
  },
  {
   "cell_type": "markdown",
   "metadata": {},
   "source": [
    "**No**.\n",
    "Monte Carlo is an optimization technique that *may* be used as part\n",
    "of a machine learning algorithm but is not an ML technique in itself.\n",
    "In ML we are working with data,\n",
    "in the example we worked here - as useful as approximating $\\pi$ is -\n",
    "there is no data from which we build a model.\n",
    "All we did here was some mathematical play.\n",
    "\n",
    "An ML technique is an algorithm on top of data,\n",
    "an algorithm that will use an optimization algorithm\n",
    "as part of it but will do more than that.\n",
    "An ML technique will encode data in order to run an\n",
    "optimization on top of it, perform the optimization,\n",
    "and organize the results so the optimization output\n",
    "can be used on new data."
   ]
  }
 ],
 "metadata": {
  "anaconda-cloud": {},
  "kernelspec": {
   "display_name": "Python 3",
   "language": "python",
   "name": "python3"
  },
  "language_info": {
   "codemirror_mode": {
    "name": "ipython",
    "version": 3
   },
   "file_extension": ".py",
   "mimetype": "text/x-python",
   "name": "python",
   "nbconvert_exporter": "python",
   "pygments_lexer": "ipython3",
   "version": "3.7.6"
  }
 },
 "nbformat": 4,
 "nbformat_minor": 4
}
