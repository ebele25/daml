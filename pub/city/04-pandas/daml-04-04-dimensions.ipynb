{
 "cells": [
  {
   "cell_type": "markdown",
   "metadata": {},
   "source": [
    "# 04.03 Pandas Indexes as Dimensions\n",
    "\n",
    "Indexes in `pandas` do much more than enumerating the rows of a series or data frame.\n",
    "An index can hold a list of values as the index of a certain element, in other words\n",
    "we can have a combination of values as the index, a multi-index.  Column names are also\n",
    "an index and can be multi-valued as well."
   ]
  },
  {
   "cell_type": "code",
   "execution_count": null,
   "metadata": {},
   "outputs": [],
   "source": [
    "import numpy as np\n",
    "import pandas as pd"
   ]
  },
  {
   "cell_type": "markdown",
   "metadata": {},
   "source": [
    "Let's pick some of the numeric columns from our British Isles data frame and *stack* them\n",
    "together into a multiple index."
   ]
  },
  {
   "cell_type": "code",
   "execution_count": null,
   "metadata": {},
   "outputs": [],
   "source": [
    "city = ['Liverpool', 'Manchester', 'Cardiff',\n",
    "        'Swansea', 'Douglas', 'Belfast',\n",
    "        'Glasgow', 'Edinburgh', 'Dublin']\n",
    "country = ['England', 'England', 'Wales',\n",
    "           'Wales', 'Isle of Man',\n",
    "           'Northern Ireland', 'Scotland',\n",
    "           'Scotland', 'Ireland']\n",
    "county = ['Merseyside', 'Greater Manchester', 'South Glamorgan',\n",
    "          'West Glamorgan', None,  'County Antrim and County Down',\n",
    "          None, None, None]\n",
    "population2001 = [435500, 405300, 305353,\n",
    "                  270506, np.nan, 276459,\n",
    "                  577869, 448624, np.nan]\n",
    "population2011 = [466400, 503127, 335145,\n",
    "                  239023,  27938, 333871,\n",
    "                  593200, 476600, 554550]\n",
    "df = pd.DataFrame({'county': county,\n",
    "                   'country': country,\n",
    "                   'population 2001': population2001,\n",
    "                   'population 2011': population2011,\n",
    "                  },\n",
    "                  index=city)\n",
    "df"
   ]
  },
  {
   "cell_type": "markdown",
   "metadata": {},
   "source": [
    "We choose the population columns because these are more interesting.\n",
    "For one things they contain missing data, and we can see how `pandas`\n",
    "will deal with that extra difficulty."
   ]
  },
  {
   "cell_type": "code",
   "execution_count": null,
   "metadata": {},
   "outputs": [],
   "source": [
    "pop = df[['population 2001', 'population 2011']]\n",
    "pop.columns = [2001, 2011]\n",
    "pop"
   ]
  },
  {
   "cell_type": "markdown",
   "metadata": {},
   "source": [
    "We also renamed the columns to $2001$ and $2011$ to make examples shorter.\n",
    "\n",
    "Now we stack, and we get a `Series` with a double valued index."
   ]
  },
  {
   "cell_type": "code",
   "execution_count": null,
   "metadata": {},
   "outputs": [],
   "source": [
    "pop_year = pop.stack()\n",
    "pop_year"
   ]
  },
  {
   "cell_type": "markdown",
   "metadata": {},
   "source": [
    "Selecting only one part of the index provides a single indexed data frame,\n",
    "which may contain more than one value."
   ]
  },
  {
   "cell_type": "code",
   "execution_count": null,
   "metadata": {},
   "outputs": [],
   "source": [
    "pop_year['Cardiff']"
   ]
  },
  {
   "cell_type": "markdown",
   "metadata": {},
   "source": [
    "To get a single value we select a combined index value.\n",
    "Note that the tuple syntax is not necessary for `Series`\n",
    "but may be needed for data frames."
   ]
  },
  {
   "cell_type": "code",
   "execution_count": null,
   "metadata": {},
   "outputs": [],
   "source": [
    "pop_year[('Cardiff', 2011)]"
   ]
  },
  {
   "cell_type": "markdown",
   "metadata": {},
   "source": [
    "The slicing operators allow us to select parts of the index.\n",
    "For example, all places that do have data for $2001$."
   ]
  },
  {
   "cell_type": "code",
   "execution_count": null,
   "metadata": {},
   "outputs": [],
   "source": [
    "pop_year[:, 2001]"
   ]
  },
  {
   "cell_type": "markdown",
   "metadata": {},
   "source": [
    "By *unstacking* we get back the data frame."
   ]
  },
  {
   "cell_type": "code",
   "execution_count": null,
   "metadata": {},
   "outputs": [],
   "source": [
    "pop_year.unstack()"
   ]
  },
  {
   "cell_type": "markdown",
   "metadata": {},
   "source": [
    "![British Isles](pd-british-isles.svg)\n",
    "\n",
    "<div style=\"text-align:right;\"><sup>pd-british-isles.svg</sup></div>"
   ]
  },
  {
   "cell_type": "markdown",
   "metadata": {},
   "source": [
    "## Indexes on Data Frames\n",
    "\n",
    "If rows and columns are indexed in the same way we can exchange the row\n",
    "(index) labels with column labels and reposition data appropriately.\n",
    "Moreover, if several values are used to index a row or column we can exchange\n",
    "only some of the values between rows and columns, or vice-versa.\n",
    "That sounds horribly complicated but it is actually a common task within databases,\n",
    "notably data warehouses.\n",
    "The operation of changing labels between rows and columns whilst reordering the data\n",
    "accordingly is called **pivoting** or **crosstabbing** in database jargon.\n",
    "Database software extensions often provide pivot or crosstab operations.\n",
    "\n",
    "Before we attempt pivoting let's try to move the index into the data frame itself."
   ]
  },
  {
   "cell_type": "code",
   "execution_count": null,
   "metadata": {},
   "outputs": [],
   "source": [
    "pop.index.name = 'city'\n",
    "pop_full = pop.reset_index()\n",
    "pop_full"
   ]
  },
  {
   "cell_type": "markdown",
   "metadata": {},
   "source": [
    "We moved the index into a column, good.\n",
    "But since the columns are an index too we can move them into the data frame too."
   ]
  },
  {
   "cell_type": "code",
   "execution_count": null,
   "metadata": {},
   "outputs": [],
   "source": [
    "pop_melt = pop_full.melt(id_vars=['city'], var_name='year')\n",
    "pop_melt"
   ]
  },
  {
   "cell_type": "markdown",
   "metadata": {},
   "source": [
    "Melting a data frame produces spread data,\n",
    "i.e. we see the same data as before but instead of looking through a row and column\n",
    "we look at a combination of columns in a row to understand what the \"value\" means.\n",
    "\n",
    "The *pivot* operation is the opposite of melting.\n",
    "We build meaningful columns from the data in the rows."
   ]
  },
  {
   "cell_type": "code",
   "execution_count": null,
   "metadata": {},
   "outputs": [],
   "source": [
    "pop_full = pop_melt.pivot(index='city', columns='year', values='value')\n",
    "pop_full"
   ]
  },
  {
   "cell_type": "markdown",
   "metadata": {},
   "source": [
    "Pivoting can be powerful,\n",
    "not only it can build new columns but it can aggregate the resulting values.\n",
    "In `pandas` the `pivot_table` method accept aggregations.\n",
    "We can output a mean and keep the number of values from which the mean was taken from."
   ]
  },
  {
   "cell_type": "code",
   "execution_count": null,
   "metadata": {},
   "outputs": [],
   "source": [
    "pop_agg = pop_melt[['city', 'value']].pivot_table(\n",
    "    index='city', aggfunc=[np.mean, lambda x: np.sum(~np.isnan(x)), np.max, np.min])\n",
    "pop_agg"
   ]
  },
  {
   "cell_type": "markdown",
   "metadata": {},
   "source": [
    "There is a side effect here.\n",
    "Since we may aggregate on more than a single column at once we get a multi-index\n",
    "on the columns.  Since we do not need it for this case we name the columns ourselves."
   ]
  },
  {
   "cell_type": "code",
   "execution_count": null,
   "metadata": {},
   "outputs": [],
   "source": [
    "pop_agg.columns = ['mean', 'not null', 'max', 'min']\n",
    "pop_agg"
   ]
  },
  {
   "cell_type": "markdown",
   "metadata": {},
   "source": [
    "## Dimensions\n",
    "\n",
    "`pandas` provide several ways to pivot columns and rows,\n",
    "for example, stacking and unstacking can be performed on data frames.\n",
    "Yet, the most important point of the pivot operation is the fact that we can represent several\n",
    "dimensions in a smaller number of dimensions by labeling data with combinations of values.\n",
    "\n",
    "Just like we can represent a function of the type $f(x, y) = z$ by either storing a\n",
    "2-dimensional grid of $x$ and $y$ points mapping to values of $z$; or by building a long\n",
    "1-dimensional list of points of the form $(x, y)$ and mapping it to the $z$ values."
   ]
  }
 ],
 "metadata": {
  "anaconda-cloud": {},
  "kernelspec": {
   "display_name": "Python 3",
   "language": "python",
   "name": "python3"
  },
  "language_info": {
   "codemirror_mode": {
    "name": "ipython",
    "version": 3
   },
   "file_extension": ".py",
   "mimetype": "text/x-python",
   "name": "python",
   "nbconvert_exporter": "python",
   "pygments_lexer": "ipython3",
   "version": "3.7.6"
  }
 },
 "nbformat": 4,
 "nbformat_minor": 4
}
