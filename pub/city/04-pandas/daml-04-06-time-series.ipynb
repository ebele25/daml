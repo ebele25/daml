{
 "cells": [
  {
   "cell_type": "markdown",
   "metadata": {},
   "source": [
    "# 04.05 Time Series\n",
    "\n",
    "Working with data we find ourselves defining dimensions over which we want to analyze it\n",
    "(aggregate it).  Dimension is a well known word in data warehousing and in analytic queries\n",
    "over such warehouses.  One such dimension that always appear for data analysis is the\n",
    "time dimension.  Windowing, changing granularity or aggregating over specific times in the\n",
    "time dimension is called time series analysis.\n",
    "\n",
    "Both NumPy and `pandas` have facilities to work with time series."
   ]
  },
  {
   "cell_type": "code",
   "execution_count": null,
   "metadata": {},
   "outputs": [],
   "source": [
    "import numpy as np\n",
    "import pandas as pd"
   ]
  },
  {
   "cell_type": "markdown",
   "metadata": {},
   "source": [
    "Computers have almost always encoded dates as seconds since January 1st 1970,\n",
    "at least since that date - earlier computers obviously used different encodings.\n",
    "That date is called the **epoch** of computer time.\n",
    "\n",
    "NumPy date and time representation performs exactly that,\n",
    "it counts seconds since epoch by default."
   ]
  },
  {
   "cell_type": "code",
   "execution_count": null,
   "metadata": {},
   "outputs": [],
   "source": [
    "np.datetime64('2020-01-03T10:00:00')"
   ]
  },
  {
   "cell_type": "markdown",
   "metadata": {},
   "source": [
    "There is one more complication about dates: timezones.\n",
    "The *epoch* is in the GMT (Greenwich Mean Time),\n",
    "or UTC (Coordinated Universal Time) which is just a different name for the same thing.\n",
    "The implementation of timezones by NumPy has been an argument for a log time.\n",
    "In the end NumPy abandoned any use of timezones and made all dates to not\n",
    "have any timezone information, a computer time called naive.\n",
    "\n",
    "Moreover, NumPy date parser does not accept many time formats.\n",
    "Which made the extensions made by `pandas` welcome\n",
    "and very needed.\n",
    "`pandas` can parse a wide range of date formats out of the box."
   ]
  },
  {
   "cell_type": "code",
   "execution_count": null,
   "metadata": {},
   "outputs": [],
   "source": [
    "pd.to_datetime('January, 2017'), pd.to_datetime('3rd of February 2016'), pd.to_datetime('6:31PM, Nov 11th, 2017')"
   ]
  },
  {
   "cell_type": "markdown",
   "metadata": {},
   "source": [
    "Python has the `datetime` object built into the standard library but it is quite limited.\n",
    "The `pandas` library wraps around [dateutil][] for a comprehensive date parser;\n",
    "and [pytz][] for localizing dates and times within timezones.\n",
    "`pandas` makes use of these modules to build its\n",
    "`Timestamp`, `Period` and `Timedelta` data frame indexes.\n",
    "\n",
    "[dateutil]: https://dateutil.readthedocs.io/en/stable/ \"dateutil documentation\"\n",
    "[pytz]: http://pythonhosted.org/pytz/ \"pytz documentation\"\n",
    "\n",
    "For example, the three dates above are parsed with the `dateutil` module behind the scenes.\n",
    "And the localization below is done with `pytz` under the hood."
   ]
  },
  {
   "cell_type": "code",
   "execution_count": null,
   "metadata": {},
   "outputs": [],
   "source": [
    "date = pd.to_datetime('3rd of January 2020').tz_localize('Europe/London')\n",
    "date.strftime('%Z, %B %-d, %Y')"
   ]
  },
  {
   "cell_type": "markdown",
   "metadata": {},
   "source": [
    "Date operations, e.g. the common cross-language `strftime`,\n",
    "work on `pandas` dates juts like on Python dates.\n",
    "\n",
    "Another difference between NumPy and `pandas` is the internal data type.\n",
    "By default `pandas` will use a nanosecond resolution,\n",
    "which has better granularity but cannot count all the time until *epoch*.\n",
    "All when building dates and times `pandas` will attempt to choose\n",
    "a good granularity: nanoseconds, days, years;\n",
    "one can change the `dtype` manually to force a granularity.\n",
    "\n",
    "Just like date operations, time deltas work too.\n",
    "And broadcasting works on deltas too (that `'D'` means \"day\", see next)."
   ]
  },
  {
   "cell_type": "code",
   "execution_count": null,
   "metadata": {},
   "outputs": [],
   "source": [
    "date = pd.to_datetime('3rd of January 2020')\n",
    "date + pd.to_timedelta(np.arange(7), 'D')"
   ]
  },
  {
   "cell_type": "markdown",
   "metadata": {},
   "source": [
    "Time series analysis requires us to be able to change the time dimension quickly, and tailor\n",
    "it to our current needs with little computation overhead.  `pandas` provides the tools for this\n",
    "through its time indexes: time stamps, time periods and time deltas.  Let's see how we build these."
   ]
  },
  {
   "cell_type": "markdown",
   "metadata": {},
   "source": [
    "## Indexes on dates\n",
    "\n",
    "We will use an airport with planes landing on it to understand\n",
    "different ways of thinking about time.\n",
    "We can distinguish between three time definitions:\n",
    "the **timestamp**, e.g. at which time the plane did land;\n",
    "the **time period**, e.g. how many planes did land this Wednesday;\n",
    "and **time deltas** (or durations), e.g. how long ago did the last plane land.\n",
    "Each of these has a `pandas` object and index type:\n",
    "\n",
    "- The `DatetimeIndex` is composed of `Timestamp` objects and is the most basic date index type.\n",
    "- `PeriodIndex` uses `Period` objects which contain `start_time` and `end_time`,\n",
    "  and attributes to check whether a timestamp falls within the period.\n",
    "- The `TimedeltaIndex` is composed of `Timedelta` objects, which represent a duration of time.\n",
    "\n",
    "We also have `DateOffset` for calendar arithmetic but this is less prevalent\n",
    "in data manipulation and does not have its index type.\n",
    "Calendar arithmetic is an arithmetic which accounts for special dates, e.g. holidays.\n",
    "Calendar arithmetic is very specific depending on which country one lives in\n",
    "or which country a dataset has been collected in."
   ]
  },
  {
   "cell_type": "markdown",
   "metadata": {},
   "source": [
    "We can understand periods as aggregates of timestamps and are internally defined as a single\n",
    "timestamp (start of period) and a frequency (duration of the period).  All periods within a\n",
    "`PeriodIndex` must have the same frequency.  The frequency (or duration, or offset) in `pandas`\n",
    "can be defined in many ways, with letter codes.  The most important ones are:\n",
    "\n",
    "+ `D` - day\n",
    "+ `B` - day, business days only\n",
    "+ `W` - week\n",
    "+ `M` - month\n",
    "+ `A`/`Y` - year\n",
    "+ `H` - hour\n",
    "+ `T`/`min` - minute\n",
    "+ `S` - second\n",
    "\n",
    "And these can be combined in several ways\n",
    "(e.g. `BAS-APR` mean a year starting on 1st of April as the first business day).\n",
    "It is nearly impossible to remember all combinations,\n",
    "do have a link to the [offset documentation][offset] handy.\n",
    "Let's see how to create time based indexes:\n",
    "\n",
    "[offset]: https://pandas.pydata.org/pandas-docs/stable/user_guide/timeseries.html#timeseries-offset-aliases \"frequency codes\""
   ]
  },
  {
   "cell_type": "code",
   "execution_count": null,
   "metadata": {},
   "outputs": [],
   "source": [
    "dates = pd.to_datetime(['3rd of January 2010', '1960-Jan-3', '20200708'])\n",
    "dates"
   ]
  },
  {
   "cell_type": "markdown",
   "metadata": {},
   "source": [
    "Those are `Timestamps`, we can convert that to `Periods`."
   ]
  },
  {
   "cell_type": "code",
   "execution_count": null,
   "metadata": {},
   "outputs": [],
   "source": [
    "dates.to_period('D')"
   ]
  },
  {
   "cell_type": "markdown",
   "metadata": {},
   "source": [
    "And operations between dates result in `Timedelta`s."
   ]
  },
  {
   "cell_type": "code",
   "execution_count": null,
   "metadata": {},
   "outputs": [],
   "source": [
    "dates - dates[0]"
   ]
  },
  {
   "cell_type": "markdown",
   "metadata": {},
   "source": [
    "Instead of writing all dates we want in an index we can (and should) use the `_range` methods.\n",
    "The default period is days."
   ]
  },
  {
   "cell_type": "code",
   "execution_count": null,
   "metadata": {},
   "outputs": [],
   "source": [
    "pd.date_range('2019-12-03', periods=3)"
   ]
  },
  {
   "cell_type": "markdown",
   "metadata": {},
   "source": [
    "But the period definition can be quite customizable,\n",
    "for example we can have timestamps every $6$ hours."
   ]
  },
  {
   "cell_type": "code",
   "execution_count": null,
   "metadata": {},
   "outputs": [],
   "source": [
    "pd.date_range('2019-12-03', freq='6H', periods=6)"
   ]
  },
  {
   "cell_type": "markdown",
   "metadata": {},
   "source": [
    "Periods can be generated by themselves.\n",
    "Periods are printed in a short version if possible,\n",
    "for example yearly periods will prints as just the year."
   ]
  },
  {
   "cell_type": "code",
   "execution_count": null,
   "metadata": {},
   "outputs": [],
   "source": [
    "pd.period_range('2019', freq='Y', periods=3)"
   ]
  },
  {
   "cell_type": "markdown",
   "metadata": {},
   "source": [
    "And time deltas can be generated with the same complexity of frequency creation."
   ]
  },
  {
   "cell_type": "code",
   "execution_count": null,
   "metadata": {},
   "outputs": [],
   "source": [
    "idx = pd.timedelta_range('2min', freq='7min', periods=3)\n",
    "idx"
   ]
  },
  {
   "cell_type": "markdown",
   "metadata": {},
   "source": [
    "And we can force that index to use minutes as the unit."
   ]
  },
  {
   "cell_type": "code",
   "execution_count": null,
   "metadata": {},
   "outputs": [],
   "source": [
    "idx.astype('timedelta64[m]')"
   ]
  },
  {
   "cell_type": "markdown",
   "metadata": {},
   "source": [
    "We now have the tools to look at some data that is indexed by time,\n",
    "a *time series*.\n",
    "Note that analysis of a time series is always faulty,\n",
    "one cannot predict the future after all.\n",
    "All one does in analyzing a time series is to attempt to predict\n",
    "the future by accepting that the future will be similar to what\n",
    "happened in the past.\n",
    "\n",
    "Analyzing a time series is similar to drive a car with the\n",
    "windscreen and side windows painted black,\n",
    "and only the rear mirror as your only source of information.\n",
    "And the reverse gear does not work,\n",
    "since time travel is not viable either."
   ]
  },
  {
   "cell_type": "markdown",
   "metadata": {},
   "source": [
    "![Optimism](pd-road.svg)\n",
    "\n",
    "<div style=\"text-align:right;\"><sup>pd-road.svg</sup></div>"
   ]
  },
  {
   "cell_type": "markdown",
   "metadata": {},
   "source": [
    "To build a toy dataset for us we will the `dt` attribute\n",
    "of a `pandas` series containing timestamps.\n",
    "The `dt` attribute works in a similar way as the `str`\n",
    "attribute works for strings,\n",
    "we can operate on all dates within the series at once.\n",
    "\n",
    "Here we take the hour out of the time and the day of the week\n",
    "from the $3$ days ($72$ hours) in our set.\n",
    "The days of the week are numbered.\n",
    "Numbering of days of the week has never been standardized,\n",
    "different programming languages and libraries do it in\n",
    "different ways.\n",
    "In `pandas` we have Monday numbered as $0$ and\n",
    "Sunday numbered $6$."
   ]
  },
  {
   "cell_type": "code",
   "execution_count": null,
   "metadata": {},
   "outputs": [],
   "source": [
    "dates = pd.Series(pd.date_range('2019-12-02', periods=72, freq='H'))\n",
    "df = pd.DataFrame({'hour': list(dates.dt.hour),\n",
    "                   'dayofweek': list(dates.dt.dayofweek),\n",
    "                  },\n",
    "                 index=dates)\n",
    "df"
   ]
  },
  {
   "cell_type": "markdown",
   "metadata": {},
   "source": [
    "Selecting from the index is quite intuitive.\n",
    "One can select using strings that will be converted to times.\n",
    "This works well for continuous selection."
   ]
  },
  {
   "cell_type": "code",
   "execution_count": null,
   "metadata": {},
   "outputs": [],
   "source": [
    "df['2019-12-03']"
   ]
  },
  {
   "cell_type": "markdown",
   "metadata": {},
   "source": [
    "For more complex solutions we will need making and fancy indexing,\n",
    "all on top of the functions from the `dt` attribute.\n",
    "Yet, since we are working on selecting from an index,\n",
    "the values normally on the `dt` attribute can be\n",
    "retrieved directly from the index.\n",
    "For example we have $24$ hours on each day in\n",
    "our $72$ hour dataset."
   ]
  },
  {
   "cell_type": "code",
   "execution_count": null,
   "metadata": {},
   "outputs": [],
   "source": [
    "df.index.dayofweek"
   ]
  },
  {
   "cell_type": "markdown",
   "metadata": {},
   "source": [
    "And withing each of those $24$ hours\n",
    "there is one point at which the clock hits $6$AM.\n",
    "We can select the data at $6$AM on each day by\n",
    "masking the index."
   ]
  },
  {
   "cell_type": "code",
   "execution_count": null,
   "metadata": {},
   "outputs": [],
   "source": [
    "df[df.index.hour == 6]"
   ]
  },
  {
   "cell_type": "markdown",
   "metadata": {},
   "source": [
    "We have the tools to work on a real time series.\n",
    "The tools themselves are simple: dates, times, and some selection tools.\n",
    "Yet, combining these tools with tools we seen previously\n",
    "make for very complex behavior."
   ]
  },
  {
   "cell_type": "markdown",
   "metadata": {},
   "source": [
    "## References\n",
    "\n",
    "[Time Series - pandas user guide][1]\n",
    "\n",
    "[1]: https://pandas.pydata.org/pandas-docs/stable/user_guide/timeseries.html"
   ]
  }
 ],
 "metadata": {
  "anaconda-cloud": {},
  "kernelspec": {
   "display_name": "Python 3",
   "language": "python",
   "name": "python3"
  },
  "language_info": {
   "codemirror_mode": {
    "name": "ipython",
    "version": 3
   },
   "file_extension": ".py",
   "mimetype": "text/x-python",
   "name": "python",
   "nbconvert_exporter": "python",
   "pygments_lexer": "ipython3",
   "version": "3.7.6"
  }
 },
 "nbformat": 4,
 "nbformat_minor": 4
}
