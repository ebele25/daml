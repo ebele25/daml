{
 "cells": [
  {
   "cell_type": "markdown",
   "metadata": {},
   "source": [
    "# 04.02 Database Operations\n",
    "\n",
    "Just as NumPy, `pandas` has procedures to `concat` several data frames together.\n",
    "Yet `pandas` can do more.\n",
    "In a similar fashion to SQL databases,\n",
    "one can do relational algebra joins on data frames.\n",
    "\n",
    "Let's import both libraries."
   ]
  },
  {
   "cell_type": "code",
   "execution_count": null,
   "metadata": {},
   "outputs": [],
   "source": [
    "import numpy as np\n",
    "import pandas as pd"
   ]
  },
  {
   "cell_type": "markdown",
   "metadata": {},
   "source": [
    "And let us build again the geographic data we have been using until now."
   ]
  },
  {
   "cell_type": "code",
   "execution_count": null,
   "metadata": {},
   "outputs": [],
   "source": [
    "city = ['Liverpool', 'Manchester', 'Cardiff',\n",
    "        'Swansea', 'Douglas', 'Belfast',\n",
    "        'Glasgow', 'Edinburgh', 'Dublin']\n",
    "country = ['England', 'England', 'Wales',\n",
    "           'Wales', 'Isle of Man',\n",
    "           'Northern Ireland', 'Scotland',\n",
    "           'Scotland', 'Ireland']\n",
    "county = ['Merseyside', 'Greater Manchester', 'South Glamorgan',\n",
    "          'West Glamorgan', None,  'County Antrim and County Down',\n",
    "          None, None, None]\n",
    "population2001 = [435500, 405300, 305353,\n",
    "                  270506, np.nan, 276459,\n",
    "                  577869, 448624, np.nan]\n",
    "population2011 = [466400, 503127, 335145,\n",
    "                  239023,  27938, 333871,\n",
    "                  593200, 476600, 554550]\n",
    "df_city = pd.DataFrame({'county': county,\n",
    "                        'country': country,\n",
    "                        'population 2001': population2001,\n",
    "                        'population 2011': population2011,\n",
    "                       },\n",
    "                       index=city)\n",
    "df_city"
   ]
  },
  {
   "cell_type": "markdown",
   "metadata": {},
   "source": [
    "![Cardiff Pier Head](pd-cardiff.svg)\n",
    "\n",
    "<div style=\"text-align:right;\"><sup>pd-cardiff.svg</sup></div>\n",
    "\n",
    "<div style=\"border: 0.3em double teal; border-radius: 0.5em; padding: 0.5em;\">\n",
    "    The United Kingdom Python Conference (PyConUK) moved across the country,\n",
    "    it changed its location every two years.\n",
    "    That was before establishing itself in the city of Cardiff,\n",
    "    where the conference is held for several years since.\n",
    "    The conference is known by the citizens of Cardiff,\n",
    "    many of which believe that an academic conference on\n",
    "    Herpetology (study of amphibians and reptiles, including snakes)\n",
    "    visit their city every year.\n",
    "    The love of snakes presented by Python programmers can be seen\n",
    "    even by non-programmers.\n",
    "</div>"
   ]
  },
  {
   "cell_type": "code",
   "execution_count": null,
   "metadata": {},
   "outputs": [],
   "source": [
    "country = ['Northern Ireland', 'Scotland', 'Wales', 'England', 'Isle of Man', 'Ireland']\n",
    "capital = ['Belfast', 'Edinburgh', 'Cardiff', 'London', 'Douglas', 'Dublin']\n",
    "state = ['United Kingdom', 'United Kingdom', 'United Kingdom',\n",
    "         'United Kingdom', 'Isle of Man', 'Republic of Ireland']\n",
    "monarch = ['Elizabeth II', 'Elizabeth II', 'Elizabeth II',\n",
    "           'Elizabeth II', 'Elizabeth II', None]\n",
    "area = np.array([14130, 77933, 20779, 130279, 572, 70273])\n",
    "population2001 = [1.686e6, 5.064e6,  np.nan, 48.65e6, 77.703e3,  np.nan]\n",
    "population2011 = [1.811e6, 5.281e6, 3.057e6, 53.01e6, 84.886e3, 4.571e6]\n",
    "df_country = pd.DataFrame({'capital': capital,\n",
    "                           'state': state,\n",
    "                           'monarch': monarch,\n",
    "                           'area': area,\n",
    "                           'population 2001': population2001,\n",
    "                           'population 2011': population2011,\n",
    "                          },\n",
    "                          index=country)\n",
    "df_country"
   ]
  },
  {
   "cell_type": "markdown",
   "metadata": {},
   "source": [
    "## Joins\n",
    "\n",
    "We know that both data frames are related to each other:\n",
    "The cities reside within the countries.\n",
    "Moreover, the data on cities contains the country in which the city resides.\n",
    "\n",
    "The most common way of joining both data frames,\n",
    "in a similar fashion to a SQL JOIN statement, is `merge`.\n",
    "The procedure has a plethora of arguments\n",
    "but let's first use it and see what result we get."
   ]
  },
  {
   "cell_type": "code",
   "execution_count": null,
   "metadata": {},
   "outputs": [],
   "source": [
    "df = pd.merge(df_country, df_city, left_index=True, right_on='country', suffixes=('_country', '_city'))\n",
    "df"
   ]
  },
  {
   "cell_type": "markdown",
   "metadata": {},
   "source": [
    "There is a *lot* happening here!\n",
    "We know that we are trying to join the data on the countries\n",
    "but only one data frame has a `country` column.\n",
    "First we give the two data frames,\n",
    "the order is important since the first data frame will be referred to\n",
    "as `left` in the arguments\n",
    "and the second will be referred as `right`.\n",
    "\n",
    "The `df_country` data frame has the countries as the index,\n",
    "hence we can use `left_index=True` to say that we are joining\n",
    "on the index of that data frame.\n",
    "The `df_city` data frame has a `country` column,\n",
    "and we use that column for the join with `right_on='country'`.\n",
    "To make things a bit more complicated both data frames\n",
    "have population data with columns that use the same names.\n",
    "To solve this we give `suffixes=`,\n",
    "the population columns from `df_country` will be appended with\n",
    "`_country` and the population columns from `df_city` with `_city`.\n",
    "\n",
    "By default `pandas` performs an inner join\n",
    "but the argument `how=` allows for the common join\n",
    "suspects: left, right, outer, inner.\n",
    "\n",
    "One may also encounter the use of the `join` procedure instead of the `merge`.\n",
    "`join` is slightly more limited because one needs to be careful\n",
    "from which data frame to join.\n",
    "In order to achieve the same result as above we need to join from `df_city`."
   ]
  },
  {
   "cell_type": "code",
   "execution_count": null,
   "metadata": {},
   "outputs": [],
   "source": [
    "df_city.join(df_country, on='country', lsuffix='_city', rsuffix='_country')"
   ]
  },
  {
   "cell_type": "markdown",
   "metadata": {},
   "source": [
    "As with database queries on joins we can now query\n",
    "one data frame based on the joined contents of the other.\n",
    "\n",
    "For example, we can ask which of the cities are capital cities."
   ]
  },
  {
   "cell_type": "code",
   "execution_count": null,
   "metadata": {},
   "outputs": [],
   "source": [
    "df[df.index == df.capital]"
   ]
  },
  {
   "cell_type": "markdown",
   "metadata": {},
   "source": [
    "There is much, much more about the use of `pandas` as a querying tool.\n",
    "Merging or joining are some of the most commonly used procedures\n",
    "but many other exist.\n",
    "In recent versions `pandas` added a `compare` procedure,\n",
    "which out a join containing only the differences\n",
    "between the data frames."
   ]
  },
  {
   "cell_type": "markdown",
   "metadata": {},
   "source": [
    "# Aggregation\n",
    "\n",
    "Another `pandas` utility that acquires its name from databases\n",
    "is aggregation with `groupby`.\n",
    "We will explore `groupby` from the ground up when we will look\n",
    "at time series but the aggregation is not limited to time series processing.\n",
    "\n",
    "The grouping can happen by one or more column,\n",
    "and then an aggregation function is run on all other columns.\n",
    "The result is one aggregation per distinct value in the grouped\n",
    "by columns.\n",
    "Below we take our country data and group by the state the countries belong to,\n",
    "we then sum all other columns as the aggregation function.\n",
    "Since summing only makes sense for numeric columns,\n",
    "non-numeric columns are dropped."
   ]
  },
  {
   "cell_type": "code",
   "execution_count": null,
   "metadata": {},
   "outputs": [],
   "source": [
    "df_country.groupby('state').sum()"
   ]
  },
  {
   "cell_type": "markdown",
   "metadata": {},
   "source": [
    "There exist many aggregations that do not drop\n",
    "non-numeric columns but numeric aggregations are by far the most common.\n",
    "\n",
    "Grouping by in `pandas` also respects missing data.\n",
    "We will take our joined data frame and ask how many city dwellers\n",
    "within our dataset Her Majesty Queen Elizabeth the Second rules over."
   ]
  },
  {
   "cell_type": "code",
   "execution_count": null,
   "metadata": {},
   "outputs": [],
   "source": [
    "df.groupby('monarch').sum()['population 2011_city']"
   ]
  },
  {
   "cell_type": "markdown",
   "metadata": {},
   "source": [
    "And we can group over several columns.\n",
    "For example, we can find what these cities are.\n",
    "The `reset_index` operation forces the index to be a column."
   ]
  },
  {
   "cell_type": "code",
   "execution_count": null,
   "metadata": {},
   "outputs": [],
   "source": [
    "df.reset_index().groupby(['index', 'monarch']).sum()['population 2011_city']"
   ]
  },
  {
   "cell_type": "markdown",
   "metadata": {},
   "source": [
    "The city population totals are limited to the amount of data we\n",
    "have in our toy dataset.\n",
    "Also, what we see here is a multi-level index,\n",
    "and index with two levels: index and monarch.\n",
    "We will see how these indexes work next."
   ]
  }
 ],
 "metadata": {
  "anaconda-cloud": {},
  "kernelspec": {
   "display_name": "Python 3",
   "language": "python",
   "name": "python3"
  },
  "language_info": {
   "codemirror_mode": {
    "name": "ipython",
    "version": 3
   },
   "file_extension": ".py",
   "mimetype": "text/x-python",
   "name": "python",
   "nbconvert_exporter": "python",
   "pygments_lexer": "ipython3",
   "version": "3.7.6"
  }
 },
 "nbformat": 4,
 "nbformat_minor": 4
}
