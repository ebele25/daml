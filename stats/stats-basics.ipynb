{
 "cells": [
  {
   "cell_type": "markdown",
   "metadata": {},
   "source": [
    "# DAML 05 - Stats\n",
    "\n",
    "Michal Grochmal <michal.grochmal@city.ac.uk>"
   ]
  },
  {
   "cell_type": "code",
   "execution_count": 1,
   "metadata": {
    "collapsed": true
   },
   "outputs": [],
   "source": [
    "import numpy as np\n",
    "import pandas as pd\n",
    "from scipy import stats"
   ]
  },
  {
   "cell_type": "markdown",
   "metadata": {},
   "source": [
    "#### Mean\n",
    "\n",
    "$$\\bar{x} = \\frac{1}{N} \\sum_{i=1}^{N} x_i$$\n",
    "\n",
    "#### Variance\n",
    "\n",
    "$$\\sigma^2 = \\frac{1}{N} \\sum_{i=1}^{N} (x_i - \\bar{x})$$\n",
    "\n",
    "#### Standard Deviation\n",
    "\n",
    "$$\\sigma = \\sqrt{\\frac{1}{N} \\sum_{i=1}^{N} (x_i - \\bar{x})}$$\n",
    "\n",
    "#### Covariance\n",
    "\n",
    "$$cov(X, Y) = \\sigma_{xy} = \\frac{1}{N} \\sum_{i=1}^{N} (x_i - \\bar{x})(y_i - \\bar{y})$$\n",
    "\n",
    "#### Correlation\n",
    "\n",
    "$$corr(X, Y) = r = \\frac{cov(X, Y)}{\\sigma_x \\sigma_y} = \\frac{\\sigma_{xy}}{\\sigma_x \\sigma_y}$$\n",
    "\n",
    "Note: $1/N$ often becomes $1/(N-1)$ in bias-corrected calculations.\n",
    "Bias correction is needed when operating over a sample instead of operating over\n",
    "the entire population.  All below `NumPy` functions (except correlation functions\n",
    "which are not multiplied by $1/N$) accept a `ddof=` (degrees of freedom)\n",
    "argument to perform a sample based calculation."
   ]
  },
  {
   "cell_type": "code",
   "execution_count": 2,
   "metadata": {},
   "outputs": [
    {
     "data": {
      "text/plain": [
       "(array([ 0,  1,  2,  3,  4,  5,  6,  7,  8,  9, 10, 11, 12, 13, 14, 15, 16,\n",
       "        17, 18, 19, 20, 21, 22, 23, 24, 25, 26, 27, 28, 29]),\n",
       " array([ -0.18833323,   0.75605901,   1.03884605,   2.85833667,\n",
       "          3.01055911,   4.87843583,   5.31359384,   6.58122585,\n",
       "          7.76807574,   8.3057505 ,   9.8443631 ,  10.38004517,\n",
       "         11.36732447,  12.07538497,  13.13821922,  14.99367959,\n",
       "         15.89848577,  16.73987686,  17.89608291,  18.82537819,\n",
       "         19.05326147,  20.5604456 ,  21.28803787,  22.32258604,\n",
       "         23.51468229,  24.77536548,  25.12516349,  26.08328785,\n",
       "         27.62128403,  28.58855775]),\n",
       " array([ -0.39952892,   0.37582533,   1.56367317,   2.22137946,\n",
       "          3.51960286,   4.17735475,   5.31802792,   6.71633429,\n",
       "          7.84282861,   8.07969902,   9.22986308,  10.89834795,\n",
       "         11.38614135,  12.97500493,  13.5845624 ,  14.53869749,\n",
       "         15.79740982,  16.75491254,  17.94308249,  18.85272326,\n",
       "         19.89039093,  20.36970084,  21.17792081,  22.34226707,\n",
       "         23.35614011,  24.6073635 ,  25.64708038,  26.13404674,\n",
       "         27.27992477,  28.88473747]))"
      ]
     },
     "execution_count": 2,
     "metadata": {},
     "output_type": "execute_result"
    }
   ],
   "source": [
    "arr = np.arange(30)\n",
    "acv = np.arange(30) + np.random.rand(30) - 1\n",
    "acr = np.arange(30) + np.random.rand(30) - 1\n",
    "arr, acv, acr"
   ]
  },
  {
   "cell_type": "code",
   "execution_count": 3,
   "metadata": {},
   "outputs": [
    {
     "name": "stdout",
     "output_type": "stream",
     "text": [
      "14.5\n",
      "14.5\n"
     ]
    }
   ],
   "source": [
    "print(arr.mean())\n",
    "print(arr.sum() / len(arr))  # implementaion by hand"
   ]
  },
  {
   "cell_type": "code",
   "execution_count": 4,
   "metadata": {},
   "outputs": [
    {
     "name": "stdout",
     "output_type": "stream",
     "text": [
      "8.6554414484\n",
      "8.80340843083\n"
     ]
    }
   ],
   "source": [
    "print(arr.std())\n",
    "print(np.std(arr, ddof=1))"
   ]
  },
  {
   "cell_type": "code",
   "execution_count": 5,
   "metadata": {},
   "outputs": [
    {
     "name": "stdout",
     "output_type": "stream",
     "text": [
      "74.9166666667\n",
      "77.5\n"
     ]
    }
   ],
   "source": [
    "print(arr.var())\n",
    "print(arr.var(ddof=1))"
   ]
  },
  {
   "cell_type": "code",
   "execution_count": 6,
   "metadata": {},
   "outputs": [
    {
     "name": "stdout",
     "output_type": "stream",
     "text": [
      "[[ 74.91666667  74.61993322]\n",
      " [ 74.61993322  74.42015669]]\n",
      "[[ 77.5         77.19303437]\n",
      " [ 77.19303437  76.98636899]]\n"
     ]
    }
   ],
   "source": [
    "print(np.cov([arr, acv], ddof=0))\n",
    "print(np.cov([arr, acv], ddof=1))"
   ]
  },
  {
   "cell_type": "code",
   "execution_count": 7,
   "metadata": {},
   "outputs": [
    {
     "name": "stdout",
     "output_type": "stream",
     "text": [
      "[[ 1.          0.99935627  0.99952096]\n",
      " [ 0.99935627  1.          0.99894446]\n",
      " [ 0.99952096  0.99894446  1.        ]]\n",
      "(0.99935627364748081, 5.1171239494027857e-42)\n",
      "(0.99894446186467312, 5.1851041196312409e-39)\n",
      "(0.99952095688598197, 8.1825058817419931e-44)\n"
     ]
    }
   ],
   "source": [
    "print(np.corrcoef([arr, acv, acr]))\n",
    "print(stats.pearsonr(arr, acv))\n",
    "print(stats.pearsonr(acv, acr))\n",
    "print(stats.pearsonr(arr, acr))"
   ]
  }
 ],
 "metadata": {
  "anaconda-cloud": {},
  "kernelspec": {
   "display_name": "Python 3",
   "language": "python",
   "name": "python3"
  },
  "language_info": {
   "codemirror_mode": {
    "name": "ipython",
    "version": 3
   },
   "file_extension": ".py",
   "mimetype": "text/x-python",
   "name": "python",
   "nbconvert_exporter": "python",
   "pygments_lexer": "ipython3",
   "version": "3.6.3"
  }
 },
 "nbformat": 4,
 "nbformat_minor": 1
}
