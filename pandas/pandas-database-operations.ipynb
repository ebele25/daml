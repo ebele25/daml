{
 "cells": [
  {
   "cell_type": "markdown",
   "metadata": {},
   "source": [
    "# DAML 03 - Pandas Indexes as Dimensions\n",
    "\n",
    "Michal Grochmal <michal.grochmal@city.ac.uk>\n",
    "\n",
    "Indexes in `pandas` do much more than enumarating that rows of a series or data frame.\n",
    "An index can hold a list of values as the index of a certain element, in other words\n",
    "we can have a combination of values as the index, a multi-index.  Column names are also\n",
    "an index and can be multi-valued as well.\n",
    "\n",
    "If rows and columns are indexed in the same way we can exchange the row (index) labels\n",
    "with column labels and reposition data appropriatelly.  Morovoer, if several values are\n",
    "used to index a row or column we can exchnage only some of the values between rows and\n",
    "columns, or vice-versa.  That sounds horribly complicated but it is actually a common tasks\n",
    "within databases, notably data warehouses.  The operation of changing lables between rows\n",
    "and columns whilst reordering the data accordingly is called **pivoting** or **crosstabbing**\n",
    "in database jargon.  Database software extensions often provide pivot/crosstab operations.\n",
    "\n",
    "`pandas` provide several ways to pivot columns and rows, we will see some examples next.\n",
    "The most important point of the pivot operation is the fact that we can represent several\n",
    "dimensions in a smaller number of dimensions by labeling data with combinations of values.\n",
    "Just like we can represent a function of the type $f(x, y) = z$ by either storing a\n",
    "2-dimensional grid of $x$ and $y$ points mapping to values of $z$; or by builing a long\n",
    "1-dimensional list of points of the form $(x, y)$ and mapping it to the $z$ values."
   ]
  },
  {
   "cell_type": "code",
   "execution_count": null,
   "metadata": {
    "ExecuteTime": {
     "end_time": "2017-05-10T11:14:24.087336Z",
     "start_time": "2017-05-10T12:14:23.438294+01:00"
    },
    "collapsed": true,
    "slideshow": {
     "slide_type": "skip"
    }
   },
   "outputs": [],
   "source": [
    "%matplotlib inline\n",
    "import numpy as np\n",
    "import matplotlib.pyplot as plt\n",
    "import matplotlib as mpl\n",
    "plt.style.use('seaborn-whitegrid')\n",
    "mpl.rcParams['figure.figsize'] = (12.5, 6.0)\n",
    "import pandas as pd\n",
    "pd.options.display.max_rows = 12"
   ]
  },
  {
   "cell_type": "code",
   "execution_count": null,
   "metadata": {
    "collapsed": true
   },
   "outputs": [],
   "source": [
    "country = ['Northern Ireland', 'Scotland', 'Wales', 'England', 'Isle of Man']\n",
    "capital = ['Belfast', 'Edinburgh', 'Cardiff', 'London', 'Douglas']\n",
    "area = [14130, 77933, 20779, 130279, 572]\n",
    "population2017 = [1876695, 5404700, np.nan, 55268100, np.nan]\n",
    "population2011 = [1810863, 5313600, 3063456, 53012456, 83314]\n",
    "uk_area = pd.Series(area, index=country)\n",
    "uk_area.sort_index(inplace=True)\n",
    "array = np.array([area, capital, population2011, population2017]).T\n",
    "data = pd.DataFrame({'capital': capital,\n",
    "                     'area': area,\n",
    "                     'population 2011': population2011,\n",
    "                     'population 2017': population2017},\n",
    "                    index=country)\n",
    "data.sort_index(inplace=True)\n",
    "data"
   ]
  },
  {
   "cell_type": "code",
   "execution_count": null,
   "metadata": {
    "collapsed": true
   },
   "outputs": [],
   "source": [
    "pop = data[['population 2011', 'population 2017']]\n",
    "pop.columns = [2011, 2017]\n",
    "pop"
   ]
  },
  {
   "cell_type": "code",
   "execution_count": null,
   "metadata": {
    "collapsed": true
   },
   "outputs": [],
   "source": [
    "pop_year = pop.stack()\n",
    "pop_year"
   ]
  },
  {
   "cell_type": "code",
   "execution_count": null,
   "metadata": {
    "collapsed": true
   },
   "outputs": [],
   "source": [
    "pop_year['England']"
   ]
  },
  {
   "cell_type": "code",
   "execution_count": null,
   "metadata": {
    "collapsed": true
   },
   "outputs": [],
   "source": [
    "pop_year[('England', 2011)]"
   ]
  },
  {
   "cell_type": "code",
   "execution_count": null,
   "metadata": {
    "collapsed": true
   },
   "outputs": [],
   "source": [
    "pop_year[:, 2017]"
   ]
  },
  {
   "cell_type": "code",
   "execution_count": null,
   "metadata": {
    "collapsed": true
   },
   "outputs": [],
   "source": [
    "pop_year.unstack()"
   ]
  },
  {
   "cell_type": "code",
   "execution_count": null,
   "metadata": {
    "collapsed": true
   },
   "outputs": [],
   "source": [
    "pop.index.name = 'country'\n",
    "pop_full = pop.reset_index()\n",
    "pop_full"
   ]
  },
  {
   "cell_type": "code",
   "execution_count": null,
   "metadata": {
    "collapsed": true
   },
   "outputs": [],
   "source": [
    "pop_melt = pop_full.melt(id_vars=['country'], var_name='year')\n",
    "pop_melt"
   ]
  },
  {
   "cell_type": "code",
   "execution_count": null,
   "metadata": {
    "collapsed": true
   },
   "outputs": [],
   "source": [
    "pop_full = pop_melt.pivot(index='country', columns='year', values='value')\n",
    "pop_full"
   ]
  },
  {
   "cell_type": "code",
   "execution_count": null,
   "metadata": {
    "collapsed": true
   },
   "outputs": [],
   "source": [
    "pop_agg = pop_melt.pivot_table(index='country', aggfunc=[np.mean, lambda x: np.sum(~np.isnan(x))])\n",
    "pop_agg"
   ]
  },
  {
   "cell_type": "code",
   "execution_count": null,
   "metadata": {
    "collapsed": true
   },
   "outputs": [],
   "source": [
    "pop_agg.columns = ['mean', 'not null']\n",
    "pop_agg"
   ]
  }
 ],
 "metadata": {
  "anaconda-cloud": {},
  "kernelspec": {
   "display_name": "Python 3",
   "language": "python",
   "name": "python3"
  },
  "language_info": {
   "codemirror_mode": {
    "name": "ipython",
    "version": 3
   },
   "file_extension": ".py",
   "mimetype": "text/x-python",
   "name": "python",
   "nbconvert_exporter": "python",
   "pygments_lexer": "ipython3",
   "version": "3.6.3"
  }
 },
 "nbformat": 4,
 "nbformat_minor": 1
}
