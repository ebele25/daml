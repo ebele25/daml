{
 "cells": [
  {
   "cell_type": "markdown",
   "metadata": {},
   "source": [
    "# DAML 04 - Pandas Indexes as Dimensions\n",
    "\n",
    "Michal Grochmal <michal.grochmal@city.ac.uk>"
   ]
  },
  {
   "cell_type": "markdown",
   "metadata": {},
   "source": [
    "Indexes in `pandas` do much more than enumerating the rows of a series or data frame.\n",
    "An index can hold a list of values as the index of a certain element, in other words\n",
    "we can have a combination of values as the index, a multi-index.  Column names are also\n",
    "an index and can be multi-valued as well.\n",
    "\n",
    "Let's pick the numeric columns from our British Isles data frame and *stack* them\n",
    "together into a multiple index."
   ]
  },
  {
   "cell_type": "code",
   "execution_count": 1,
   "metadata": {
    "ExecuteTime": {
     "end_time": "2017-05-10T11:14:24.087336Z",
     "start_time": "2017-05-10T12:14:23.438294+01:00"
    },
    "collapsed": true,
    "slideshow": {
     "slide_type": "skip"
    }
   },
   "outputs": [],
   "source": [
    "import numpy as np\n",
    "import pandas as pd\n",
    "pd.options.display.max_rows = 12"
   ]
  },
  {
   "cell_type": "code",
   "execution_count": 2,
   "metadata": {},
   "outputs": [
    {
     "data": {
      "text/html": [
       "<div>\n",
       "<style scoped>\n",
       "    .dataframe tbody tr th:only-of-type {\n",
       "        vertical-align: middle;\n",
       "    }\n",
       "\n",
       "    .dataframe tbody tr th {\n",
       "        vertical-align: top;\n",
       "    }\n",
       "\n",
       "    .dataframe thead th {\n",
       "        text-align: right;\n",
       "    }\n",
       "</style>\n",
       "<table border=\"1\" class=\"dataframe\">\n",
       "  <thead>\n",
       "    <tr style=\"text-align: right;\">\n",
       "      <th></th>\n",
       "      <th>area</th>\n",
       "      <th>capital</th>\n",
       "      <th>population 2011</th>\n",
       "      <th>population 2017</th>\n",
       "    </tr>\n",
       "  </thead>\n",
       "  <tbody>\n",
       "    <tr>\n",
       "      <th>England</th>\n",
       "      <td>130279</td>\n",
       "      <td>London</td>\n",
       "      <td>53012456</td>\n",
       "      <td>55268100.0</td>\n",
       "    </tr>\n",
       "    <tr>\n",
       "      <th>Isle of Man</th>\n",
       "      <td>572</td>\n",
       "      <td>Douglas</td>\n",
       "      <td>83314</td>\n",
       "      <td>NaN</td>\n",
       "    </tr>\n",
       "    <tr>\n",
       "      <th>Northern Ireland</th>\n",
       "      <td>14130</td>\n",
       "      <td>Belfast</td>\n",
       "      <td>1810863</td>\n",
       "      <td>1876695.0</td>\n",
       "    </tr>\n",
       "    <tr>\n",
       "      <th>Scotland</th>\n",
       "      <td>77933</td>\n",
       "      <td>Edinburgh</td>\n",
       "      <td>5313600</td>\n",
       "      <td>5404700.0</td>\n",
       "    </tr>\n",
       "    <tr>\n",
       "      <th>Wales</th>\n",
       "      <td>20779</td>\n",
       "      <td>Cardiff</td>\n",
       "      <td>3063456</td>\n",
       "      <td>NaN</td>\n",
       "    </tr>\n",
       "  </tbody>\n",
       "</table>\n",
       "</div>"
      ],
      "text/plain": [
       "                    area    capital  population 2011  population 2017\n",
       "England           130279     London         53012456       55268100.0\n",
       "Isle of Man          572    Douglas            83314              NaN\n",
       "Northern Ireland   14130    Belfast          1810863        1876695.0\n",
       "Scotland           77933  Edinburgh          5313600        5404700.0\n",
       "Wales              20779    Cardiff          3063456              NaN"
      ]
     },
     "execution_count": 2,
     "metadata": {},
     "output_type": "execute_result"
    }
   ],
   "source": [
    "country = ['Northern Ireland', 'Scotland', 'Wales', 'England', 'Isle of Man']\n",
    "capital = ['Belfast', 'Edinburgh', 'Cardiff', 'London', 'Douglas']\n",
    "area = np.array([14130, 77933, 20779, 130279, 572])\n",
    "population2017 = np.array([1876695, 5404700, np.nan, 55268100, np.nan])\n",
    "population2011 = np.array([1810863, 5313600, 3063456, 53012456, 83314])\n",
    "data = pd.DataFrame({'capital': capital,\n",
    "                     'area': area,\n",
    "                     'population 2011': population2011,\n",
    "                     'population 2017': population2017},\n",
    "                    index=country).sort_index()\n",
    "data"
   ]
  },
  {
   "cell_type": "code",
   "execution_count": 3,
   "metadata": {},
   "outputs": [
    {
     "data": {
      "text/html": [
       "<div>\n",
       "<style scoped>\n",
       "    .dataframe tbody tr th:only-of-type {\n",
       "        vertical-align: middle;\n",
       "    }\n",
       "\n",
       "    .dataframe tbody tr th {\n",
       "        vertical-align: top;\n",
       "    }\n",
       "\n",
       "    .dataframe thead th {\n",
       "        text-align: right;\n",
       "    }\n",
       "</style>\n",
       "<table border=\"1\" class=\"dataframe\">\n",
       "  <thead>\n",
       "    <tr style=\"text-align: right;\">\n",
       "      <th></th>\n",
       "      <th>2011</th>\n",
       "      <th>2017</th>\n",
       "    </tr>\n",
       "  </thead>\n",
       "  <tbody>\n",
       "    <tr>\n",
       "      <th>England</th>\n",
       "      <td>53012456</td>\n",
       "      <td>55268100.0</td>\n",
       "    </tr>\n",
       "    <tr>\n",
       "      <th>Isle of Man</th>\n",
       "      <td>83314</td>\n",
       "      <td>NaN</td>\n",
       "    </tr>\n",
       "    <tr>\n",
       "      <th>Northern Ireland</th>\n",
       "      <td>1810863</td>\n",
       "      <td>1876695.0</td>\n",
       "    </tr>\n",
       "    <tr>\n",
       "      <th>Scotland</th>\n",
       "      <td>5313600</td>\n",
       "      <td>5404700.0</td>\n",
       "    </tr>\n",
       "    <tr>\n",
       "      <th>Wales</th>\n",
       "      <td>3063456</td>\n",
       "      <td>NaN</td>\n",
       "    </tr>\n",
       "  </tbody>\n",
       "</table>\n",
       "</div>"
      ],
      "text/plain": [
       "                      2011        2017\n",
       "England           53012456  55268100.0\n",
       "Isle of Man          83314         NaN\n",
       "Northern Ireland   1810863   1876695.0\n",
       "Scotland           5313600   5404700.0\n",
       "Wales              3063456         NaN"
      ]
     },
     "execution_count": 3,
     "metadata": {},
     "output_type": "execute_result"
    }
   ],
   "source": [
    "pop = data[['population 2011', 'population 2017']]\n",
    "pop.columns = [2011, 2017]\n",
    "pop"
   ]
  },
  {
   "cell_type": "markdown",
   "metadata": {},
   "source": [
    "We also renamed the columns to 2011 and 2017 to make examples shorter.\n",
    "\n",
    "Now we stack, and we get a `Series` with a double valued index."
   ]
  },
  {
   "cell_type": "code",
   "execution_count": 4,
   "metadata": {},
   "outputs": [
    {
     "data": {
      "text/plain": [
       "England           2011    53012456.0\n",
       "                  2017    55268100.0\n",
       "Isle of Man       2011       83314.0\n",
       "Northern Ireland  2011     1810863.0\n",
       "                  2017     1876695.0\n",
       "Scotland          2011     5313600.0\n",
       "                  2017     5404700.0\n",
       "Wales             2011     3063456.0\n",
       "dtype: float64"
      ]
     },
     "execution_count": 4,
     "metadata": {},
     "output_type": "execute_result"
    }
   ],
   "source": [
    "pop_year = pop.stack()\n",
    "pop_year"
   ]
  },
  {
   "cell_type": "markdown",
   "metadata": {},
   "source": [
    "Selecting only one part of the index provides a single indexed data frame,\n",
    "which may contain more than one value."
   ]
  },
  {
   "cell_type": "code",
   "execution_count": 5,
   "metadata": {},
   "outputs": [
    {
     "data": {
      "text/plain": [
       "2011    53012456.0\n",
       "2017    55268100.0\n",
       "dtype: float64"
      ]
     },
     "execution_count": 5,
     "metadata": {},
     "output_type": "execute_result"
    }
   ],
   "source": [
    "pop_year['England']"
   ]
  },
  {
   "cell_type": "markdown",
   "metadata": {},
   "source": [
    "To get a single value we select a combined index value.\n",
    "Note that the tuple syntax is not necessary for `Series`\n",
    "but may be needed for data frames."
   ]
  },
  {
   "cell_type": "code",
   "execution_count": 6,
   "metadata": {},
   "outputs": [
    {
     "data": {
      "text/plain": [
       "53012456.0"
      ]
     },
     "execution_count": 6,
     "metadata": {},
     "output_type": "execute_result"
    }
   ],
   "source": [
    "pop_year[('England', 2011)]"
   ]
  },
  {
   "cell_type": "markdown",
   "metadata": {},
   "source": [
    "The slicing operators allow us to select parts of the index.\n",
    "For example, all places that do have data for 2017."
   ]
  },
  {
   "cell_type": "code",
   "execution_count": 7,
   "metadata": {},
   "outputs": [
    {
     "data": {
      "text/plain": [
       "England             55268100.0\n",
       "Northern Ireland     1876695.0\n",
       "Scotland             5404700.0\n",
       "dtype: float64"
      ]
     },
     "execution_count": 7,
     "metadata": {},
     "output_type": "execute_result"
    }
   ],
   "source": [
    "pop_year[:, 2017]"
   ]
  },
  {
   "cell_type": "markdown",
   "metadata": {},
   "source": [
    "By *unstacking* we get back the data frame."
   ]
  },
  {
   "cell_type": "code",
   "execution_count": 8,
   "metadata": {},
   "outputs": [
    {
     "data": {
      "text/html": [
       "<div>\n",
       "<style scoped>\n",
       "    .dataframe tbody tr th:only-of-type {\n",
       "        vertical-align: middle;\n",
       "    }\n",
       "\n",
       "    .dataframe tbody tr th {\n",
       "        vertical-align: top;\n",
       "    }\n",
       "\n",
       "    .dataframe thead th {\n",
       "        text-align: right;\n",
       "    }\n",
       "</style>\n",
       "<table border=\"1\" class=\"dataframe\">\n",
       "  <thead>\n",
       "    <tr style=\"text-align: right;\">\n",
       "      <th></th>\n",
       "      <th>2011</th>\n",
       "      <th>2017</th>\n",
       "    </tr>\n",
       "  </thead>\n",
       "  <tbody>\n",
       "    <tr>\n",
       "      <th>England</th>\n",
       "      <td>53012456.0</td>\n",
       "      <td>55268100.0</td>\n",
       "    </tr>\n",
       "    <tr>\n",
       "      <th>Isle of Man</th>\n",
       "      <td>83314.0</td>\n",
       "      <td>NaN</td>\n",
       "    </tr>\n",
       "    <tr>\n",
       "      <th>Northern Ireland</th>\n",
       "      <td>1810863.0</td>\n",
       "      <td>1876695.0</td>\n",
       "    </tr>\n",
       "    <tr>\n",
       "      <th>Scotland</th>\n",
       "      <td>5313600.0</td>\n",
       "      <td>5404700.0</td>\n",
       "    </tr>\n",
       "    <tr>\n",
       "      <th>Wales</th>\n",
       "      <td>3063456.0</td>\n",
       "      <td>NaN</td>\n",
       "    </tr>\n",
       "  </tbody>\n",
       "</table>\n",
       "</div>"
      ],
      "text/plain": [
       "                        2011        2017\n",
       "England           53012456.0  55268100.0\n",
       "Isle of Man          83314.0         NaN\n",
       "Northern Ireland   1810863.0   1876695.0\n",
       "Scotland           5313600.0   5404700.0\n",
       "Wales              3063456.0         NaN"
      ]
     },
     "execution_count": 8,
     "metadata": {},
     "output_type": "execute_result"
    }
   ],
   "source": [
    "pop_year.unstack()"
   ]
  },
  {
   "cell_type": "markdown",
   "metadata": {},
   "source": [
    "## Indexes on Data Frames\n",
    "\n",
    "If rows and columns are indexed in the same way we can exchange the row\n",
    "(index) labels with column labels and reposition data appropriately.\n",
    "Moreover, if several values are used to index a row or column we can exchange\n",
    "only some of the values between rows and columns, or vice-versa.\n",
    "That sounds horribly complicated but it is actually a common task within databases,\n",
    "notably data warehouses.\n",
    "The operation of changing labels between rows and columns whilst reordering the data\n",
    "accordingly is called **pivoting** or **crosstabbing** in database jargon.\n",
    "Database software extensions often provide pivot or crosstab operations.\n",
    "\n",
    "Before we attempt pivoting let's try to move the index into the data frame itself."
   ]
  },
  {
   "cell_type": "code",
   "execution_count": 9,
   "metadata": {},
   "outputs": [
    {
     "data": {
      "text/html": [
       "<div>\n",
       "<style scoped>\n",
       "    .dataframe tbody tr th:only-of-type {\n",
       "        vertical-align: middle;\n",
       "    }\n",
       "\n",
       "    .dataframe tbody tr th {\n",
       "        vertical-align: top;\n",
       "    }\n",
       "\n",
       "    .dataframe thead th {\n",
       "        text-align: right;\n",
       "    }\n",
       "</style>\n",
       "<table border=\"1\" class=\"dataframe\">\n",
       "  <thead>\n",
       "    <tr style=\"text-align: right;\">\n",
       "      <th></th>\n",
       "      <th>country</th>\n",
       "      <th>2011</th>\n",
       "      <th>2017</th>\n",
       "    </tr>\n",
       "  </thead>\n",
       "  <tbody>\n",
       "    <tr>\n",
       "      <th>0</th>\n",
       "      <td>England</td>\n",
       "      <td>53012456</td>\n",
       "      <td>55268100.0</td>\n",
       "    </tr>\n",
       "    <tr>\n",
       "      <th>1</th>\n",
       "      <td>Isle of Man</td>\n",
       "      <td>83314</td>\n",
       "      <td>NaN</td>\n",
       "    </tr>\n",
       "    <tr>\n",
       "      <th>2</th>\n",
       "      <td>Northern Ireland</td>\n",
       "      <td>1810863</td>\n",
       "      <td>1876695.0</td>\n",
       "    </tr>\n",
       "    <tr>\n",
       "      <th>3</th>\n",
       "      <td>Scotland</td>\n",
       "      <td>5313600</td>\n",
       "      <td>5404700.0</td>\n",
       "    </tr>\n",
       "    <tr>\n",
       "      <th>4</th>\n",
       "      <td>Wales</td>\n",
       "      <td>3063456</td>\n",
       "      <td>NaN</td>\n",
       "    </tr>\n",
       "  </tbody>\n",
       "</table>\n",
       "</div>"
      ],
      "text/plain": [
       "            country      2011        2017\n",
       "0           England  53012456  55268100.0\n",
       "1       Isle of Man     83314         NaN\n",
       "2  Northern Ireland   1810863   1876695.0\n",
       "3          Scotland   5313600   5404700.0\n",
       "4             Wales   3063456         NaN"
      ]
     },
     "execution_count": 9,
     "metadata": {},
     "output_type": "execute_result"
    }
   ],
   "source": [
    "pop.index.name = 'country'\n",
    "pop_full = pop.reset_index()\n",
    "pop_full"
   ]
  },
  {
   "cell_type": "markdown",
   "metadata": {},
   "source": [
    "We moved the index into a column, good.\n",
    "But since the columns are an index too we can move them into the data frame too."
   ]
  },
  {
   "cell_type": "code",
   "execution_count": 10,
   "metadata": {},
   "outputs": [
    {
     "data": {
      "text/html": [
       "<div>\n",
       "<style scoped>\n",
       "    .dataframe tbody tr th:only-of-type {\n",
       "        vertical-align: middle;\n",
       "    }\n",
       "\n",
       "    .dataframe tbody tr th {\n",
       "        vertical-align: top;\n",
       "    }\n",
       "\n",
       "    .dataframe thead th {\n",
       "        text-align: right;\n",
       "    }\n",
       "</style>\n",
       "<table border=\"1\" class=\"dataframe\">\n",
       "  <thead>\n",
       "    <tr style=\"text-align: right;\">\n",
       "      <th></th>\n",
       "      <th>country</th>\n",
       "      <th>year</th>\n",
       "      <th>value</th>\n",
       "    </tr>\n",
       "  </thead>\n",
       "  <tbody>\n",
       "    <tr>\n",
       "      <th>0</th>\n",
       "      <td>England</td>\n",
       "      <td>2011</td>\n",
       "      <td>53012456.0</td>\n",
       "    </tr>\n",
       "    <tr>\n",
       "      <th>1</th>\n",
       "      <td>Isle of Man</td>\n",
       "      <td>2011</td>\n",
       "      <td>83314.0</td>\n",
       "    </tr>\n",
       "    <tr>\n",
       "      <th>2</th>\n",
       "      <td>Northern Ireland</td>\n",
       "      <td>2011</td>\n",
       "      <td>1810863.0</td>\n",
       "    </tr>\n",
       "    <tr>\n",
       "      <th>3</th>\n",
       "      <td>Scotland</td>\n",
       "      <td>2011</td>\n",
       "      <td>5313600.0</td>\n",
       "    </tr>\n",
       "    <tr>\n",
       "      <th>4</th>\n",
       "      <td>Wales</td>\n",
       "      <td>2011</td>\n",
       "      <td>3063456.0</td>\n",
       "    </tr>\n",
       "    <tr>\n",
       "      <th>5</th>\n",
       "      <td>England</td>\n",
       "      <td>2017</td>\n",
       "      <td>55268100.0</td>\n",
       "    </tr>\n",
       "    <tr>\n",
       "      <th>6</th>\n",
       "      <td>Isle of Man</td>\n",
       "      <td>2017</td>\n",
       "      <td>NaN</td>\n",
       "    </tr>\n",
       "    <tr>\n",
       "      <th>7</th>\n",
       "      <td>Northern Ireland</td>\n",
       "      <td>2017</td>\n",
       "      <td>1876695.0</td>\n",
       "    </tr>\n",
       "    <tr>\n",
       "      <th>8</th>\n",
       "      <td>Scotland</td>\n",
       "      <td>2017</td>\n",
       "      <td>5404700.0</td>\n",
       "    </tr>\n",
       "    <tr>\n",
       "      <th>9</th>\n",
       "      <td>Wales</td>\n",
       "      <td>2017</td>\n",
       "      <td>NaN</td>\n",
       "    </tr>\n",
       "  </tbody>\n",
       "</table>\n",
       "</div>"
      ],
      "text/plain": [
       "            country  year       value\n",
       "0           England  2011  53012456.0\n",
       "1       Isle of Man  2011     83314.0\n",
       "2  Northern Ireland  2011   1810863.0\n",
       "3          Scotland  2011   5313600.0\n",
       "4             Wales  2011   3063456.0\n",
       "5           England  2017  55268100.0\n",
       "6       Isle of Man  2017         NaN\n",
       "7  Northern Ireland  2017   1876695.0\n",
       "8          Scotland  2017   5404700.0\n",
       "9             Wales  2017         NaN"
      ]
     },
     "execution_count": 10,
     "metadata": {},
     "output_type": "execute_result"
    }
   ],
   "source": [
    "pop_melt = pop_full.melt(id_vars=['country'], var_name='year')\n",
    "pop_melt"
   ]
  },
  {
   "cell_type": "markdown",
   "metadata": {},
   "source": [
    "Melting a data frame produces spread data,\n",
    "i.e. we see the same data as before but instead of looking through a row and column\n",
    "we look at a combination of columns in a row to understand what the \"value\" means.\n",
    "\n",
    "The *pivot* operation is the opposite of melting.\n",
    "We build meaningful columns from the data in the rows."
   ]
  },
  {
   "cell_type": "code",
   "execution_count": 11,
   "metadata": {},
   "outputs": [
    {
     "data": {
      "text/html": [
       "<div>\n",
       "<style scoped>\n",
       "    .dataframe tbody tr th:only-of-type {\n",
       "        vertical-align: middle;\n",
       "    }\n",
       "\n",
       "    .dataframe tbody tr th {\n",
       "        vertical-align: top;\n",
       "    }\n",
       "\n",
       "    .dataframe thead th {\n",
       "        text-align: right;\n",
       "    }\n",
       "</style>\n",
       "<table border=\"1\" class=\"dataframe\">\n",
       "  <thead>\n",
       "    <tr style=\"text-align: right;\">\n",
       "      <th>year</th>\n",
       "      <th>2011</th>\n",
       "      <th>2017</th>\n",
       "    </tr>\n",
       "    <tr>\n",
       "      <th>country</th>\n",
       "      <th></th>\n",
       "      <th></th>\n",
       "    </tr>\n",
       "  </thead>\n",
       "  <tbody>\n",
       "    <tr>\n",
       "      <th>England</th>\n",
       "      <td>53012456.0</td>\n",
       "      <td>55268100.0</td>\n",
       "    </tr>\n",
       "    <tr>\n",
       "      <th>Isle of Man</th>\n",
       "      <td>83314.0</td>\n",
       "      <td>NaN</td>\n",
       "    </tr>\n",
       "    <tr>\n",
       "      <th>Northern Ireland</th>\n",
       "      <td>1810863.0</td>\n",
       "      <td>1876695.0</td>\n",
       "    </tr>\n",
       "    <tr>\n",
       "      <th>Scotland</th>\n",
       "      <td>5313600.0</td>\n",
       "      <td>5404700.0</td>\n",
       "    </tr>\n",
       "    <tr>\n",
       "      <th>Wales</th>\n",
       "      <td>3063456.0</td>\n",
       "      <td>NaN</td>\n",
       "    </tr>\n",
       "  </tbody>\n",
       "</table>\n",
       "</div>"
      ],
      "text/plain": [
       "year                    2011        2017\n",
       "country                                 \n",
       "England           53012456.0  55268100.0\n",
       "Isle of Man          83314.0         NaN\n",
       "Northern Ireland   1810863.0   1876695.0\n",
       "Scotland           5313600.0   5404700.0\n",
       "Wales              3063456.0         NaN"
      ]
     },
     "execution_count": 11,
     "metadata": {},
     "output_type": "execute_result"
    }
   ],
   "source": [
    "pop_full = pop_melt.pivot(index='country', columns='year', values='value')\n",
    "pop_full"
   ]
  },
  {
   "cell_type": "markdown",
   "metadata": {},
   "source": [
    "Pivoting can be powerful,\n",
    "not only it can build new columns but it can aggregate the resulting values.\n",
    "In `pandas` the `pivot_table` method accept aggregations.\n",
    "We can output a mean and keep the number of values from which the mean was taken from."
   ]
  },
  {
   "cell_type": "code",
   "execution_count": 12,
   "metadata": {},
   "outputs": [
    {
     "data": {
      "text/html": [
       "<div>\n",
       "<style scoped>\n",
       "    .dataframe tbody tr th:only-of-type {\n",
       "        vertical-align: middle;\n",
       "    }\n",
       "\n",
       "    .dataframe tbody tr th {\n",
       "        vertical-align: top;\n",
       "    }\n",
       "\n",
       "    .dataframe thead tr th {\n",
       "        text-align: left;\n",
       "    }\n",
       "\n",
       "    .dataframe thead tr:last-of-type th {\n",
       "        text-align: right;\n",
       "    }\n",
       "</style>\n",
       "<table border=\"1\" class=\"dataframe\">\n",
       "  <thead>\n",
       "    <tr>\n",
       "      <th></th>\n",
       "      <th>mean</th>\n",
       "      <th>&lt;lambda&gt;</th>\n",
       "      <th>amax</th>\n",
       "      <th>amin</th>\n",
       "    </tr>\n",
       "    <tr>\n",
       "      <th></th>\n",
       "      <th>value</th>\n",
       "      <th>value</th>\n",
       "      <th>value</th>\n",
       "      <th>value</th>\n",
       "    </tr>\n",
       "    <tr>\n",
       "      <th>country</th>\n",
       "      <th></th>\n",
       "      <th></th>\n",
       "      <th></th>\n",
       "      <th></th>\n",
       "    </tr>\n",
       "  </thead>\n",
       "  <tbody>\n",
       "    <tr>\n",
       "      <th>England</th>\n",
       "      <td>54140278.0</td>\n",
       "      <td>2.0</td>\n",
       "      <td>55268100.0</td>\n",
       "      <td>53012456.0</td>\n",
       "    </tr>\n",
       "    <tr>\n",
       "      <th>Isle of Man</th>\n",
       "      <td>83314.0</td>\n",
       "      <td>1.0</td>\n",
       "      <td>83314.0</td>\n",
       "      <td>83314.0</td>\n",
       "    </tr>\n",
       "    <tr>\n",
       "      <th>Northern Ireland</th>\n",
       "      <td>1843779.0</td>\n",
       "      <td>2.0</td>\n",
       "      <td>1876695.0</td>\n",
       "      <td>1810863.0</td>\n",
       "    </tr>\n",
       "    <tr>\n",
       "      <th>Scotland</th>\n",
       "      <td>5359150.0</td>\n",
       "      <td>2.0</td>\n",
       "      <td>5404700.0</td>\n",
       "      <td>5313600.0</td>\n",
       "    </tr>\n",
       "    <tr>\n",
       "      <th>Wales</th>\n",
       "      <td>3063456.0</td>\n",
       "      <td>1.0</td>\n",
       "      <td>3063456.0</td>\n",
       "      <td>3063456.0</td>\n",
       "    </tr>\n",
       "  </tbody>\n",
       "</table>\n",
       "</div>"
      ],
      "text/plain": [
       "                        mean <lambda>        amax        amin\n",
       "                       value    value       value       value\n",
       "country                                                      \n",
       "England           54140278.0      2.0  55268100.0  53012456.0\n",
       "Isle of Man          83314.0      1.0     83314.0     83314.0\n",
       "Northern Ireland   1843779.0      2.0   1876695.0   1810863.0\n",
       "Scotland           5359150.0      2.0   5404700.0   5313600.0\n",
       "Wales              3063456.0      1.0   3063456.0   3063456.0"
      ]
     },
     "execution_count": 12,
     "metadata": {},
     "output_type": "execute_result"
    }
   ],
   "source": [
    "pop_agg = pop_melt[['country', 'value']].pivot_table(\n",
    "    index='country', aggfunc=[np.mean, lambda x: np.sum(~np.isnan(x)), np.max, np.min])\n",
    "pop_agg"
   ]
  },
  {
   "cell_type": "markdown",
   "metadata": {},
   "source": [
    "There is a side effect here.\n",
    "Since we may aggregate on more than a single column at once we get a multi-index\n",
    "on the columns.  Since we do not need it for this case we name the columns ourselves."
   ]
  },
  {
   "cell_type": "code",
   "execution_count": 13,
   "metadata": {},
   "outputs": [
    {
     "data": {
      "text/html": [
       "<div>\n",
       "<style scoped>\n",
       "    .dataframe tbody tr th:only-of-type {\n",
       "        vertical-align: middle;\n",
       "    }\n",
       "\n",
       "    .dataframe tbody tr th {\n",
       "        vertical-align: top;\n",
       "    }\n",
       "\n",
       "    .dataframe thead th {\n",
       "        text-align: right;\n",
       "    }\n",
       "</style>\n",
       "<table border=\"1\" class=\"dataframe\">\n",
       "  <thead>\n",
       "    <tr style=\"text-align: right;\">\n",
       "      <th></th>\n",
       "      <th>mean</th>\n",
       "      <th>not null</th>\n",
       "      <th>max</th>\n",
       "      <th>min</th>\n",
       "    </tr>\n",
       "    <tr>\n",
       "      <th>country</th>\n",
       "      <th></th>\n",
       "      <th></th>\n",
       "      <th></th>\n",
       "      <th></th>\n",
       "    </tr>\n",
       "  </thead>\n",
       "  <tbody>\n",
       "    <tr>\n",
       "      <th>England</th>\n",
       "      <td>54140278.0</td>\n",
       "      <td>2.0</td>\n",
       "      <td>55268100.0</td>\n",
       "      <td>53012456.0</td>\n",
       "    </tr>\n",
       "    <tr>\n",
       "      <th>Isle of Man</th>\n",
       "      <td>83314.0</td>\n",
       "      <td>1.0</td>\n",
       "      <td>83314.0</td>\n",
       "      <td>83314.0</td>\n",
       "    </tr>\n",
       "    <tr>\n",
       "      <th>Northern Ireland</th>\n",
       "      <td>1843779.0</td>\n",
       "      <td>2.0</td>\n",
       "      <td>1876695.0</td>\n",
       "      <td>1810863.0</td>\n",
       "    </tr>\n",
       "    <tr>\n",
       "      <th>Scotland</th>\n",
       "      <td>5359150.0</td>\n",
       "      <td>2.0</td>\n",
       "      <td>5404700.0</td>\n",
       "      <td>5313600.0</td>\n",
       "    </tr>\n",
       "    <tr>\n",
       "      <th>Wales</th>\n",
       "      <td>3063456.0</td>\n",
       "      <td>1.0</td>\n",
       "      <td>3063456.0</td>\n",
       "      <td>3063456.0</td>\n",
       "    </tr>\n",
       "  </tbody>\n",
       "</table>\n",
       "</div>"
      ],
      "text/plain": [
       "                        mean  not null         max         min\n",
       "country                                                       \n",
       "England           54140278.0       2.0  55268100.0  53012456.0\n",
       "Isle of Man          83314.0       1.0     83314.0     83314.0\n",
       "Northern Ireland   1843779.0       2.0   1876695.0   1810863.0\n",
       "Scotland           5359150.0       2.0   5404700.0   5313600.0\n",
       "Wales              3063456.0       1.0   3063456.0   3063456.0"
      ]
     },
     "execution_count": 13,
     "metadata": {},
     "output_type": "execute_result"
    }
   ],
   "source": [
    "pop_agg.columns = ['mean', 'not null', 'max', 'min']\n",
    "pop_agg"
   ]
  },
  {
   "cell_type": "markdown",
   "metadata": {},
   "source": [
    "## Dimensions\n",
    "\n",
    "`pandas` provide several ways to pivot columns and rows,\n",
    "for example, stacking and unstacking can be performed on data frames.\n",
    "Yet, the most important point of the pivot operation is the fact that we can represent several\n",
    "dimensions in a smaller number of dimensions by labeling data with combinations of values.\n",
    "\n",
    "Just like we can represent a function of the type $f(x, y) = z$ by either storing a\n",
    "2-dimensional grid of $x$ and $y$ points mapping to values of $z$; or by building a long\n",
    "1-dimensional list of points of the form $(x, y)$ and mapping it to the $z$ values."
   ]
  }
 ],
 "metadata": {
  "anaconda-cloud": {},
  "kernelspec": {
   "display_name": "Python 3",
   "language": "python",
   "name": "python3"
  },
  "language_info": {
   "codemirror_mode": {
    "name": "ipython",
    "version": 3
   },
   "file_extension": ".py",
   "mimetype": "text/x-python",
   "name": "python",
   "nbconvert_exporter": "python",
   "pygments_lexer": "ipython3",
   "version": "3.6.3"
  }
 },
 "nbformat": 4,
 "nbformat_minor": 1
}
