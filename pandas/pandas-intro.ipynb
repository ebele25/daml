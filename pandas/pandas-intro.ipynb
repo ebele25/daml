{
 "cells": [
  {
   "cell_type": "markdown",
   "metadata": {},
   "source": [
    "# DAML 03 - Pandas Introduction\n",
    "\n",
    "Michal Grochmal <michal.grochmal@city.ac.uk>\n",
    "\n",
    "Wrapper on top of `NumPy` (and `Matplotlib` to some extent) to make up for the shortcomings\n",
    "of those two libraries in the context of real-world data.  Instead of working towards\n",
    "numerical computing it attempts to make working with messy data less annoying.\n",
    "\n",
    "First some accumulated boilerplate from previous lectures (and one new one):"
   ]
  },
  {
   "cell_type": "code",
   "execution_count": null,
   "metadata": {
    "ExecuteTime": {
     "end_time": "2017-05-10T11:14:24.087336Z",
     "start_time": "2017-05-10T12:14:23.438294+01:00"
    },
    "collapsed": true,
    "slideshow": {
     "slide_type": "skip"
    }
   },
   "outputs": [],
   "source": [
    "%matplotlib inline\n",
    "import numpy as np\n",
    "import matplotlib.pyplot as plt\n",
    "import matplotlib as mpl\n",
    "plt.style.use('seaborn-whitegrid')\n",
    "mpl.rcParams['figure.figsize'] = (12.5, 6.0)\n",
    "import pandas as pd\n",
    "pd.options.display.max_rows = 12"
   ]
  },
  {
   "cell_type": "markdown",
   "metadata": {
    "slideshow": {
     "slide_type": "slide"
    }
   },
   "source": [
    "## General ideas behind pandas\n",
    "\n",
    "Originally built as an enhanced version of R's `data.frame`,\n",
    "`pandas` incorporates several known APIs into a single structure.\n",
    "The `DataFrame` includes APIs that make it easy for use from different perspectives.\n",
    "\n",
    "* R `data.frame` like structure, extended by multi-indexes\n",
    "* SQL-like joins, without need for external libraries (e.g. `sqldf`)\n",
    "* Looks like a spreadsheet (yes, that is intentional)\n",
    "* One can move between two and multidimensional representations (`stack`, `unstack`)\n",
    "* Aggregation across dimensions with `groupby` (similar to SQL)\n",
    "\n",
    "You will use `pandas` (rather than `NumPy`) for tasks around messy data.\n",
    "`pandas` is built atop `NumPy`, and uses the continuous memory and broadcast operations\n",
    "of `NumPy` arrays, we saw before, to boost its performance.  `pandas` excels at:\n",
    "\n",
    "* Importing data (very resilient compared to `numpy.load`)\n",
    "* Clean up messy data (`dropna` or `fillna`)\n",
    "* Gain insight into data (`describe`)\n",
    "\n",
    "Let's use some data about the British isles and the United Kingdom to demonstrate\n",
    "some of the features:"
   ]
  },
  {
   "cell_type": "code",
   "execution_count": null,
   "metadata": {
    "collapsed": true
   },
   "outputs": [],
   "source": [
    "country = ['Northern Ireland', 'Scotland', 'Wales', 'England', 'Isle of Man']\n",
    "capital = ['Belfast', 'Edinburgh', 'Cardiff', 'London', 'Douglas']\n",
    "area = [14130, 77933, 20779, 130279, 572]\n",
    "population2017 = [1876695, 5404700, np.nan, 55268100, np.nan]\n",
    "population2011 = [1810863, 5313600, 3063456, 53012456, 83314]"
   ]
  },
  {
   "cell_type": "markdown",
   "metadata": {
    "slideshow": {
     "slide_type": "slide"
    }
   },
   "source": [
    "# Series\n",
    "\n",
    "The main feature of `pandas` is its `DataFrame` but that is a collection of `Series` data structures.\n",
    "A `Series` is pretty similar to a `NumPy` array: it is a list of several data for the same data type.\n",
    "The difference is that the `Series` adds labels (an index) to the data."
   ]
  },
  {
   "cell_type": "code",
   "execution_count": null,
   "metadata": {
    "collapsed": true,
    "slideshow": {
     "slide_type": "fragment"
    }
   },
   "outputs": [],
   "source": [
    "series = pd.Series(area)\n",
    "series"
   ]
  },
  {
   "cell_type": "code",
   "execution_count": null,
   "metadata": {
    "collapsed": true
   },
   "outputs": [],
   "source": [
    "uk_area = pd.Series(area, index=country)\n",
    "uk_area"
   ]
  },
  {
   "cell_type": "markdown",
   "metadata": {},
   "source": [
    "### Selection from the index\n",
    "\n",
    "Selecting from a `Series` works both as a list or as a dictionary.\n",
    "You can say that a `Series.index` maps keys over `Series.values`."
   ]
  },
  {
   "cell_type": "code",
   "execution_count": null,
   "metadata": {
    "collapsed": true
   },
   "outputs": [],
   "source": [
    "uk_area.values, uk_area.values.dtype, uk_area.index"
   ]
  },
  {
   "cell_type": "code",
   "execution_count": null,
   "metadata": {
    "collapsed": true,
    "slideshow": {
     "slide_type": "fragment"
    }
   },
   "outputs": [],
   "source": [
    "uk_area['Wales'], uk_area[2], uk_area.values[2]"
   ]
  },
  {
   "cell_type": "markdown",
   "metadata": {},
   "source": [
    "Slicing works too, so does fancy indexing."
   ]
  },
  {
   "cell_type": "code",
   "execution_count": null,
   "metadata": {
    "collapsed": true
   },
   "outputs": [],
   "source": [
    "uk_area[0:3]"
   ]
  },
  {
   "cell_type": "code",
   "execution_count": null,
   "metadata": {
    "collapsed": true
   },
   "outputs": [],
   "source": [
    "uk_area[['Wales', 'Scotland']]"
   ]
  },
  {
   "cell_type": "markdown",
   "metadata": {},
   "source": [
    "### Sorted and unsorted indexes\n",
    "\n",
    "Slicing also works on indexes\n",
    "but it is only likely to produce meaningful results if the index is sorted.\n",
    "\n",
    "Note: In older versions of `pandas` slicing over an unsorted index produced an error,\n",
    "this still happens over a multi-index (outlined in a later section)."
   ]
  },
  {
   "cell_type": "code",
   "execution_count": null,
   "metadata": {
    "collapsed": true
   },
   "outputs": [],
   "source": [
    "uk_area['England':'Scotland']  # oops"
   ]
  },
  {
   "cell_type": "code",
   "execution_count": null,
   "metadata": {
    "collapsed": true
   },
   "outputs": [],
   "source": [
    "uk_area.sort_index(inplace=True)\n",
    "uk_area['England':'Scotland']"
   ]
  },
  {
   "cell_type": "markdown",
   "metadata": {},
   "source": [
    "### Implicit indexes\n",
    "\n",
    "If you do not define an index `pandas` will create an implicit one.\n",
    "This is what happened with our `series` variable above.\n",
    "Slicing  may be counterintuitive."
   ]
  },
  {
   "cell_type": "code",
   "execution_count": null,
   "metadata": {
    "collapsed": true
   },
   "outputs": [],
   "source": [
    "uk_area"
   ]
  },
  {
   "cell_type": "code",
   "execution_count": null,
   "metadata": {
    "collapsed": true
   },
   "outputs": [],
   "source": [
    "uk_area['England':'Scotland']  # Inclusive!"
   ]
  },
  {
   "cell_type": "code",
   "execution_count": null,
   "metadata": {
    "collapsed": true
   },
   "outputs": [],
   "source": [
    "uk_area[0:3]  # Exclusive!"
   ]
  },
  {
   "cell_type": "markdown",
   "metadata": {},
   "source": [
    "This can give us a headache with numerical indexes,\n",
    "therefore `pandas` allows us to choose which index to select from:\n",
    "\n",
    "* `loc` always refers to the explicit index\n",
    "* `iloc` always refers to the implicit index\n",
    "* `ix` is what is actually used when we do plain `[]` indexing (and you would normally not need to write it out)"
   ]
  },
  {
   "cell_type": "code",
   "execution_count": null,
   "metadata": {
    "collapsed": true
   },
   "outputs": [],
   "source": [
    "series.index = [1, 2, 3, 4, 5]\n",
    "series"
   ]
  },
  {
   "cell_type": "code",
   "execution_count": null,
   "metadata": {
    "collapsed": true
   },
   "outputs": [],
   "source": [
    "series[1], series.loc[1], series.iloc[1]"
   ]
  },
  {
   "cell_type": "code",
   "execution_count": null,
   "metadata": {
    "collapsed": true
   },
   "outputs": [],
   "source": [
    "list(series[1:3]), list(series.loc[1:3]), list(series.iloc[1:3])"
   ]
  },
  {
   "cell_type": "markdown",
   "metadata": {},
   "source": [
    "### Like an array\n",
    "\n",
    "The `NumPy` vectorized operations, selection and broadcasting work as if we were working on an array."
   ]
  },
  {
   "cell_type": "code",
   "execution_count": null,
   "metadata": {
    "collapsed": true,
    "slideshow": {
     "slide_type": "fragment"
    }
   },
   "outputs": [],
   "source": [
    "uk_area[uk_area > 20000]"
   ]
  },
  {
   "cell_type": "code",
   "execution_count": null,
   "metadata": {
    "collapsed": true
   },
   "outputs": [],
   "source": [
    "uk_area * 0.386  # convert to square miles (1/1.61**2)"
   ]
  },
  {
   "cell_type": "code",
   "execution_count": null,
   "metadata": {
    "collapsed": true
   },
   "outputs": [],
   "source": [
    "uk_area.sum()  # Isle of Man is not part of the UK!  We'll fix that later."
   ]
  },
  {
   "cell_type": "markdown",
   "metadata": {
    "slideshow": {
     "slide_type": "slide"
    }
   },
   "source": [
    "### More than an array\n",
    "\n",
    "The `Series` align the indexes when performing operations.\n",
    "For example what if we would like to know the population sum and population growth\n",
    "between 2011 and 2017?"
   ]
  },
  {
   "cell_type": "code",
   "execution_count": null,
   "metadata": {
    "collapsed": true,
    "slideshow": {
     "slide_type": "fragment"
    }
   },
   "outputs": [],
   "source": [
    "p11 = pd.Series(population2011, index=country)\n",
    "p17 = pd.Series(population2017, index=country).dropna()  # disregard nulls, we will see more later"
   ]
  },
  {
   "cell_type": "code",
   "execution_count": null,
   "metadata": {
    "collapsed": true
   },
   "outputs": [],
   "source": [
    "p11"
   ]
  },
  {
   "cell_type": "code",
   "execution_count": null,
   "metadata": {
    "collapsed": true
   },
   "outputs": [],
   "source": [
    "p17"
   ]
  },
  {
   "cell_type": "code",
   "execution_count": null,
   "metadata": {
    "collapsed": true
   },
   "outputs": [],
   "source": [
    "p17 - p11"
   ]
  },
  {
   "cell_type": "markdown",
   "metadata": {
    "slideshow": {
     "slide_type": "slide"
    }
   },
   "source": [
    "## Data Frames\n",
    "\n",
    "The `DataFrame` is just a collection of `Series` with a common index.\n",
    "It can be understood as a two-dimensional representation of data,\n",
    "similar to a spreadsheet.  One important thing to note is that,\n",
    "contrary to two dimensional `NumPy` arrays, **indexing a data frame\n",
    "produces the column** not the row.  Yet, indexing it with two numbers\n",
    "produces the row and the column just like in a `NumPy` array."
   ]
  },
  {
   "cell_type": "code",
   "execution_count": null,
   "metadata": {
    "collapsed": true
   },
   "outputs": [],
   "source": [
    "array = np.array([area, capital, population2011, population2017]).T  # transpose\n",
    "data = pd.DataFrame({'capital': capital,\n",
    "                     'area': area,\n",
    "                     'population 2011': population2011,\n",
    "                     'population 2017': population2017},\n",
    "                    index=country)"
   ]
  },
  {
   "cell_type": "code",
   "execution_count": null,
   "metadata": {
    "collapsed": true
   },
   "outputs": [],
   "source": [
    "array"
   ]
  },
  {
   "cell_type": "code",
   "execution_count": null,
   "metadata": {
    "collapsed": true
   },
   "outputs": [],
   "source": [
    "data"
   ]
  },
  {
   "cell_type": "code",
   "execution_count": null,
   "metadata": {
    "collapsed": true
   },
   "outputs": [],
   "source": [
    "array[0]"
   ]
  },
  {
   "cell_type": "code",
   "execution_count": null,
   "metadata": {
    "collapsed": true
   },
   "outputs": [],
   "source": [
    "data['area']  # get column"
   ]
  },
  {
   "cell_type": "code",
   "execution_count": null,
   "metadata": {
    "collapsed": true
   },
   "outputs": [],
   "source": [
    "data.iloc[0]  # but `iloc` does the same as a `NumPy` array"
   ]
  },
  {
   "cell_type": "code",
   "execution_count": null,
   "metadata": {
    "collapsed": true
   },
   "outputs": [],
   "source": [
    "data.area  # this works too"
   ]
  },
  {
   "cell_type": "code",
   "execution_count": null,
   "metadata": {
    "collapsed": true
   },
   "outputs": [],
   "source": [
    "data.loc['England', 'area']  # still [row, column]"
   ]
  },
  {
   "cell_type": "markdown",
   "metadata": {},
   "source": [
    "### Summarize\n",
    "\n",
    "Data frames have several useful methods to give a feel for the data.\n",
    "With a reasonable amount of data you'd rather not want thousands of rows to\n",
    "be printed, moreover, looking at the beginning or end of sorted values will show outliers.\n",
    "The `describe` and `info` methods print two distinct types of statistics about the data frame:\n",
    "one gives the statistical view of each column, the other gives you a memory layout.\n",
    "The data frame can also access plots (from `Matplotlib`) directly.\n",
    "\n",
    "Let's see some examples but firsts let's order the index on the data frame."
   ]
  },
  {
   "cell_type": "code",
   "execution_count": null,
   "metadata": {
    "collapsed": true
   },
   "outputs": [],
   "source": [
    "data.sort_index(inplace=True)"
   ]
  },
  {
   "cell_type": "code",
   "execution_count": null,
   "metadata": {
    "collapsed": true
   },
   "outputs": [],
   "source": [
    "data.head(3)"
   ]
  },
  {
   "cell_type": "code",
   "execution_count": null,
   "metadata": {
    "collapsed": true
   },
   "outputs": [],
   "source": [
    "data.sort_values('area').tail(3)"
   ]
  },
  {
   "cell_type": "code",
   "execution_count": null,
   "metadata": {
    "collapsed": true
   },
   "outputs": [],
   "source": [
    "len(data)  # number of rows"
   ]
  },
  {
   "cell_type": "code",
   "execution_count": null,
   "metadata": {
    "collapsed": true
   },
   "outputs": [],
   "source": [
    "data.describe()"
   ]
  },
  {
   "cell_type": "code",
   "execution_count": null,
   "metadata": {
    "collapsed": true
   },
   "outputs": [],
   "source": [
    "data.info()"
   ]
  },
  {
   "cell_type": "code",
   "execution_count": null,
   "metadata": {
    "collapsed": true
   },
   "outputs": [],
   "source": [
    "plot = data[['population 2011', 'population 2017']].plot(kind='bar')\n",
    "ticks = ['%.0f M' % (x[1] / 1e6) for x in plot.yaxis.iter_ticks()]\n",
    "plot.yaxis.set_ticklabels(ticks);  # just a hack to get nice ticks"
   ]
  },
  {
   "cell_type": "code",
   "execution_count": null,
   "metadata": {
    "collapsed": true
   },
   "outputs": [],
   "source": [
    "plot = data.plot(kind='scatter', x='population 2011', y='area', loglog=True)\n",
    "for k, v in data[['population 2011', 'area']].iterrows():\n",
    "    plot.axes.annotate(k, v)"
   ]
  },
  {
   "cell_type": "markdown",
   "metadata": {
    "slideshow": {
     "slide_type": "slide"
    }
   },
   "source": [
    "### String methods\n",
    "\n",
    "Another extra feature that does not exist in `NumPy` arrays are methods that work\n",
    "on string content, just like Python string methods.  The `str` object os a `Series`\n",
    "(of a column of a data frame) is used to call string methods and produce a boolean\n",
    "`Series` that can then be used to retrieve rows from the data frame.\n",
    "\n",
    "Several regular expression methods are supported as well."
   ]
  },
  {
   "cell_type": "code",
   "execution_count": null,
   "metadata": {
    "collapsed": true,
    "slideshow": {
     "slide_type": "fragment"
    }
   },
   "outputs": [],
   "source": [
    "data['capital'].str.startswith('Be')"
   ]
  },
  {
   "cell_type": "code",
   "execution_count": null,
   "metadata": {
    "collapsed": true
   },
   "outputs": [],
   "source": [
    "data[data.capital.str.contains('[oa]')]  # regex"
   ]
  },
  {
   "cell_type": "code",
   "execution_count": null,
   "metadata": {
    "collapsed": true
   },
   "outputs": [],
   "source": [
    "data[data.index.str.startswith('Eng')]"
   ]
  },
  {
   "cell_type": "markdown",
   "metadata": {
    "slideshow": {
     "slide_type": "slide"
    }
   },
   "source": [
    "### Missing data\n",
    "\n",
    "More often than not real world data is incomplete in some way.\n",
    "In `NumPy`, and therefore in `pandas`, missing data is represented using NaNs (not a number).\n",
    "NaNs are actuall IEEE 754 float NaNs, therefore the data type of a `Series` (or `NumPy` array)\n",
    "must be either a float or Python object.  `pandas` data frames have the `dropna` an `fillna`\n",
    "methods that (unsurprisingly) drop or fill in values for NaNs.\n",
    "\n",
    "Dropping can be done by row or column.  Filling can be performed in three different ways:\n",
    "we can provide a value into `fillna` to substitute the NaNs for (e.g. `.fillna(0)`); or we can use\n",
    "the `method=` argument to use a predefined way of filling the NaNs from the data itself.  The `method=`\n",
    "can be either `pad`/`ffill` which will fill each NaN with a previous (non-NaN) value seen; or it can be\n",
    "`backfill`/`bfill` which will fill a NaN from the next value.\n",
    "Filling can be performed column or row wise."
   ]
  },
  {
   "cell_type": "code",
   "execution_count": null,
   "metadata": {
    "collapsed": true,
    "slideshow": {
     "slide_type": "fragment"
    }
   },
   "outputs": [],
   "source": [
    "data.dropna()  # We lost Wales and the Isle of Man!"
   ]
  },
  {
   "cell_type": "code",
   "execution_count": null,
   "metadata": {
    "collapsed": true
   },
   "outputs": [],
   "source": [
    "data.dropna(axis='columns')  # that's better"
   ]
  },
  {
   "cell_type": "code",
   "execution_count": null,
   "metadata": {
    "collapsed": true
   },
   "outputs": [],
   "source": [
    "data_full = data.fillna(method='ffill', axis='columns')\n",
    "data_full"
   ]
  },
  {
   "cell_type": "code",
   "execution_count": null,
   "metadata": {
    "collapsed": true
   },
   "outputs": [],
   "source": [
    "data_full.dtypes"
   ]
  },
  {
   "cell_type": "code",
   "execution_count": null,
   "metadata": {
    "collapsed": true
   },
   "outputs": [],
   "source": [
    "data_full = data_full.apply(pd.to_numeric, errors='ignore')\n",
    "data_full = data_full.astype(np.integer, errors='ignore')\n",
    "data_full.dtypes"
   ]
  },
  {
   "cell_type": "code",
   "execution_count": null,
   "metadata": {
    "collapsed": true
   },
   "outputs": [],
   "source": [
    "data_full"
   ]
  }
 ],
 "metadata": {
  "anaconda-cloud": {},
  "kernelspec": {
   "display_name": "Python 3",
   "language": "python",
   "name": "python3"
  },
  "language_info": {
   "codemirror_mode": {
    "name": "ipython",
    "version": 3
   },
   "file_extension": ".py",
   "mimetype": "text/x-python",
   "name": "python",
   "nbconvert_exporter": "python",
   "pygments_lexer": "ipython3",
   "version": "3.6.3"
  }
 },
 "nbformat": 4,
 "nbformat_minor": 1
}
